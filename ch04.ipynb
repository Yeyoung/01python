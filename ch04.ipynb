{
 "cells": [
  {
   "cell_type": "markdown",
   "metadata": {},
   "source": [
    "#Ch. 4 Numpy Basics: Arrays and Vectorized Computation"
   ]
  },
  {
   "cell_type": "markdown",
   "metadata": {},
   "source": [
    "## 1. The NumPy ndarray: A Multidimentional Array Object"
   ]
  },
  {
   "cell_type": "code",
   "execution_count": 1,
   "metadata": {
    "collapsed": true
   },
   "outputs": [],
   "source": [
    "import numpy as np"
   ]
  },
  {
   "cell_type": "code",
   "execution_count": 33,
   "metadata": {
    "collapsed": true
   },
   "outputs": [],
   "source": [
    "data_source = [[0.9526, -0.246, -0.8856], [0.5639, 0.2379, 0.9104]]"
   ]
  },
  {
   "cell_type": "code",
   "execution_count": 34,
   "metadata": {
    "collapsed": true
   },
   "outputs": [],
   "source": [
    "data = np.array(data_source)"
   ]
  },
  {
   "cell_type": "code",
   "execution_count": 39,
   "metadata": {
    "collapsed": false
   },
   "outputs": [
    {
     "data": {
      "text/plain": [
       "array([[ 0.9526, -0.246 , -0.8856],\n",
       "       [ 0.5639,  0.2379,  0.9104]])"
      ]
     },
     "execution_count": 39,
     "metadata": {},
     "output_type": "execute_result"
    }
   ],
   "source": [
    "data"
   ]
  },
  {
   "cell_type": "code",
   "execution_count": 40,
   "metadata": {
    "collapsed": false
   },
   "outputs": [
    {
     "data": {
      "text/plain": [
       "array([[ 9.526, -2.46 , -8.856],\n",
       "       [ 5.639,  2.379,  9.104]])"
      ]
     },
     "execution_count": 40,
     "metadata": {},
     "output_type": "execute_result"
    }
   ],
   "source": [
    "data*10"
   ]
  },
  {
   "cell_type": "code",
   "execution_count": 41,
   "metadata": {
    "collapsed": false
   },
   "outputs": [
    {
     "data": {
      "text/plain": [
       "array([[ 0.9526, -0.246 , -0.8856],\n",
       "       [ 0.5639,  0.2379,  0.9104]])"
      ]
     },
     "execution_count": 41,
     "metadata": {},
     "output_type": "execute_result"
    }
   ],
   "source": [
    "data"
   ]
  },
  {
   "cell_type": "code",
   "execution_count": 42,
   "metadata": {
    "collapsed": false
   },
   "outputs": [
    {
     "data": {
      "text/plain": [
       "array([[ 1.9052, -0.492 , -1.7712],\n",
       "       [ 1.1278,  0.4758,  1.8208]])"
      ]
     },
     "execution_count": 42,
     "metadata": {},
     "output_type": "execute_result"
    }
   ],
   "source": [
    "data+data"
   ]
  },
  {
   "cell_type": "code",
   "execution_count": 43,
   "metadata": {
    "collapsed": false
   },
   "outputs": [
    {
     "data": {
      "text/plain": [
       "array([[ 0.9526, -0.246 , -0.8856],\n",
       "       [ 0.5639,  0.2379,  0.9104]])"
      ]
     },
     "execution_count": 43,
     "metadata": {},
     "output_type": "execute_result"
    }
   ],
   "source": [
    "data"
   ]
  },
  {
   "cell_type": "code",
   "execution_count": 44,
   "metadata": {
    "collapsed": false,
    "scrolled": true
   },
   "outputs": [
    {
     "data": {
      "text/plain": [
       "(2L, 3L)"
      ]
     },
     "execution_count": 44,
     "metadata": {},
     "output_type": "execute_result"
    }
   ],
   "source": [
    "data.shape"
   ]
  },
  {
   "cell_type": "code",
   "execution_count": 45,
   "metadata": {
    "collapsed": false
   },
   "outputs": [
    {
     "data": {
      "text/plain": [
       "dtype('float64')"
      ]
     },
     "execution_count": 45,
     "metadata": {},
     "output_type": "execute_result"
    }
   ],
   "source": [
    "data.dtype"
   ]
  },
  {
   "cell_type": "markdown",
   "metadata": {},
   "source": [
    "1) ndarray 생성"
   ]
  },
  {
   "cell_type": "code",
   "execution_count": 46,
   "metadata": {
    "collapsed": true
   },
   "outputs": [],
   "source": [
    "data1 = [6, 7.5, 8, 0, 1]"
   ]
  },
  {
   "cell_type": "code",
   "execution_count": 47,
   "metadata": {
    "collapsed": true
   },
   "outputs": [],
   "source": [
    "arr1 = np.array(data1)"
   ]
  },
  {
   "cell_type": "code",
   "execution_count": 48,
   "metadata": {
    "collapsed": false
   },
   "outputs": [
    {
     "data": {
      "text/plain": [
       "array([ 6. ,  7.5,  8. ,  0. ,  1. ])"
      ]
     },
     "execution_count": 48,
     "metadata": {},
     "output_type": "execute_result"
    }
   ],
   "source": [
    "\n",
    "arr1"
   ]
  },
  {
   "cell_type": "code",
   "execution_count": 49,
   "metadata": {
    "collapsed": true
   },
   "outputs": [],
   "source": [
    "data2 = [[1, 2, 3, 4], [5, 6, 7, 8]]"
   ]
  },
  {
   "cell_type": "code",
   "execution_count": 50,
   "metadata": {
    "collapsed": true
   },
   "outputs": [],
   "source": [
    "arr2 = np.array(data2)"
   ]
  },
  {
   "cell_type": "code",
   "execution_count": 51,
   "metadata": {
    "collapsed": false
   },
   "outputs": [
    {
     "data": {
      "text/plain": [
       "array([[1, 2, 3, 4],\n",
       "       [5, 6, 7, 8]])"
      ]
     },
     "execution_count": 51,
     "metadata": {},
     "output_type": "execute_result"
    }
   ],
   "source": [
    "arr2"
   ]
  },
  {
   "cell_type": "code",
   "execution_count": 52,
   "metadata": {
    "collapsed": false
   },
   "outputs": [
    {
     "data": {
      "text/plain": [
       "1"
      ]
     },
     "execution_count": 52,
     "metadata": {},
     "output_type": "execute_result"
    }
   ],
   "source": [
    "arr1.ndim"
   ]
  },
  {
   "cell_type": "code",
   "execution_count": 53,
   "metadata": {
    "collapsed": false
   },
   "outputs": [
    {
     "data": {
      "text/plain": [
       "2"
      ]
     },
     "execution_count": 53,
     "metadata": {},
     "output_type": "execute_result"
    }
   ],
   "source": [
    "arr2.ndim"
   ]
  },
  {
   "cell_type": "code",
   "execution_count": 54,
   "metadata": {
    "collapsed": false
   },
   "outputs": [
    {
     "name": "stdout",
     "output_type": "stream",
     "text": [
      "(5L,)\n",
      "(2L, 4L)\n"
     ]
    }
   ],
   "source": [
    "print arr1.shape\n",
    "print arr2.shape"
   ]
  },
  {
   "cell_type": "code",
   "execution_count": 55,
   "metadata": {
    "collapsed": false
   },
   "outputs": [
    {
     "name": "stdout",
     "output_type": "stream",
     "text": [
      "float64\n",
      "int32\n"
     ]
    }
   ],
   "source": [
    "print arr1.dtype\n",
    "print arr2.dtype"
   ]
  },
  {
   "cell_type": "code",
   "execution_count": 56,
   "metadata": {
    "collapsed": false
   },
   "outputs": [
    {
     "data": {
      "text/plain": [
       "array([ 0.,  0.,  0.,  0.,  0.,  0.,  0.,  0.,  0.,  0.])"
      ]
     },
     "execution_count": 56,
     "metadata": {},
     "output_type": "execute_result"
    }
   ],
   "source": [
    "arr3 = np.zeros(10)\n",
    "arr3"
   ]
  },
  {
   "cell_type": "code",
   "execution_count": 57,
   "metadata": {
    "collapsed": false
   },
   "outputs": [
    {
     "name": "stdout",
     "output_type": "stream",
     "text": [
      "1\n",
      "(10L,)\n",
      "float64\n"
     ]
    }
   ],
   "source": [
    "print arr3.ndim\n",
    "print arr3.shape\n",
    "print arr3.dtype"
   ]
  },
  {
   "cell_type": "code",
   "execution_count": 58,
   "metadata": {
    "collapsed": false
   },
   "outputs": [
    {
     "data": {
      "text/plain": [
       "array([ 1.,  1.,  1.,  1.,  1.,  1.,  1.,  1.,  1.,  1.])"
      ]
     },
     "execution_count": 58,
     "metadata": {},
     "output_type": "execute_result"
    }
   ],
   "source": [
    "arr4 = np.ones(10)\n",
    "arr4"
   ]
  },
  {
   "cell_type": "code",
   "execution_count": 59,
   "metadata": {
    "collapsed": false
   },
   "outputs": [
    {
     "name": "stdout",
     "output_type": "stream",
     "text": [
      "1\n",
      "(10L,)\n",
      "float64\n"
     ]
    }
   ],
   "source": [
    "print arr4.ndim\n",
    "print arr4.shape\n",
    "print arr4.dtype"
   ]
  },
  {
   "cell_type": "code",
   "execution_count": 60,
   "metadata": {
    "collapsed": false
   },
   "outputs": [
    {
     "data": {
      "text/plain": [
       "array([[ 0.,  0.,  0.,  0.,  0.,  0.],\n",
       "       [ 0.,  0.,  0.,  0.,  0.,  0.],\n",
       "       [ 0.,  0.,  0.,  0.,  0.,  0.]])"
      ]
     },
     "execution_count": 60,
     "metadata": {},
     "output_type": "execute_result"
    }
   ],
   "source": [
    "arr5 = np.zeros((3, 6))\n",
    "arr5"
   ]
  },
  {
   "cell_type": "code",
   "execution_count": 61,
   "metadata": {
    "collapsed": false
   },
   "outputs": [
    {
     "name": "stdout",
     "output_type": "stream",
     "text": [
      "2\n",
      "(3L, 6L)\n",
      "float64\n"
     ]
    }
   ],
   "source": [
    "print arr5.ndim\n",
    "print arr5.shape\n",
    "print arr5.dtype"
   ]
  },
  {
   "cell_type": "code",
   "execution_count": 62,
   "metadata": {
    "collapsed": false
   },
   "outputs": [
    {
     "data": {
      "text/plain": [
       "array([[[ 0.,  0.,  0.,  0.],\n",
       "        [ 0.,  0.,  0.,  0.],\n",
       "        [ 0.,  0.,  0.,  0.]],\n",
       "\n",
       "       [[ 0.,  0.,  0.,  0.],\n",
       "        [ 0.,  0.,  0.,  0.],\n",
       "        [ 0.,  0.,  0.,  0.]]])"
      ]
     },
     "execution_count": 62,
     "metadata": {},
     "output_type": "execute_result"
    }
   ],
   "source": [
    "arr6 = np.zeros((2, 3, 4))\n",
    "arr6"
   ]
  },
  {
   "cell_type": "markdown",
   "metadata": {},
   "source": [
    "np.empty(shape): 초기화되지 않은 쓰레기 값들로 값이 채워지는 배열을 생성"
   ]
  },
  {
   "cell_type": "code",
   "execution_count": 64,
   "metadata": {
    "collapsed": false
   },
   "outputs": [
    {
     "data": {
      "text/plain": [
       "array([[[ 0.,  0.],\n",
       "        [ 0.,  0.],\n",
       "        [ 0.,  0.]],\n",
       "\n",
       "       [[ 0.,  0.],\n",
       "        [ 0.,  0.],\n",
       "        [ 0.,  0.]]])"
      ]
     },
     "execution_count": 64,
     "metadata": {},
     "output_type": "execute_result"
    }
   ],
   "source": [
    "arr7 = np.empty((2, 3, 2))\n",
    "arr7"
   ]
  },
  {
   "cell_type": "code",
   "execution_count": 76,
   "metadata": {
    "collapsed": false
   },
   "outputs": [
    {
     "name": "stdout",
     "output_type": "stream",
     "text": [
      "3\n",
      "(2L, 3L, 2L)\n",
      "float64\n"
     ]
    }
   ],
   "source": [
    "print arr7.ndim\n",
    "print arr7.shape\n",
    "print arr7.dtype"
   ]
  },
  {
   "cell_type": "code",
   "execution_count": 77,
   "metadata": {
    "collapsed": false
   },
   "outputs": [
    {
     "data": {
      "text/plain": [
       "array([ 0,  1,  2,  3,  4,  5,  6,  7,  8,  9, 10, 11, 12, 13, 14])"
      ]
     },
     "execution_count": 77,
     "metadata": {},
     "output_type": "execute_result"
    }
   ],
   "source": [
    "arr8 = np.arange(15)\n",
    "arr8"
   ]
  },
  {
   "cell_type": "code",
   "execution_count": 78,
   "metadata": {
    "collapsed": false
   },
   "outputs": [
    {
     "name": "stdout",
     "output_type": "stream",
     "text": [
      "1\n",
      "(15L,)\n",
      "int32\n"
     ]
    }
   ],
   "source": [
    "print arr8.ndim\n",
    "print arr8.shape\n",
    "print arr8.dtype"
   ]
  },
  {
   "cell_type": "markdown",
   "metadata": {},
   "source": [
    "- np.array는 기본적으로 새로운 ndarray를 생성한다."
   ]
  },
  {
   "cell_type": "code",
   "execution_count": 79,
   "metadata": {
    "collapsed": false
   },
   "outputs": [
    {
     "data": {
      "text/plain": [
       "array([ 0,  1,  2,  3,  4,  5,  6,  7,  8,  9, 10, 11, 12, 13, 14])"
      ]
     },
     "execution_count": 79,
     "metadata": {},
     "output_type": "execute_result"
    }
   ],
   "source": [
    "arr9 = np.array(arr8)\n",
    "arr9"
   ]
  },
  {
   "cell_type": "code",
   "execution_count": 80,
   "metadata": {
    "collapsed": false
   },
   "outputs": [
    {
     "data": {
      "text/plain": [
       "False"
      ]
     },
     "execution_count": 80,
     "metadata": {},
     "output_type": "execute_result"
    }
   ],
   "source": [
    "arr9 is arr8"
   ]
  },
  {
   "cell_type": "code",
   "execution_count": 81,
   "metadata": {
    "collapsed": false
   },
   "outputs": [
    {
     "data": {
      "text/plain": [
       "array([ True,  True,  True,  True,  True,  True,  True,  True,  True,\n",
       "        True,  True,  True,  True,  True,  True], dtype=bool)"
      ]
     },
     "execution_count": 81,
     "metadata": {},
     "output_type": "execute_result"
    }
   ],
   "source": [
    "arr9 == arr8"
   ]
  },
  {
   "cell_type": "code",
   "execution_count": 83,
   "metadata": {
    "collapsed": false
   },
   "outputs": [
    {
     "data": {
      "text/plain": [
       "array([ 0,  1,  2,  3,  4,  5,  6,  7,  8,  9, 10, 11, 12, 13, 14])"
      ]
     },
     "execution_count": 83,
     "metadata": {},
     "output_type": "execute_result"
    }
   ],
   "source": [
    "arr10 = np.asarray(arr8)\n",
    "arr10"
   ]
  },
  {
   "cell_type": "code",
   "execution_count": 84,
   "metadata": {
    "collapsed": false
   },
   "outputs": [
    {
     "data": {
      "text/plain": [
       "True"
      ]
     },
     "execution_count": 84,
     "metadata": {},
     "output_type": "execute_result"
    }
   ],
   "source": [
    "arr10 is arr8"
   ]
  },
  {
   "cell_type": "code",
   "execution_count": 89,
   "metadata": {
    "collapsed": true
   },
   "outputs": [],
   "source": [
    "original = [1,2,3]"
   ]
  },
  {
   "cell_type": "code",
   "execution_count": 90,
   "metadata": {
    "collapsed": false
   },
   "outputs": [
    {
     "data": {
      "text/plain": [
       "array([1, 2, 3])"
      ]
     },
     "execution_count": 90,
     "metadata": {},
     "output_type": "execute_result"
    }
   ],
   "source": [
    "arr11 = np.asarray(original)\n",
    "arr11"
   ]
  },
  {
   "cell_type": "code",
   "execution_count": 91,
   "metadata": {
    "collapsed": false
   },
   "outputs": [
    {
     "data": {
      "text/plain": [
       "[1, 2, 3]"
      ]
     },
     "execution_count": 91,
     "metadata": {},
     "output_type": "execute_result"
    }
   ],
   "source": [
    "original"
   ]
  },
  {
   "cell_type": "code",
   "execution_count": 113,
   "metadata": {
    "collapsed": false
   },
   "outputs": [
    {
     "data": {
      "text/plain": [
       "False"
      ]
     },
     "execution_count": 113,
     "metadata": {},
     "output_type": "execute_result"
    }
   ],
   "source": [
    "\n",
    "arr11 is original"
   ]
  },
  {
   "cell_type": "markdown",
   "metadata": {},
   "source": [
    "np.eye(n)과 np.identity(n)은 n*n 단위행렬을 생성함"
   ]
  },
  {
   "cell_type": "code",
   "execution_count": 114,
   "metadata": {
    "collapsed": false
   },
   "outputs": [
    {
     "data": {
      "text/plain": [
       "array([[ 1.,  0.,  0.],\n",
       "       [ 0.,  1.,  0.],\n",
       "       [ 0.,  0.,  1.]])"
      ]
     },
     "execution_count": 114,
     "metadata": {},
     "output_type": "execute_result"
    }
   ],
   "source": [
    "arr12 = np.eye(3)\n",
    "arr12"
   ]
  },
  {
   "cell_type": "code",
   "execution_count": 115,
   "metadata": {
    "collapsed": false
   },
   "outputs": [
    {
     "data": {
      "text/plain": [
       "array([[ 1.,  0.,  0.],\n",
       "       [ 0.,  1.,  0.],\n",
       "       [ 0.,  0.,  1.]])"
      ]
     },
     "execution_count": 115,
     "metadata": {},
     "output_type": "execute_result"
    }
   ],
   "source": [
    "arr13 = np.identity(3)\n",
    "arr13"
   ]
  },
  {
   "cell_type": "markdown",
   "metadata": {},
   "source": [
    "np.ones_like(ndarray), np.zeros_like(ndarray), np.empty_like(ndarray)\n",
    "- 모두 입력으로 주어지는 ndarray와 동일한 shape를 가지는 새로운 ndarray 생성함"
   ]
  },
  {
   "cell_type": "code",
   "execution_count": 154,
   "metadata": {
    "collapsed": false
   },
   "outputs": [
    {
     "data": {
      "text/plain": [
       "array([[ 1.,  1.,  1.],\n",
       "       [ 1.,  1.,  1.],\n",
       "       [ 1.,  1.,  1.]])"
      ]
     },
     "execution_count": 154,
     "metadata": {},
     "output_type": "execute_result"
    }
   ],
   "source": [
    "arr14 = np.ones_like(arr13)\n",
    "arr14"
   ]
  },
  {
   "cell_type": "code",
   "execution_count": 155,
   "metadata": {
    "collapsed": false
   },
   "outputs": [
    {
     "data": {
      "text/plain": [
       "False"
      ]
     },
     "execution_count": 155,
     "metadata": {},
     "output_type": "execute_result"
    }
   ],
   "source": [
    "arr14 is arr13"
   ]
  },
  {
   "cell_type": "code",
   "execution_count": 156,
   "metadata": {
    "collapsed": false
   },
   "outputs": [
    {
     "data": {
      "text/plain": [
       "array([[ 0.,  0.,  0.],\n",
       "       [ 0.,  0.,  0.],\n",
       "       [ 0.,  0.,  0.]])"
      ]
     },
     "execution_count": 156,
     "metadata": {},
     "output_type": "execute_result"
    }
   ],
   "source": [
    "arr15 = np.zeros_like(arr13)\n",
    "arr15"
   ]
  },
  {
   "cell_type": "code",
   "execution_count": 157,
   "metadata": {
    "collapsed": false
   },
   "outputs": [
    {
     "data": {
      "text/plain": [
       "array([[ 0.,  0.,  0.],\n",
       "       [ 0.,  0.,  0.],\n",
       "       [ 0.,  0.,  0.]])"
      ]
     },
     "execution_count": 157,
     "metadata": {},
     "output_type": "execute_result"
    }
   ],
   "source": [
    "arr16 = np.empty_like(arr13)\n",
    "arr16"
   ]
  },
  {
   "cell_type": "code",
   "execution_count": 158,
   "metadata": {
    "collapsed": true
   },
   "outputs": [],
   "source": [
    "arr = np.array([1,2,3,4,5])"
   ]
  },
  {
   "cell_type": "code",
   "execution_count": 159,
   "metadata": {
    "collapsed": false
   },
   "outputs": [
    {
     "data": {
      "text/plain": [
       "dtype('int32')"
      ]
     },
     "execution_count": 159,
     "metadata": {},
     "output_type": "execute_result"
    }
   ],
   "source": [
    "arr.dtype"
   ]
  },
  {
   "cell_type": "markdown",
   "metadata": {},
   "source": [
    "astype 함수를 이용하여 type을 변경"
   ]
  },
  {
   "cell_type": "code",
   "execution_count": 160,
   "metadata": {
    "collapsed": true
   },
   "outputs": [],
   "source": [
    "float_arr = arr.astype(np.float64)"
   ]
  },
  {
   "cell_type": "code",
   "execution_count": 161,
   "metadata": {
    "collapsed": false
   },
   "outputs": [
    {
     "data": {
      "text/plain": [
       "dtype('float64')"
      ]
     },
     "execution_count": 161,
     "metadata": {},
     "output_type": "execute_result"
    }
   ],
   "source": [
    "float_arr.dtype"
   ]
  },
  {
   "cell_type": "code",
   "execution_count": 162,
   "metadata": {
    "collapsed": false
   },
   "outputs": [
    {
     "data": {
      "text/plain": [
       "array([ 1.,  2.,  3.,  4.,  5.])"
      ]
     },
     "execution_count": 162,
     "metadata": {},
     "output_type": "execute_result"
    }
   ],
   "source": [
    "\n",
    "float_arr"
   ]
  },
  {
   "cell_type": "code",
   "execution_count": 163,
   "metadata": {
    "collapsed": true
   },
   "outputs": [],
   "source": [
    "arr = np.array([3.7, -1.2, -2.6, 0.5, 12.9, 10.1])"
   ]
  },
  {
   "cell_type": "code",
   "execution_count": 164,
   "metadata": {
    "collapsed": false
   },
   "outputs": [
    {
     "data": {
      "text/plain": [
       "array([  3.7,  -1.2,  -2.6,   0.5,  12.9,  10.1])"
      ]
     },
     "execution_count": 164,
     "metadata": {},
     "output_type": "execute_result"
    }
   ],
   "source": [
    "arr"
   ]
  },
  {
   "cell_type": "code",
   "execution_count": 165,
   "metadata": {
    "collapsed": false
   },
   "outputs": [
    {
     "data": {
      "text/plain": [
       "array([ 3, -1, -2,  0, 12, 10])"
      ]
     },
     "execution_count": 165,
     "metadata": {},
     "output_type": "execute_result"
    }
   ],
   "source": [
    "arr.astype(np.int32)"
   ]
  },
  {
   "cell_type": "markdown",
   "metadata": {},
   "source": [
    "다음과 같이 float형에서 int형을 바꿀 때 소수점 이하 숫자는 버림"
   ]
  },
  {
   "cell_type": "markdown",
   "metadata": {},
   "source": [
    "3) 배열과 스칼라 간 연산"
   ]
  },
  {
   "cell_type": "code",
   "execution_count": 234,
   "metadata": {
    "collapsed": true
   },
   "outputs": [],
   "source": [
    "arr = np.array([[1.,2.,3.], [4.,5.,6.]])"
   ]
  },
  {
   "cell_type": "code",
   "execution_count": 235,
   "metadata": {
    "collapsed": false
   },
   "outputs": [
    {
     "data": {
      "text/plain": [
       "(2L, 3L)"
      ]
     },
     "execution_count": 235,
     "metadata": {},
     "output_type": "execute_result"
    }
   ],
   "source": [
    "arr.shape"
   ]
  },
  {
   "cell_type": "code",
   "execution_count": 236,
   "metadata": {
    "collapsed": false
   },
   "outputs": [
    {
     "data": {
      "text/plain": [
       "2"
      ]
     },
     "execution_count": 236,
     "metadata": {},
     "output_type": "execute_result"
    }
   ],
   "source": [
    "arr.ndim"
   ]
  },
  {
   "cell_type": "code",
   "execution_count": 237,
   "metadata": {
    "collapsed": false,
    "scrolled": true
   },
   "outputs": [
    {
     "data": {
      "text/plain": [
       "array([[ 1.,  2.,  3.],\n",
       "       [ 4.,  5.,  6.]])"
      ]
     },
     "execution_count": 237,
     "metadata": {},
     "output_type": "execute_result"
    }
   ],
   "source": [
    "arr"
   ]
  },
  {
   "cell_type": "markdown",
   "metadata": {},
   "source": [
    "배열값 끼리의 벡터연산"
   ]
  },
  {
   "cell_type": "code",
   "execution_count": 238,
   "metadata": {
    "collapsed": false
   },
   "outputs": [
    {
     "name": "stdout",
     "output_type": "stream",
     "text": [
      "[[  1.   4.   9.]\n",
      " [ 16.  25.  36.]]\n",
      "[[ 0.  0.  0.]\n",
      " [ 0.  0.  0.]]\n"
     ]
    }
   ],
   "source": [
    "print arr*arr\n",
    "print arr-arr"
   ]
  },
  {
   "cell_type": "markdown",
   "metadata": {},
   "source": [
    "스칼라 값에 대한 산술연산은 각 요소로 전달"
   ]
  },
  {
   "cell_type": "code",
   "execution_count": 239,
   "metadata": {
    "collapsed": false
   },
   "outputs": [
    {
     "data": {
      "text/plain": [
       "array([[ 1.        ,  0.5       ,  0.33333333],\n",
       "       [ 0.25      ,  0.2       ,  0.16666667]])"
      ]
     },
     "execution_count": 239,
     "metadata": {},
     "output_type": "execute_result"
    }
   ],
   "source": [
    "1/arr"
   ]
  },
  {
   "cell_type": "code",
   "execution_count": 240,
   "metadata": {
    "collapsed": false
   },
   "outputs": [
    {
     "data": {
      "text/plain": [
       "array([[ 1.        ,  1.41421356,  1.73205081],\n",
       "       [ 2.        ,  2.23606798,  2.44948974]])"
      ]
     },
     "execution_count": 240,
     "metadata": {},
     "output_type": "execute_result"
    }
   ],
   "source": [
    "arr**0.5"
   ]
  },
  {
   "cell_type": "markdown",
   "metadata": {},
   "source": [
    "### 4) 색인과 슬라이싱 기초"
   ]
  },
  {
   "cell_type": "code",
   "execution_count": 243,
   "metadata": {
    "collapsed": false
   },
   "outputs": [],
   "source": [
    "arr =np.arange(10)"
   ]
  },
  {
   "cell_type": "code",
   "execution_count": 244,
   "metadata": {
    "collapsed": false
   },
   "outputs": [
    {
     "data": {
      "text/plain": [
       "array([0, 1, 2, 3, 4, 5, 6, 7, 8, 9])"
      ]
     },
     "execution_count": 244,
     "metadata": {},
     "output_type": "execute_result"
    }
   ],
   "source": [
    "arr"
   ]
  },
  {
   "cell_type": "code",
   "execution_count": 245,
   "metadata": {
    "collapsed": false
   },
   "outputs": [
    {
     "name": "stdout",
     "output_type": "stream",
     "text": [
      "5\n",
      "[5 6 7]\n",
      "9\n"
     ]
    }
   ],
   "source": [
    "print arr[5]\n",
    "print arr[5:8]\n",
    "print arr[-1]"
   ]
  },
  {
   "cell_type": "code",
   "execution_count": 246,
   "metadata": {
    "collapsed": false
   },
   "outputs": [
    {
     "name": "stdout",
     "output_type": "stream",
     "text": [
      "[ 0  1  2  3  4 12 12 12  8  9]\n"
     ]
    }
   ],
   "source": [
    "arr[5:8] = 12\n",
    "print arr"
   ]
  },
  {
   "cell_type": "code",
   "execution_count": 247,
   "metadata": {
    "collapsed": true
   },
   "outputs": [],
   "source": [
    "arr_slice = arr[5:8]  \n",
    "#arr 5부터 8까지의 영역을 따로 slice 하여 가지고 있다."
   ]
  },
  {
   "cell_type": "code",
   "execution_count": 248,
   "metadata": {
    "collapsed": false
   },
   "outputs": [
    {
     "data": {
      "text/plain": [
       "array([12, 12, 12])"
      ]
     },
     "execution_count": 248,
     "metadata": {},
     "output_type": "execute_result"
    }
   ],
   "source": [
    "arr_slice"
   ]
  },
  {
   "cell_type": "code",
   "execution_count": 249,
   "metadata": {
    "collapsed": false
   },
   "outputs": [
    {
     "data": {
      "text/plain": [
       "numpy.ndarray"
      ]
     },
     "execution_count": 249,
     "metadata": {},
     "output_type": "execute_result"
    }
   ],
   "source": [
    "type(arr_slice)"
   ]
  },
  {
   "cell_type": "code",
   "execution_count": 250,
   "metadata": {
    "collapsed": false
   },
   "outputs": [
    {
     "data": {
      "text/plain": [
       "array([ 0,  1,  2,  3,  4, 12, 12, 12,  8,  9])"
      ]
     },
     "execution_count": 250,
     "metadata": {},
     "output_type": "execute_result"
    }
   ],
   "source": [
    "arr"
   ]
  },
  {
   "cell_type": "code",
   "execution_count": 251,
   "metadata": {
    "collapsed": true
   },
   "outputs": [],
   "source": [
    "arr_slice[1] = 12345"
   ]
  },
  {
   "cell_type": "code",
   "execution_count": 252,
   "metadata": {
    "collapsed": false
   },
   "outputs": [
    {
     "data": {
      "text/plain": [
       "array([    0,     1,     2,     3,     4,    12, 12345,    12,     8,     9])"
      ]
     },
     "execution_count": 252,
     "metadata": {},
     "output_type": "execute_result"
    }
   ],
   "source": [
    "arr"
   ]
  },
  {
   "cell_type": "code",
   "execution_count": 253,
   "metadata": {
    "collapsed": false,
    "scrolled": true
   },
   "outputs": [
    {
     "data": {
      "text/plain": [
       "array([   12, 12345,    12])"
      ]
     },
     "execution_count": 253,
     "metadata": {},
     "output_type": "execute_result"
    }
   ],
   "source": [
    "arr_slice"
   ]
  },
  {
   "cell_type": "code",
   "execution_count": 254,
   "metadata": {
    "collapsed": true
   },
   "outputs": [],
   "source": [
    "arr[6] = 123"
   ]
  },
  {
   "cell_type": "code",
   "execution_count": 255,
   "metadata": {
    "collapsed": false
   },
   "outputs": [
    {
     "data": {
      "text/plain": [
       "array([ 12, 123,  12])"
      ]
     },
     "execution_count": 255,
     "metadata": {},
     "output_type": "execute_result"
    }
   ],
   "source": [
    "arr_slice"
   ]
  },
  {
   "cell_type": "code",
   "execution_count": 256,
   "metadata": {
    "collapsed": true
   },
   "outputs": [],
   "source": [
    "arr_slice[:] = 64"
   ]
  },
  {
   "cell_type": "code",
   "execution_count": 257,
   "metadata": {
    "collapsed": false
   },
   "outputs": [
    {
     "data": {
      "text/plain": [
       "array([ 0,  1,  2,  3,  4, 64, 64, 64,  8,  9])"
      ]
     },
     "execution_count": 257,
     "metadata": {},
     "output_type": "execute_result"
    }
   ],
   "source": [
    "arr"
   ]
  },
  {
   "cell_type": "code",
   "execution_count": 258,
   "metadata": {
    "collapsed": true
   },
   "outputs": [],
   "source": [
    "arr_copy = arr[5:8].copy()"
   ]
  },
  {
   "cell_type": "code",
   "execution_count": 259,
   "metadata": {
    "collapsed": false
   },
   "outputs": [
    {
     "data": {
      "text/plain": [
       "array([64, 64, 64])"
      ]
     },
     "execution_count": 259,
     "metadata": {},
     "output_type": "execute_result"
    }
   ],
   "source": [
    "arr_copy"
   ]
  },
  {
   "cell_type": "code",
   "execution_count": 260,
   "metadata": {
    "collapsed": false
   },
   "outputs": [
    {
     "data": {
      "text/plain": [
       "array([ 0,  1,  2,  3,  4, 64, 64, 64,  8,  9])"
      ]
     },
     "execution_count": 260,
     "metadata": {},
     "output_type": "execute_result"
    }
   ],
   "source": [
    "arr"
   ]
  },
  {
   "cell_type": "code",
   "execution_count": 261,
   "metadata": {
    "collapsed": false
   },
   "outputs": [
    {
     "data": {
      "text/plain": [
       "array([64, 64, 64])"
      ]
     },
     "execution_count": 261,
     "metadata": {},
     "output_type": "execute_result"
    }
   ],
   "source": [
    "arr_copy"
   ]
  },
  {
   "cell_type": "code",
   "execution_count": 262,
   "metadata": {
    "collapsed": true
   },
   "outputs": [],
   "source": [
    "arr[6] = 123"
   ]
  },
  {
   "cell_type": "code",
   "execution_count": 263,
   "metadata": {
    "collapsed": false
   },
   "outputs": [
    {
     "data": {
      "text/plain": [
       "array([64, 64, 64])"
      ]
     },
     "execution_count": 263,
     "metadata": {},
     "output_type": "execute_result"
    }
   ],
   "source": [
    "arr_copy"
   ]
  },
  {
   "cell_type": "markdown",
   "metadata": {},
   "source": [
    "### 2차원 배열에서 다루는 경우 (좀더 많은 옵션이 필요)"
   ]
  },
  {
   "cell_type": "code",
   "execution_count": 264,
   "metadata": {
    "collapsed": true
   },
   "outputs": [],
   "source": [
    "arr2d = np.array([[1, 2, 3], [4, 5, 6], [7, 8, 9]])"
   ]
  },
  {
   "cell_type": "code",
   "execution_count": 265,
   "metadata": {
    "collapsed": false
   },
   "outputs": [
    {
     "data": {
      "text/plain": [
       "array([7, 8, 9])"
      ]
     },
     "execution_count": 265,
     "metadata": {},
     "output_type": "execute_result"
    }
   ],
   "source": [
    "arr2d[2]"
   ]
  },
  {
   "cell_type": "code",
   "execution_count": 266,
   "metadata": {
    "collapsed": false
   },
   "outputs": [
    {
     "name": "stdout",
     "output_type": "stream",
     "text": [
      "2\n",
      "(3L, 3L)\n"
     ]
    }
   ],
   "source": [
    "print arr2d.ndim\n",
    "print arr2d.shape"
   ]
  },
  {
   "cell_type": "code",
   "execution_count": 267,
   "metadata": {
    "collapsed": false
   },
   "outputs": [
    {
     "name": "stdout",
     "output_type": "stream",
     "text": [
      "3\n",
      "3\n"
     ]
    }
   ],
   "source": [
    "print arr2d[0][2]\n",
    "print arr2d[0,2]"
   ]
  },
  {
   "cell_type": "markdown",
   "metadata": {},
   "source": [
    "### 3차원 배열에서 다루는 경우"
   ]
  },
  {
   "cell_type": "code",
   "execution_count": 268,
   "metadata": {
    "collapsed": true
   },
   "outputs": [],
   "source": [
    "arr3d = np.array([[[1,2,3], [4,5,6]], [[7,8,9],[10,11,12]]])"
   ]
  },
  {
   "cell_type": "code",
   "execution_count": 269,
   "metadata": {
    "collapsed": false
   },
   "outputs": [
    {
     "data": {
      "text/plain": [
       "array([[[ 1,  2,  3],\n",
       "        [ 4,  5,  6]],\n",
       "\n",
       "       [[ 7,  8,  9],\n",
       "        [10, 11, 12]]])"
      ]
     },
     "execution_count": 269,
     "metadata": {},
     "output_type": "execute_result"
    }
   ],
   "source": [
    "arr3d"
   ]
  },
  {
   "cell_type": "code",
   "execution_count": 270,
   "metadata": {
    "collapsed": false
   },
   "outputs": [
    {
     "data": {
      "text/plain": [
       "array([[1, 2, 3],\n",
       "       [4, 5, 6]])"
      ]
     },
     "execution_count": 270,
     "metadata": {},
     "output_type": "execute_result"
    }
   ],
   "source": [
    "arr3d[0]"
   ]
  },
  {
   "cell_type": "code",
   "execution_count": 271,
   "metadata": {
    "collapsed": false
   },
   "outputs": [
    {
     "name": "stdout",
     "output_type": "stream",
     "text": [
      "3\n",
      "(2L, 2L, 3L)\n"
     ]
    }
   ],
   "source": [
    "print arr3d.ndim\n",
    "print arr3d.shape"
   ]
  },
  {
   "cell_type": "code",
   "execution_count": 272,
   "metadata": {
    "collapsed": false
   },
   "outputs": [
    {
     "name": "stdout",
     "output_type": "stream",
     "text": [
      "2\n",
      "(2L, 3L)\n"
     ]
    }
   ],
   "source": [
    "print arr3d[0].ndim\n",
    "print arr3d[0].shape"
   ]
  },
  {
   "cell_type": "code",
   "execution_count": 273,
   "metadata": {
    "collapsed": true
   },
   "outputs": [],
   "source": [
    "old_values = arr3d[0].copy()   \n",
    "#old_values에 저장된 값은 값을 바꿔도 영향을 받지 않아야 하기 때문에 복사하는 copy()함수를 사용"
   ]
  },
  {
   "cell_type": "code",
   "execution_count": 274,
   "metadata": {
    "collapsed": true
   },
   "outputs": [],
   "source": [
    "arr3d[0] = 42"
   ]
  },
  {
   "cell_type": "code",
   "execution_count": 275,
   "metadata": {
    "collapsed": false,
    "scrolled": true
   },
   "outputs": [
    {
     "data": {
      "text/plain": [
       "array([[[42, 42, 42],\n",
       "        [42, 42, 42]],\n",
       "\n",
       "       [[ 7,  8,  9],\n",
       "        [10, 11, 12]]])"
      ]
     },
     "execution_count": 275,
     "metadata": {},
     "output_type": "execute_result"
    }
   ],
   "source": [
    "arr3d"
   ]
  },
  {
   "cell_type": "code",
   "execution_count": 277,
   "metadata": {
    "collapsed": false
   },
   "outputs": [],
   "source": [
    "arr3d[0] = old_values"
   ]
  },
  {
   "cell_type": "code",
   "execution_count": 278,
   "metadata": {
    "collapsed": false
   },
   "outputs": [
    {
     "data": {
      "text/plain": [
       "array([[[ 1,  2,  3],\n",
       "        [ 4,  5,  6]],\n",
       "\n",
       "       [[ 7,  8,  9],\n",
       "        [10, 11, 12]]])"
      ]
     },
     "execution_count": 278,
     "metadata": {},
     "output_type": "execute_result"
    }
   ],
   "source": [
    "arr3d"
   ]
  },
  {
   "cell_type": "code",
   "execution_count": 279,
   "metadata": {
    "collapsed": false
   },
   "outputs": [
    {
     "data": {
      "text/plain": [
       "array([7, 8, 9])"
      ]
     },
     "execution_count": 279,
     "metadata": {},
     "output_type": "execute_result"
    }
   ],
   "source": [
    "arr3d[1,0]"
   ]
  },
  {
   "cell_type": "code",
   "execution_count": 280,
   "metadata": {
    "collapsed": false
   },
   "outputs": [
    {
     "data": {
      "text/plain": [
       "9"
      ]
     },
     "execution_count": 280,
     "metadata": {},
     "output_type": "execute_result"
    }
   ],
   "source": [
    "arr3d[1,0,2]"
   ]
  },
  {
   "cell_type": "markdown",
   "metadata": {},
   "source": [
    "### 슬라이스 색인"
   ]
  },
  {
   "cell_type": "code",
   "execution_count": 281,
   "metadata": {
    "collapsed": false
   },
   "outputs": [
    {
     "data": {
      "text/plain": [
       "array([[1, 2, 3],\n",
       "       [4, 5, 6],\n",
       "       [7, 8, 9]])"
      ]
     },
     "execution_count": 281,
     "metadata": {},
     "output_type": "execute_result"
    }
   ],
   "source": [
    "arr2d"
   ]
  },
  {
   "cell_type": "code",
   "execution_count": 282,
   "metadata": {
    "collapsed": false
   },
   "outputs": [
    {
     "data": {
      "text/plain": [
       "array([[1, 2, 3],\n",
       "       [4, 5, 6]])"
      ]
     },
     "execution_count": 282,
     "metadata": {},
     "output_type": "execute_result"
    }
   ],
   "source": [
    "arr2d[:2]"
   ]
  },
  {
   "cell_type": "code",
   "execution_count": 283,
   "metadata": {
    "collapsed": false
   },
   "outputs": [
    {
     "data": {
      "text/plain": [
       "array([[2, 3],\n",
       "       [5, 6]])"
      ]
     },
     "execution_count": 283,
     "metadata": {},
     "output_type": "execute_result"
    }
   ],
   "source": [
    "arr2d[:2, 1:]"
   ]
  },
  {
   "cell_type": "code",
   "execution_count": 284,
   "metadata": {
    "collapsed": false
   },
   "outputs": [
    {
     "data": {
      "text/plain": [
       "array([4, 5])"
      ]
     },
     "execution_count": 284,
     "metadata": {},
     "output_type": "execute_result"
    }
   ],
   "source": [
    "arr2d[1, :2]"
   ]
  },
  {
   "cell_type": "code",
   "execution_count": 288,
   "metadata": {
    "collapsed": false,
    "scrolled": true
   },
   "outputs": [
    {
     "data": {
      "text/plain": [
       "array([7])"
      ]
     },
     "execution_count": 288,
     "metadata": {},
     "output_type": "execute_result"
    }
   ],
   "source": [
    "arr2d[2, :1]"
   ]
  },
  {
   "cell_type": "code",
   "execution_count": 289,
   "metadata": {
    "collapsed": false
   },
   "outputs": [
    {
     "data": {
      "text/plain": [
       "array([[1],\n",
       "       [4],\n",
       "       [7]])"
      ]
     },
     "execution_count": 289,
     "metadata": {},
     "output_type": "execute_result"
    }
   ],
   "source": [
    "arr2d[:, :1]"
   ]
  },
  {
   "cell_type": "code",
   "execution_count": 290,
   "metadata": {
    "collapsed": true
   },
   "outputs": [],
   "source": [
    "arr2d[:2, 1:] = 0"
   ]
  },
  {
   "cell_type": "code",
   "execution_count": 291,
   "metadata": {
    "collapsed": false
   },
   "outputs": [
    {
     "data": {
      "text/plain": [
       "array([[1, 0, 0],\n",
       "       [4, 0, 0],\n",
       "       [7, 8, 9]])"
      ]
     },
     "execution_count": 291,
     "metadata": {},
     "output_type": "execute_result"
    }
   ],
   "source": [
    "arr2d"
   ]
  },
  {
   "cell_type": "markdown",
   "metadata": {},
   "source": [
    "### 5) 불리언 색인"
   ]
  },
  {
   "cell_type": "code",
   "execution_count": 2,
   "metadata": {
    "collapsed": true
   },
   "outputs": [],
   "source": [
    "names = np.array(['Bob', 'Joe', 'Will', 'Bob', 'Will', 'Joe', 'Joe'])"
   ]
  },
  {
   "cell_type": "code",
   "execution_count": 3,
   "metadata": {
    "collapsed": true
   },
   "outputs": [],
   "source": [
    "data = np.random.randn(7,4)"
   ]
  },
  {
   "cell_type": "code",
   "execution_count": 4,
   "metadata": {
    "collapsed": false
   },
   "outputs": [
    {
     "data": {
      "text/plain": [
       "array(['Bob', 'Joe', 'Will', 'Bob', 'Will', 'Joe', 'Joe'], \n",
       "      dtype='|S4')"
      ]
     },
     "execution_count": 4,
     "metadata": {},
     "output_type": "execute_result"
    }
   ],
   "source": [
    "names"
   ]
  },
  {
   "cell_type": "code",
   "execution_count": 5,
   "metadata": {
    "collapsed": false
   },
   "outputs": [
    {
     "data": {
      "text/plain": [
       "array([[ 0.17030845, -0.50786521,  1.15342211, -1.11454411],\n",
       "       [ 1.35400585, -1.10106573, -0.22134848,  0.02290812],\n",
       "       [ 0.70183174,  1.01317004, -0.93133283, -0.1657415 ],\n",
       "       [ 0.67876784, -0.39049597, -1.73392495, -0.4973794 ],\n",
       "       [ 0.4079123 ,  0.82981744,  0.86478866,  1.66202159],\n",
       "       [-1.42340751, -0.53185387,  0.92238906,  1.18463379],\n",
       "       [-0.70023225, -0.34338406, -0.5578622 ,  0.11891191]])"
      ]
     },
     "execution_count": 5,
     "metadata": {},
     "output_type": "execute_result"
    }
   ],
   "source": [
    "data"
   ]
  },
  {
   "cell_type": "code",
   "execution_count": 6,
   "metadata": {
    "collapsed": false
   },
   "outputs": [
    {
     "data": {
      "text/plain": [
       "array([ True, False, False,  True, False, False, False], dtype=bool)"
      ]
     },
     "execution_count": 6,
     "metadata": {},
     "output_type": "execute_result"
    }
   ],
   "source": [
    "names=='Bob'"
   ]
  },
  {
   "cell_type": "markdown",
   "metadata": {},
   "source": [
    "### 6) 팬시 색인"
   ]
  },
  {
   "cell_type": "code",
   "execution_count": 7,
   "metadata": {
    "collapsed": true
   },
   "outputs": [],
   "source": [
    "arr = np.empty((8,4))"
   ]
  },
  {
   "cell_type": "code",
   "execution_count": 8,
   "metadata": {
    "collapsed": false
   },
   "outputs": [
    {
     "data": {
      "text/plain": [
       "array([[  3.63521590e+228,   1.48890323e+195,   3.73629783e-317,\n",
       "          0.00000000e+000],\n",
       "       [  0.00000000e+000,   0.00000000e+000,   7.74860419e-304,\n",
       "          1.26974871e-321],\n",
       "       [  0.00000000e+000,   0.00000000e+000,   0.00000000e+000,\n",
       "          0.00000000e+000],\n",
       "       [  0.00000000e+000,   0.00000000e+000,   0.00000000e+000,\n",
       "          0.00000000e+000],\n",
       "       [  0.00000000e+000,   0.00000000e+000,   0.00000000e+000,\n",
       "          0.00000000e+000],\n",
       "       [  0.00000000e+000,   0.00000000e+000,   0.00000000e+000,\n",
       "          0.00000000e+000],\n",
       "       [  0.00000000e+000,   0.00000000e+000,   0.00000000e+000,\n",
       "          0.00000000e+000],\n",
       "       [  0.00000000e+000,   0.00000000e+000,   0.00000000e+000,\n",
       "          0.00000000e+000]])"
      ]
     },
     "execution_count": 8,
     "metadata": {},
     "output_type": "execute_result"
    }
   ],
   "source": [
    "arr"
   ]
  },
  {
   "cell_type": "code",
   "execution_count": 9,
   "metadata": {
    "collapsed": true
   },
   "outputs": [],
   "source": [
    "for i in range(8):\n",
    "    arr[i] = i"
   ]
  },
  {
   "cell_type": "code",
   "execution_count": 10,
   "metadata": {
    "collapsed": false
   },
   "outputs": [
    {
     "data": {
      "text/plain": [
       "array([[ 0.,  0.,  0.,  0.],\n",
       "       [ 1.,  1.,  1.,  1.],\n",
       "       [ 2.,  2.,  2.,  2.],\n",
       "       [ 3.,  3.,  3.,  3.],\n",
       "       [ 4.,  4.,  4.,  4.],\n",
       "       [ 5.,  5.,  5.,  5.],\n",
       "       [ 6.,  6.,  6.,  6.],\n",
       "       [ 7.,  7.,  7.,  7.]])"
      ]
     },
     "execution_count": 10,
     "metadata": {},
     "output_type": "execute_result"
    }
   ],
   "source": [
    "arr"
   ]
  },
  {
   "cell_type": "code",
   "execution_count": 11,
   "metadata": {
    "collapsed": false
   },
   "outputs": [
    {
     "data": {
      "text/plain": [
       "array([[ 4.,  4.,  4.,  4.],\n",
       "       [ 3.,  3.,  3.,  3.],\n",
       "       [ 0.,  0.,  0.,  0.],\n",
       "       [ 6.,  6.,  6.,  6.]])"
      ]
     },
     "execution_count": 11,
     "metadata": {},
     "output_type": "execute_result"
    }
   ],
   "source": [
    "arr[[4,3,0,6]]"
   ]
  },
  {
   "cell_type": "code",
   "execution_count": 12,
   "metadata": {
    "collapsed": false
   },
   "outputs": [
    {
     "data": {
      "text/plain": [
       "array([[ 5.,  5.,  5.,  5.],\n",
       "       [ 3.,  3.,  3.,  3.],\n",
       "       [ 1.,  1.,  1.,  1.]])"
      ]
     },
     "execution_count": 12,
     "metadata": {},
     "output_type": "execute_result"
    }
   ],
   "source": [
    "arr[[-3, -5, -7]]"
   ]
  },
  {
   "cell_type": "code",
   "execution_count": 13,
   "metadata": {
    "collapsed": true
   },
   "outputs": [],
   "source": [
    "arr = np.arange(32).reshape((8,4))"
   ]
  },
  {
   "cell_type": "code",
   "execution_count": 14,
   "metadata": {
    "collapsed": false
   },
   "outputs": [
    {
     "data": {
      "text/plain": [
       "array([[ 0,  1,  2,  3],\n",
       "       [ 4,  5,  6,  7],\n",
       "       [ 8,  9, 10, 11],\n",
       "       [12, 13, 14, 15],\n",
       "       [16, 17, 18, 19],\n",
       "       [20, 21, 22, 23],\n",
       "       [24, 25, 26, 27],\n",
       "       [28, 29, 30, 31]])"
      ]
     },
     "execution_count": 14,
     "metadata": {},
     "output_type": "execute_result"
    }
   ],
   "source": [
    "arr"
   ]
  },
  {
   "cell_type": "code",
   "execution_count": 15,
   "metadata": {
    "collapsed": false
   },
   "outputs": [
    {
     "name": "stdout",
     "output_type": "stream",
     "text": [
      "2\n",
      "(8L, 4L)\n"
     ]
    }
   ],
   "source": [
    "print arr.ndim\n",
    "print arr.shape"
   ]
  },
  {
   "cell_type": "code",
   "execution_count": 16,
   "metadata": {
    "collapsed": false
   },
   "outputs": [
    {
     "data": {
      "text/plain": [
       "array([[ 4,  5,  6,  7],\n",
       "       [20, 21, 22, 23],\n",
       "       [28, 29, 30, 31],\n",
       "       [ 8,  9, 10, 11]])"
      ]
     },
     "execution_count": 16,
     "metadata": {},
     "output_type": "execute_result"
    }
   ],
   "source": [
    "arr[[1,5,7,2]]"
   ]
  },
  {
   "cell_type": "code",
   "execution_count": 17,
   "metadata": {
    "collapsed": false
   },
   "outputs": [
    {
     "ename": "TypeError",
     "evalue": "list indices must be integers, not tuple",
     "output_type": "error",
     "traceback": [
      "\u001b[1;31m---------------------------------------------------------------------------\u001b[0m",
      "\u001b[1;31mTypeError\u001b[0m                                 Traceback (most recent call last)",
      "\u001b[1;32m<ipython-input-17-93b82437efbb>\u001b[0m in \u001b[0;36m<module>\u001b[1;34m()\u001b[0m\n\u001b[1;32m----> 1\u001b[1;33m \u001b[0marr\u001b[0m\u001b[1;33m[\u001b[0m\u001b[1;33m[\u001b[0m\u001b[1;36m1\u001b[0m\u001b[1;33m,\u001b[0m\u001b[1;36m5\u001b[0m\u001b[1;33m,\u001b[0m\u001b[1;36m7\u001b[0m\u001b[1;33m,\u001b[0m\u001b[1;36m2\u001b[0m\u001b[1;33m]\u001b[0m\u001b[1;33m[\u001b[0m\u001b[1;36m0\u001b[0m\u001b[1;33m,\u001b[0m\u001b[1;36m3\u001b[0m\u001b[1;33m,\u001b[0m\u001b[1;36m1\u001b[0m\u001b[1;33m,\u001b[0m\u001b[1;36m2\u001b[0m\u001b[1;33m]\u001b[0m\u001b[1;33m]\u001b[0m\u001b[1;33m\u001b[0m\u001b[0m\n\u001b[0m",
      "\u001b[1;31mTypeError\u001b[0m: list indices must be integers, not tuple"
     ]
    }
   ],
   "source": [
    "arr[[1,5,7,2][0,3,1,2]] "
   ]
  },
  {
   "cell_type": "code",
   "execution_count": 19,
   "metadata": {
    "collapsed": false
   },
   "outputs": [
    {
     "data": {
      "text/plain": [
       "array([ 4, 23, 29, 10])"
      ]
     },
     "execution_count": 19,
     "metadata": {},
     "output_type": "execute_result"
    }
   ],
   "source": [
    "arr[[1,5,7,2], [0,3,1,2]] \n",
    "#(1,0), (5,3), (7,2), (2,2)의 값을 보여달라는 모습이다"
   ]
  },
  {
   "cell_type": "code",
   "execution_count": 38,
   "metadata": {
    "collapsed": false
   },
   "outputs": [
    {
     "name": "stdout",
     "output_type": "stream",
     "text": [
      "4\n",
      "4\n"
     ]
    }
   ],
   "source": [
    "print arr[(1,0)]\n",
    "print arr[1][0]"
   ]
  },
  {
   "cell_type": "code",
   "execution_count": 31,
   "metadata": {
    "collapsed": false
   },
   "outputs": [
    {
     "name": "stdout",
     "output_type": "stream",
     "text": [
      "[4]\n",
      "[4 5 6 7]\n"
     ]
    }
   ],
   "source": [
    "print arr[[1],[0]]\n",
    "print arr[[1][0]]"
   ]
  },
  {
   "cell_type": "code",
   "execution_count": 27,
   "metadata": {
    "collapsed": false
   },
   "outputs": [
    {
     "data": {
      "text/plain": [
       "array([[ 4,  7,  5,  6],\n",
       "       [20, 23, 21, 22],\n",
       "       [28, 31, 29, 30],\n",
       "       [ 8, 11,  9, 10]])"
      ]
     },
     "execution_count": 27,
     "metadata": {},
     "output_type": "execute_result"
    }
   ],
   "source": [
    "arr[[1,5,7,2]][:, [0,3,1,2]] \n",
    "#각 행(1,5,7,2)에 해당하는 열들이 다 나오도록 (사각형 모양이 선택)"
   ]
  },
  {
   "cell_type": "code",
   "execution_count": 69,
   "metadata": {
    "collapsed": false
   },
   "outputs": [
    {
     "data": {
      "text/plain": [
       "array([[ 0,  1,  2,  3],\n",
       "       [ 4,  5,  6,  7],\n",
       "       [ 8,  9, 10, 11],\n",
       "       [12, 13, 14, 15],\n",
       "       [16, 17, 18, 19],\n",
       "       [20, 21, 22, 23],\n",
       "       [24, 25, 26, 27],\n",
       "       [28, 29, 30, 31]])"
      ]
     },
     "execution_count": 69,
     "metadata": {},
     "output_type": "execute_result"
    }
   ],
   "source": [
    "arr"
   ]
  },
  {
   "cell_type": "code",
   "execution_count": 112,
   "metadata": {
    "collapsed": false
   },
   "outputs": [
    {
     "data": {
      "text/plain": [
       "array([[ 0,  1,  2,  3],\n",
       "       [12, 13, 14, 15],\n",
       "       [ 4,  5,  6,  7],\n",
       "       [ 8,  9, 10, 11]])"
      ]
     },
     "execution_count": 112,
     "metadata": {},
     "output_type": "execute_result"
    }
   ],
   "source": [
    "arr[range(8)][[0,3,1,2]] "
   ]
  },
  {
   "cell_type": "code",
   "execution_count": 32,
   "metadata": {
    "collapsed": false,
    "scrolled": true
   },
   "outputs": [
    {
     "data": {
      "text/plain": [
       "array([[ 4,  7,  5,  6],\n",
       "       [20, 23, 21, 22],\n",
       "       [28, 31, 29, 30],\n",
       "       [ 8, 11,  9, 10]])"
      ]
     },
     "execution_count": 32,
     "metadata": {},
     "output_type": "execute_result"
    }
   ],
   "source": [
    "arr[np.ix_([1,5,7,2], [0,3,1,2])]\n",
    "#np.ix_()함수를 사용하면 1차원 정수 배열 2개를 사각형 영역에서 사용할 색인으로 변환"
   ]
  },
  {
   "cell_type": "code",
   "execution_count": 72,
   "metadata": {
    "collapsed": false,
    "scrolled": true
   },
   "outputs": [
    {
     "data": {
      "text/plain": [
       "array([[ 5,  6],\n",
       "       [21, 22],\n",
       "       [29, 30],\n",
       "       [ 9, 10]])"
      ]
     },
     "execution_count": 72,
     "metadata": {},
     "output_type": "execute_result"
    }
   ],
   "source": [
    "arr[np.ix_([1,5,7,2], [1,2])]"
   ]
  },
  {
   "cell_type": "code",
   "execution_count": 106,
   "metadata": {
    "collapsed": false
   },
   "outputs": [
    {
     "data": {
      "text/plain": [
       "array([[ 4,  7,  5,  6],\n",
       "       [20, 23, 21, 22],\n",
       "       [28, 31, 29, 30],\n",
       "       [ 8, 11,  9, 10]])"
      ]
     },
     "execution_count": 106,
     "metadata": {},
     "output_type": "execute_result"
    }
   ],
   "source": [
    "arr[np.ix_([1,5,7,2],[0,3,1,2])]"
   ]
  },
  {
   "cell_type": "code",
   "execution_count": 107,
   "metadata": {
    "collapsed": false,
    "scrolled": true
   },
   "outputs": [
    {
     "data": {
      "text/plain": [
       "array([[ 0,  3,  1,  2],\n",
       "       [ 4,  7,  5,  6],\n",
       "       [ 8, 11,  9, 10],\n",
       "       [12, 15, 13, 14],\n",
       "       [16, 19, 17, 18],\n",
       "       [20, 23, 21, 22],\n",
       "       [24, 27, 25, 26],\n",
       "       [28, 31, 29, 30]])"
      ]
     },
     "execution_count": 107,
     "metadata": {},
     "output_type": "execute_result"
    }
   ],
   "source": [
    "arr[np.ix_([0,1,2,3,4,5,6,7],[0,3,1,2])]"
   ]
  },
  {
   "cell_type": "code",
   "execution_count": 110,
   "metadata": {
    "collapsed": false
   },
   "outputs": [
    {
     "data": {
      "text/plain": [
       "array([[ 0,  3,  1,  2],\n",
       "       [ 4,  7,  5,  6],\n",
       "       [ 8, 11,  9, 10],\n",
       "       [12, 15, 13, 14],\n",
       "       [16, 19, 17, 18],\n",
       "       [20, 23, 21, 22],\n",
       "       [24, 27, 25, 26],\n",
       "       [28, 31, 29, 30]])"
      ]
     },
     "execution_count": 110,
     "metadata": {},
     "output_type": "execute_result"
    }
   ],
   "source": [
    "arr[np.ix_(range(8),[0,3,1,2])]"
   ]
  },
  {
   "cell_type": "code",
   "execution_count": 70,
   "metadata": {
    "collapsed": true
   },
   "outputs": [],
   "source": [
    "np.ix_?"
   ]
  },
  {
   "cell_type": "code",
   "execution_count": 71,
   "metadata": {
    "collapsed": false
   },
   "outputs": [
    {
     "name": "stdout",
     "output_type": "stream",
     "text": [
      "2\n",
      "(4L, 4L)\n"
     ]
    }
   ],
   "source": [
    "print arr[np.ix_([1,5,7,2], [0,3,1,2])].ndim\n",
    "print arr[np.ix_([1,5,7,2], [0,3,1,2])].shape"
   ]
  },
  {
   "cell_type": "markdown",
   "metadata": {},
   "source": [
    "- 팬시 색인은 슬라이싱과 다르게 선택된 데이터를 새로운 배열로 복사"
   ]
  },
  {
   "cell_type": "markdown",
   "metadata": {},
   "source": [
    "### 7) 배열 전치와 축 바꾸기"
   ]
  },
  {
   "cell_type": "code",
   "execution_count": 135,
   "metadata": {
    "collapsed": true
   },
   "outputs": [],
   "source": [
    "arr = np.arange(15).reshape((3,5))"
   ]
  },
  {
   "cell_type": "code",
   "execution_count": 136,
   "metadata": {
    "collapsed": false
   },
   "outputs": [
    {
     "data": {
      "text/plain": [
       "array([[ 0,  1,  2,  3,  4],\n",
       "       [ 5,  6,  7,  8,  9],\n",
       "       [10, 11, 12, 13, 14]])"
      ]
     },
     "execution_count": 136,
     "metadata": {},
     "output_type": "execute_result"
    }
   ],
   "source": [
    "arr"
   ]
  },
  {
   "cell_type": "code",
   "execution_count": 137,
   "metadata": {
    "collapsed": false,
    "scrolled": true
   },
   "outputs": [
    {
     "data": {
      "text/plain": [
       "array([[ 0,  5, 10],\n",
       "       [ 1,  6, 11],\n",
       "       [ 2,  7, 12],\n",
       "       [ 3,  8, 13],\n",
       "       [ 4,  9, 14]])"
      ]
     },
     "execution_count": 137,
     "metadata": {},
     "output_type": "execute_result"
    }
   ],
   "source": [
    "arr.T   #transpose로 5x3으로 반환"
   ]
  },
  {
   "cell_type": "code",
   "execution_count": 138,
   "metadata": {
    "collapsed": false,
    "scrolled": true
   },
   "outputs": [
    {
     "data": {
      "text/plain": [
       "array([[ 0,  1,  2,  3,  4],\n",
       "       [ 5,  6,  7,  8,  9],\n",
       "       [10, 11, 12, 13, 14]])"
      ]
     },
     "execution_count": 138,
     "metadata": {},
     "output_type": "execute_result"
    }
   ],
   "source": [
    "arr"
   ]
  },
  {
   "cell_type": "code",
   "execution_count": 139,
   "metadata": {
    "collapsed": false,
    "scrolled": false
   },
   "outputs": [
    {
     "data": {
      "text/plain": [
       "array([[ 0,  5, 10],\n",
       "       [ 1,  6, 11],\n",
       "       [ 2,  7, 12],\n",
       "       [ 3,  8, 13],\n",
       "       [ 4,  9, 14]])"
      ]
     },
     "execution_count": 139,
     "metadata": {},
     "output_type": "execute_result"
    }
   ],
   "source": [
    "arr.transpose((1,0))"
   ]
  },
  {
   "cell_type": "code",
   "execution_count": 142,
   "metadata": {
    "collapsed": false
   },
   "outputs": [
    {
     "data": {
      "text/plain": [
       "array([[ 0,  1,  2,  3,  4],\n",
       "       [ 5,  6,  7,  8,  9],\n",
       "       [10, 11, 12, 13, 14]])"
      ]
     },
     "execution_count": 142,
     "metadata": {},
     "output_type": "execute_result"
    }
   ],
   "source": [
    "arr.transpose((0,1))"
   ]
  },
  {
   "cell_type": "markdown",
   "metadata": {},
   "source": [
    "- 행렬의 내적 계산은 np.dot을 이용해서 구할 수 있다."
   ]
  },
  {
   "cell_type": "code",
   "execution_count": 143,
   "metadata": {
    "collapsed": true
   },
   "outputs": [],
   "source": [
    "arr = np.random.randn(6,3)"
   ]
  },
  {
   "cell_type": "code",
   "execution_count": 144,
   "metadata": {
    "collapsed": false
   },
   "outputs": [
    {
     "data": {
      "text/plain": [
       "array([[ 2.09544106, -0.04405433,  0.4570354 ],\n",
       "       [-0.04405433,  0.71401962, -1.11685638],\n",
       "       [ 0.4570354 , -1.11685638,  2.89468441]])"
      ]
     },
     "execution_count": 144,
     "metadata": {},
     "output_type": "execute_result"
    }
   ],
   "source": [
    "np.dot(arr.T, arr)"
   ]
  },
  {
   "cell_type": "markdown",
   "metadata": {},
   "source": [
    "다차원 배열의 경우 transpose 메서드는 튜플로 축 번호를 받아서 치환"
   ]
  },
  {
   "cell_type": "code",
   "execution_count": 168,
   "metadata": {
    "collapsed": false
   },
   "outputs": [],
   "source": [
    "arr = np.arange(16).reshape((2,2,4))"
   ]
  },
  {
   "cell_type": "code",
   "execution_count": 169,
   "metadata": {
    "collapsed": false
   },
   "outputs": [
    {
     "data": {
      "text/plain": [
       "array([[[ 0,  1,  2,  3],\n",
       "        [ 4,  5,  6,  7]],\n",
       "\n",
       "       [[ 8,  9, 10, 11],\n",
       "        [12, 13, 14, 15]]])"
      ]
     },
     "execution_count": 169,
     "metadata": {},
     "output_type": "execute_result"
    }
   ],
   "source": [
    "arr"
   ]
  },
  {
   "cell_type": "code",
   "execution_count": 171,
   "metadata": {
    "collapsed": false,
    "scrolled": true
   },
   "outputs": [
    {
     "name": "stdout",
     "output_type": "stream",
     "text": [
      "[[[ 0  1  2  3]\n",
      "  [ 4  5  6  7]]\n",
      "\n",
      " [[ 8  9 10 11]\n",
      "  [12 13 14 15]]]\n"
     ]
    }
   ],
   "source": [
    "print arr.transpose(0,1,2)"
   ]
  },
  {
   "cell_type": "code",
   "execution_count": 172,
   "metadata": {
    "collapsed": false
   },
   "outputs": [
    {
     "name": "stdout",
     "output_type": "stream",
     "text": [
      "[[[ 0  8]\n",
      "  [ 1  9]\n",
      "  [ 2 10]\n",
      "  [ 3 11]]\n",
      "\n",
      " [[ 4 12]\n",
      "  [ 5 13]\n",
      "  [ 6 14]\n",
      "  [ 7 15]]]\n"
     ]
    }
   ],
   "source": [
    "print arr.transpose(1,2,0)"
   ]
  },
  {
   "cell_type": "code",
   "execution_count": 175,
   "metadata": {
    "collapsed": false
   },
   "outputs": [
    {
     "name": "stdout",
     "output_type": "stream",
     "text": [
      "[[[ 0  1  2  3]\n",
      "  [ 8  9 10 11]]\n",
      "\n",
      " [[ 4  5  6  7]\n",
      "  [12 13 14 15]]]\n"
     ]
    }
   ],
   "source": [
    "print arr.transpose(1,0,2)"
   ]
  },
  {
   "cell_type": "code",
   "execution_count": null,
   "metadata": {
    "collapsed": true
   },
   "outputs": [],
   "source": []
  },
  {
   "cell_type": "code",
   "execution_count": 127,
   "metadata": {
    "collapsed": false
   },
   "outputs": [
    {
     "data": {
      "text/plain": [
       "array([[[ 0,  8],\n",
       "        [ 4, 12]],\n",
       "\n",
       "       [[ 1,  9],\n",
       "        [ 5, 13]],\n",
       "\n",
       "       [[ 2, 10],\n",
       "        [ 6, 14]],\n",
       "\n",
       "       [[ 3, 11],\n",
       "        [ 7, 15]]])"
      ]
     },
     "execution_count": 127,
     "metadata": {},
     "output_type": "execute_result"
    }
   ],
   "source": [
    "arr.T"
   ]
  },
  {
   "cell_type": "code",
   "execution_count": 128,
   "metadata": {
    "collapsed": false
   },
   "outputs": [
    {
     "data": {
      "text/plain": [
       "array([[[ 0,  1,  2,  3],\n",
       "        [ 8,  9, 10, 11]],\n",
       "\n",
       "       [[ 4,  5,  6,  7],\n",
       "        [12, 13, 14, 15]]])"
      ]
     },
     "execution_count": 128,
     "metadata": {},
     "output_type": "execute_result"
    }
   ],
   "source": [
    "arr.transpose((1,0,2))"
   ]
  },
  {
   "cell_type": "code",
   "execution_count": 129,
   "metadata": {
    "collapsed": false,
    "scrolled": true
   },
   "outputs": [
    {
     "data": {
      "text/plain": [
       "array([[[ 0,  4],\n",
       "        [ 8, 12]],\n",
       "\n",
       "       [[ 1,  5],\n",
       "        [ 9, 13]],\n",
       "\n",
       "       [[ 2,  6],\n",
       "        [10, 14]],\n",
       "\n",
       "       [[ 3,  7],\n",
       "        [11, 15]]])"
      ]
     },
     "execution_count": 129,
     "metadata": {},
     "output_type": "execute_result"
    }
   ],
   "source": [
    "arr.transpose((2,0,1))"
   ]
  },
  {
   "cell_type": "code",
   "execution_count": 177,
   "metadata": {
    "collapsed": false
   },
   "outputs": [
    {
     "data": {
      "text/plain": [
       "array([[[ 0,  4],\n",
       "        [ 1,  5],\n",
       "        [ 2,  6],\n",
       "        [ 3,  7]],\n",
       "\n",
       "       [[ 8, 12],\n",
       "        [ 9, 13],\n",
       "        [10, 14],\n",
       "        [11, 15]]])"
      ]
     },
     "execution_count": 177,
     "metadata": {},
     "output_type": "execute_result"
    }
   ],
   "source": [
    "arr.transpose(0,2,1)"
   ]
  },
  {
   "cell_type": "code",
   "execution_count": 131,
   "metadata": {
    "collapsed": false
   },
   "outputs": [],
   "source": [
    "np.transpose?"
   ]
  },
  {
   "cell_type": "code",
   "execution_count": 132,
   "metadata": {
    "collapsed": false
   },
   "outputs": [
    {
     "data": {
      "text/plain": [
       "array([[[ 0,  1,  2,  3],\n",
       "        [ 4,  5,  6,  7]],\n",
       "\n",
       "       [[ 8,  9, 10, 11],\n",
       "        [12, 13, 14, 15]]])"
      ]
     },
     "execution_count": 132,
     "metadata": {},
     "output_type": "execute_result"
    }
   ],
   "source": [
    "arr"
   ]
  },
  {
   "cell_type": "code",
   "execution_count": 178,
   "metadata": {
    "collapsed": false
   },
   "outputs": [
    {
     "data": {
      "text/plain": [
       "array([[[ 0,  4],\n",
       "        [ 1,  5],\n",
       "        [ 2,  6],\n",
       "        [ 3,  7]],\n",
       "\n",
       "       [[ 8, 12],\n",
       "        [ 9, 13],\n",
       "        [10, 14],\n",
       "        [11, 15]]])"
      ]
     },
     "execution_count": 178,
     "metadata": {},
     "output_type": "execute_result"
    }
   ],
   "source": [
    "arr.swapaxes(1,2)  #arr.transpose(0,2,1)"
   ]
  },
  {
   "cell_type": "markdown",
   "metadata": {},
   "source": [
    "- swapaxes와 transpose 둘다 데이터를 복사하지 않고 원래 데이터에 대한 뷰를 반환"
   ]
  },
  {
   "cell_type": "markdown",
   "metadata": {},
   "source": [
    "## 2. 유니버셜 함수"
   ]
  },
  {
   "cell_type": "markdown",
   "metadata": {},
   "source": [
    "- ufunc라고 불리는 유니버설 함수는 ndarray 안에 있는 데이터 원소별로 연산을 수행하는 함수다.\n",
    "- 유니버설 함수는 하나 이상의 스칼라 값을 받아서 하나 이상의 스칼라 결과 값을 반환하는 간단한 함수를 고속으로 수행할 수 있는 백터화된 래퍼 함수\n",
    "- ufunc는 sqrt나 exp 같은 간단한 변형을 전체 원소에 적용 가능"
   ]
  },
  {
   "cell_type": "code",
   "execution_count": 179,
   "metadata": {
    "collapsed": true
   },
   "outputs": [],
   "source": [
    "arr = np.arange(10)"
   ]
  },
  {
   "cell_type": "code",
   "execution_count": 180,
   "metadata": {
    "collapsed": false
   },
   "outputs": [
    {
     "data": {
      "text/plain": [
       "array([0, 1, 2, 3, 4, 5, 6, 7, 8, 9])"
      ]
     },
     "execution_count": 180,
     "metadata": {},
     "output_type": "execute_result"
    }
   ],
   "source": [
    "arr"
   ]
  },
  {
   "cell_type": "code",
   "execution_count": 183,
   "metadata": {
    "collapsed": false
   },
   "outputs": [
    {
     "data": {
      "text/plain": [
       "array([ 0.        ,  1.        ,  1.41421356,  1.73205081,  2.        ,\n",
       "        2.23606798,  2.44948974,  2.64575131,  2.82842712,  3.        ])"
      ]
     },
     "execution_count": 183,
     "metadata": {},
     "output_type": "execute_result"
    }
   ],
   "source": [
    "np.sqrt(arr)  #루트"
   ]
  },
  {
   "cell_type": "code",
   "execution_count": 184,
   "metadata": {
    "collapsed": false
   },
   "outputs": [
    {
     "data": {
      "text/plain": [
       "array([  1.00000000e+00,   2.71828183e+00,   7.38905610e+00,\n",
       "         2.00855369e+01,   5.45981500e+01,   1.48413159e+02,\n",
       "         4.03428793e+02,   1.09663316e+03,   2.98095799e+03,\n",
       "         8.10308393e+03])"
      ]
     },
     "execution_count": 184,
     "metadata": {},
     "output_type": "execute_result"
    }
   ],
   "source": [
    "np.exp(arr)  #지수승"
   ]
  },
  {
   "cell_type": "code",
   "execution_count": 185,
   "metadata": {
    "collapsed": false
   },
   "outputs": [
    {
     "data": {
      "text/plain": [
       "array([0, 1, 2, 3, 4, 5, 6, 7, 8, 9])"
      ]
     },
     "execution_count": 185,
     "metadata": {},
     "output_type": "execute_result"
    }
   ],
   "source": [
    "arr"
   ]
  },
  {
   "cell_type": "markdown",
   "metadata": {},
   "source": [
    "- add나 maximum처럼 2개의 인자를 취해서 단일 배열을 반환하는 함수를 이항 유니버설 함수라고 한다."
   ]
  },
  {
   "cell_type": "code",
   "execution_count": 186,
   "metadata": {
    "collapsed": true
   },
   "outputs": [],
   "source": [
    "x = np.random.randn(8)"
   ]
  },
  {
   "cell_type": "code",
   "execution_count": 187,
   "metadata": {
    "collapsed": true
   },
   "outputs": [],
   "source": [
    "y = np.random.randn(8)"
   ]
  },
  {
   "cell_type": "code",
   "execution_count": 188,
   "metadata": {
    "collapsed": false
   },
   "outputs": [
    {
     "data": {
      "text/plain": [
       "array([ 0.28370104, -0.55253916,  0.81362356, -0.27018651,  0.6932201 ,\n",
       "        0.15666474,  0.84505183,  0.93340176])"
      ]
     },
     "execution_count": 188,
     "metadata": {},
     "output_type": "execute_result"
    }
   ],
   "source": [
    "x"
   ]
  },
  {
   "cell_type": "code",
   "execution_count": 189,
   "metadata": {
    "collapsed": false
   },
   "outputs": [
    {
     "data": {
      "text/plain": [
       "array([-1.89502014,  1.51267174, -0.90687491, -0.24730827, -1.17938144,\n",
       "        0.64529816,  0.06505152, -0.93052429])"
      ]
     },
     "execution_count": 189,
     "metadata": {},
     "output_type": "execute_result"
    }
   ],
   "source": [
    "y"
   ]
  },
  {
   "cell_type": "code",
   "execution_count": 191,
   "metadata": {
    "collapsed": false
   },
   "outputs": [
    {
     "data": {
      "text/plain": [
       "array([ 0.28370104,  1.51267174,  0.81362356, -0.24730827,  0.6932201 ,\n",
       "        0.64529816,  0.84505183,  0.93340176])"
      ]
     },
     "execution_count": 191,
     "metadata": {},
     "output_type": "execute_result"
    }
   ],
   "source": [
    "np.maximum(x,y)"
   ]
  },
  {
   "cell_type": "code",
   "execution_count": 196,
   "metadata": {
    "collapsed": true
   },
   "outputs": [],
   "source": [
    "arr = np.random.randn(7) * 10"
   ]
  },
  {
   "cell_type": "code",
   "execution_count": 197,
   "metadata": {
    "collapsed": false
   },
   "outputs": [
    {
     "data": {
      "text/plain": [
       "array([ 18.64747837,  16.57505724,   2.23666728,  -3.59997562,\n",
       "         7.46579976,   8.36415021,   0.9741839 ])"
      ]
     },
     "execution_count": 197,
     "metadata": {},
     "output_type": "execute_result"
    }
   ],
   "source": [
    "arr"
   ]
  },
  {
   "cell_type": "code",
   "execution_count": 198,
   "metadata": {
    "collapsed": false
   },
   "outputs": [
    {
     "data": {
      "text/plain": [
       "(array([ 0.64747837,  0.57505724,  0.23666728, -0.59997562,  0.46579976,\n",
       "         0.36415021,  0.9741839 ]),\n",
       " array([ 18.,  16.,   2.,  -3.,   7.,   8.,   0.]))"
      ]
     },
     "execution_count": 198,
     "metadata": {},
     "output_type": "execute_result"
    }
   ],
   "source": [
    "np.modf(arr) #몫과 나머지"
   ]
  },
  {
   "cell_type": "markdown",
   "metadata": {},
   "source": [
    "### 3) 배열 사용한 데이터 처리"
   ]
  },
  {
   "cell_type": "code",
   "execution_count": 201,
   "metadata": {
    "collapsed": true
   },
   "outputs": [],
   "source": [
    "points = np.arange(-5,5,0.01)  # -5포함 5안포함 총 1000개 데이터"
   ]
  },
  {
   "cell_type": "code",
   "execution_count": 212,
   "metadata": {
    "collapsed": true
   },
   "outputs": [],
   "source": [
    "aaa = np.arange(3)"
   ]
  },
  {
   "cell_type": "code",
   "execution_count": 217,
   "metadata": {
    "collapsed": true
   },
   "outputs": [],
   "source": [
    "bbb = np.arange(3,6)"
   ]
  },
  {
   "cell_type": "code",
   "execution_count": 213,
   "metadata": {
    "collapsed": false
   },
   "outputs": [
    {
     "data": {
      "text/plain": [
       "array([0, 1, 2])"
      ]
     },
     "execution_count": 213,
     "metadata": {},
     "output_type": "execute_result"
    }
   ],
   "source": [
    "aaa"
   ]
  },
  {
   "cell_type": "code",
   "execution_count": 218,
   "metadata": {
    "collapsed": false
   },
   "outputs": [
    {
     "data": {
      "text/plain": [
       "array([3, 4, 5])"
      ]
     },
     "execution_count": 218,
     "metadata": {},
     "output_type": "execute_result"
    }
   ],
   "source": [
    "bbb"
   ]
  },
  {
   "cell_type": "code",
   "execution_count": 214,
   "metadata": {
    "collapsed": true
   },
   "outputs": [],
   "source": [
    "ax, ay = np.meshgrid(aaa, aaa)"
   ]
  },
  {
   "cell_type": "code",
   "execution_count": 220,
   "metadata": {
    "collapsed": false
   },
   "outputs": [],
   "source": [
    "bx, by = np.meshgrid(bbb, bbb)"
   ]
  },
  {
   "cell_type": "code",
   "execution_count": 224,
   "metadata": {
    "collapsed": true
   },
   "outputs": [],
   "source": [
    "cx, cy = np.meshgrid(aaa, bbb)"
   ]
  },
  {
   "cell_type": "code",
   "execution_count": 231,
   "metadata": {
    "collapsed": false
   },
   "outputs": [
    {
     "name": "stdout",
     "output_type": "stream",
     "text": [
      "[[0 1 2]\n",
      " [0 1 2]\n",
      " [0 1 2]]\n",
      "\n",
      "[[0 0 0]\n",
      " [1 1 1]\n",
      " [2 2 2]]\n"
     ]
    }
   ],
   "source": [
    "print ax\n",
    "print\n",
    "print ay"
   ]
  },
  {
   "cell_type": "code",
   "execution_count": 232,
   "metadata": {
    "collapsed": false
   },
   "outputs": [
    {
     "name": "stdout",
     "output_type": "stream",
     "text": [
      "[[3 4 5]\n",
      " [3 4 5]\n",
      " [3 4 5]]\n",
      "\n",
      "[[3 3 3]\n",
      " [4 4 4]\n",
      " [5 5 5]]\n"
     ]
    }
   ],
   "source": [
    "print bx\n",
    "print\n",
    "print by"
   ]
  },
  {
   "cell_type": "code",
   "execution_count": 233,
   "metadata": {
    "collapsed": false,
    "scrolled": true
   },
   "outputs": [
    {
     "name": "stdout",
     "output_type": "stream",
     "text": [
      "[[0 1 2]\n",
      " [0 1 2]\n",
      " [0 1 2]]\n",
      "\n",
      "[[3 3 3]\n",
      " [4 4 4]\n",
      " [5 5 5]]\n"
     ]
    }
   ],
   "source": [
    "print cx\n",
    "print\n",
    "print cy"
   ]
  },
  {
   "cell_type": "code",
   "execution_count": 292,
   "metadata": {
    "collapsed": true
   },
   "outputs": [],
   "source": [
    "ddd = np.arange(3,7)"
   ]
  },
  {
   "cell_type": "code",
   "execution_count": 293,
   "metadata": {
    "collapsed": true
   },
   "outputs": [],
   "source": [
    "dx, dy = np.meshgrid(aaa, ddd)"
   ]
  },
  {
   "cell_type": "code",
   "execution_count": 294,
   "metadata": {
    "collapsed": false
   },
   "outputs": [
    {
     "name": "stdout",
     "output_type": "stream",
     "text": [
      "[[0 1 2]\n",
      " [0 1 2]\n",
      " [0 1 2]\n",
      " [0 1 2]]\n",
      "\n",
      "[[3 3 3]\n",
      " [4 4 4]\n",
      " [5 5 5]\n",
      " [6 6 6]]\n"
     ]
    }
   ],
   "source": [
    "print dx\n",
    "print\n",
    "print dy"
   ]
  },
  {
   "cell_type": "code",
   "execution_count": 202,
   "metadata": {
    "collapsed": false
   },
   "outputs": [
    {
     "data": {
      "text/plain": [
       "array([ -5.00000000e+00,  -4.99000000e+00,  -4.98000000e+00,\n",
       "        -4.97000000e+00,  -4.96000000e+00,  -4.95000000e+00,\n",
       "        -4.94000000e+00,  -4.93000000e+00,  -4.92000000e+00,\n",
       "        -4.91000000e+00,  -4.90000000e+00,  -4.89000000e+00,\n",
       "        -4.88000000e+00,  -4.87000000e+00,  -4.86000000e+00,\n",
       "        -4.85000000e+00,  -4.84000000e+00,  -4.83000000e+00,\n",
       "        -4.82000000e+00,  -4.81000000e+00,  -4.80000000e+00,\n",
       "        -4.79000000e+00,  -4.78000000e+00,  -4.77000000e+00,\n",
       "        -4.76000000e+00,  -4.75000000e+00,  -4.74000000e+00,\n",
       "        -4.73000000e+00,  -4.72000000e+00,  -4.71000000e+00,\n",
       "        -4.70000000e+00,  -4.69000000e+00,  -4.68000000e+00,\n",
       "        -4.67000000e+00,  -4.66000000e+00,  -4.65000000e+00,\n",
       "        -4.64000000e+00,  -4.63000000e+00,  -4.62000000e+00,\n",
       "        -4.61000000e+00,  -4.60000000e+00,  -4.59000000e+00,\n",
       "        -4.58000000e+00,  -4.57000000e+00,  -4.56000000e+00,\n",
       "        -4.55000000e+00,  -4.54000000e+00,  -4.53000000e+00,\n",
       "        -4.52000000e+00,  -4.51000000e+00,  -4.50000000e+00,\n",
       "        -4.49000000e+00,  -4.48000000e+00,  -4.47000000e+00,\n",
       "        -4.46000000e+00,  -4.45000000e+00,  -4.44000000e+00,\n",
       "        -4.43000000e+00,  -4.42000000e+00,  -4.41000000e+00,\n",
       "        -4.40000000e+00,  -4.39000000e+00,  -4.38000000e+00,\n",
       "        -4.37000000e+00,  -4.36000000e+00,  -4.35000000e+00,\n",
       "        -4.34000000e+00,  -4.33000000e+00,  -4.32000000e+00,\n",
       "        -4.31000000e+00,  -4.30000000e+00,  -4.29000000e+00,\n",
       "        -4.28000000e+00,  -4.27000000e+00,  -4.26000000e+00,\n",
       "        -4.25000000e+00,  -4.24000000e+00,  -4.23000000e+00,\n",
       "        -4.22000000e+00,  -4.21000000e+00,  -4.20000000e+00,\n",
       "        -4.19000000e+00,  -4.18000000e+00,  -4.17000000e+00,\n",
       "        -4.16000000e+00,  -4.15000000e+00,  -4.14000000e+00,\n",
       "        -4.13000000e+00,  -4.12000000e+00,  -4.11000000e+00,\n",
       "        -4.10000000e+00,  -4.09000000e+00,  -4.08000000e+00,\n",
       "        -4.07000000e+00,  -4.06000000e+00,  -4.05000000e+00,\n",
       "        -4.04000000e+00,  -4.03000000e+00,  -4.02000000e+00,\n",
       "        -4.01000000e+00,  -4.00000000e+00,  -3.99000000e+00,\n",
       "        -3.98000000e+00,  -3.97000000e+00,  -3.96000000e+00,\n",
       "        -3.95000000e+00,  -3.94000000e+00,  -3.93000000e+00,\n",
       "        -3.92000000e+00,  -3.91000000e+00,  -3.90000000e+00,\n",
       "        -3.89000000e+00,  -3.88000000e+00,  -3.87000000e+00,\n",
       "        -3.86000000e+00,  -3.85000000e+00,  -3.84000000e+00,\n",
       "        -3.83000000e+00,  -3.82000000e+00,  -3.81000000e+00,\n",
       "        -3.80000000e+00,  -3.79000000e+00,  -3.78000000e+00,\n",
       "        -3.77000000e+00,  -3.76000000e+00,  -3.75000000e+00,\n",
       "        -3.74000000e+00,  -3.73000000e+00,  -3.72000000e+00,\n",
       "        -3.71000000e+00,  -3.70000000e+00,  -3.69000000e+00,\n",
       "        -3.68000000e+00,  -3.67000000e+00,  -3.66000000e+00,\n",
       "        -3.65000000e+00,  -3.64000000e+00,  -3.63000000e+00,\n",
       "        -3.62000000e+00,  -3.61000000e+00,  -3.60000000e+00,\n",
       "        -3.59000000e+00,  -3.58000000e+00,  -3.57000000e+00,\n",
       "        -3.56000000e+00,  -3.55000000e+00,  -3.54000000e+00,\n",
       "        -3.53000000e+00,  -3.52000000e+00,  -3.51000000e+00,\n",
       "        -3.50000000e+00,  -3.49000000e+00,  -3.48000000e+00,\n",
       "        -3.47000000e+00,  -3.46000000e+00,  -3.45000000e+00,\n",
       "        -3.44000000e+00,  -3.43000000e+00,  -3.42000000e+00,\n",
       "        -3.41000000e+00,  -3.40000000e+00,  -3.39000000e+00,\n",
       "        -3.38000000e+00,  -3.37000000e+00,  -3.36000000e+00,\n",
       "        -3.35000000e+00,  -3.34000000e+00,  -3.33000000e+00,\n",
       "        -3.32000000e+00,  -3.31000000e+00,  -3.30000000e+00,\n",
       "        -3.29000000e+00,  -3.28000000e+00,  -3.27000000e+00,\n",
       "        -3.26000000e+00,  -3.25000000e+00,  -3.24000000e+00,\n",
       "        -3.23000000e+00,  -3.22000000e+00,  -3.21000000e+00,\n",
       "        -3.20000000e+00,  -3.19000000e+00,  -3.18000000e+00,\n",
       "        -3.17000000e+00,  -3.16000000e+00,  -3.15000000e+00,\n",
       "        -3.14000000e+00,  -3.13000000e+00,  -3.12000000e+00,\n",
       "        -3.11000000e+00,  -3.10000000e+00,  -3.09000000e+00,\n",
       "        -3.08000000e+00,  -3.07000000e+00,  -3.06000000e+00,\n",
       "        -3.05000000e+00,  -3.04000000e+00,  -3.03000000e+00,\n",
       "        -3.02000000e+00,  -3.01000000e+00,  -3.00000000e+00,\n",
       "        -2.99000000e+00,  -2.98000000e+00,  -2.97000000e+00,\n",
       "        -2.96000000e+00,  -2.95000000e+00,  -2.94000000e+00,\n",
       "        -2.93000000e+00,  -2.92000000e+00,  -2.91000000e+00,\n",
       "        -2.90000000e+00,  -2.89000000e+00,  -2.88000000e+00,\n",
       "        -2.87000000e+00,  -2.86000000e+00,  -2.85000000e+00,\n",
       "        -2.84000000e+00,  -2.83000000e+00,  -2.82000000e+00,\n",
       "        -2.81000000e+00,  -2.80000000e+00,  -2.79000000e+00,\n",
       "        -2.78000000e+00,  -2.77000000e+00,  -2.76000000e+00,\n",
       "        -2.75000000e+00,  -2.74000000e+00,  -2.73000000e+00,\n",
       "        -2.72000000e+00,  -2.71000000e+00,  -2.70000000e+00,\n",
       "        -2.69000000e+00,  -2.68000000e+00,  -2.67000000e+00,\n",
       "        -2.66000000e+00,  -2.65000000e+00,  -2.64000000e+00,\n",
       "        -2.63000000e+00,  -2.62000000e+00,  -2.61000000e+00,\n",
       "        -2.60000000e+00,  -2.59000000e+00,  -2.58000000e+00,\n",
       "        -2.57000000e+00,  -2.56000000e+00,  -2.55000000e+00,\n",
       "        -2.54000000e+00,  -2.53000000e+00,  -2.52000000e+00,\n",
       "        -2.51000000e+00,  -2.50000000e+00,  -2.49000000e+00,\n",
       "        -2.48000000e+00,  -2.47000000e+00,  -2.46000000e+00,\n",
       "        -2.45000000e+00,  -2.44000000e+00,  -2.43000000e+00,\n",
       "        -2.42000000e+00,  -2.41000000e+00,  -2.40000000e+00,\n",
       "        -2.39000000e+00,  -2.38000000e+00,  -2.37000000e+00,\n",
       "        -2.36000000e+00,  -2.35000000e+00,  -2.34000000e+00,\n",
       "        -2.33000000e+00,  -2.32000000e+00,  -2.31000000e+00,\n",
       "        -2.30000000e+00,  -2.29000000e+00,  -2.28000000e+00,\n",
       "        -2.27000000e+00,  -2.26000000e+00,  -2.25000000e+00,\n",
       "        -2.24000000e+00,  -2.23000000e+00,  -2.22000000e+00,\n",
       "        -2.21000000e+00,  -2.20000000e+00,  -2.19000000e+00,\n",
       "        -2.18000000e+00,  -2.17000000e+00,  -2.16000000e+00,\n",
       "        -2.15000000e+00,  -2.14000000e+00,  -2.13000000e+00,\n",
       "        -2.12000000e+00,  -2.11000000e+00,  -2.10000000e+00,\n",
       "        -2.09000000e+00,  -2.08000000e+00,  -2.07000000e+00,\n",
       "        -2.06000000e+00,  -2.05000000e+00,  -2.04000000e+00,\n",
       "        -2.03000000e+00,  -2.02000000e+00,  -2.01000000e+00,\n",
       "        -2.00000000e+00,  -1.99000000e+00,  -1.98000000e+00,\n",
       "        -1.97000000e+00,  -1.96000000e+00,  -1.95000000e+00,\n",
       "        -1.94000000e+00,  -1.93000000e+00,  -1.92000000e+00,\n",
       "        -1.91000000e+00,  -1.90000000e+00,  -1.89000000e+00,\n",
       "        -1.88000000e+00,  -1.87000000e+00,  -1.86000000e+00,\n",
       "        -1.85000000e+00,  -1.84000000e+00,  -1.83000000e+00,\n",
       "        -1.82000000e+00,  -1.81000000e+00,  -1.80000000e+00,\n",
       "        -1.79000000e+00,  -1.78000000e+00,  -1.77000000e+00,\n",
       "        -1.76000000e+00,  -1.75000000e+00,  -1.74000000e+00,\n",
       "        -1.73000000e+00,  -1.72000000e+00,  -1.71000000e+00,\n",
       "        -1.70000000e+00,  -1.69000000e+00,  -1.68000000e+00,\n",
       "        -1.67000000e+00,  -1.66000000e+00,  -1.65000000e+00,\n",
       "        -1.64000000e+00,  -1.63000000e+00,  -1.62000000e+00,\n",
       "        -1.61000000e+00,  -1.60000000e+00,  -1.59000000e+00,\n",
       "        -1.58000000e+00,  -1.57000000e+00,  -1.56000000e+00,\n",
       "        -1.55000000e+00,  -1.54000000e+00,  -1.53000000e+00,\n",
       "        -1.52000000e+00,  -1.51000000e+00,  -1.50000000e+00,\n",
       "        -1.49000000e+00,  -1.48000000e+00,  -1.47000000e+00,\n",
       "        -1.46000000e+00,  -1.45000000e+00,  -1.44000000e+00,\n",
       "        -1.43000000e+00,  -1.42000000e+00,  -1.41000000e+00,\n",
       "        -1.40000000e+00,  -1.39000000e+00,  -1.38000000e+00,\n",
       "        -1.37000000e+00,  -1.36000000e+00,  -1.35000000e+00,\n",
       "        -1.34000000e+00,  -1.33000000e+00,  -1.32000000e+00,\n",
       "        -1.31000000e+00,  -1.30000000e+00,  -1.29000000e+00,\n",
       "        -1.28000000e+00,  -1.27000000e+00,  -1.26000000e+00,\n",
       "        -1.25000000e+00,  -1.24000000e+00,  -1.23000000e+00,\n",
       "        -1.22000000e+00,  -1.21000000e+00,  -1.20000000e+00,\n",
       "        -1.19000000e+00,  -1.18000000e+00,  -1.17000000e+00,\n",
       "        -1.16000000e+00,  -1.15000000e+00,  -1.14000000e+00,\n",
       "        -1.13000000e+00,  -1.12000000e+00,  -1.11000000e+00,\n",
       "        -1.10000000e+00,  -1.09000000e+00,  -1.08000000e+00,\n",
       "        -1.07000000e+00,  -1.06000000e+00,  -1.05000000e+00,\n",
       "        -1.04000000e+00,  -1.03000000e+00,  -1.02000000e+00,\n",
       "        -1.01000000e+00,  -1.00000000e+00,  -9.90000000e-01,\n",
       "        -9.80000000e-01,  -9.70000000e-01,  -9.60000000e-01,\n",
       "        -9.50000000e-01,  -9.40000000e-01,  -9.30000000e-01,\n",
       "        -9.20000000e-01,  -9.10000000e-01,  -9.00000000e-01,\n",
       "        -8.90000000e-01,  -8.80000000e-01,  -8.70000000e-01,\n",
       "        -8.60000000e-01,  -8.50000000e-01,  -8.40000000e-01,\n",
       "        -8.30000000e-01,  -8.20000000e-01,  -8.10000000e-01,\n",
       "        -8.00000000e-01,  -7.90000000e-01,  -7.80000000e-01,\n",
       "        -7.70000000e-01,  -7.60000000e-01,  -7.50000000e-01,\n",
       "        -7.40000000e-01,  -7.30000000e-01,  -7.20000000e-01,\n",
       "        -7.10000000e-01,  -7.00000000e-01,  -6.90000000e-01,\n",
       "        -6.80000000e-01,  -6.70000000e-01,  -6.60000000e-01,\n",
       "        -6.50000000e-01,  -6.40000000e-01,  -6.30000000e-01,\n",
       "        -6.20000000e-01,  -6.10000000e-01,  -6.00000000e-01,\n",
       "        -5.90000000e-01,  -5.80000000e-01,  -5.70000000e-01,\n",
       "        -5.60000000e-01,  -5.50000000e-01,  -5.40000000e-01,\n",
       "        -5.30000000e-01,  -5.20000000e-01,  -5.10000000e-01,\n",
       "        -5.00000000e-01,  -4.90000000e-01,  -4.80000000e-01,\n",
       "        -4.70000000e-01,  -4.60000000e-01,  -4.50000000e-01,\n",
       "        -4.40000000e-01,  -4.30000000e-01,  -4.20000000e-01,\n",
       "        -4.10000000e-01,  -4.00000000e-01,  -3.90000000e-01,\n",
       "        -3.80000000e-01,  -3.70000000e-01,  -3.60000000e-01,\n",
       "        -3.50000000e-01,  -3.40000000e-01,  -3.30000000e-01,\n",
       "        -3.20000000e-01,  -3.10000000e-01,  -3.00000000e-01,\n",
       "        -2.90000000e-01,  -2.80000000e-01,  -2.70000000e-01,\n",
       "        -2.60000000e-01,  -2.50000000e-01,  -2.40000000e-01,\n",
       "        -2.30000000e-01,  -2.20000000e-01,  -2.10000000e-01,\n",
       "        -2.00000000e-01,  -1.90000000e-01,  -1.80000000e-01,\n",
       "        -1.70000000e-01,  -1.60000000e-01,  -1.50000000e-01,\n",
       "        -1.40000000e-01,  -1.30000000e-01,  -1.20000000e-01,\n",
       "        -1.10000000e-01,  -1.00000000e-01,  -9.00000000e-02,\n",
       "        -8.00000000e-02,  -7.00000000e-02,  -6.00000000e-02,\n",
       "        -5.00000000e-02,  -4.00000000e-02,  -3.00000000e-02,\n",
       "        -2.00000000e-02,  -1.00000000e-02,  -1.06581410e-13,\n",
       "         1.00000000e-02,   2.00000000e-02,   3.00000000e-02,\n",
       "         4.00000000e-02,   5.00000000e-02,   6.00000000e-02,\n",
       "         7.00000000e-02,   8.00000000e-02,   9.00000000e-02,\n",
       "         1.00000000e-01,   1.10000000e-01,   1.20000000e-01,\n",
       "         1.30000000e-01,   1.40000000e-01,   1.50000000e-01,\n",
       "         1.60000000e-01,   1.70000000e-01,   1.80000000e-01,\n",
       "         1.90000000e-01,   2.00000000e-01,   2.10000000e-01,\n",
       "         2.20000000e-01,   2.30000000e-01,   2.40000000e-01,\n",
       "         2.50000000e-01,   2.60000000e-01,   2.70000000e-01,\n",
       "         2.80000000e-01,   2.90000000e-01,   3.00000000e-01,\n",
       "         3.10000000e-01,   3.20000000e-01,   3.30000000e-01,\n",
       "         3.40000000e-01,   3.50000000e-01,   3.60000000e-01,\n",
       "         3.70000000e-01,   3.80000000e-01,   3.90000000e-01,\n",
       "         4.00000000e-01,   4.10000000e-01,   4.20000000e-01,\n",
       "         4.30000000e-01,   4.40000000e-01,   4.50000000e-01,\n",
       "         4.60000000e-01,   4.70000000e-01,   4.80000000e-01,\n",
       "         4.90000000e-01,   5.00000000e-01,   5.10000000e-01,\n",
       "         5.20000000e-01,   5.30000000e-01,   5.40000000e-01,\n",
       "         5.50000000e-01,   5.60000000e-01,   5.70000000e-01,\n",
       "         5.80000000e-01,   5.90000000e-01,   6.00000000e-01,\n",
       "         6.10000000e-01,   6.20000000e-01,   6.30000000e-01,\n",
       "         6.40000000e-01,   6.50000000e-01,   6.60000000e-01,\n",
       "         6.70000000e-01,   6.80000000e-01,   6.90000000e-01,\n",
       "         7.00000000e-01,   7.10000000e-01,   7.20000000e-01,\n",
       "         7.30000000e-01,   7.40000000e-01,   7.50000000e-01,\n",
       "         7.60000000e-01,   7.70000000e-01,   7.80000000e-01,\n",
       "         7.90000000e-01,   8.00000000e-01,   8.10000000e-01,\n",
       "         8.20000000e-01,   8.30000000e-01,   8.40000000e-01,\n",
       "         8.50000000e-01,   8.60000000e-01,   8.70000000e-01,\n",
       "         8.80000000e-01,   8.90000000e-01,   9.00000000e-01,\n",
       "         9.10000000e-01,   9.20000000e-01,   9.30000000e-01,\n",
       "         9.40000000e-01,   9.50000000e-01,   9.60000000e-01,\n",
       "         9.70000000e-01,   9.80000000e-01,   9.90000000e-01,\n",
       "         1.00000000e+00,   1.01000000e+00,   1.02000000e+00,\n",
       "         1.03000000e+00,   1.04000000e+00,   1.05000000e+00,\n",
       "         1.06000000e+00,   1.07000000e+00,   1.08000000e+00,\n",
       "         1.09000000e+00,   1.10000000e+00,   1.11000000e+00,\n",
       "         1.12000000e+00,   1.13000000e+00,   1.14000000e+00,\n",
       "         1.15000000e+00,   1.16000000e+00,   1.17000000e+00,\n",
       "         1.18000000e+00,   1.19000000e+00,   1.20000000e+00,\n",
       "         1.21000000e+00,   1.22000000e+00,   1.23000000e+00,\n",
       "         1.24000000e+00,   1.25000000e+00,   1.26000000e+00,\n",
       "         1.27000000e+00,   1.28000000e+00,   1.29000000e+00,\n",
       "         1.30000000e+00,   1.31000000e+00,   1.32000000e+00,\n",
       "         1.33000000e+00,   1.34000000e+00,   1.35000000e+00,\n",
       "         1.36000000e+00,   1.37000000e+00,   1.38000000e+00,\n",
       "         1.39000000e+00,   1.40000000e+00,   1.41000000e+00,\n",
       "         1.42000000e+00,   1.43000000e+00,   1.44000000e+00,\n",
       "         1.45000000e+00,   1.46000000e+00,   1.47000000e+00,\n",
       "         1.48000000e+00,   1.49000000e+00,   1.50000000e+00,\n",
       "         1.51000000e+00,   1.52000000e+00,   1.53000000e+00,\n",
       "         1.54000000e+00,   1.55000000e+00,   1.56000000e+00,\n",
       "         1.57000000e+00,   1.58000000e+00,   1.59000000e+00,\n",
       "         1.60000000e+00,   1.61000000e+00,   1.62000000e+00,\n",
       "         1.63000000e+00,   1.64000000e+00,   1.65000000e+00,\n",
       "         1.66000000e+00,   1.67000000e+00,   1.68000000e+00,\n",
       "         1.69000000e+00,   1.70000000e+00,   1.71000000e+00,\n",
       "         1.72000000e+00,   1.73000000e+00,   1.74000000e+00,\n",
       "         1.75000000e+00,   1.76000000e+00,   1.77000000e+00,\n",
       "         1.78000000e+00,   1.79000000e+00,   1.80000000e+00,\n",
       "         1.81000000e+00,   1.82000000e+00,   1.83000000e+00,\n",
       "         1.84000000e+00,   1.85000000e+00,   1.86000000e+00,\n",
       "         1.87000000e+00,   1.88000000e+00,   1.89000000e+00,\n",
       "         1.90000000e+00,   1.91000000e+00,   1.92000000e+00,\n",
       "         1.93000000e+00,   1.94000000e+00,   1.95000000e+00,\n",
       "         1.96000000e+00,   1.97000000e+00,   1.98000000e+00,\n",
       "         1.99000000e+00,   2.00000000e+00,   2.01000000e+00,\n",
       "         2.02000000e+00,   2.03000000e+00,   2.04000000e+00,\n",
       "         2.05000000e+00,   2.06000000e+00,   2.07000000e+00,\n",
       "         2.08000000e+00,   2.09000000e+00,   2.10000000e+00,\n",
       "         2.11000000e+00,   2.12000000e+00,   2.13000000e+00,\n",
       "         2.14000000e+00,   2.15000000e+00,   2.16000000e+00,\n",
       "         2.17000000e+00,   2.18000000e+00,   2.19000000e+00,\n",
       "         2.20000000e+00,   2.21000000e+00,   2.22000000e+00,\n",
       "         2.23000000e+00,   2.24000000e+00,   2.25000000e+00,\n",
       "         2.26000000e+00,   2.27000000e+00,   2.28000000e+00,\n",
       "         2.29000000e+00,   2.30000000e+00,   2.31000000e+00,\n",
       "         2.32000000e+00,   2.33000000e+00,   2.34000000e+00,\n",
       "         2.35000000e+00,   2.36000000e+00,   2.37000000e+00,\n",
       "         2.38000000e+00,   2.39000000e+00,   2.40000000e+00,\n",
       "         2.41000000e+00,   2.42000000e+00,   2.43000000e+00,\n",
       "         2.44000000e+00,   2.45000000e+00,   2.46000000e+00,\n",
       "         2.47000000e+00,   2.48000000e+00,   2.49000000e+00,\n",
       "         2.50000000e+00,   2.51000000e+00,   2.52000000e+00,\n",
       "         2.53000000e+00,   2.54000000e+00,   2.55000000e+00,\n",
       "         2.56000000e+00,   2.57000000e+00,   2.58000000e+00,\n",
       "         2.59000000e+00,   2.60000000e+00,   2.61000000e+00,\n",
       "         2.62000000e+00,   2.63000000e+00,   2.64000000e+00,\n",
       "         2.65000000e+00,   2.66000000e+00,   2.67000000e+00,\n",
       "         2.68000000e+00,   2.69000000e+00,   2.70000000e+00,\n",
       "         2.71000000e+00,   2.72000000e+00,   2.73000000e+00,\n",
       "         2.74000000e+00,   2.75000000e+00,   2.76000000e+00,\n",
       "         2.77000000e+00,   2.78000000e+00,   2.79000000e+00,\n",
       "         2.80000000e+00,   2.81000000e+00,   2.82000000e+00,\n",
       "         2.83000000e+00,   2.84000000e+00,   2.85000000e+00,\n",
       "         2.86000000e+00,   2.87000000e+00,   2.88000000e+00,\n",
       "         2.89000000e+00,   2.90000000e+00,   2.91000000e+00,\n",
       "         2.92000000e+00,   2.93000000e+00,   2.94000000e+00,\n",
       "         2.95000000e+00,   2.96000000e+00,   2.97000000e+00,\n",
       "         2.98000000e+00,   2.99000000e+00,   3.00000000e+00,\n",
       "         3.01000000e+00,   3.02000000e+00,   3.03000000e+00,\n",
       "         3.04000000e+00,   3.05000000e+00,   3.06000000e+00,\n",
       "         3.07000000e+00,   3.08000000e+00,   3.09000000e+00,\n",
       "         3.10000000e+00,   3.11000000e+00,   3.12000000e+00,\n",
       "         3.13000000e+00,   3.14000000e+00,   3.15000000e+00,\n",
       "         3.16000000e+00,   3.17000000e+00,   3.18000000e+00,\n",
       "         3.19000000e+00,   3.20000000e+00,   3.21000000e+00,\n",
       "         3.22000000e+00,   3.23000000e+00,   3.24000000e+00,\n",
       "         3.25000000e+00,   3.26000000e+00,   3.27000000e+00,\n",
       "         3.28000000e+00,   3.29000000e+00,   3.30000000e+00,\n",
       "         3.31000000e+00,   3.32000000e+00,   3.33000000e+00,\n",
       "         3.34000000e+00,   3.35000000e+00,   3.36000000e+00,\n",
       "         3.37000000e+00,   3.38000000e+00,   3.39000000e+00,\n",
       "         3.40000000e+00,   3.41000000e+00,   3.42000000e+00,\n",
       "         3.43000000e+00,   3.44000000e+00,   3.45000000e+00,\n",
       "         3.46000000e+00,   3.47000000e+00,   3.48000000e+00,\n",
       "         3.49000000e+00,   3.50000000e+00,   3.51000000e+00,\n",
       "         3.52000000e+00,   3.53000000e+00,   3.54000000e+00,\n",
       "         3.55000000e+00,   3.56000000e+00,   3.57000000e+00,\n",
       "         3.58000000e+00,   3.59000000e+00,   3.60000000e+00,\n",
       "         3.61000000e+00,   3.62000000e+00,   3.63000000e+00,\n",
       "         3.64000000e+00,   3.65000000e+00,   3.66000000e+00,\n",
       "         3.67000000e+00,   3.68000000e+00,   3.69000000e+00,\n",
       "         3.70000000e+00,   3.71000000e+00,   3.72000000e+00,\n",
       "         3.73000000e+00,   3.74000000e+00,   3.75000000e+00,\n",
       "         3.76000000e+00,   3.77000000e+00,   3.78000000e+00,\n",
       "         3.79000000e+00,   3.80000000e+00,   3.81000000e+00,\n",
       "         3.82000000e+00,   3.83000000e+00,   3.84000000e+00,\n",
       "         3.85000000e+00,   3.86000000e+00,   3.87000000e+00,\n",
       "         3.88000000e+00,   3.89000000e+00,   3.90000000e+00,\n",
       "         3.91000000e+00,   3.92000000e+00,   3.93000000e+00,\n",
       "         3.94000000e+00,   3.95000000e+00,   3.96000000e+00,\n",
       "         3.97000000e+00,   3.98000000e+00,   3.99000000e+00,\n",
       "         4.00000000e+00,   4.01000000e+00,   4.02000000e+00,\n",
       "         4.03000000e+00,   4.04000000e+00,   4.05000000e+00,\n",
       "         4.06000000e+00,   4.07000000e+00,   4.08000000e+00,\n",
       "         4.09000000e+00,   4.10000000e+00,   4.11000000e+00,\n",
       "         4.12000000e+00,   4.13000000e+00,   4.14000000e+00,\n",
       "         4.15000000e+00,   4.16000000e+00,   4.17000000e+00,\n",
       "         4.18000000e+00,   4.19000000e+00,   4.20000000e+00,\n",
       "         4.21000000e+00,   4.22000000e+00,   4.23000000e+00,\n",
       "         4.24000000e+00,   4.25000000e+00,   4.26000000e+00,\n",
       "         4.27000000e+00,   4.28000000e+00,   4.29000000e+00,\n",
       "         4.30000000e+00,   4.31000000e+00,   4.32000000e+00,\n",
       "         4.33000000e+00,   4.34000000e+00,   4.35000000e+00,\n",
       "         4.36000000e+00,   4.37000000e+00,   4.38000000e+00,\n",
       "         4.39000000e+00,   4.40000000e+00,   4.41000000e+00,\n",
       "         4.42000000e+00,   4.43000000e+00,   4.44000000e+00,\n",
       "         4.45000000e+00,   4.46000000e+00,   4.47000000e+00,\n",
       "         4.48000000e+00,   4.49000000e+00,   4.50000000e+00,\n",
       "         4.51000000e+00,   4.52000000e+00,   4.53000000e+00,\n",
       "         4.54000000e+00,   4.55000000e+00,   4.56000000e+00,\n",
       "         4.57000000e+00,   4.58000000e+00,   4.59000000e+00,\n",
       "         4.60000000e+00,   4.61000000e+00,   4.62000000e+00,\n",
       "         4.63000000e+00,   4.64000000e+00,   4.65000000e+00,\n",
       "         4.66000000e+00,   4.67000000e+00,   4.68000000e+00,\n",
       "         4.69000000e+00,   4.70000000e+00,   4.71000000e+00,\n",
       "         4.72000000e+00,   4.73000000e+00,   4.74000000e+00,\n",
       "         4.75000000e+00,   4.76000000e+00,   4.77000000e+00,\n",
       "         4.78000000e+00,   4.79000000e+00,   4.80000000e+00,\n",
       "         4.81000000e+00,   4.82000000e+00,   4.83000000e+00,\n",
       "         4.84000000e+00,   4.85000000e+00,   4.86000000e+00,\n",
       "         4.87000000e+00,   4.88000000e+00,   4.89000000e+00,\n",
       "         4.90000000e+00,   4.91000000e+00,   4.92000000e+00,\n",
       "         4.93000000e+00,   4.94000000e+00,   4.95000000e+00,\n",
       "         4.96000000e+00,   4.97000000e+00,   4.98000000e+00,\n",
       "         4.99000000e+00])"
      ]
     },
     "execution_count": 202,
     "metadata": {},
     "output_type": "execute_result"
    }
   ],
   "source": [
    "points"
   ]
  },
  {
   "cell_type": "code",
   "execution_count": 203,
   "metadata": {
    "collapsed": true
   },
   "outputs": [],
   "source": [
    "xs, ys = np.meshgrid(points, points)   \n",
    "#meshgrid 함수로 행단위와 열단위로 각각 해당 배열을 정방 행렬로 선언"
   ]
  },
  {
   "cell_type": "code",
   "execution_count": 205,
   "metadata": {
    "collapsed": false,
    "scrolled": false
   },
   "outputs": [
    {
     "data": {
      "text/plain": [
       "array([[-5.  , -4.99, -4.98, ...,  4.97,  4.98,  4.99],\n",
       "       [-5.  , -4.99, -4.98, ...,  4.97,  4.98,  4.99],\n",
       "       [-5.  , -4.99, -4.98, ...,  4.97,  4.98,  4.99],\n",
       "       ..., \n",
       "       [-5.  , -4.99, -4.98, ...,  4.97,  4.98,  4.99],\n",
       "       [-5.  , -4.99, -4.98, ...,  4.97,  4.98,  4.99],\n",
       "       [-5.  , -4.99, -4.98, ...,  4.97,  4.98,  4.99]])"
      ]
     },
     "execution_count": 205,
     "metadata": {},
     "output_type": "execute_result"
    }
   ],
   "source": [
    "xs"
   ]
  },
  {
   "cell_type": "code",
   "execution_count": 211,
   "metadata": {
    "collapsed": false
   },
   "outputs": [
    {
     "data": {
      "text/plain": [
       "(1000L, 1000L)"
      ]
     },
     "execution_count": 211,
     "metadata": {},
     "output_type": "execute_result"
    }
   ],
   "source": [
    "xs.shape"
   ]
  },
  {
   "cell_type": "code",
   "execution_count": 206,
   "metadata": {
    "collapsed": false
   },
   "outputs": [
    {
     "data": {
      "text/plain": [
       "array([[-5.  , -5.  , -5.  , ..., -5.  , -5.  , -5.  ],\n",
       "       [-4.99, -4.99, -4.99, ..., -4.99, -4.99, -4.99],\n",
       "       [-4.98, -4.98, -4.98, ..., -4.98, -4.98, -4.98],\n",
       "       ..., \n",
       "       [ 4.97,  4.97,  4.97, ...,  4.97,  4.97,  4.97],\n",
       "       [ 4.98,  4.98,  4.98, ...,  4.98,  4.98,  4.98],\n",
       "       [ 4.99,  4.99,  4.99, ...,  4.99,  4.99,  4.99]])"
      ]
     },
     "execution_count": 206,
     "metadata": {},
     "output_type": "execute_result"
    }
   ],
   "source": [
    "ys"
   ]
  },
  {
   "cell_type": "code",
   "execution_count": 207,
   "metadata": {
    "collapsed": true
   },
   "outputs": [],
   "source": [
    "import matplotlib.pyplot as plt"
   ]
  },
  {
   "cell_type": "code",
   "execution_count": 208,
   "metadata": {
    "collapsed": false
   },
   "outputs": [
    {
     "data": {
      "text/plain": [
       "array([[ 25.    ,  24.9001,  24.8004, ...,  24.7009,  24.8004,  24.9001],\n",
       "       [ 25.    ,  24.9001,  24.8004, ...,  24.7009,  24.8004,  24.9001],\n",
       "       [ 25.    ,  24.9001,  24.8004, ...,  24.7009,  24.8004,  24.9001],\n",
       "       ..., \n",
       "       [ 25.    ,  24.9001,  24.8004, ...,  24.7009,  24.8004,  24.9001],\n",
       "       [ 25.    ,  24.9001,  24.8004, ...,  24.7009,  24.8004,  24.9001],\n",
       "       [ 25.    ,  24.9001,  24.8004, ...,  24.7009,  24.8004,  24.9001]])"
      ]
     },
     "execution_count": 208,
     "metadata": {},
     "output_type": "execute_result"
    }
   ],
   "source": [
    "xs ** 2"
   ]
  },
  {
   "cell_type": "code",
   "execution_count": 209,
   "metadata": {
    "collapsed": true
   },
   "outputs": [],
   "source": [
    "z = np.sqrt(xs ** 2 + ys ** 2)  \n",
    "#z의 값은 xs와 ys의 제곱의 합의 루트를 취한 값이 들어가게 된다."
   ]
  },
  {
   "cell_type": "code",
   "execution_count": 301,
   "metadata": {
    "collapsed": false
   },
   "outputs": [
    {
     "data": {
      "text/plain": [
       "array([[ 7.07106781,  7.06400028,  7.05693985, ...,  7.04988652,\n",
       "         7.05693985,  7.06400028],\n",
       "       [ 7.06400028,  7.05692568,  7.04985815, ...,  7.04279774,\n",
       "         7.04985815,  7.05692568],\n",
       "       [ 7.05693985,  7.04985815,  7.04278354, ...,  7.03571603,\n",
       "         7.04278354,  7.04985815],\n",
       "       ..., \n",
       "       [ 7.04988652,  7.04279774,  7.03571603, ...,  7.0286414 ,\n",
       "         7.03571603,  7.04279774],\n",
       "       [ 7.05693985,  7.04985815,  7.04278354, ...,  7.03571603,\n",
       "         7.04278354,  7.04985815],\n",
       "       [ 7.06400028,  7.05692568,  7.04985815, ...,  7.04279774,\n",
       "         7.04985815,  7.05692568]])"
      ]
     },
     "execution_count": 301,
     "metadata": {},
     "output_type": "execute_result"
    }
   ],
   "source": [
    "z  #(0,0) 으로부터 거리"
   ]
  },
  {
   "cell_type": "code",
   "execution_count": 295,
   "metadata": {
    "collapsed": true
   },
   "outputs": [],
   "source": [
    "%matplotlib inline"
   ]
  },
  {
   "cell_type": "code",
   "execution_count": 296,
   "metadata": {
    "collapsed": false,
    "scrolled": false
   },
   "outputs": [
    {
     "data": {
      "text/plain": [
       "<matplotlib.text.Text at 0xbc8c5c0>"
      ]
     },
     "execution_count": 296,
     "metadata": {},
     "output_type": "execute_result"
    },
    {
     "data": {
      "image/png": "[encoded data removed]",
      "text/plain": [
       "<matplotlib.figure.Figure at 0xbb7b390>"
      ]
     },
     "metadata": {},
     "output_type": "display_data"
    }
   ],
   "source": [
    "plt.imshow(z, cmap=plt.cm.gray); plt.colorbar()\n",
    "plt.title(\"image plot of $\\sqrt{x^2 + y^2}$ for a grid of values\")"
   ]
  },
  {
   "cell_type": "code",
   "execution_count": 320,
   "metadata": {
    "collapsed": true
   },
   "outputs": [],
   "source": [
    "plt.imshow?"
   ]
  },
  {
   "cell_type": "code",
   "execution_count": 308,
   "metadata": {
    "collapsed": false
   },
   "outputs": [
    {
     "data": {
      "text/plain": [
       "<matplotlib.text.Text at 0xc639978>"
      ]
     },
     "execution_count": 308,
     "metadata": {},
     "output_type": "execute_result"
    },
    {
     "data": {
      "image/png": "[encoded data removed]",
      "text/plain": [
       "<matplotlib.figure.Figure at 0xc5a3710>"
      ]
     },
     "metadata": {},
     "output_type": "display_data"
    }
   ],
   "source": [
    "plt.imshow(z); plt.colorbar()\n",
    "plt.title(\"image plot of $\\sqrt{x^2 + y^2}$ for a grid of values\")"
   ]
  },
  {
   "cell_type": "markdown",
   "metadata": {},
   "source": [
    "###  1) 배열연산으로 조건절 표현하기"
   ]
  },
  {
   "cell_type": "code",
   "execution_count": 297,
   "metadata": {
    "collapsed": true
   },
   "outputs": [],
   "source": [
    "xarr = np.array([1.1, 1.2, 1.3, 1.4, 1.5])"
   ]
  },
  {
   "cell_type": "code",
   "execution_count": 298,
   "metadata": {
    "collapsed": true
   },
   "outputs": [],
   "source": [
    "yarr = np.array([2.1, 2.2, 2.3, 2.4, 2.5])"
   ]
  },
  {
   "cell_type": "code",
   "execution_count": 299,
   "metadata": {
    "collapsed": true
   },
   "outputs": [],
   "source": [
    "cond = np.array([True, False, True, True, False])"
   ]
  },
  {
   "cell_type": "code",
   "execution_count": 300,
   "metadata": {
    "collapsed": true
   },
   "outputs": [],
   "source": [
    "result = [(x if c else y) for x, y, c in zip(xarr, yarr, cond)]     \n",
    "#zip함수는 다음과 같이 각각을 아래의 예시처럼 표현하여 나타내 준다.\n",
    "#cond가 True이면 xarr의 값을 False이면 yarr의 값이 나오도록 한다."
   ]
  },
  {
   "cell_type": "code",
   "execution_count": 302,
   "metadata": {
    "collapsed": false
   },
   "outputs": [
    {
     "data": {
      "text/plain": [
       "[1.1000000000000001, 2.2000000000000002, 1.3, 1.3999999999999999, 2.5]"
      ]
     },
     "execution_count": 302,
     "metadata": {},
     "output_type": "execute_result"
    }
   ],
   "source": [
    "result"
   ]
  },
  {
   "cell_type": "code",
   "execution_count": 322,
   "metadata": {
    "collapsed": false
   },
   "outputs": [
    {
     "name": "stdout",
     "output_type": "stream",
     "text": [
      "[(1, 'a'), (2, 'b'), (3, 'c'), (4, 'd'), (5, 'e')]\n",
      "1 a\n",
      "2 b\n",
      "3 c\n",
      "4 d\n",
      "5 e\n"
     ]
    }
   ],
   "source": [
    "a=[1,2,3,4,5]\n",
    "b=['a','b','c','d','e']\n",
    "\n",
    "print zip(a,b)\n",
    "for x,y in zip(a,b):\n",
    "    print x,y"
   ]
  },
  {
   "cell_type": "markdown",
   "metadata": {},
   "source": [
    "- 이방법은 순수 파이썬으로 수행 되기 대문에 큰 배열을 처리하는 하지 못한다. (다차원 배열의 경우 사용하기 힘들다)"
   ]
  },
  {
   "cell_type": "code",
   "execution_count": 304,
   "metadata": {
    "collapsed": true
   },
   "outputs": [],
   "source": [
    "result = np.where(cond, xarr, yarr)"
   ]
  },
  {
   "cell_type": "code",
   "execution_count": 305,
   "metadata": {
    "collapsed": false
   },
   "outputs": [
    {
     "data": {
      "text/plain": [
       "array([ 1.1,  2.2,  1.3,  1.4,  2.5])"
      ]
     },
     "execution_count": 305,
     "metadata": {},
     "output_type": "execute_result"
    }
   ],
   "source": [
    "result"
   ]
  },
  {
   "cell_type": "code",
   "execution_count": 306,
   "metadata": {
    "collapsed": true
   },
   "outputs": [],
   "source": [
    "arr = np.random.randn(4,4)"
   ]
  },
  {
   "cell_type": "code",
   "execution_count": 309,
   "metadata": {
    "collapsed": false
   },
   "outputs": [
    {
     "data": {
      "text/plain": [
       "array([[ 1.10103195,  0.26129119,  0.42266319,  0.52478085],\n",
       "       [ 0.57804175, -1.01656514, -1.46417455,  0.71050599],\n",
       "       [ 0.74633718, -0.61302841,  1.64509715, -0.48312362],\n",
       "       [ 0.48754395, -0.69029153, -0.04649583, -0.57696496]])"
      ]
     },
     "execution_count": 309,
     "metadata": {},
     "output_type": "execute_result"
    }
   ],
   "source": [
    "arr"
   ]
  },
  {
   "cell_type": "code",
   "execution_count": 310,
   "metadata": {
    "collapsed": false
   },
   "outputs": [
    {
     "data": {
      "text/plain": [
       "array([[ 2,  2,  2,  2],\n",
       "       [ 2, -2, -2,  2],\n",
       "       [ 2, -2,  2, -2],\n",
       "       [ 2, -2, -2, -2]])"
      ]
     },
     "execution_count": 310,
     "metadata": {},
     "output_type": "execute_result"
    }
   ],
   "source": [
    "np.where(arr > 0, 2, -2)   \n",
    "#arr의 값이 0보다 크면 2 작으면 -2를 대입"
   ]
  },
  {
   "cell_type": "code",
   "execution_count": 323,
   "metadata": {
    "collapsed": false
   },
   "outputs": [
    {
     "data": {
      "text/plain": [
       "array([[ 2.        ,  2.        , -0.44113937,  2.        ],\n",
       "       [-1.56226281, -1.27042042, -2.02953675,  2.        ],\n",
       "       [-0.92200416,  2.        , -0.97200303, -0.24157879],\n",
       "       [ 2.        ,  2.        ,  2.        , -0.94290311],\n",
       "       [ 2.        , -0.33020907,  2.        ,  2.        ]])"
      ]
     },
     "execution_count": 323,
     "metadata": {},
     "output_type": "execute_result"
    }
   ],
   "source": [
    "np.where(arr > 0, 2, arr)   \n",
    "#arr의 값이 0보다 크면 2 그렇지 않으면 그대로의 값을 넣는다"
   ]
  },
  {
   "cell_type": "markdown",
   "metadata": {},
   "source": [
    "where를 사용할 때 조금만 더 궁리를 하면 좀 더 복잡한 연산을 수행할 수 있다"
   ]
  },
  {
   "cell_type": "code",
   "execution_count": 312,
   "metadata": {
    "collapsed": true
   },
   "outputs": [],
   "source": [
    "cond1 = np.array([True, False, True, False])\n",
    "cond2 = np.array([False, False, True, False])"
   ]
  },
  {
   "cell_type": "code",
   "execution_count": 313,
   "metadata": {
    "collapsed": true
   },
   "outputs": [],
   "source": [
    "result = []\n",
    "for i in range(4):\n",
    "    if cond1[i] and cond2[i]:\n",
    "        result.append(0)\n",
    "    elif cond1[i]:\n",
    "        result.append(1)\n",
    "    elif cond2[i]:\n",
    "        result.append(2)\n",
    "    else:\n",
    "        result.append(3)"
   ]
  },
  {
   "cell_type": "code",
   "execution_count": 314,
   "metadata": {
    "collapsed": false
   },
   "outputs": [
    {
     "data": {
      "text/plain": [
       "[1, 3, 0, 3]"
      ]
     },
     "execution_count": 314,
     "metadata": {},
     "output_type": "execute_result"
    }
   ],
   "source": [
    "result"
   ]
  },
  {
   "cell_type": "code",
   "execution_count": 331,
   "metadata": {
    "collapsed": false
   },
   "outputs": [
    {
     "data": {
      "text/plain": [
       "array([1, 3, 0, 3])"
      ]
     },
     "execution_count": 331,
     "metadata": {},
     "output_type": "execute_result"
    }
   ],
   "source": [
    "np.where(cond1 & cond2, 0, np.where(cond1, 1, np.where(cond2, 2, 3)))  \n",
    "#위와 같은 연산을 다음과 같이 where로 간단히 표현이 가능"
   ]
  },
  {
   "cell_type": "code",
   "execution_count": 332,
   "metadata": {
    "collapsed": true
   },
   "outputs": [],
   "source": [
    "np.where?"
   ]
  },
  {
   "cell_type": "code",
   "execution_count": 333,
   "metadata": {
    "collapsed": false
   },
   "outputs": [
    {
     "name": "stdout",
     "output_type": "stream",
     "text": [
      "1\n"
     ]
    }
   ],
   "source": [
    "print 1 and 1"
   ]
  },
  {
   "cell_type": "code",
   "execution_count": 334,
   "metadata": {
    "collapsed": false
   },
   "outputs": [
    {
     "name": "stdout",
     "output_type": "stream",
     "text": [
      "0\n"
     ]
    }
   ],
   "source": [
    "print 0 and 0 "
   ]
  },
  {
   "cell_type": "code",
   "execution_count": 335,
   "metadata": {
    "collapsed": false,
    "scrolled": true
   },
   "outputs": [
    {
     "name": "stdout",
     "output_type": "stream",
     "text": [
      "10\n"
     ]
    }
   ],
   "source": [
    "print 10 or 0"
   ]
  },
  {
   "cell_type": "code",
   "execution_count": 336,
   "metadata": {
    "collapsed": false
   },
   "outputs": [
    {
     "name": "stdout",
     "output_type": "stream",
     "text": [
      "1\n"
     ]
    }
   ],
   "source": [
    "print 1 & 1"
   ]
  },
  {
   "cell_type": "code",
   "execution_count": 337,
   "metadata": {
    "collapsed": false
   },
   "outputs": [
    {
     "name": "stdout",
     "output_type": "stream",
     "text": [
      "0\n"
     ]
    }
   ],
   "source": [
    "print 10 & 1"
   ]
  },
  {
   "cell_type": "code",
   "execution_count": 316,
   "metadata": {
    "collapsed": true
   },
   "outputs": [],
   "source": [
    "result = 1 * (cond1 & cond2) + 2 * (cond2 & -cond1) + 3 * -(cond1 | cond2)"
   ]
  },
  {
   "cell_type": "code",
   "execution_count": 329,
   "metadata": {
    "collapsed": false
   },
   "outputs": [
    {
     "ename": "ValueError",
     "evalue": "The truth value of an array with more than one element is ambiguous. Use a.any() or a.all()",
     "output_type": "error",
     "traceback": [
      "\u001b[1;31m---------------------------------------------------------------------------\u001b[0m",
      "\u001b[1;31mValueError\u001b[0m                                Traceback (most recent call last)",
      "\u001b[1;32m<ipython-input-329-fd9172e71814>\u001b[0m in \u001b[0;36m<module>\u001b[1;34m()\u001b[0m\n\u001b[1;32m----> 1\u001b[1;33m \u001b[0mresult\u001b[0m \u001b[1;33m=\u001b[0m \u001b[1;36m1\u001b[0m \u001b[1;33m*\u001b[0m \u001b[1;33m(\u001b[0m\u001b[0mcond1\u001b[0m \u001b[1;32mand\u001b[0m \u001b[0mcond2\u001b[0m\u001b[1;33m)\u001b[0m \u001b[1;33m+\u001b[0m \u001b[1;36m2\u001b[0m \u001b[1;33m*\u001b[0m \u001b[1;33m(\u001b[0m\u001b[0mcond2\u001b[0m \u001b[1;33m&\u001b[0m \u001b[1;33m-\u001b[0m\u001b[0mcond1\u001b[0m\u001b[1;33m)\u001b[0m \u001b[1;33m+\u001b[0m \u001b[1;36m3\u001b[0m \u001b[1;33m*\u001b[0m \u001b[1;33m-\u001b[0m\u001b[1;33m(\u001b[0m\u001b[0mcond1\u001b[0m \u001b[1;33m|\u001b[0m \u001b[0mcond2\u001b[0m\u001b[1;33m)\u001b[0m\u001b[1;33m\u001b[0m\u001b[0m\n\u001b[0m",
      "\u001b[1;31mValueError\u001b[0m: The truth value of an array with more than one element is ambiguous. Use a.any() or a.all()"
     ]
    }
   ],
   "source": [
    "result = 1 * (cond1 and cond2) + 2 * (cond2 & -cond1) + 3 * -(cond1 | cond2)"
   ]
  },
  {
   "cell_type": "code",
   "execution_count": 317,
   "metadata": {
    "collapsed": false
   },
   "outputs": [
    {
     "data": {
      "text/plain": [
       "array([0, 3, 1, 3])"
      ]
     },
     "execution_count": 317,
     "metadata": {},
     "output_type": "execute_result"
    }
   ],
   "source": [
    "result"
   ]
  },
  {
   "cell_type": "markdown",
   "metadata": {},
   "source": [
    "2) 수학 메서드와 통계 메서드"
   ]
  },
  {
   "cell_type": "code",
   "execution_count": 364,
   "metadata": {
    "collapsed": true
   },
   "outputs": [],
   "source": [
    "arr = np.random.randn(5,4)  #정규분포화된 데이터를 보여준다"
   ]
  },
  {
   "cell_type": "code",
   "execution_count": 325,
   "metadata": {
    "collapsed": false
   },
   "outputs": [
    {
     "data": {
      "text/plain": [
       "array([[ 0.08498096,  0.37136987, -2.2280631 ,  1.63011679],\n",
       "       [ 0.79538557, -0.25472696,  0.50703943,  1.6202135 ],\n",
       "       [ 2.2184833 , -1.35697111,  0.02240479,  0.48630058],\n",
       "       [ 1.15181332, -0.18242165,  0.04816465, -0.71393641],\n",
       "       [ 0.71899638,  0.49997794, -0.45016517,  0.33035852]])"
      ]
     },
     "execution_count": 325,
     "metadata": {},
     "output_type": "execute_result"
    }
   ],
   "source": [
    "arr"
   ]
  },
  {
   "cell_type": "code",
   "execution_count": 327,
   "metadata": {
    "collapsed": false
   },
   "outputs": [
    {
     "data": {
      "text/plain": [
       "0.26496605927593919"
      ]
     },
     "execution_count": 327,
     "metadata": {},
     "output_type": "execute_result"
    }
   ],
   "source": [
    "arr.mean()  #arr의 평균"
   ]
  },
  {
   "cell_type": "code",
   "execution_count": 328,
   "metadata": {
    "collapsed": false
   },
   "outputs": [
    {
     "data": {
      "text/plain": [
       "0.26496605927593919"
      ]
     },
     "execution_count": 328,
     "metadata": {},
     "output_type": "execute_result"
    }
   ],
   "source": [
    "np.mean(arr)"
   ]
  },
  {
   "cell_type": "code",
   "execution_count": 338,
   "metadata": {
    "collapsed": false
   },
   "outputs": [
    {
     "data": {
      "text/plain": [
       "5.2993211855187834"
      ]
     },
     "execution_count": 338,
     "metadata": {},
     "output_type": "execute_result"
    }
   ],
   "source": [
    "arr.sum()"
   ]
  },
  {
   "cell_type": "code",
   "execution_count": 339,
   "metadata": {
    "collapsed": false
   },
   "outputs": [
    {
     "data": {
      "text/plain": [
       "array([-0.03539887,  0.66697789,  0.34255439,  0.07590498,  0.27479191])"
      ]
     },
     "execution_count": 339,
     "metadata": {},
     "output_type": "execute_result"
    }
   ],
   "source": [
    "arr.mean(axis=1)"
   ]
  },
  {
   "cell_type": "code",
   "execution_count": 340,
   "metadata": {
    "collapsed": false
   },
   "outputs": [
    {
     "data": {
      "text/plain": [
       "array([ 4.96965952, -0.92277191, -2.1006194 ,  3.35305298])"
      ]
     },
     "execution_count": 340,
     "metadata": {},
     "output_type": "execute_result"
    }
   ],
   "source": [
    "arr.sum(0)"
   ]
  },
  {
   "cell_type": "markdown",
   "metadata": {},
   "source": [
    "cusum과 cumprod 메서드는 중간 계산 값을 담고 있는 배열을 반환한다."
   ]
  },
  {
   "cell_type": "code",
   "execution_count": 366,
   "metadata": {
    "collapsed": true
   },
   "outputs": [],
   "source": [
    "arr = np.array([[0,1,2], [3,4,5], [6,7,8]])"
   ]
  },
  {
   "cell_type": "code",
   "execution_count": 367,
   "metadata": {
    "collapsed": false
   },
   "outputs": [
    {
     "data": {
      "text/plain": [
       "array([[0, 1, 2],\n",
       "       [3, 4, 5],\n",
       "       [6, 7, 8]])"
      ]
     },
     "execution_count": 367,
     "metadata": {},
     "output_type": "execute_result"
    }
   ],
   "source": [
    "arr"
   ]
  },
  {
   "cell_type": "code",
   "execution_count": 342,
   "metadata": {
    "collapsed": false,
    "scrolled": false
   },
   "outputs": [
    {
     "data": {
      "text/plain": [
       "array([[ 0,  1,  2],\n",
       "       [ 3,  5,  7],\n",
       "       [ 9, 12, 15]])"
      ]
     },
     "execution_count": 342,
     "metadata": {},
     "output_type": "execute_result"
    }
   ],
   "source": [
    "arr.cumsum(0)"
   ]
  },
  {
   "cell_type": "code",
   "execution_count": 369,
   "metadata": {
    "collapsed": false
   },
   "outputs": [
    {
     "data": {
      "text/plain": [
       "array([[ 0,  1,  3],\n",
       "       [ 3,  7, 12],\n",
       "       [ 6, 13, 21]])"
      ]
     },
     "execution_count": 369,
     "metadata": {},
     "output_type": "execute_result"
    }
   ],
   "source": [
    "arr.cumsum(1)"
   ]
  },
  {
   "cell_type": "code",
   "execution_count": 368,
   "metadata": {
    "collapsed": false
   },
   "outputs": [
    {
     "data": {
      "text/plain": [
       "array([ 0,  1,  3,  6, 10, 15, 21, 28, 36])"
      ]
     },
     "execution_count": 368,
     "metadata": {},
     "output_type": "execute_result"
    }
   ],
   "source": [
    "arr.cumsum()"
   ]
  },
  {
   "cell_type": "code",
   "execution_count": 343,
   "metadata": {
    "collapsed": false
   },
   "outputs": [
    {
     "data": {
      "text/plain": [
       "array([[  0,   0,   0],\n",
       "       [  3,  12,  60],\n",
       "       [  6,  42, 336]])"
      ]
     },
     "execution_count": 343,
     "metadata": {},
     "output_type": "execute_result"
    }
   ],
   "source": [
    "arr.cumprod(1)"
   ]
  },
  {
   "cell_type": "code",
   "execution_count": 344,
   "metadata": {
    "collapsed": false
   },
   "outputs": [
    {
     "data": {
      "text/plain": [
       "array([6, 7, 8])"
      ]
     },
     "execution_count": 344,
     "metadata": {},
     "output_type": "execute_result"
    }
   ],
   "source": [
    "arr.max(0)"
   ]
  },
  {
   "cell_type": "code",
   "execution_count": 370,
   "metadata": {
    "collapsed": false
   },
   "outputs": [
    {
     "data": {
      "text/plain": [
       "8"
      ]
     },
     "execution_count": 370,
     "metadata": {},
     "output_type": "execute_result"
    }
   ],
   "source": [
    "arr.max()"
   ]
  },
  {
   "cell_type": "markdown",
   "metadata": {},
   "source": [
    "### 3) 불리언 배열을 위한 메서e드"
   ]
  },
  {
   "cell_type": "code",
   "execution_count": 373,
   "metadata": {
    "collapsed": true
   },
   "outputs": [],
   "source": [
    "arr = np.random.randn(100)"
   ]
  },
  {
   "cell_type": "code",
   "execution_count": 374,
   "metadata": {
    "collapsed": false
   },
   "outputs": [
    {
     "data": {
      "text/plain": [
       "array([  2.93242670e-02,   2.40255102e+00,   7.68223342e-01,\n",
       "         1.15241090e+00,  -1.12694863e+00,   1.07356471e+00,\n",
       "         3.07696462e-01,  -1.03050153e+00,  -5.38462563e-01,\n",
       "         1.09974582e+00,  -9.02188870e-01,   1.32773051e+00,\n",
       "        -2.06154935e+00,   1.56235653e+00,  -1.96008035e+00,\n",
       "        -2.48861740e-01,   5.24890158e-01,  -1.49937572e+00,\n",
       "         8.47596989e-01,  -1.79621653e+00,  -4.63954053e-01,\n",
       "         1.42529084e+00,   1.26291919e+00,  -6.57769430e-01,\n",
       "        -8.69664339e-01,   3.48200935e-01,   2.06066051e-01,\n",
       "        -7.45884467e-01,  -2.63277176e+00,  -8.68994988e-01,\n",
       "         2.48102570e+00,  -8.12404605e-01,  -1.04946979e+00,\n",
       "        -9.76021563e-01,   7.66017834e-01,   1.02229606e+00,\n",
       "         2.72567652e-01,   1.93362160e+00,   2.12734652e-01,\n",
       "        -2.64814918e-03,   9.62027095e-01,   1.22350081e+00,\n",
       "        -1.39395040e+00,  -5.41198461e-01,  -1.73474086e+00,\n",
       "         3.30882359e-01,  -1.05705257e-01,  -1.27660967e+00,\n",
       "         3.44309153e-01,  -1.56882055e+00,  -1.16505476e-01,\n",
       "        -6.64267564e-01,   7.20545260e-01,  -8.68604805e-01,\n",
       "         1.36417777e+00,  -3.29946509e-01,  -8.55099387e-01,\n",
       "        -3.11898022e-02,  -1.39495105e-01,  -8.96519999e-02,\n",
       "         2.42946652e+00,   1.55382821e+00,   6.60489059e-01,\n",
       "         3.51081621e-01,   4.29969801e-02,  -6.51727223e-01,\n",
       "        -6.66750599e-01,  -3.52971189e-02,  -9.51789430e-02,\n",
       "         8.38670598e-01,   5.81066818e-01,  -6.74065021e-01,\n",
       "        -4.45806351e-01,   1.01603190e-01,   9.15640258e-01,\n",
       "         1.48478584e+00,  -1.30188396e+00,  -1.34295848e-03,\n",
       "        -7.55172714e-01,  -1.47400765e+00,   8.82156959e-02,\n",
       "         3.97719761e-01,  -1.16285221e+00,  -1.00164319e+00,\n",
       "        -4.41133636e-01,   6.22982896e-01,   1.82704437e-02,\n",
       "        -1.06430117e-01,  -1.12975555e+00,  -1.15781220e+00,\n",
       "        -9.30544294e-01,  -7.25102709e-01,  -5.80868711e-01,\n",
       "         3.10980559e-01,  -1.19620147e+00,   2.84791839e-01,\n",
       "        -9.14093967e-01,   3.99038292e-01,   2.63668747e+00,\n",
       "        -2.64919502e-01])"
      ]
     },
     "execution_count": 374,
     "metadata": {},
     "output_type": "execute_result"
    }
   ],
   "source": [
    "arr"
   ]
  },
  {
   "cell_type": "code",
   "execution_count": 375,
   "metadata": {
    "collapsed": false
   },
   "outputs": [
    {
     "data": {
      "text/plain": [
       "45"
      ]
     },
     "execution_count": 375,
     "metadata": {},
     "output_type": "execute_result"
    }
   ],
   "source": [
    "(arr > 0).sum()  #양수의 개수 반환"
   ]
  },
  {
   "cell_type": "markdown",
   "metadata": {},
   "source": [
    "- any, all 메서드는 불리언 배열을 사용할 때 특히 유용\n",
    "- any 메서드는 하나 이상의 True값이 있는지 검사, all 메서드는 모든 원소가 True인지를 검사"
   ]
  },
  {
   "cell_type": "code",
   "execution_count": 348,
   "metadata": {
    "collapsed": true
   },
   "outputs": [],
   "source": [
    "bools = np.array([False, False, True, False])"
   ]
  },
  {
   "cell_type": "code",
   "execution_count": 376,
   "metadata": {
    "collapsed": false
   },
   "outputs": [
    {
     "data": {
      "text/plain": [
       "True"
      ]
     },
     "execution_count": 376,
     "metadata": {},
     "output_type": "execute_result"
    }
   ],
   "source": [
    "bools.any() #하나 이상의 트루가 있냐"
   ]
  },
  {
   "cell_type": "code",
   "execution_count": 377,
   "metadata": {
    "collapsed": false
   },
   "outputs": [
    {
     "data": {
      "text/plain": [
       "False"
      ]
     },
     "execution_count": 377,
     "metadata": {},
     "output_type": "execute_result"
    }
   ],
   "source": [
    "bools.all() #모두 트루냐"
   ]
  },
  {
   "cell_type": "markdown",
   "metadata": {},
   "source": [
    "- 이 메서드는 불리언 배열이 아니어도 동작하며, 0이 아닌 원소는 모두 True로 간주"
   ]
  },
  {
   "cell_type": "code",
   "execution_count": 379,
   "metadata": {
    "collapsed": true
   },
   "outputs": [],
   "source": [
    "bools = np.array([0,1,2,-3])"
   ]
  },
  {
   "cell_type": "code",
   "execution_count": 380,
   "metadata": {
    "collapsed": false
   },
   "outputs": [
    {
     "data": {
      "text/plain": [
       "array([ 0,  1,  2, -3])"
      ]
     },
     "execution_count": 380,
     "metadata": {},
     "output_type": "execute_result"
    }
   ],
   "source": [
    "bools"
   ]
  },
  {
   "cell_type": "code",
   "execution_count": 381,
   "metadata": {
    "collapsed": false
   },
   "outputs": [
    {
     "data": {
      "text/plain": [
       "True"
      ]
     },
     "execution_count": 381,
     "metadata": {},
     "output_type": "execute_result"
    }
   ],
   "source": [
    "bools.any()"
   ]
  },
  {
   "cell_type": "code",
   "execution_count": 384,
   "metadata": {
    "collapsed": false
   },
   "outputs": [
    {
     "data": {
      "text/plain": [
       "2"
      ]
     },
     "execution_count": 384,
     "metadata": {},
     "output_type": "execute_result"
    }
   ],
   "source": [
    "bools[2]"
   ]
  },
  {
   "cell_type": "code",
   "execution_count": 382,
   "metadata": {
    "collapsed": false
   },
   "outputs": [
    {
     "data": {
      "text/plain": [
       "True"
      ]
     },
     "execution_count": 382,
     "metadata": {},
     "output_type": "execute_result"
    }
   ],
   "source": [
    "bools[2].all()"
   ]
  },
  {
   "cell_type": "code",
   "execution_count": 385,
   "metadata": {
    "collapsed": false
   },
   "outputs": [
    {
     "data": {
      "text/plain": [
       "-3"
      ]
     },
     "execution_count": 385,
     "metadata": {},
     "output_type": "execute_result"
    }
   ],
   "source": [
    "bools[3]"
   ]
  },
  {
   "cell_type": "code",
   "execution_count": 383,
   "metadata": {
    "collapsed": false,
    "scrolled": false
   },
   "outputs": [
    {
     "data": {
      "text/plain": [
       "True"
      ]
     },
     "execution_count": 383,
     "metadata": {},
     "output_type": "execute_result"
    }
   ],
   "source": [
    "bools[3].all()"
   ]
  },
  {
   "cell_type": "markdown",
   "metadata": {},
   "source": [
    "### 4) 정렬"
   ]
  },
  {
   "cell_type": "code",
   "execution_count": 408,
   "metadata": {
    "collapsed": true
   },
   "outputs": [],
   "source": [
    "arr = np.random.randn(8)"
   ]
  },
  {
   "cell_type": "code",
   "execution_count": 409,
   "metadata": {
    "collapsed": false
   },
   "outputs": [
    {
     "data": {
      "text/plain": [
       "array([ 1.53327665, -0.00208959,  0.41516396,  1.93840331, -0.97154132,\n",
       "        1.52969693,  0.93683994, -0.02365944])"
      ]
     },
     "execution_count": 409,
     "metadata": {},
     "output_type": "execute_result"
    }
   ],
   "source": [
    "arr"
   ]
  },
  {
   "cell_type": "code",
   "execution_count": 410,
   "metadata": {
    "collapsed": false,
    "scrolled": false
   },
   "outputs": [
    {
     "data": {
      "text/plain": [
       "array([-0.97154132, -0.02365944, -0.00208959,  0.41516396,  0.93683994,\n",
       "        1.52969693,  1.53327665,  1.93840331])"
      ]
     },
     "execution_count": 410,
     "metadata": {},
     "output_type": "execute_result"
    }
   ],
   "source": [
    "arr.sort()\n",
    "arr"
   ]
  },
  {
   "cell_type": "markdown",
   "metadata": {},
   "source": [
    "#### 2차원 배열 정렬"
   ]
  },
  {
   "cell_type": "code",
   "execution_count": 416,
   "metadata": {
    "collapsed": true
   },
   "outputs": [],
   "source": [
    "arr = np.random.randn(5,3)"
   ]
  },
  {
   "cell_type": "code",
   "execution_count": 417,
   "metadata": {
    "collapsed": false
   },
   "outputs": [
    {
     "data": {
      "text/plain": [
       "array([[ 0.5275289 , -1.23827392,  0.15069336],\n",
       "       [ 1.55093401,  0.65429037,  0.21180199],\n",
       "       [ 0.66236957, -0.1675533 , -1.41795642],\n",
       "       [ 0.37222447,  0.36130916, -0.30381137],\n",
       "       [-0.07915529, -0.45938513, -0.92995677]])"
      ]
     },
     "execution_count": 417,
     "metadata": {},
     "output_type": "execute_result"
    }
   ],
   "source": [
    "arr"
   ]
  },
  {
   "cell_type": "code",
   "execution_count": 418,
   "metadata": {
    "collapsed": true
   },
   "outputs": [],
   "source": [
    "arr.sort(1)  #1차원 부분 정렬"
   ]
  },
  {
   "cell_type": "code",
   "execution_count": 419,
   "metadata": {
    "collapsed": false
   },
   "outputs": [
    {
     "data": {
      "text/plain": [
       "array([[-1.23827392,  0.15069336,  0.5275289 ],\n",
       "       [ 0.21180199,  0.65429037,  1.55093401],\n",
       "       [-1.41795642, -0.1675533 ,  0.66236957],\n",
       "       [-0.30381137,  0.36130916,  0.37222447],\n",
       "       [-0.92995677, -0.45938513, -0.07915529]])"
      ]
     },
     "execution_count": 419,
     "metadata": {},
     "output_type": "execute_result"
    }
   ],
   "source": [
    "arr"
   ]
  },
  {
   "cell_type": "code",
   "execution_count": 424,
   "metadata": {
    "collapsed": false
   },
   "outputs": [],
   "source": [
    "arr.sort(0)  #열별로 정렬"
   ]
  },
  {
   "cell_type": "code",
   "execution_count": 425,
   "metadata": {
    "collapsed": false
   },
   "outputs": [
    {
     "data": {
      "text/plain": [
       "array([[-1.41795642, -0.45938513, -0.07915529],\n",
       "       [-1.23827392, -0.1675533 ,  0.37222447],\n",
       "       [-0.92995677,  0.15069336,  0.5275289 ],\n",
       "       [-0.30381137,  0.36130916,  0.66236957],\n",
       "       [ 0.21180199,  0.65429037,  1.55093401]])"
      ]
     },
     "execution_count": 425,
     "metadata": {},
     "output_type": "execute_result"
    }
   ],
   "source": [
    "arr"
   ]
  },
  {
   "cell_type": "code",
   "execution_count": 394,
   "metadata": {
    "collapsed": true
   },
   "outputs": [],
   "source": [
    "large_arr = np.random.randn(1000)"
   ]
  },
  {
   "cell_type": "code",
   "execution_count": 402,
   "metadata": {
    "collapsed": false
   },
   "outputs": [],
   "source": [
    "large_arr.sort(False)"
   ]
  },
  {
   "cell_type": "code",
   "execution_count": 426,
   "metadata": {
    "collapsed": false
   },
   "outputs": [
    {
     "data": {
      "text/plain": [
       "-1.6536248371445506"
      ]
     },
     "execution_count": 426,
     "metadata": {},
     "output_type": "execute_result"
    }
   ],
   "source": [
    "large_arr[int(0.05 * len(large_arr))]   #하위 5%를 잡을 수 있는 기준 값"
   ]
  },
  {
   "cell_type": "code",
   "execution_count": 427,
   "metadata": {
    "collapsed": false
   },
   "outputs": [
    {
     "data": {
      "text/plain": [
       "-1.6536248371445506"
      ]
     },
     "execution_count": 427,
     "metadata": {},
     "output_type": "execute_result"
    }
   ],
   "source": [
    "large_arr[50]"
   ]
  },
  {
   "cell_type": "markdown",
   "metadata": {},
   "source": [
    "### 5) 집합 함수"
   ]
  },
  {
   "cell_type": "code",
   "execution_count": 399,
   "metadata": {
    "collapsed": false
   },
   "outputs": [
    {
     "data": {
      "text/plain": [
       "array(['Bob', 'Joe', 'Will', 'Bob', 'Will', 'Joe', 'Joe'], \n",
       "      dtype='|S4')"
      ]
     },
     "execution_count": 399,
     "metadata": {},
     "output_type": "execute_result"
    }
   ],
   "source": [
    "names"
   ]
  },
  {
   "cell_type": "code",
   "execution_count": 400,
   "metadata": {
    "collapsed": false
   },
   "outputs": [
    {
     "data": {
      "text/plain": [
       "array(['Bob', 'Joe', 'Will'], \n",
       "      dtype='|S4')"
      ]
     },
     "execution_count": 400,
     "metadata": {},
     "output_type": "execute_result"
    }
   ],
   "source": [
    "np.unique(names)"
   ]
  },
  {
   "cell_type": "code",
   "execution_count": 436,
   "metadata": {
    "collapsed": false
   },
   "outputs": [
    {
     "data": {
      "text/plain": [
       "['Bob', 'Joe', 'Will']"
      ]
     },
     "execution_count": 436,
     "metadata": {},
     "output_type": "execute_result"
    }
   ],
   "source": [
    "sorted(set(names))  #순수 파이썬에 있는 내장함수 sorted"
   ]
  },
  {
   "cell_type": "code",
   "execution_count": 440,
   "metadata": {
    "collapsed": false
   },
   "outputs": [
    {
     "data": {
      "text/plain": [
       "{'Bob', 'Joe', 'Will'}"
      ]
     },
     "execution_count": 440,
     "metadata": {},
     "output_type": "execute_result"
    }
   ],
   "source": [
    "set(names)   #set이 중복된거 제거해줌"
   ]
  },
  {
   "cell_type": "code",
   "execution_count": 437,
   "metadata": {
    "collapsed": false
   },
   "outputs": [
    {
     "data": {
      "text/plain": [
       "['Bob', 'Bob', 'Joe', 'Joe', 'Joe', 'Will', 'Will']"
      ]
     },
     "execution_count": 437,
     "metadata": {},
     "output_type": "execute_result"
    }
   ],
   "source": [
    "sorted(names)"
   ]
  },
  {
   "cell_type": "code",
   "execution_count": 429,
   "metadata": {
    "collapsed": true
   },
   "outputs": [],
   "source": [
    "ints = np.array([3,3,3,2,2,1,1,4,4])"
   ]
  },
  {
   "cell_type": "code",
   "execution_count": 430,
   "metadata": {
    "collapsed": false
   },
   "outputs": [
    {
     "data": {
      "text/plain": [
       "array([1, 2, 3, 4])"
      ]
     },
     "execution_count": 430,
     "metadata": {},
     "output_type": "execute_result"
    }
   ],
   "source": [
    "np.unique(ints)"
   ]
  },
  {
   "cell_type": "markdown",
   "metadata": {},
   "source": [
    "np.in1d 함수는 2개의 배열을 인자로 받아 첫 번째 배열의 각 원소가 두 번째 배열의 원소를 포함하는지를 나타내는 불리언 배열을 반환"
   ]
  },
  {
   "cell_type": "code",
   "execution_count": 431,
   "metadata": {
    "collapsed": true
   },
   "outputs": [],
   "source": [
    "values = np.array([6,0,0,3,2,5,6])"
   ]
  },
  {
   "cell_type": "code",
   "execution_count": 433,
   "metadata": {
    "collapsed": false
   },
   "outputs": [
    {
     "data": {
      "text/plain": [
       "array([ True, False, False,  True,  True, False,  True], dtype=bool)"
      ]
     },
     "execution_count": 433,
     "metadata": {},
     "output_type": "execute_result"
    }
   ],
   "source": [
    "np.in1d(values, [2,3,6])  #배열에 2,3,6 있으면 TRUE"
   ]
  },
  {
   "cell_type": "code",
   "execution_count": 434,
   "metadata": {
    "collapsed": false
   },
   "outputs": [
    {
     "data": {
      "text/plain": [
       "array([2, 3])"
      ]
     },
     "execution_count": 434,
     "metadata": {},
     "output_type": "execute_result"
    }
   ],
   "source": [
    "np.intersect1d(values, [2,3,7])   #공통적으로 존재하는 원소를 정렬하여 반환"
   ]
  },
  {
   "cell_type": "code",
   "execution_count": 435,
   "metadata": {
    "collapsed": false
   },
   "outputs": [
    {
     "data": {
      "text/plain": [
       "array([0, 2, 3, 5, 6, 7])"
      ]
     },
     "execution_count": 435,
     "metadata": {},
     "output_type": "execute_result"
    }
   ],
   "source": [
    "np.union1d(values, [2,3,7])   #합집합"
   ]
  },
  {
   "cell_type": "code",
   "execution_count": 439,
   "metadata": {
    "collapsed": false
   },
   "outputs": [
    {
     "data": {
      "text/plain": [
       "array([0, 5, 6, 7])"
      ]
     },
     "execution_count": 439,
     "metadata": {},
     "output_type": "execute_result"
    }
   ],
   "source": [
    "np.setxor1d(values, [2,3,7])   #같이 가지고 있지 않은 원소들을 정렬하여 출력"
   ]
  },
  {
   "cell_type": "markdown",
   "metadata": {},
   "source": [
    "## 4. 배열의 파일 입출력"
   ]
  },
  {
   "cell_type": "markdown",
   "metadata": {},
   "source": [
    "### 1) 배열을 바이너리 형식으로 디스크에 저장하기"
   ]
  },
  {
   "cell_type": "markdown",
   "metadata": {},
   "source": [
    "- np.save와 np.load는 배열 데이터를 효과적으로 디스크에 저장하고 불러오는 함수\n",
    "- 기본적으로 압축되지 않은 raw바이너리 형식의 .npy파일로 저장된다."
   ]
  },
  {
   "cell_type": "code",
   "execution_count": 441,
   "metadata": {
    "collapsed": true
   },
   "outputs": [],
   "source": [
    "arr = np.arange(10)"
   ]
  },
  {
   "cell_type": "code",
   "execution_count": 442,
   "metadata": {
    "collapsed": true
   },
   "outputs": [],
   "source": [
    "np.save('some_array', arr)"
   ]
  },
  {
   "cell_type": "code",
   "execution_count": 443,
   "metadata": {
    "collapsed": false
   },
   "outputs": [
    {
     "data": {
      "text/plain": [
       "array([0, 1, 2, 3, 4, 5, 6, 7, 8, 9])"
      ]
     },
     "execution_count": 443,
     "metadata": {},
     "output_type": "execute_result"
    }
   ],
   "source": [
    "np.load('some_array.npy')"
   ]
  },
  {
   "cell_type": "code",
   "execution_count": 444,
   "metadata": {
    "collapsed": true
   },
   "outputs": [],
   "source": [
    "np.savez('array_arcive.npz', a=arr, b=arr)   #압축된 형식으로 저장"
   ]
  },
  {
   "cell_type": "code",
   "execution_count": 445,
   "metadata": {
    "collapsed": true
   },
   "outputs": [],
   "source": [
    "arch = np.load('array_arcive.npz')"
   ]
  },
  {
   "cell_type": "code",
   "execution_count": 446,
   "metadata": {
    "collapsed": false
   },
   "outputs": [
    {
     "data": {
      "text/plain": [
       "array([0, 1, 2, 3, 4, 5, 6, 7, 8, 9])"
      ]
     },
     "execution_count": 446,
     "metadata": {},
     "output_type": "execute_result"
    }
   ],
   "source": [
    "arch['a']"
   ]
  },
  {
   "cell_type": "code",
   "execution_count": 447,
   "metadata": {
    "collapsed": false
   },
   "outputs": [
    {
     "data": {
      "text/plain": [
       "array([0, 1, 2, 3, 4, 5, 6, 7, 8, 9])"
      ]
     },
     "execution_count": 447,
     "metadata": {},
     "output_type": "execute_result"
    }
   ],
   "source": [
    "arch['b']"
   ]
  },
  {
   "cell_type": "markdown",
   "metadata": {},
   "source": [
    "### 2) 텍스트파일 불러오기와 저장하기"
   ]
  },
  {
   "cell_type": "code",
   "execution_count": 448,
   "metadata": {
    "collapsed": true
   },
   "outputs": [],
   "source": [
    "tmp=  np.random.randn(6,4)"
   ]
  },
  {
   "cell_type": "code",
   "execution_count": 449,
   "metadata": {
    "collapsed": false
   },
   "outputs": [
    {
     "data": {
      "text/plain": [
       "array([[-1.09938912,  0.42504239, -0.03434199, -0.49718473],\n",
       "       [ 0.37599803,  2.71371214,  1.60321949,  0.30122386],\n",
       "       [ 0.61971378,  1.17482515, -0.58868576, -1.79354001],\n",
       "       [-0.32604643, -0.57702067, -1.38274645, -0.40113006],\n",
       "       [-1.28331513, -1.06291892,  0.05137883,  1.18688264],\n",
       "       [-0.17939546, -0.73344384, -0.23885875, -1.05062925]])"
      ]
     },
     "execution_count": 449,
     "metadata": {},
     "output_type": "execute_result"
    }
   ],
   "source": [
    "tmp"
   ]
  },
  {
   "cell_type": "code",
   "execution_count": 450,
   "metadata": {
    "collapsed": true
   },
   "outputs": [],
   "source": [
    "np.savetxt('array_ex1.txt', tmp)"
   ]
  },
  {
   "cell_type": "code",
   "execution_count": 454,
   "metadata": {
    "collapsed": false
   },
   "outputs": [
    {
     "ename": "NameError",
     "evalue": "name 'read' is not defined",
     "output_type": "error",
     "traceback": [
      "\u001b[1;31m---------------------------------------------------------------------------\u001b[0m",
      "\u001b[1;31mNameError\u001b[0m                                 Traceback (most recent call last)",
      "\u001b[1;32m<ipython-input-454-8386d2806999>\u001b[0m in \u001b[0;36m<module>\u001b[1;34m()\u001b[0m\n\u001b[1;32m----> 1\u001b[1;33m \u001b[0mread\u001b[0m\u001b[1;33m(\u001b[0m\u001b[1;34m'array_ex1.txt'\u001b[0m\u001b[1;33m)\u001b[0m\u001b[1;33m\u001b[0m\u001b[0m\n\u001b[0m",
      "\u001b[1;31mNameError\u001b[0m: name 'read' is not defined"
     ]
    }
   ],
   "source": [
    "read('array_ex1.txt')"
   ]
  },
  {
   "cell_type": "code",
   "execution_count": 452,
   "metadata": {
    "collapsed": true
   },
   "outputs": [],
   "source": [
    "arr = np.loadtxt('array_ex1.txt', delimiter=' ')   \n",
    "#','쉽표를 구분으로 하여 arr에 ndarray로 하여 저장한다"
   ]
  },
  {
   "cell_type": "code",
   "execution_count": 455,
   "metadata": {
    "collapsed": false
   },
   "outputs": [
    {
     "data": {
      "text/plain": [
       "array([[-1.09938912,  0.42504239, -0.03434199, -0.49718473],\n",
       "       [ 0.37599803,  2.71371214,  1.60321949,  0.30122386],\n",
       "       [ 0.61971378,  1.17482515, -0.58868576, -1.79354001],\n",
       "       [-0.32604643, -0.57702067, -1.38274645, -0.40113006],\n",
       "       [-1.28331513, -1.06291892,  0.05137883,  1.18688264],\n",
       "       [-0.17939546, -0.73344384, -0.23885875, -1.05062925]])"
      ]
     },
     "execution_count": 455,
     "metadata": {},
     "output_type": "execute_result"
    }
   ],
   "source": [
    "arr"
   ]
  },
  {
   "cell_type": "markdown",
   "metadata": {},
   "source": [
    "## 5. 선형대수"
   ]
  },
  {
   "cell_type": "code",
   "execution_count": 456,
   "metadata": {
    "collapsed": true
   },
   "outputs": [],
   "source": [
    "x = np.array([[1., 2., 3.], [4., 5., 6.]])"
   ]
  },
  {
   "cell_type": "code",
   "execution_count": 457,
   "metadata": {
    "collapsed": true
   },
   "outputs": [],
   "source": [
    "y = np.array([[6., 23.], [-1, 7], [8, 9]])"
   ]
  },
  {
   "cell_type": "code",
   "execution_count": 459,
   "metadata": {
    "collapsed": false
   },
   "outputs": [
    {
     "data": {
      "text/plain": [
       "array([[ 1.,  2.,  3.],\n",
       "       [ 4.,  5.,  6.]])"
      ]
     },
     "execution_count": 459,
     "metadata": {},
     "output_type": "execute_result"
    }
   ],
   "source": [
    "x"
   ]
  },
  {
   "cell_type": "code",
   "execution_count": 460,
   "metadata": {
    "collapsed": false
   },
   "outputs": [
    {
     "data": {
      "text/plain": [
       "array([[  6.,  23.],\n",
       "       [ -1.,   7.],\n",
       "       [  8.,   9.]])"
      ]
     },
     "execution_count": 460,
     "metadata": {},
     "output_type": "execute_result"
    }
   ],
   "source": [
    "y"
   ]
  },
  {
   "cell_type": "code",
   "execution_count": 461,
   "metadata": {
    "collapsed": false
   },
   "outputs": [
    {
     "data": {
      "text/plain": [
       "array([[  28.,   64.],\n",
       "       [  67.,  181.]])"
      ]
     },
     "execution_count": 461,
     "metadata": {},
     "output_type": "execute_result"
    }
   ],
   "source": [
    "x.dot(y)   #np.dot(x, y)와 같으며 두 행렬의 곱을 나타낸다."
   ]
  },
  {
   "cell_type": "code",
   "execution_count": 462,
   "metadata": {
    "collapsed": false,
    "scrolled": true
   },
   "outputs": [
    {
     "data": {
      "text/plain": [
       "array([  6.,  15.])"
      ]
     },
     "execution_count": 462,
     "metadata": {},
     "output_type": "execute_result"
    }
   ],
   "source": [
    "np.dot(x, np.ones(3))"
   ]
  },
  {
   "cell_type": "code",
   "execution_count": 463,
   "metadata": {
    "collapsed": false
   },
   "outputs": [
    {
     "data": {
      "text/plain": [
       "array([ 1.,  1.,  1.])"
      ]
     },
     "execution_count": 463,
     "metadata": {},
     "output_type": "execute_result"
    }
   ],
   "source": [
    "np.ones(3)"
   ]
  },
  {
   "cell_type": "markdown",
   "metadata": {},
   "source": [
    "- numpy.linalg는 행렬의 분할과 역행렬, 행렬식 같은 것을 포함"
   ]
  },
  {
   "cell_type": "code",
   "execution_count": 464,
   "metadata": {
    "collapsed": true
   },
   "outputs": [],
   "source": [
    "from numpy.linalg import inv, qr"
   ]
  },
  {
   "cell_type": "code",
   "execution_count": 465,
   "metadata": {
    "collapsed": true
   },
   "outputs": [],
   "source": [
    "X = np.random.randn(5,5)"
   ]
  },
  {
   "cell_type": "code",
   "execution_count": 466,
   "metadata": {
    "collapsed": false
   },
   "outputs": [
    {
     "data": {
      "text/plain": [
       "array([[ 0.43912738, -0.06801299, -1.38075594, -0.04707619,  0.44963257],\n",
       "       [-2.93699078, -1.26195897,  0.02304697, -1.48864532, -0.08016136],\n",
       "       [ 1.65367873, -1.42088136, -1.25447244, -0.3795875 ,  1.14378431],\n",
       "       [-1.40194234, -0.31835074,  0.94856636, -0.82456931,  0.27953652],\n",
       "       [ 1.20450299,  0.61888639,  0.56685138,  0.20377388,  1.7299114 ]])"
      ]
     },
     "execution_count": 466,
     "metadata": {},
     "output_type": "execute_result"
    }
   ],
   "source": [
    "X"
   ]
  },
  {
   "cell_type": "code",
   "execution_count": 467,
   "metadata": {
    "collapsed": false
   },
   "outputs": [
    {
     "data": {
      "text/plain": [
       "array([[ 14.96967081,   2.51857409,  -3.39557203,   5.12519423,\n",
       "          4.01612032],\n",
       "       [  2.51857409,   4.10043759,   1.89612131,   2.80977505,\n",
       "         -0.57297435],\n",
       "       [ -3.39557203,   1.89612131,   4.70181787,  -0.15977518,\n",
       "         -0.81176462],\n",
       "       [  5.12519423,   2.80977505,  -0.15977518,   3.08380608,\n",
       "         -0.21398786],\n",
       "       [  4.01612032,  -0.57297435,  -0.81176462,  -0.21398786,\n",
       "          4.58757194]])"
      ]
     },
     "execution_count": 467,
     "metadata": {},
     "output_type": "execute_result"
    }
   ],
   "source": [
    "X.T.dot(X)"
   ]
  },
  {
   "cell_type": "code",
   "execution_count": 470,
   "metadata": {
    "collapsed": false
   },
   "outputs": [],
   "source": [
    "mat = X.T.dot(X)   #X의 전치행렬과 X의 곱을 mat에 저장"
   ]
  },
  {
   "cell_type": "code",
   "execution_count": 471,
   "metadata": {
    "collapsed": false
   },
   "outputs": [
    {
     "data": {
      "text/plain": [
       "array([[ 14.96967081,   2.51857409,  -3.39557203,   5.12519423,\n",
       "          4.01612032],\n",
       "       [  2.51857409,   4.10043759,   1.89612131,   2.80977505,\n",
       "         -0.57297435],\n",
       "       [ -3.39557203,   1.89612131,   4.70181787,  -0.15977518,\n",
       "         -0.81176462],\n",
       "       [  5.12519423,   2.80977505,  -0.15977518,   3.08380608,\n",
       "         -0.21398786],\n",
       "       [  4.01612032,  -0.57297435,  -0.81176462,  -0.21398786,\n",
       "          4.58757194]])"
      ]
     },
     "execution_count": 471,
     "metadata": {},
     "output_type": "execute_result"
    }
   ],
   "source": [
    "mat"
   ]
  },
  {
   "cell_type": "code",
   "execution_count": 473,
   "metadata": {
    "collapsed": false,
    "scrolled": true
   },
   "outputs": [
    {
     "data": {
      "text/plain": [
       "array([[  6.69352184e+00,   7.92723438e+00,   8.66762087e-03,\n",
       "         -1.87452722e+01,  -5.74249559e+00],\n",
       "       [  7.92723438e+00,   1.09218235e+01,  -6.55586128e-01,\n",
       "         -2.36315305e+01,  -6.79397402e+00],\n",
       "       [  8.66762087e-03,  -6.55586128e-01,   5.09128310e-01,\n",
       "          6.11324806e-01,   2.91361516e-02],\n",
       "       [ -1.87452722e+01,  -2.36315305e+01,   6.11324806e-01,\n",
       "          5.41583533e+01,   1.60931513e+01],\n",
       "       [ -5.74249559e+00,  -6.79397402e+00,   2.91361516e-02,\n",
       "          1.60931513e+01,   5.15243605e+00]])"
      ]
     },
     "execution_count": 473,
     "metadata": {},
     "output_type": "execute_result"
    }
   ],
   "source": [
    "inv(mat)   #역행렬"
   ]
  },
  {
   "cell_type": "code",
   "execution_count": 474,
   "metadata": {
    "collapsed": false
   },
   "outputs": [
    {
     "data": {
      "text/plain": [
       "array([[  1.00000000e+00,  -2.13162821e-14,  -2.77555756e-17,\n",
       "         -1.42108547e-14,  -3.55271368e-15],\n",
       "       [  2.66453526e-15,   1.00000000e+00,  -6.34908792e-16,\n",
       "         -2.48689958e-14,   4.88498131e-15],\n",
       "       [  8.88178420e-16,   3.55271368e-15,   1.00000000e+00,\n",
       "         -1.77635684e-15,   2.66453526e-15],\n",
       "       [ -1.37667655e-14,  -1.28785871e-14,  -2.57606436e-16,\n",
       "          1.00000000e+00,   8.88178420e-16],\n",
       "       [ -7.10542736e-15,  -7.10542736e-15,   2.77555756e-17,\n",
       "          1.42108547e-14,   1.00000000e+00]])"
      ]
     },
     "execution_count": 474,
     "metadata": {},
     "output_type": "execute_result"
    }
   ],
   "source": [
    "mat.dot(inv(mat))"
   ]
  },
  {
   "cell_type": "code",
   "execution_count": 475,
   "metadata": {
    "collapsed": true
   },
   "outputs": [],
   "source": [
    "q, r = qr(mat)  \n",
    "#mat를 인수분해, q는 정규 직교를 나타내고 r은 upper-triangular 나타냄"
   ]
  },
  {
   "cell_type": "code",
   "execution_count": 476,
   "metadata": {
    "collapsed": false
   },
   "outputs": [
    {
     "data": {
      "text/plain": [
       "array([[-16.86300707,  -3.1839264 ,   3.91979068,  -5.88787806,\n",
       "         -4.67062827],\n",
       "       [  0.        ,  -4.98375642,  -4.14038242,  -2.84271037,\n",
       "          2.38264225],\n",
       "       [  0.        ,   0.        ,  -2.32577751,   0.78949597,\n",
       "         -2.55521971],\n",
       "       [  0.        ,   0.        ,   0.        ,  -0.61009537,\n",
       "          2.04559245],\n",
       "       [  0.        ,   0.        ,   0.        ,   0.        ,   0.0523659 ]])"
      ]
     },
     "execution_count": 476,
     "metadata": {},
     "output_type": "execute_result"
    }
   ],
   "source": [
    "r"
   ]
  },
  {
   "cell_type": "code",
   "execution_count": 477,
   "metadata": {
    "collapsed": false
   },
   "outputs": [
    {
     "data": {
      "text/plain": [
       "array([[-0.8877225 ,  0.06177449, -0.14613796, -0.3104018 , -0.30071098],\n",
       "       [-0.14935498, -0.7273434 ,  0.22784563,  0.51978544, -0.35577259],\n",
       "       [ 0.20136219, -0.50910267, -0.77592997, -0.31336574,  0.00152574],\n",
       "       [-0.30393122, -0.36961687,  0.21445887, -0.12173185,  0.84273243],\n",
       "       [-0.23816157,  0.26712045, -0.52789217,  0.72142712,  0.26981197]])"
      ]
     },
     "execution_count": 477,
     "metadata": {},
     "output_type": "execute_result"
    }
   ],
   "source": [
    "q"
   ]
  },
  {
   "cell_type": "code",
   "execution_count": 478,
   "metadata": {
    "collapsed": false
   },
   "outputs": [
    {
     "data": {
      "text/plain": [
       "True"
      ]
     },
     "execution_count": 478,
     "metadata": {},
     "output_type": "execute_result"
    }
   ],
   "source": [
    "np.allclose(mat, np.dot(q, r))   #행렬일ㄴ수분해한 q,r"
   ]
  },
  {
   "cell_type": "markdown",
   "metadata": {},
   "source": [
    "## 6. 난수생성"
   ]
  },
  {
   "cell_type": "code",
   "execution_count": 480,
   "metadata": {
    "collapsed": false
   },
   "outputs": [],
   "source": [
    "samples = np.random.normal(size=(4, 4))   \n",
    "#normal을 사용하여 표준정규분포로부터 4X4 크기의 표본을 생성할 수 있다."
   ]
  },
  {
   "cell_type": "code",
   "execution_count": 481,
   "metadata": {
    "collapsed": false
   },
   "outputs": [
    {
     "data": {
      "text/plain": [
       "array([[ 1.2319446 ,  0.33016632, -0.43353934,  1.32492072],\n",
       "       [ 0.4768551 , -1.6671896 ,  1.19400787, -2.17550237],\n",
       "       [ 0.73476251, -0.58839465,  1.29306611, -0.46339897],\n",
       "       [ 0.34956844, -1.08569993,  0.03725119, -0.61281277]])"
      ]
     },
     "execution_count": 481,
     "metadata": {},
     "output_type": "execute_result"
    }
   ],
   "source": [
    "samples"
   ]
  },
  {
   "cell_type": "markdown",
   "metadata": {},
   "source": [
    "- random 모듈은 한번에 하나의 값만 생성\n",
    "- numpy.random은 매우 큰 표본을 생성하는데 파이썬 내장 모듈보다 수십배 이상 빠르다."
   ]
  },
  {
   "cell_type": "code",
   "execution_count": 482,
   "metadata": {
    "collapsed": true
   },
   "outputs": [],
   "source": [
    "from random import normalvariate"
   ]
  },
  {
   "cell_type": "code",
   "execution_count": 483,
   "metadata": {
    "collapsed": true
   },
   "outputs": [],
   "source": [
    "N = 1000000"
   ]
  },
  {
   "cell_type": "code",
   "execution_count": 484,
   "metadata": {
    "collapsed": false
   },
   "outputs": [
    {
     "name": "stdout",
     "output_type": "stream",
     "text": [
      "1 loops, best of 3: 2.46 s per loop\n"
     ]
    }
   ],
   "source": [
    "%timeit samples = [normalvariate(0,1) for _ in xrange(N)]   \n",
    "#samples에 파이썬 내장 normalvariate를 사용하여 난수를 생성"
   ]
  },
  {
   "cell_type": "code",
   "execution_count": 485,
   "metadata": {
    "collapsed": false
   },
   "outputs": [
    {
     "name": "stdout",
     "output_type": "stream",
     "text": [
      "10 loops, best of 3: 99.2 ms per loop\n"
     ]
    }
   ],
   "source": [
    "%timeit np.random.normal(size=N)   #훨씬 빠른것을 볼 수 있다."
   ]
  },
  {
   "cell_type": "markdown",
   "metadata": {},
   "source": [
    "## Random walks 예제"
   ]
  },
  {
   "cell_type": "code",
   "execution_count": 486,
   "metadata": {
    "collapsed": true
   },
   "outputs": [],
   "source": [
    "import random\n",
    "position = 0\n",
    "walk = [position]\n",
    "steps = 1000\n",
    "for i in xrange(steps):\n",
    "    steps = 1 if random.randint(0, 1) else -1\n",
    "    position += steps\n",
    "    walk.append(position)"
   ]
  },
  {
   "cell_type": "code",
   "execution_count": 491,
   "metadata": {
    "collapsed": false
   },
   "outputs": [
    {
     "name": "stdout",
     "output_type": "stream",
     "text": [
      "[0, 1, 2, 1, 2, 3, 2, 3, 4, 3, 2, 1, 2, 3, 2, 3, 4, 5, 6, 5, 6, 7, 8, 9, 10, 11, 10, 9, 8, 9, 10, 9, 8, 7, 6, 5, 6, 7, 8, 9, 10, 9, 10, 9, 10, 11, 10, 11, 10, 9, 8, 7, 8, 9, 8, 7, 6, 5, 4, 5, 6, 5, 6, 7, 6, 7, 6, 5, 6, 5, 6, 7, 8, 7, 8, 7, 6, 5, 4, 3, 2, 3, 4, 3, 4, 5, 4, 5, 4, 3, 4, 5, 4, 3, 2, 3, 2, 1, 2, 1, 2, 1, 0, 1, 0, -1, -2, -3, -2, -1, 0, 1, 2, 1, 2, 1, 0, 1, 2, 1, 0, -1, -2, -1, -2, -3, -2, -3, -2, -3, -2, -1, -2, -1, 0, 1, 0, 1, 0, 1, 2, 1, 2, 1, 0, 1, 2, 3, 4, 5, 4, 5, 6, 7, 8, 9, 8, 9, 8, 9, 10, 11, 12, 11, 12, 13, 14, 15, 16, 15, 16, 17, 18, 17, 18, 17, 18, 17, 18, 19, 18, 19, 20, 19, 20, 19, 20, 21, 22, 23, 22, 23, 22, 21, 22, 21, 20, 21, 22, 21, 22, 21, 22, 21, 22, 23, 24, 25, 26, 27, 26, 27, 28, 29, 30, 31, 30, 31, 32, 33, 34, 33, 34, 35, 34, 35, 36, 35, 34, 35, 34, 33, 32, 33, 34, 33, 32, 31, 32, 31, 32, 33, 34, 35, 34, 35, 36, 37, 36, 35, 34, 35, 34, 33, 32, 31, 30, 31, 32, 31, 30, 31, 30, 29, 30, 31, 30, 31, 30, 31, 30, 31, 32, 31, 30, 29, 28, 29, 30, 29, 30, 29, 30, 31, 32, 31, 32, 31, 32, 31, 32, 33, 34, 35, 34, 35, 34, 33, 34, 35, 36, 35, 34, 33, 34, 33, 32, 31, 30, 31, 32, 33, 34, 35, 34, 33, 32, 33, 34, 33, 34, 33, 34, 33, 34, 33, 32, 31, 30, 31, 30, 31, 32, 31, 32, 33, 32, 31, 32, 33, 32, 33, 34, 33, 32, 33, 34, 33, 32, 33, 34, 33, 32, 31, 32, 33, 32, 33, 32, 33, 32, 33, 32, 33, 32, 33, 32, 31, 32, 31, 32, 33, 32, 33, 34, 33, 34, 33, 32, 33, 34, 35, 34, 33, 34, 33, 34, 35, 36, 35, 36, 35, 34, 35, 36, 35, 36, 35, 34, 35, 34, 35, 34, 33, 32, 31, 30, 31, 30, 31, 30, 31, 32, 31, 30, 31, 32, 33, 34, 35, 36, 35, 36, 35, 34, 33, 34, 35, 36, 35, 36, 37, 38, 37, 36, 35, 36, 37, 38, 37, 38, 37, 36, 37, 38, 37, 36, 35, 36, 37, 38, 39, 40, 41, 40, 39, 40, 41, 42, 41, 42, 43, 44, 43, 42, 41, 42, 41, 40, 41, 42, 41, 40, 39, 40, 41, 40, 39, 40, 41, 42, 43, 42, 41, 42, 41, 42, 41, 42, 43, 42, 41, 42, 41, 42, 41, 40, 41, 40, 41, 42, 41, 40, 41, 40, 41, 40, 39, 40, 41, 40, 41, 40, 41, 42, 43, 44, 43, 42, 41, 40, 39, 40, 41, 42, 41, 40, 39, 40, 41, 40, 41, 40, 41, 42, 41, 42, 41, 40, 41, 40, 41, 42, 41, 42, 43, 42, 41, 40, 39, 38, 37, 36, 37, 38, 37, 36, 35, 36, 37, 36, 37, 36, 37, 36, 37, 36, 37, 36, 35, 36, 37, 38, 39, 38, 39, 40, 41, 40, 41, 42, 41, 40, 39, 38, 39, 40, 39, 40, 41, 42, 41, 40, 41, 42, 41, 42, 43, 44, 43, 42, 43, 44, 43, 42, 41, 42, 43, 44, 45, 44, 45, 44, 43, 42, 41, 42, 43, 42, 41, 40, 41, 42, 41, 42, 41, 40, 39, 38, 37, 36, 37, 36, 37, 36, 35, 36, 35, 36, 35, 34, 35, 36, 37, 36, 35, 36, 35, 36, 35, 34, 33, 32, 31, 32, 31, 30, 29, 28, 27, 28, 27, 26, 25, 24, 23, 24, 23, 24, 23, 22, 23, 22, 21, 22, 23, 22, 23, 24, 23, 24, 25, 26, 27, 28, 29, 30, 29, 30, 29, 28, 27, 26, 27, 26, 27, 28, 29, 28, 27, 26, 25, 26, 25, 24, 23, 22, 23, 22, 23, 22, 21, 20, 21, 22, 23, 22, 21, 22, 21, 22, 23, 22, 21, 20, 21, 22, 21, 20, 19, 18, 19, 20, 21, 22, 21, 20, 19, 18, 17, 18, 19, 18, 19, 18, 17, 18, 17, 16, 17, 18, 19, 18, 19, 20, 19, 18, 17, 16, 17, 16, 17, 16, 17, 16, 17, 18, 19, 18, 19, 18, 17, 18, 19, 18, 17, 18, 17, 16, 17, 18, 17, 16, 17, 16, 15, 14, 15, 14, 15, 14, 13, 14, 13, 14, 15, 16, 17, 18, 17, 16, 17, 16, 15, 16, 15, 16, 17, 18, 19, 20, 21, 22, 21, 22, 21, 20, 21, 20, 19, 18, 17, 18, 19, 18, 19, 20, 19, 18, 17, 18, 19, 20, 19, 18, 19, 18, 17, 18, 17, 18, 17, 16, 15, 14, 13, 12, 13, 14, 13, 14, 15, 14, 15, 14, 15, 16, 17, 16, 17, 18, 19, 20, 19, 20, 19, 18, 17, 16, 17, 16, 17, 16, 17, 16, 17, 18, 17, 16, 15, 16, 17, 18, 19, 18, 17, 18, 19, 18, 17, 18, 17, 18, 19, 18, 19, 20, 19, 18, 17, 18, 17, 16, 15, 14, 13, 12, 13, 12, 13, 12, 11, 10, 9, 8, 7, 8, 7, 6, 7, 6, 5, 4, 3, 2, 1, 2, 3, 4, 3, 4, 3, 4, 3, 2, 1, 0, -1, 0, 1, 0, -1, -2, -1, -2, -3, -2, -1, -2, -3, -2, -1, -2, -1, -2, -1, -2, -1, -2, -1, 0, 1, 2, 3, 4, 3, 2, 1, 2, 1, 0, 1, 2, 3, 2, 1, 2, 1, 2, 3, 4, 5, 6, 5, 4, 5, 4, 3, 4, 5, 4, 3, 4, 3, 2, 1, 0, -1, 0, 1, 0]\n"
     ]
    }
   ],
   "source": [
    "print walk"
   ]
  },
  {
   "cell_type": "code",
   "execution_count": 487,
   "metadata": {
    "collapsed": true
   },
   "outputs": [],
   "source": [
    "nsteps = 1000"
   ]
  },
  {
   "cell_type": "code",
   "execution_count": 492,
   "metadata": {
    "collapsed": true
   },
   "outputs": [],
   "source": [
    "draws = np.random.randint(0, 2, size = nsteps)\n",
    "#draws에 가장 낮은수 0, 가장 높은수 1 로 하여 nsteps만큼 난수 생성"
   ]
  },
  {
   "cell_type": "code",
   "execution_count": 493,
   "metadata": {
    "collapsed": false
   },
   "outputs": [
    {
     "data": {
      "text/plain": [
       "array([1, 1, 1, 1, 1, 0, 1, 1, 0, 0, 0, 0, 1, 0, 1, 0, 0, 1, 0, 1, 1, 0, 1,\n",
       "       0, 0, 0, 0, 0, 0, 0, 1, 0, 0, 1, 0, 0, 0, 1, 0, 0, 1, 0, 1, 0, 1, 1,\n",
       "       1, 1, 1, 1, 0, 0, 1, 0, 1, 1, 1, 1, 1, 0, 0, 0, 0, 0, 0, 0, 1, 0, 0,\n",
       "       1, 1, 1, 1, 1, 1, 1, 0, 1, 0, 1, 0, 1, 1, 0, 1, 0, 1, 0, 0, 0, 0, 1,\n",
       "       1, 0, 1, 0, 1, 1, 1, 0, 0, 0, 1, 0, 0, 0, 1, 1, 1, 1, 1, 1, 1, 0, 0,\n",
       "       0, 0, 1, 1, 0, 1, 1, 0, 0, 1, 0, 1, 1, 1, 1, 0, 1, 0, 0, 1, 0, 0, 0,\n",
       "       1, 1, 0, 1, 1, 1, 0, 1, 0, 1, 0, 1, 1, 0, 1, 0, 1, 0, 1, 0, 0, 1, 0,\n",
       "       0, 0, 1, 0, 1, 1, 1, 1, 1, 0, 0, 1, 0, 0, 1, 1, 1, 0, 0, 1, 0, 1, 0,\n",
       "       1, 1, 0, 0, 0, 0, 1, 1, 0, 0, 0, 1, 0, 0, 0, 1, 0, 1, 1, 0, 1, 0, 0,\n",
       "       1, 0, 1, 0, 0, 0, 0, 0, 0, 1, 1, 1, 0, 1, 0, 1, 1, 0, 0, 0, 0, 0, 1,\n",
       "       0, 0, 1, 1, 0, 1, 0, 1, 1, 1, 1, 0, 1, 0, 0, 0, 0, 1, 1, 1, 1, 0, 0,\n",
       "       0, 1, 1, 1, 1, 0, 1, 1, 1, 0, 0, 1, 1, 0, 1, 0, 0, 1, 1, 1, 0, 1, 0,\n",
       "       1, 1, 0, 1, 0, 0, 0, 0, 0, 0, 0, 0, 1, 0, 1, 1, 1, 1, 0, 0, 1, 1, 1,\n",
       "       0, 0, 0, 1, 1, 1, 0, 0, 1, 1, 0, 1, 0, 1, 0, 1, 0, 0, 0, 1, 0, 1, 1,\n",
       "       0, 0, 1, 0, 0, 1, 0, 0, 1, 0, 0, 1, 0, 1, 1, 0, 0, 1, 1, 0, 0, 0, 1,\n",
       "       1, 1, 1, 1, 1, 0, 1, 0, 0, 1, 1, 1, 0, 0, 1, 1, 1, 1, 0, 1, 1, 0, 1,\n",
       "       1, 1, 1, 1, 1, 0, 0, 0, 0, 0, 0, 0, 1, 1, 0, 0, 1, 1, 1, 0, 1, 1, 0,\n",
       "       0, 0, 1, 0, 1, 1, 1, 1, 1, 0, 1, 0, 0, 1, 1, 0, 0, 0, 0, 1, 1, 1, 1,\n",
       "       0, 0, 0, 0, 0, 0, 1, 1, 0, 0, 0, 0, 0, 0, 0, 1, 0, 1, 0, 1, 1, 0, 1,\n",
       "       0, 1, 0, 1, 0, 1, 1, 1, 0, 1, 0, 0, 0, 0, 0, 1, 1, 1, 1, 1, 0, 0, 1,\n",
       "       0, 1, 0, 1, 1, 1, 1, 0, 0, 1, 1, 0, 0, 0, 1, 0, 1, 0, 0, 1, 1, 1, 0,\n",
       "       0, 1, 0, 1, 1, 1, 0, 1, 1, 1, 1, 1, 0, 1, 0, 1, 1, 0, 0, 1, 1, 0, 0,\n",
       "       1, 1, 1, 1, 0, 0, 1, 1, 0, 0, 1, 0, 0, 0, 0, 1, 1, 0, 0, 0, 1, 0, 1,\n",
       "       1, 0, 0, 1, 1, 1, 0, 0, 1, 0, 1, 1, 0, 1, 1, 0, 1, 1, 0, 1, 0, 0, 1,\n",
       "       1, 0, 0, 0, 1, 0, 0, 1, 0, 1, 0, 0, 0, 1, 0, 1, 1, 0, 1, 0, 0, 1, 1,\n",
       "       1, 0, 0, 0, 0, 0, 1, 0, 1, 0, 1, 0, 0, 0, 1, 0, 0, 1, 1, 1, 1, 0, 1,\n",
       "       1, 0, 1, 1, 0, 1, 0, 1, 0, 1, 0, 0, 0, 1, 0, 1, 1, 1, 1, 1, 0, 0, 0,\n",
       "       1, 1, 0, 0, 1, 0, 0, 0, 1, 0, 1, 1, 1, 0, 1, 0, 1, 1, 0, 1, 1, 1, 1,\n",
       "       1, 0, 1, 0, 0, 0, 0, 1, 1, 0, 0, 0, 1, 0, 1, 1, 1, 0, 1, 0, 1, 0, 0,\n",
       "       1, 0, 0, 0, 0, 0, 0, 1, 0, 0, 0, 1, 1, 1, 0, 1, 0, 1, 0, 1, 1, 1, 0,\n",
       "       0, 0, 1, 0, 0, 1, 1, 0, 0, 0, 1, 0, 0, 1, 1, 0, 0, 1, 0, 0, 0, 0, 1,\n",
       "       1, 1, 0, 0, 0, 1, 0, 0, 1, 1, 1, 0, 0, 1, 0, 1, 0, 1, 1, 0, 1, 1, 0,\n",
       "       1, 1, 1, 1, 0, 0, 1, 0, 1, 1, 0, 0, 0, 1, 0, 0, 0, 1, 1, 1, 1, 1, 0,\n",
       "       1, 1, 1, 1, 1, 0, 1, 0, 0, 0, 0, 0, 0, 0, 0, 1, 0, 1, 0, 1, 0, 1, 0,\n",
       "       1, 0, 1, 1, 1, 0, 0, 1, 1, 0, 1, 1, 0, 0, 1, 0, 0, 0, 0, 0, 0, 0, 0,\n",
       "       0, 0, 0, 0, 0, 1, 0, 0, 1, 1, 1, 1, 1, 1, 1, 1, 1, 1, 0, 1, 0, 0, 1,\n",
       "       0, 1, 1, 1, 1, 0, 1, 1, 1, 1, 1, 0, 1, 1, 0, 1, 1, 0, 0, 0, 0, 0, 0,\n",
       "       1, 0, 1, 1, 0, 1, 1, 0, 1, 1, 1, 1, 1, 1, 1, 0, 0, 0, 0, 0, 0, 0, 1,\n",
       "       1, 0, 1, 0, 1, 1, 0, 0, 1, 1, 1, 0, 1, 0, 1, 0, 0, 1, 1, 0, 1, 0, 0,\n",
       "       1, 0, 1, 1, 1, 1, 1, 0, 1, 0, 0, 1, 0, 0, 1, 0, 0, 1, 0, 1, 0, 1, 1,\n",
       "       1, 0, 0, 0, 0, 0, 0, 1, 1, 0, 0, 0, 1, 0, 1, 1, 0, 0, 0, 1, 0, 1, 0,\n",
       "       1, 0, 1, 1, 1, 0, 1, 0, 1, 0, 1, 0, 1, 0, 0, 0, 0, 1, 1, 1, 0, 1, 1,\n",
       "       0, 0, 1, 1, 0, 1, 0, 1, 0, 0, 1, 1, 0, 1, 1, 0, 1, 1, 0, 0, 0, 1, 1,\n",
       "       1, 0, 0, 1, 1, 0, 1, 1, 1, 1, 0])"
      ]
     },
     "execution_count": 493,
     "metadata": {},
     "output_type": "execute_result"
    }
   ],
   "source": [
    "draws"
   ]
  },
  {
   "cell_type": "code",
   "execution_count": 494,
   "metadata": {
    "collapsed": true
   },
   "outputs": [],
   "source": [
    "steps = np.where(draws > 0, 1, -1)   \n",
    "#draws의 값이 0보다 크면 1, 그렇지 않으면 -1"
   ]
  },
  {
   "cell_type": "code",
   "execution_count": 495,
   "metadata": {
    "collapsed": true
   },
   "outputs": [],
   "source": [
    "walk = steps.cumsum()"
   ]
  },
  {
   "cell_type": "code",
   "execution_count": 496,
   "metadata": {
    "collapsed": false
   },
   "outputs": [
    {
     "data": {
      "text/plain": [
       "array([ 1,  1,  1,  1,  1, -1,  1,  1, -1, -1, -1, -1,  1, -1,  1, -1, -1,\n",
       "        1, -1,  1,  1, -1,  1, -1, -1, -1, -1, -1, -1, -1,  1, -1, -1,  1,\n",
       "       -1, -1, -1,  1, -1, -1,  1, -1,  1, -1,  1,  1,  1,  1,  1,  1, -1,\n",
       "       -1,  1, -1,  1,  1,  1,  1,  1, -1, -1, -1, -1, -1, -1, -1,  1, -1,\n",
       "       -1,  1,  1,  1,  1,  1,  1,  1, -1,  1, -1,  1, -1,  1,  1, -1,  1,\n",
       "       -1,  1, -1, -1, -1, -1,  1,  1, -1,  1, -1,  1,  1,  1, -1, -1, -1,\n",
       "        1, -1, -1, -1,  1,  1,  1,  1,  1,  1,  1, -1, -1, -1, -1,  1,  1,\n",
       "       -1,  1,  1, -1, -1,  1, -1,  1,  1,  1,  1, -1,  1, -1, -1,  1, -1,\n",
       "       -1, -1,  1,  1, -1,  1,  1,  1, -1,  1, -1,  1, -1,  1,  1, -1,  1,\n",
       "       -1,  1, -1,  1, -1, -1,  1, -1, -1, -1,  1, -1,  1,  1,  1,  1,  1,\n",
       "       -1, -1,  1, -1, -1,  1,  1,  1, -1, -1,  1, -1,  1, -1,  1,  1, -1,\n",
       "       -1, -1, -1,  1,  1, -1, -1, -1,  1, -1, -1, -1,  1, -1,  1,  1, -1,\n",
       "        1, -1, -1,  1, -1,  1, -1, -1, -1, -1, -1, -1,  1,  1,  1, -1,  1,\n",
       "       -1,  1,  1, -1, -1, -1, -1, -1,  1, -1, -1,  1,  1, -1,  1, -1,  1,\n",
       "        1,  1,  1, -1,  1, -1, -1, -1, -1,  1,  1,  1,  1, -1, -1, -1,  1,\n",
       "        1,  1,  1, -1,  1,  1,  1, -1, -1,  1,  1, -1,  1, -1, -1,  1,  1,\n",
       "        1, -1,  1, -1,  1,  1, -1,  1, -1, -1, -1, -1, -1, -1, -1, -1,  1,\n",
       "       -1,  1,  1,  1,  1, -1, -1,  1,  1,  1, -1, -1, -1,  1,  1,  1, -1,\n",
       "       -1,  1,  1, -1,  1, -1,  1, -1,  1, -1, -1, -1,  1, -1,  1,  1, -1,\n",
       "       -1,  1, -1, -1,  1, -1, -1,  1, -1, -1,  1, -1,  1,  1, -1, -1,  1,\n",
       "        1, -1, -1, -1,  1,  1,  1,  1,  1,  1, -1,  1, -1, -1,  1,  1,  1,\n",
       "       -1, -1,  1,  1,  1,  1, -1,  1,  1, -1,  1,  1,  1,  1,  1,  1, -1,\n",
       "       -1, -1, -1, -1, -1, -1,  1,  1, -1, -1,  1,  1,  1, -1,  1,  1, -1,\n",
       "       -1, -1,  1, -1,  1,  1,  1,  1,  1, -1,  1, -1, -1,  1,  1, -1, -1,\n",
       "       -1, -1,  1,  1,  1,  1, -1, -1, -1, -1, -1, -1,  1,  1, -1, -1, -1,\n",
       "       -1, -1, -1, -1,  1, -1,  1, -1,  1,  1, -1,  1, -1,  1, -1,  1, -1,\n",
       "        1,  1,  1, -1,  1, -1, -1, -1, -1, -1,  1,  1,  1,  1,  1, -1, -1,\n",
       "        1, -1,  1, -1,  1,  1,  1,  1, -1, -1,  1,  1, -1, -1, -1,  1, -1,\n",
       "        1, -1, -1,  1,  1,  1, -1, -1,  1, -1,  1,  1,  1, -1,  1,  1,  1,\n",
       "        1,  1, -1,  1, -1,  1,  1, -1, -1,  1,  1, -1, -1,  1,  1,  1,  1,\n",
       "       -1, -1,  1,  1, -1, -1,  1, -1, -1, -1, -1,  1,  1, -1, -1, -1,  1,\n",
       "       -1,  1,  1, -1, -1,  1,  1,  1, -1, -1,  1, -1,  1,  1, -1,  1,  1,\n",
       "       -1,  1,  1, -1,  1, -1, -1,  1,  1, -1, -1, -1,  1, -1, -1,  1, -1,\n",
       "        1, -1, -1, -1,  1, -1,  1,  1, -1,  1, -1, -1,  1,  1,  1, -1, -1,\n",
       "       -1, -1, -1,  1, -1,  1, -1,  1, -1, -1, -1,  1, -1, -1,  1,  1,  1,\n",
       "        1, -1,  1,  1, -1,  1,  1, -1,  1, -1,  1, -1,  1, -1, -1, -1,  1,\n",
       "       -1,  1,  1,  1,  1,  1, -1, -1, -1,  1,  1, -1, -1,  1, -1, -1, -1,\n",
       "        1, -1,  1,  1,  1, -1,  1, -1,  1,  1, -1,  1,  1,  1,  1,  1, -1,\n",
       "        1, -1, -1, -1, -1,  1,  1, -1, -1, -1,  1, -1,  1,  1,  1, -1,  1,\n",
       "       -1,  1, -1, -1,  1, -1, -1, -1, -1, -1, -1,  1, -1, -1, -1,  1,  1,\n",
       "        1, -1,  1, -1,  1, -1,  1,  1,  1, -1, -1, -1,  1, -1, -1,  1,  1,\n",
       "       -1, -1, -1,  1, -1, -1,  1,  1, -1, -1,  1, -1, -1, -1, -1,  1,  1,\n",
       "        1, -1, -1, -1,  1, -1, -1,  1,  1,  1, -1, -1,  1, -1,  1, -1,  1,\n",
       "        1, -1,  1,  1, -1,  1,  1,  1,  1, -1, -1,  1, -1,  1,  1, -1, -1,\n",
       "       -1,  1, -1, -1, -1,  1,  1,  1,  1,  1, -1,  1,  1,  1,  1,  1, -1,\n",
       "        1, -1, -1, -1, -1, -1, -1, -1, -1,  1, -1,  1, -1,  1, -1,  1, -1,\n",
       "        1, -1,  1,  1,  1, -1, -1,  1,  1, -1,  1,  1, -1, -1,  1, -1, -1,\n",
       "       -1, -1, -1, -1, -1, -1, -1, -1, -1, -1, -1,  1, -1, -1,  1,  1,  1,\n",
       "        1,  1,  1,  1,  1,  1,  1, -1,  1, -1, -1,  1, -1,  1,  1,  1,  1,\n",
       "       -1,  1,  1,  1,  1,  1, -1,  1,  1, -1,  1,  1, -1, -1, -1, -1, -1,\n",
       "       -1,  1, -1,  1,  1, -1,  1,  1, -1,  1,  1,  1,  1,  1,  1,  1, -1,\n",
       "       -1, -1, -1, -1, -1, -1,  1,  1, -1,  1, -1,  1,  1, -1, -1,  1,  1,\n",
       "        1, -1,  1, -1,  1, -1, -1,  1,  1, -1,  1, -1, -1,  1, -1,  1,  1,\n",
       "        1,  1,  1, -1,  1, -1, -1,  1, -1, -1,  1, -1, -1,  1, -1,  1, -1,\n",
       "        1,  1,  1, -1, -1, -1, -1, -1, -1,  1,  1, -1, -1, -1,  1, -1,  1,\n",
       "        1, -1, -1, -1,  1, -1,  1, -1,  1, -1,  1,  1,  1, -1,  1, -1,  1,\n",
       "       -1,  1, -1,  1, -1, -1, -1, -1,  1,  1,  1, -1,  1,  1, -1, -1,  1,\n",
       "        1, -1,  1, -1,  1, -1, -1,  1,  1, -1,  1,  1, -1,  1,  1, -1, -1,\n",
       "       -1,  1,  1,  1, -1, -1,  1,  1, -1,  1,  1,  1,  1, -1])"
      ]
     },
     "execution_count": 496,
     "metadata": {},
     "output_type": "execute_result"
    }
   ],
   "source": [
    "steps"
   ]
  },
  {
   "cell_type": "code",
   "execution_count": 497,
   "metadata": {
    "collapsed": false
   },
   "outputs": [
    {
     "data": {
      "text/plain": [
       "array([  1,   2,   3,   4,   5,   4,   5,   6,   5,   4,   3,   2,   3,\n",
       "         2,   3,   2,   1,   2,   1,   2,   3,   2,   3,   2,   1,   0,\n",
       "        -1,  -2,  -3,  -4,  -3,  -4,  -5,  -4,  -5,  -6,  -7,  -6,  -7,\n",
       "        -8,  -7,  -8,  -7,  -8,  -7,  -6,  -5,  -4,  -3,  -2,  -3,  -4,\n",
       "        -3,  -4,  -3,  -2,  -1,   0,   1,   0,  -1,  -2,  -3,  -4,  -5,\n",
       "        -6,  -5,  -6,  -7,  -6,  -5,  -4,  -3,  -2,  -1,   0,  -1,   0,\n",
       "        -1,   0,  -1,   0,   1,   0,   1,   0,   1,   0,  -1,  -2,  -3,\n",
       "        -2,  -1,  -2,  -1,  -2,  -1,   0,   1,   0,  -1,  -2,  -1,  -2,\n",
       "        -3,  -4,  -3,  -2,  -1,   0,   1,   2,   3,   2,   1,   0,  -1,\n",
       "         0,   1,   0,   1,   2,   1,   0,   1,   0,   1,   2,   3,   4,\n",
       "         3,   4,   3,   2,   3,   2,   1,   0,   1,   2,   1,   2,   3,\n",
       "         4,   3,   4,   3,   4,   3,   4,   5,   4,   5,   4,   5,   4,\n",
       "         5,   4,   3,   4,   3,   2,   1,   2,   1,   2,   3,   4,   5,\n",
       "         6,   5,   4,   5,   4,   3,   4,   5,   6,   5,   4,   5,   4,\n",
       "         5,   4,   5,   6,   5,   4,   3,   2,   3,   4,   3,   2,   1,\n",
       "         2,   1,   0,  -1,   0,  -1,   0,   1,   0,   1,   0,  -1,   0,\n",
       "        -1,   0,  -1,  -2,  -3,  -4,  -5,  -6,  -5,  -4,  -3,  -4,  -3,\n",
       "        -4,  -3,  -2,  -3,  -4,  -5,  -6,  -7,  -6,  -7,  -8,  -7,  -6,\n",
       "        -7,  -6,  -7,  -6,  -5,  -4,  -3,  -4,  -3,  -4,  -5,  -6,  -7,\n",
       "        -6,  -5,  -4,  -3,  -4,  -5,  -6,  -5,  -4,  -3,  -2,  -3,  -2,\n",
       "        -1,   0,  -1,  -2,  -1,   0,  -1,   0,  -1,  -2,  -1,   0,   1,\n",
       "         0,   1,   0,   1,   2,   1,   2,   1,   0,  -1,  -2,  -3,  -4,\n",
       "        -5,  -6,  -5,  -6,  -5,  -4,  -3,  -2,  -3,  -4,  -3,  -2,  -1,\n",
       "        -2,  -3,  -4,  -3,  -2,  -1,  -2,  -3,  -2,  -1,  -2,  -1,  -2,\n",
       "        -1,  -2,  -1,  -2,  -3,  -4,  -3,  -4,  -3,  -2,  -3,  -4,  -3,\n",
       "        -4,  -5,  -4,  -5,  -6,  -5,  -6,  -7,  -6,  -7,  -6,  -5,  -6,\n",
       "        -7,  -6,  -5,  -6,  -7,  -8,  -7,  -6,  -5,  -4,  -3,  -2,  -3,\n",
       "        -2,  -3,  -4,  -3,  -2,  -1,  -2,  -3,  -2,  -1,   0,   1,   0,\n",
       "         1,   2,   1,   2,   3,   4,   5,   6,   7,   6,   5,   4,   3,\n",
       "         2,   1,   0,   1,   2,   1,   0,   1,   2,   3,   2,   3,   4,\n",
       "         3,   2,   1,   2,   1,   2,   3,   4,   5,   6,   5,   6,   5,\n",
       "         4,   5,   6,   5,   4,   3,   2,   3,   4,   5,   6,   5,   4,\n",
       "         3,   2,   1,   0,   1,   2,   1,   0,  -1,  -2,  -3,  -4,  -5,\n",
       "        -4,  -5,  -4,  -5,  -4,  -3,  -4,  -3,  -4,  -3,  -4,  -3,  -4,\n",
       "        -3,  -2,  -1,  -2,  -1,  -2,  -3,  -4,  -5,  -6,  -5,  -4,  -3,\n",
       "        -2,  -1,  -2,  -3,  -2,  -3,  -2,  -3,  -2,  -1,   0,   1,   0,\n",
       "        -1,   0,   1,   0,  -1,  -2,  -1,  -2,  -1,  -2,  -3,  -2,  -1,\n",
       "         0,  -1,  -2,  -1,  -2,  -1,   0,   1,   0,   1,   2,   3,   4,\n",
       "         5,   4,   5,   4,   5,   6,   5,   4,   5,   6,   5,   4,   5,\n",
       "         6,   7,   8,   7,   6,   7,   8,   7,   6,   7,   6,   5,   4,\n",
       "         3,   4,   5,   4,   3,   2,   3,   2,   3,   4,   3,   2,   3,\n",
       "         4,   5,   4,   3,   4,   3,   4,   5,   4,   5,   6,   5,   6,\n",
       "         7,   6,   7,   6,   5,   6,   7,   6,   5,   4,   5,   4,   3,\n",
       "         4,   3,   4,   3,   2,   1,   2,   1,   2,   3,   2,   3,   2,\n",
       "         1,   2,   3,   4,   3,   2,   1,   0,  -1,   0,  -1,   0,  -1,\n",
       "         0,  -1,  -2,  -3,  -2,  -3,  -4,  -3,  -2,  -1,   0,  -1,   0,\n",
       "         1,   0,   1,   2,   1,   2,   1,   2,   1,   2,   1,   0,  -1,\n",
       "         0,  -1,   0,   1,   2,   3,   4,   3,   2,   1,   2,   3,   2,\n",
       "         1,   2,   1,   0,  -1,   0,  -1,   0,   1,   2,   1,   2,   1,\n",
       "         2,   3,   2,   3,   4,   5,   6,   7,   6,   7,   6,   5,   4,\n",
       "         3,   4,   5,   4,   3,   2,   3,   2,   3,   4,   5,   4,   5,\n",
       "         4,   5,   4,   3,   4,   3,   2,   1,   0,  -1,  -2,  -1,  -2,\n",
       "        -3,  -4,  -3,  -2,  -1,  -2,  -1,  -2,  -1,  -2,  -1,   0,   1,\n",
       "         0,  -1,  -2,  -1,  -2,  -3,  -2,  -1,  -2,  -3,  -4,  -3,  -4,\n",
       "        -5,  -4,  -3,  -4,  -5,  -4,  -5,  -6,  -7,  -8,  -7,  -6,  -5,\n",
       "        -6,  -7,  -8,  -7,  -8,  -9,  -8,  -7,  -6,  -7,  -8,  -7,  -8,\n",
       "        -7,  -8,  -7,  -6,  -7,  -6,  -5,  -6,  -5,  -4,  -3,  -2,  -3,\n",
       "        -4,  -3,  -4,  -3,  -2,  -3,  -4,  -5,  -4,  -5,  -6,  -7,  -6,\n",
       "        -5,  -4,  -3,  -2,  -3,  -2,  -1,   0,   1,   2,   1,   2,   1,\n",
       "         0,  -1,  -2,  -3,  -4,  -5,  -6,  -5,  -6,  -5,  -6,  -5,  -6,\n",
       "        -5,  -6,  -5,  -6,  -5,  -4,  -3,  -4,  -5,  -4,  -3,  -4,  -3,\n",
       "        -2,  -3,  -4,  -3,  -4,  -5,  -6,  -7,  -8,  -9, -10, -11, -12,\n",
       "       -13, -14, -15, -16, -15, -16, -17, -16, -15, -14, -13, -12, -11,\n",
       "       -10,  -9,  -8,  -7,  -8,  -7,  -8,  -9,  -8,  -9,  -8,  -7,  -6,\n",
       "        -5,  -6,  -5,  -4,  -3,  -2,  -1,  -2,  -1,   0,  -1,   0,   1,\n",
       "         0,  -1,  -2,  -3,  -4,  -5,  -4,  -5,  -4,  -3,  -4,  -3,  -2,\n",
       "        -3,  -2,  -1,   0,   1,   2,   3,   4,   3,   2,   1,   0,  -1,\n",
       "        -2,  -3,  -2,  -1,  -2,  -1,  -2,  -1,   0,  -1,  -2,  -1,   0,\n",
       "         1,   0,   1,   0,   1,   0,  -1,   0,   1,   0,   1,   0,  -1,\n",
       "         0,  -1,   0,   1,   2,   3,   4,   3,   4,   3,   2,   3,   2,\n",
       "         1,   2,   1,   0,   1,   0,   1,   0,   1,   2,   3,   2,   1,\n",
       "         0,  -1,  -2,  -3,  -2,  -1,  -2,  -3,  -4,  -3,  -4,  -3,  -2,\n",
       "        -3,  -4,  -5,  -4,  -5,  -4,  -5,  -4,  -5,  -4,  -3,  -2,  -3,\n",
       "        -2,  -3,  -2,  -3,  -2,  -3,  -2,  -3,  -4,  -5,  -6,  -5,  -4,\n",
       "        -3,  -4,  -3,  -2,  -3,  -4,  -3,  -2,  -3,  -2,  -3,  -2,  -3,\n",
       "        -4,  -3,  -2,  -3,  -2,  -1,  -2,  -1,   0,  -1,  -2,  -3,  -2,\n",
       "        -1,   0,  -1,  -2,  -1,   0,  -1,   0,   1,   2,   3,   2])"
      ]
     },
     "execution_count": 497,
     "metadata": {},
     "output_type": "execute_result"
    }
   ],
   "source": [
    "walk"
   ]
  },
  {
   "cell_type": "code",
   "execution_count": 498,
   "metadata": {
    "collapsed": true
   },
   "outputs": [],
   "source": [
    "%matplotlib inline"
   ]
  },
  {
   "cell_type": "code",
   "execution_count": 499,
   "metadata": {
    "collapsed": false
   },
   "outputs": [
    {
     "data": {
      "text/plain": [
       "-17"
      ]
     },
     "execution_count": 499,
     "metadata": {},
     "output_type": "execute_result"
    }
   ],
   "source": [
    "walk.min()"
   ]
  },
  {
   "cell_type": "code",
   "execution_count": 500,
   "metadata": {
    "collapsed": false
   },
   "outputs": [
    {
     "data": {
      "text/plain": [
       "8"
      ]
     },
     "execution_count": 500,
     "metadata": {},
     "output_type": "execute_result"
    }
   ],
   "source": [
    "walk.max()"
   ]
  },
  {
   "cell_type": "markdown",
   "metadata": {},
   "source": [
    "- 계단의 처음 위치에서 최초로 10칸 떨어지기까지 얼마나 걸렸는지 확인"
   ]
  },
  {
   "cell_type": "code",
   "execution_count": 501,
   "metadata": {
    "collapsed": false
   },
   "outputs": [
    {
     "data": {
      "text/plain": [
       "803"
      ]
     },
     "execution_count": 501,
     "metadata": {},
     "output_type": "execute_result"
    }
   ],
   "source": [
    "(np.abs(walk) >= 10).argmax()   \n",
    "#처음 위치에서 10칸 이상 떨어진 시점을 알려주는 불리언 배열을 얻을 수 있다. \n",
    "#(처음으로 10칸 떨어진 위치)\n",
    "#argmax()는 전체 배열을 확인하기 때문에 효과적인 방법은 아니다."
   ]
  },
  {
   "cell_type": "markdown",
   "metadata": {},
   "source": [
    "### 1) 한 번에 계단 오르내리기 시뮬레이션하기"
   ]
  },
  {
   "cell_type": "markdown",
   "metadata": {},
   "source": [
    "- numpy.random 함수에 크기가 2인 튜플을 넘기면 2차원 배열이 생성\n",
    "- 각 칼럼에 누적 합을 구해 5000회의 시뮬레이션을 한번에 처리할 수 있다."
   ]
  },
  {
   "cell_type": "code",
   "execution_count": 503,
   "metadata": {
    "collapsed": true
   },
   "outputs": [],
   "source": [
    "nwalks = 5000"
   ]
  },
  {
   "cell_type": "code",
   "execution_count": 504,
   "metadata": {
    "collapsed": true
   },
   "outputs": [],
   "source": [
    "nsteps = 1000"
   ]
  },
  {
   "cell_type": "code",
   "execution_count": 505,
   "metadata": {
    "collapsed": true
   },
   "outputs": [],
   "source": [
    "draws = np.random.randint(0, 2, size=(nwalks, nsteps))  #0 or 1, 5000X1000 행렬 생성"
   ]
  },
  {
   "cell_type": "code",
   "execution_count": 506,
   "metadata": {
    "collapsed": true
   },
   "outputs": [],
   "source": [
    "steps = np.where(draws > 0, 1, -1)"
   ]
  },
  {
   "cell_type": "code",
   "execution_count": 507,
   "metadata": {
    "collapsed": false,
    "scrolled": true
   },
   "outputs": [
    {
     "data": {
      "text/plain": [
       "array([[ 1, -1,  1, ...,  1, -1,  1],\n",
       "       [ 1,  1,  1, ..., -1, -1,  1],\n",
       "       [ 1, -1, -1, ...,  1,  1, -1],\n",
       "       ..., \n",
       "       [-1, -1,  1, ...,  1, -1,  1],\n",
       "       [-1,  1, -1, ..., -1, -1, -1],\n",
       "       [-1, -1,  1, ...,  1, -1,  1]])"
      ]
     },
     "execution_count": 507,
     "metadata": {},
     "output_type": "execute_result"
    }
   ],
   "source": [
    "steps"
   ]
  },
  {
   "cell_type": "code",
   "execution_count": 514,
   "metadata": {
    "collapsed": false
   },
   "outputs": [
    {
     "data": {
      "text/plain": [
       "(5000L, 1000L)"
      ]
     },
     "execution_count": 514,
     "metadata": {},
     "output_type": "execute_result"
    }
   ],
   "source": [
    "steps.shape"
   ]
  },
  {
   "cell_type": "code",
   "execution_count": 508,
   "metadata": {
    "collapsed": true
   },
   "outputs": [],
   "source": [
    "walks = steps.cumsum(1)"
   ]
  },
  {
   "cell_type": "code",
   "execution_count": 509,
   "metadata": {
    "collapsed": false
   },
   "outputs": [
    {
     "data": {
      "text/plain": [
       "array([[  1,   0,   1, ..., -18, -19, -18],\n",
       "       [  1,   2,   3, ...,  14,  13,  14],\n",
       "       [  1,   0,  -1, ...,  16,  17,  16],\n",
       "       ..., \n",
       "       [ -1,  -2,  -1, ...,  -6,  -7,  -6],\n",
       "       [ -1,   0,  -1, ...,  18,  17,  16],\n",
       "       [ -1,  -2,  -1, ...,  -6,  -7,  -6]])"
      ]
     },
     "execution_count": 509,
     "metadata": {},
     "output_type": "execute_result"
    }
   ],
   "source": [
    "walks"
   ]
  },
  {
   "cell_type": "code",
   "execution_count": 510,
   "metadata": {
    "collapsed": false
   },
   "outputs": [
    {
     "data": {
      "text/plain": [
       "112"
      ]
     },
     "execution_count": 510,
     "metadata": {},
     "output_type": "execute_result"
    }
   ],
   "source": [
    "walks.max()"
   ]
  },
  {
   "cell_type": "code",
   "execution_count": 511,
   "metadata": {
    "collapsed": false
   },
   "outputs": [
    {
     "data": {
      "text/plain": [
       "-114"
      ]
     },
     "execution_count": 511,
     "metadata": {},
     "output_type": "execute_result"
    }
   ],
   "source": [
    "walks.min()"
   ]
  },
  {
   "cell_type": "markdown",
   "metadata": {},
   "source": [
    "- 누적 합이 30 혹은 -30이 되는 최소 시점을 계산해 보는 방법"
   ]
  },
  {
   "cell_type": "code",
   "execution_count": 516,
   "metadata": {
    "collapsed": true
   },
   "outputs": [],
   "source": [
    "hits30 = (np.abs(walks) >= 30).any(1)   \n",
    "#각 행 별로 any메서드를 사용하여 30이 되는 것을 bool로 출력 하도록 한다."
   ]
  },
  {
   "cell_type": "code",
   "execution_count": 517,
   "metadata": {
    "collapsed": false
   },
   "outputs": [
    {
     "data": {
      "text/plain": [
       "array([ True, False,  True, ...,  True, False, False], dtype=bool)"
      ]
     },
     "execution_count": 517,
     "metadata": {},
     "output_type": "execute_result"
    }
   ],
   "source": [
    "hits30"
   ]
  },
  {
   "cell_type": "code",
   "execution_count": 518,
   "metadata": {
    "collapsed": false
   },
   "outputs": [
    {
     "data": {
      "text/plain": [
       "3379"
      ]
     },
     "execution_count": 518,
     "metadata": {},
     "output_type": "execute_result"
    }
   ],
   "source": [
    "hits30.sum()   #30 혹은 -30에 도달한 시뮬레이션의 개수를 출력"
   ]
  },
  {
   "cell_type": "markdown",
   "metadata": {},
   "source": [
    "- 이 불리언 배열을 사용해 walks에서 칼럼을 선태갛고 절대 값이 30이 넘는 경우에 대해\n",
    "- 축 1의 argmax 값을 구하면 처음 위치에서 30칸 이상 멀어지는 최소 횟수를 구할 수 있다."
   ]
  },
  {
   "cell_type": "code",
   "execution_count": 519,
   "metadata": {
    "collapsed": true
   },
   "outputs": [],
   "source": [
    "crossing_times = (np.abs(walks[hits30]) >= 30).argmax(1)"
   ]
  },
  {
   "cell_type": "code",
   "execution_count": 520,
   "metadata": {
    "collapsed": false
   },
   "outputs": [
    {
     "data": {
      "text/plain": [
       "array([959, 445, 901, ..., 901, 207, 237], dtype=int64)"
      ]
     },
     "execution_count": 520,
     "metadata": {},
     "output_type": "execute_result"
    }
   ],
   "source": [
    "crossing_times"
   ]
  },
  {
   "cell_type": "code",
   "execution_count": 521,
   "metadata": {
    "collapsed": false
   },
   "outputs": [
    {
     "data": {
      "text/plain": [
       "508.46729801716486"
      ]
     },
     "execution_count": 521,
     "metadata": {},
     "output_type": "execute_result"
    }
   ],
   "source": [
    "crossing_times.mean()  #위치의 평균"
   ]
  },
  {
   "cell_type": "markdown",
   "metadata": {},
   "source": [
    "- normal함수에 표준편차와 평균 값을 넣어 정규분포에서 표본을 추출하는 것처럼 그냥 다른 난수 발생 함수를 사용하기만 하면 된다."
   ]
  },
  {
   "cell_type": "code",
   "execution_count": 522,
   "metadata": {
    "collapsed": true
   },
   "outputs": [],
   "source": [
    "steps = np.random.normal(loc=0, scale=0.25, size=(nwalks, nsteps))"
   ]
  },
  {
   "cell_type": "code",
   "execution_count": 523,
   "metadata": {
    "collapsed": false
   },
   "outputs": [
    {
     "data": {
      "text/plain": [
       "array([[-0.03055868, -0.07124562,  0.44260211, ...,  0.27971352,\n",
       "         0.06390797,  0.06964645],\n",
       "       [-0.14093553,  0.37544229,  0.30715326, ..., -0.3178269 ,\n",
       "        -0.097994  , -0.25014538],\n",
       "       [-0.13191069,  0.06885259, -0.06424806, ..., -0.25060348,\n",
       "         0.15120525,  0.10617103],\n",
       "       ..., \n",
       "       [ 0.31557038, -0.27065326, -0.21941603, ...,  0.17786876,\n",
       "        -0.16051255, -0.03565629],\n",
       "       [ 0.01739003,  0.13750979,  0.25035451, ...,  0.16023375,\n",
       "         0.17348479,  0.36364846],\n",
       "       [ 0.25589946,  0.61532316,  0.37256154, ..., -0.47331691,\n",
       "         0.37691945,  0.20975417]])"
      ]
     },
     "execution_count": 523,
     "metadata": {},
     "output_type": "execute_result"
    }
   ],
   "source": [
    "steps"
   ]
  },
  {
   "cell_type": "code",
   "execution_count": 524,
   "metadata": {
    "collapsed": false
   },
   "outputs": [
    {
     "data": {
      "text/plain": [
       "(5000L, 1000L)"
      ]
     },
     "execution_count": 524,
     "metadata": {},
     "output_type": "execute_result"
    }
   ],
   "source": [
    "steps.shape"
   ]
  },
  {
   "cell_type": "code",
   "execution_count": null,
   "metadata": {
    "collapsed": true
   },
   "outputs": [],
   "source": []
  }
 ],
 "metadata": {
  "kernelspec": {
   "display_name": "Python 2",
   "language": "python",
   "name": "python2"
  },
  "language_info": {
   "codemirror_mode": {
    "name": "ipython",
    "version": 2
   },
   "file_extension": ".py",
   "mimetype": "text/x-python",
   "name": "python",
   "nbconvert_exporter": "python",
   "pygments_lexer": "ipython2",
   "version": "2.7.9"
  }
 },
 "nbformat": 4,
 "nbformat_minor": 0
}
