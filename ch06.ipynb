{
 "cells": [
  {
   "cell_type": "markdown",
   "metadata": {},
   "source": [
    "## Data loading, storage, and file formats"
   ]
  },
  {
   "cell_type": "code",
   "execution_count": 1,
   "metadata": {
    "collapsed": true
   },
   "outputs": [],
   "source": [
    "from __future__ import division\n",
    "from numpy.random import randn\n",
    "import numpy as np\n",
    "import os\n",
    "import matplotlib.pyplot as plt"
   ]
  },
  {
   "cell_type": "code",
   "execution_count": 2,
   "metadata": {
    "collapsed": true
   },
   "outputs": [],
   "source": [
    "np.random.seed(12345)\n",
    "plt.rc('figure', figsize=(10, 6))"
   ]
  },
  {
   "cell_type": "code",
   "execution_count": 3,
   "metadata": {
    "collapsed": true
   },
   "outputs": [],
   "source": [
    "from pandas import Series, DataFrame\n",
    "import pandas as pd\n",
    "np.set_printoptions(precision=4)"
   ]
  },
  {
   "cell_type": "code",
   "execution_count": 4,
   "metadata": {
    "collapsed": false
   },
   "outputs": [
    {
     "data": {
      "text/plain": [
       "u'C:\\\\Users\\\\S525'"
      ]
     },
     "execution_count": 4,
     "metadata": {},
     "output_type": "execute_result"
    }
   ],
   "source": [
    "%pwd"
   ]
  },
  {
   "cell_type": "code",
   "execution_count": 5,
   "metadata": {
    "collapsed": false
   },
   "outputs": [
    {
     "data": {
      "text/plain": [
       "['a,b,c,d,message\\n', '1,2,3,4,hello\\n', '5,6,7,8,world\\n', '9,10,11,12,foo']"
      ]
     },
     "execution_count": 5,
     "metadata": {},
     "output_type": "execute_result"
    }
   ],
   "source": [
    "#urllib를 이용하여 파일을 읽어온 경우\n",
    "import urllib\n",
    "list(urllib.urlopen('https://raw.githubusercontent.com/pydata/pydata-book/master/ch06/ex1.csv'))\n",
    "#해당 URL주소의 파일을 리스트로 만들어 주는 파이썬 기본 내장함수"
   ]
  },
  {
   "cell_type": "markdown",
   "metadata": {},
   "source": [
    "## Reading and Writing Data in Text Format"
   ]
  },
  {
   "cell_type": "code",
   "execution_count": 176,
   "metadata": {
    "collapsed": false
   },
   "outputs": [
    {
     "name": "stderr",
     "output_type": "stream",
     "text": [
      "'cat'은(는) 내부 또는 외부 명령, 실행할 수 있는 프로그램, 또는\n",
      "배치 파일이 아닙니다.\n"
     ]
    }
   ],
   "source": [
    "!cat ch06/ex1.csv"
   ]
  },
  {
   "cell_type": "code",
   "execution_count": 7,
   "metadata": {
    "collapsed": false
   },
   "outputs": [
    {
     "data": {
      "text/html": [
       "<div style=\"max-height:1000px;max-width:1500px;overflow:auto;\">\n",
       "<table border=\"1\" class=\"dataframe\">\n",
       "  <thead>\n",
       "    <tr style=\"text-align: right;\">\n",
       "      <th></th>\n",
       "      <th>a</th>\n",
       "      <th>b</th>\n",
       "      <th>c</th>\n",
       "      <th>d</th>\n",
       "      <th>message</th>\n",
       "    </tr>\n",
       "  </thead>\n",
       "  <tbody>\n",
       "    <tr>\n",
       "      <th>0</th>\n",
       "      <td>1</td>\n",
       "      <td>2</td>\n",
       "      <td>3</td>\n",
       "      <td>4</td>\n",
       "      <td>hello</td>\n",
       "    </tr>\n",
       "    <tr>\n",
       "      <th>1</th>\n",
       "      <td>5</td>\n",
       "      <td>6</td>\n",
       "      <td>7</td>\n",
       "      <td>8</td>\n",
       "      <td>world</td>\n",
       "    </tr>\n",
       "    <tr>\n",
       "      <th>2</th>\n",
       "      <td>9</td>\n",
       "      <td>10</td>\n",
       "      <td>11</td>\n",
       "      <td>12</td>\n",
       "      <td>foo</td>\n",
       "    </tr>\n",
       "  </tbody>\n",
       "</table>\n",
       "</div>"
      ],
      "text/plain": [
       "   a   b   c   d message\n",
       "0  1   2   3   4   hello\n",
       "1  5   6   7   8   world\n",
       "2  9  10  11  12     foo"
      ]
     },
     "execution_count": 7,
     "metadata": {},
     "output_type": "execute_result"
    }
   ],
   "source": [
    "df = pd.read_csv('ch06/ex1.csv')\n",
    "df"
   ]
  },
  {
   "cell_type": "code",
   "execution_count": 8,
   "metadata": {
    "collapsed": false
   },
   "outputs": [
    {
     "data": {
      "text/html": [
       "<div style=\"max-height:1000px;max-width:1500px;overflow:auto;\">\n",
       "<table border=\"1\" class=\"dataframe\">\n",
       "  <thead>\n",
       "    <tr style=\"text-align: right;\">\n",
       "      <th></th>\n",
       "      <th>a</th>\n",
       "      <th>b</th>\n",
       "      <th>c</th>\n",
       "      <th>d</th>\n",
       "      <th>message</th>\n",
       "    </tr>\n",
       "  </thead>\n",
       "  <tbody>\n",
       "    <tr>\n",
       "      <th>0</th>\n",
       "      <td>1</td>\n",
       "      <td>2</td>\n",
       "      <td>3</td>\n",
       "      <td>4</td>\n",
       "      <td>hello</td>\n",
       "    </tr>\n",
       "    <tr>\n",
       "      <th>1</th>\n",
       "      <td>5</td>\n",
       "      <td>6</td>\n",
       "      <td>7</td>\n",
       "      <td>8</td>\n",
       "      <td>world</td>\n",
       "    </tr>\n",
       "    <tr>\n",
       "      <th>2</th>\n",
       "      <td>9</td>\n",
       "      <td>10</td>\n",
       "      <td>11</td>\n",
       "      <td>12</td>\n",
       "      <td>foo</td>\n",
       "    </tr>\n",
       "  </tbody>\n",
       "</table>\n",
       "</div>"
      ],
      "text/plain": [
       "   a   b   c   d message\n",
       "0  1   2   3   4   hello\n",
       "1  5   6   7   8   world\n",
       "2  9  10  11  12     foo"
      ]
     },
     "execution_count": 8,
     "metadata": {},
     "output_type": "execute_result"
    }
   ],
   "source": [
    "#read_table을 이용하여 쉼표를 구분자로 지정하여 읽어 올 수 있다.\n",
    "pd.read_table('https://raw.githubusercontent.com/pydata/pydata-book/master/ch06/ex1.csv', sep=',')"
   ]
  },
  {
   "cell_type": "markdown",
   "metadata": {},
   "source": [
    "- read_table = 쉼표를 구분자로 지정하여 읽어온다. \n",
    "- read_csv = dataframe 읽어온다."
   ]
  },
  {
   "cell_type": "code",
   "execution_count": 9,
   "metadata": {
    "collapsed": false
   },
   "outputs": [
    {
     "data": {
      "text/plain": [
       "['1,2,3,4,hello\\n', '5,6,7,8,world\\n', '9,10,11,12,foo']"
      ]
     },
     "execution_count": 9,
     "metadata": {},
     "output_type": "execute_result"
    }
   ],
   "source": [
    "list(urllib.urlopen('https://raw.githubusercontent.com/pydata/pydata-book/master/ch06/ex2.csv'))"
   ]
  },
  {
   "cell_type": "code",
   "execution_count": 10,
   "metadata": {
    "collapsed": false
   },
   "outputs": [
    {
     "data": {
      "text/html": [
       "<div style=\"max-height:1000px;max-width:1500px;overflow:auto;\">\n",
       "<table border=\"1\" class=\"dataframe\">\n",
       "  <thead>\n",
       "    <tr style=\"text-align: right;\">\n",
       "      <th></th>\n",
       "      <th>0</th>\n",
       "      <th>1</th>\n",
       "      <th>2</th>\n",
       "      <th>3</th>\n",
       "      <th>4</th>\n",
       "    </tr>\n",
       "  </thead>\n",
       "  <tbody>\n",
       "    <tr>\n",
       "      <th>0</th>\n",
       "      <td>1</td>\n",
       "      <td>2</td>\n",
       "      <td>3</td>\n",
       "      <td>4</td>\n",
       "      <td>hello</td>\n",
       "    </tr>\n",
       "    <tr>\n",
       "      <th>1</th>\n",
       "      <td>5</td>\n",
       "      <td>6</td>\n",
       "      <td>7</td>\n",
       "      <td>8</td>\n",
       "      <td>world</td>\n",
       "    </tr>\n",
       "    <tr>\n",
       "      <th>2</th>\n",
       "      <td>9</td>\n",
       "      <td>10</td>\n",
       "      <td>11</td>\n",
       "      <td>12</td>\n",
       "      <td>foo</td>\n",
       "    </tr>\n",
       "  </tbody>\n",
       "</table>\n",
       "</div>"
      ],
      "text/plain": [
       "   0   1   2   3      4\n",
       "0  1   2   3   4  hello\n",
       "1  5   6   7   8  world\n",
       "2  9  10  11  12    foo"
      ]
     },
     "execution_count": 10,
     "metadata": {},
     "output_type": "execute_result"
    }
   ],
   "source": [
    "#pandas가 자동으로 칼럼을 생성하도록 하는 옵션, 다양하게 지정도 가능\n",
    "pd.read_csv('https://raw.githubusercontent.com/pydata/pydata-book/master/ch06/ex2.csv', header=None)"
   ]
  },
  {
   "cell_type": "code",
   "execution_count": 11,
   "metadata": {
    "collapsed": false
   },
   "outputs": [
    {
     "data": {
      "text/html": [
       "<div style=\"max-height:1000px;max-width:1500px;overflow:auto;\">\n",
       "<table border=\"1\" class=\"dataframe\">\n",
       "  <thead>\n",
       "    <tr style=\"text-align: right;\">\n",
       "      <th></th>\n",
       "      <th>a</th>\n",
       "      <th>b</th>\n",
       "      <th>c</th>\n",
       "      <th>d</th>\n",
       "      <th>message</th>\n",
       "    </tr>\n",
       "  </thead>\n",
       "  <tbody>\n",
       "    <tr>\n",
       "      <th>0</th>\n",
       "      <td>1</td>\n",
       "      <td>2</td>\n",
       "      <td>3</td>\n",
       "      <td>4</td>\n",
       "      <td>hello</td>\n",
       "    </tr>\n",
       "    <tr>\n",
       "      <th>1</th>\n",
       "      <td>5</td>\n",
       "      <td>6</td>\n",
       "      <td>7</td>\n",
       "      <td>8</td>\n",
       "      <td>world</td>\n",
       "    </tr>\n",
       "    <tr>\n",
       "      <th>2</th>\n",
       "      <td>9</td>\n",
       "      <td>10</td>\n",
       "      <td>11</td>\n",
       "      <td>12</td>\n",
       "      <td>foo</td>\n",
       "    </tr>\n",
       "  </tbody>\n",
       "</table>\n",
       "</div>"
      ],
      "text/plain": [
       "   a   b   c   d message\n",
       "0  1   2   3   4   hello\n",
       "1  5   6   7   8   world\n",
       "2  9  10  11  12     foo"
      ]
     },
     "execution_count": 11,
     "metadata": {},
     "output_type": "execute_result"
    }
   ],
   "source": [
    "pd.read_csv('https://raw.githubusercontent.com/pydata/pydata-book/master/ch06/ex2.csv', names=['a', 'b', 'c', 'd', 'message'])"
   ]
  },
  {
   "cell_type": "code",
   "execution_count": 12,
   "metadata": {
    "collapsed": true
   },
   "outputs": [],
   "source": [
    "names = ['a','b','c','d','message']"
   ]
  },
  {
   "cell_type": "code",
   "execution_count": 13,
   "metadata": {
    "collapsed": false
   },
   "outputs": [
    {
     "data": {
      "text/html": [
       "<div style=\"max-height:1000px;max-width:1500px;overflow:auto;\">\n",
       "<table border=\"1\" class=\"dataframe\">\n",
       "  <thead>\n",
       "    <tr style=\"text-align: right;\">\n",
       "      <th></th>\n",
       "      <th>a</th>\n",
       "      <th>b</th>\n",
       "      <th>c</th>\n",
       "      <th>d</th>\n",
       "    </tr>\n",
       "    <tr>\n",
       "      <th>message</th>\n",
       "      <th></th>\n",
       "      <th></th>\n",
       "      <th></th>\n",
       "      <th></th>\n",
       "    </tr>\n",
       "  </thead>\n",
       "  <tbody>\n",
       "    <tr>\n",
       "      <th>hello</th>\n",
       "      <td>1</td>\n",
       "      <td>2</td>\n",
       "      <td>3</td>\n",
       "      <td>4</td>\n",
       "    </tr>\n",
       "    <tr>\n",
       "      <th>world</th>\n",
       "      <td>5</td>\n",
       "      <td>6</td>\n",
       "      <td>7</td>\n",
       "      <td>8</td>\n",
       "    </tr>\n",
       "    <tr>\n",
       "      <th>foo</th>\n",
       "      <td>9</td>\n",
       "      <td>10</td>\n",
       "      <td>11</td>\n",
       "      <td>12</td>\n",
       "    </tr>\n",
       "  </tbody>\n",
       "</table>\n",
       "</div>"
      ],
      "text/plain": [
       "         a   b   c   d\n",
       "message               \n",
       "hello    1   2   3   4\n",
       "world    5   6   7   8\n",
       "foo      9  10  11  12"
      ]
     },
     "execution_count": 13,
     "metadata": {},
     "output_type": "execute_result"
    }
   ],
   "source": [
    "pd.read_csv('https://raw.githubusercontent.com/pydata/pydata-book/master/ch06/ex2.csv', names=names, index_col='message')\n",
    "#message를 index로 하여 출력"
   ]
  },
  {
   "cell_type": "code",
   "execution_count": 16,
   "metadata": {
    "collapsed": false
   },
   "outputs": [
    {
     "data": {
      "text/html": [
       "<div style=\"max-height:1000px;max-width:1500px;overflow:auto;\">\n",
       "<table border=\"1\" class=\"dataframe\">\n",
       "  <thead>\n",
       "    <tr style=\"text-align: right;\">\n",
       "      <th></th>\n",
       "      <th>b</th>\n",
       "      <th>c</th>\n",
       "      <th>d</th>\n",
       "      <th>message</th>\n",
       "    </tr>\n",
       "    <tr>\n",
       "      <th>a</th>\n",
       "      <th></th>\n",
       "      <th></th>\n",
       "      <th></th>\n",
       "      <th></th>\n",
       "    </tr>\n",
       "  </thead>\n",
       "  <tbody>\n",
       "    <tr>\n",
       "      <th>1</th>\n",
       "      <td>2</td>\n",
       "      <td>3</td>\n",
       "      <td>4</td>\n",
       "      <td>hello</td>\n",
       "    </tr>\n",
       "    <tr>\n",
       "      <th>5</th>\n",
       "      <td>6</td>\n",
       "      <td>7</td>\n",
       "      <td>8</td>\n",
       "      <td>world</td>\n",
       "    </tr>\n",
       "    <tr>\n",
       "      <th>9</th>\n",
       "      <td>10</td>\n",
       "      <td>11</td>\n",
       "      <td>12</td>\n",
       "      <td>foo</td>\n",
       "    </tr>\n",
       "  </tbody>\n",
       "</table>\n",
       "</div>"
      ],
      "text/plain": [
       "    b   c   d message\n",
       "a                    \n",
       "1   2   3   4   hello\n",
       "5   6   7   8   world\n",
       "9  10  11  12     foo"
      ]
     },
     "execution_count": 16,
     "metadata": {},
     "output_type": "execute_result"
    }
   ],
   "source": [
    "pd.read_csv('https://raw.githubusercontent.com/pydata/pydata-book/master/ch06/ex2.csv', names=names, index_col='a')\n",
    "#a를 index로 하여 출력  (1,5,9가 index의 name으로 쓰임)"
   ]
  },
  {
   "cell_type": "code",
   "execution_count": 17,
   "metadata": {
    "collapsed": false
   },
   "outputs": [
    {
     "data": {
      "text/plain": [
       "['key1,key2,value1,value2\\n',\n",
       " 'one,a,1,2\\n',\n",
       " 'one,b,3,4\\n',\n",
       " 'one,c,5,6\\n',\n",
       " 'one,d,7,8\\n',\n",
       " 'two,a,9,10\\n',\n",
       " 'two,b,11,12\\n',\n",
       " 'two,c,13,14\\n',\n",
       " 'two,d,15,16\\n']"
      ]
     },
     "execution_count": 17,
     "metadata": {},
     "output_type": "execute_result"
    }
   ],
   "source": [
    "list(urllib.urlopen('https://raw.githubusercontent.com/pydata/pydata-book/master/ch06/csv_mindex.csv'))"
   ]
  },
  {
   "cell_type": "code",
   "execution_count": 18,
   "metadata": {
    "collapsed": false
   },
   "outputs": [
    {
     "data": {
      "text/html": [
       "<div style=\"max-height:1000px;max-width:1500px;overflow:auto;\">\n",
       "<table border=\"1\" class=\"dataframe\">\n",
       "  <thead>\n",
       "    <tr style=\"text-align: right;\">\n",
       "      <th></th>\n",
       "      <th></th>\n",
       "      <th>value1</th>\n",
       "      <th>value2</th>\n",
       "    </tr>\n",
       "    <tr>\n",
       "      <th>key1</th>\n",
       "      <th>key2</th>\n",
       "      <th></th>\n",
       "      <th></th>\n",
       "    </tr>\n",
       "  </thead>\n",
       "  <tbody>\n",
       "    <tr>\n",
       "      <th rowspan=\"4\" valign=\"top\">one</th>\n",
       "      <th>a</th>\n",
       "      <td>1</td>\n",
       "      <td>2</td>\n",
       "    </tr>\n",
       "    <tr>\n",
       "      <th>b</th>\n",
       "      <td>3</td>\n",
       "      <td>4</td>\n",
       "    </tr>\n",
       "    <tr>\n",
       "      <th>c</th>\n",
       "      <td>5</td>\n",
       "      <td>6</td>\n",
       "    </tr>\n",
       "    <tr>\n",
       "      <th>d</th>\n",
       "      <td>7</td>\n",
       "      <td>8</td>\n",
       "    </tr>\n",
       "    <tr>\n",
       "      <th rowspan=\"4\" valign=\"top\">two</th>\n",
       "      <th>a</th>\n",
       "      <td>9</td>\n",
       "      <td>10</td>\n",
       "    </tr>\n",
       "    <tr>\n",
       "      <th>b</th>\n",
       "      <td>11</td>\n",
       "      <td>12</td>\n",
       "    </tr>\n",
       "    <tr>\n",
       "      <th>c</th>\n",
       "      <td>13</td>\n",
       "      <td>14</td>\n",
       "    </tr>\n",
       "    <tr>\n",
       "      <th>d</th>\n",
       "      <td>15</td>\n",
       "      <td>16</td>\n",
       "    </tr>\n",
       "  </tbody>\n",
       "</table>\n",
       "</div>"
      ],
      "text/plain": [
       "           value1  value2\n",
       "key1 key2                \n",
       "one  a          1       2\n",
       "     b          3       4\n",
       "     c          5       6\n",
       "     d          7       8\n",
       "two  a          9      10\n",
       "     b         11      12\n",
       "     c         13      14\n",
       "     d         15      16"
      ]
     },
     "execution_count": 18,
     "metadata": {},
     "output_type": "execute_result"
    }
   ],
   "source": [
    "parsed = pd.read_csv('https://raw.githubusercontent.com/pydata/pydata-book/master/ch06/csv_mindex.csv', index_col=['key1', 'key2'])\n",
    "parsed    #key1, key2를 이용하여 계층적 색인이 가능하도록 하였다."
   ]
  },
  {
   "cell_type": "code",
   "execution_count": 19,
   "metadata": {
    "collapsed": false
   },
   "outputs": [
    {
     "name": "stdout",
     "output_type": "stream",
     "text": [
      "<type 'list'>\n",
      "['            A         B         C\\n', 'aaa -0.264438 -1.026059 -0.619500\\n', 'bbb  0.927272  0.302904 -0.032399\\n', 'ccc -0.264273 -0.386314 -0.217601\\n', 'ddd -0.871858 -0.348382  1.100491\\n']\n"
     ]
    }
   ],
   "source": [
    "a = list(urllib.urlopen('https://raw.githubusercontent.com/pydata/pydata-book/master/ch06/ex3.txt'))\n",
    "print type(a)\n",
    "print a"
   ]
  },
  {
   "cell_type": "markdown",
   "metadata": {},
   "source": [
    "-----------\n",
    "\n",
    "\n",
    "- a 는 list , 내용에 공백이 많음 -> \\s+ 을 사용하여 처리\n",
    "- \\s는 space character"
   ]
  },
  {
   "cell_type": "code",
   "execution_count": 23,
   "metadata": {
    "collapsed": false
   },
   "outputs": [
    {
     "data": {
      "text/html": [
       "<div style=\"max-height:1000px;max-width:1500px;overflow:auto;\">\n",
       "<table border=\"1\" class=\"dataframe\">\n",
       "  <thead>\n",
       "    <tr style=\"text-align: right;\">\n",
       "      <th></th>\n",
       "      <th>A</th>\n",
       "      <th>B</th>\n",
       "      <th>C</th>\n",
       "    </tr>\n",
       "  </thead>\n",
       "  <tbody>\n",
       "    <tr>\n",
       "      <th>aaa</th>\n",
       "      <td>-0.264438</td>\n",
       "      <td>-1.026059</td>\n",
       "      <td>-0.619500</td>\n",
       "    </tr>\n",
       "    <tr>\n",
       "      <th>bbb</th>\n",
       "      <td>0.927272</td>\n",
       "      <td>0.302904</td>\n",
       "      <td>-0.032399</td>\n",
       "    </tr>\n",
       "    <tr>\n",
       "      <th>ccc</th>\n",
       "      <td>-0.264273</td>\n",
       "      <td>-0.386314</td>\n",
       "      <td>-0.217601</td>\n",
       "    </tr>\n",
       "    <tr>\n",
       "      <th>ddd</th>\n",
       "      <td>-0.871858</td>\n",
       "      <td>-0.348382</td>\n",
       "      <td>1.100491</td>\n",
       "    </tr>\n",
       "  </tbody>\n",
       "</table>\n",
       "</div>"
      ],
      "text/plain": [
       "            A         B         C\n",
       "aaa -0.264438 -1.026059 -0.619500\n",
       "bbb  0.927272  0.302904 -0.032399\n",
       "ccc -0.264273 -0.386314 -0.217601\n",
       "ddd -0.871858 -0.348382  1.100491"
      ]
     },
     "execution_count": 23,
     "metadata": {},
     "output_type": "execute_result"
    }
   ],
   "source": [
    "result = pd.read_table('https://raw.githubusercontent.com/pydata/pydata-book/master/ch06/ex3.txt', sep='\\s*')\n",
    "result"
   ]
  },
  {
   "cell_type": "code",
   "execution_count": 24,
   "metadata": {
    "collapsed": false,
    "scrolled": true
   },
   "outputs": [
    {
     "data": {
      "text/html": [
       "<div style=\"max-height:1000px;max-width:1500px;overflow:auto;\">\n",
       "<table border=\"1\" class=\"dataframe\">\n",
       "  <thead>\n",
       "    <tr style=\"text-align: right;\">\n",
       "      <th></th>\n",
       "      <th>A         B         C</th>\n",
       "    </tr>\n",
       "  </thead>\n",
       "  <tbody>\n",
       "    <tr>\n",
       "      <th>0</th>\n",
       "      <td>aaa -0.264438 -1.026059 -0.619500</td>\n",
       "    </tr>\n",
       "    <tr>\n",
       "      <th>1</th>\n",
       "      <td>bbb  0.927272  0.302904 -0.032399</td>\n",
       "    </tr>\n",
       "    <tr>\n",
       "      <th>2</th>\n",
       "      <td>ccc -0.264273 -0.386314 -0.217601</td>\n",
       "    </tr>\n",
       "    <tr>\n",
       "      <th>3</th>\n",
       "      <td>ddd -0.871858 -0.348382  1.100491</td>\n",
       "    </tr>\n",
       "  </tbody>\n",
       "</table>\n",
       "</div>"
      ],
      "text/plain": [
       "               A         B         C\n",
       "0  aaa -0.264438 -1.026059 -0.619500\n",
       "1  bbb  0.927272  0.302904 -0.032399\n",
       "2  ccc -0.264273 -0.386314 -0.217601\n",
       "3  ddd -0.871858 -0.348382  1.100491"
      ]
     },
     "execution_count": 24,
     "metadata": {},
     "output_type": "execute_result"
    }
   ],
   "source": [
    "result = pd.read_table('https://raw.githubusercontent.com/pydata/pydata-book/master/ch06/ex3.txt', sep='\\f')\n",
    "result"
   ]
  },
  {
   "cell_type": "code",
   "execution_count": 29,
   "metadata": {
    "collapsed": false
   },
   "outputs": [
    {
     "data": {
      "text/html": [
       "<div style=\"max-height:1000px;max-width:1500px;overflow:auto;\">\n",
       "<table border=\"1\" class=\"dataframe\">\n",
       "  <thead>\n",
       "    <tr style=\"text-align: right;\">\n",
       "      <th></th>\n",
       "      <th>Unnamed: 0</th>\n",
       "      <th>Unnamed: 1</th>\n",
       "      <th>Unnamed: 2</th>\n",
       "      <th>Unnamed: 3</th>\n",
       "      <th>Unnamed: 4</th>\n",
       "      <th>Unnamed: 5</th>\n",
       "      <th>Unnamed: 6</th>\n",
       "      <th>Unnamed: 7</th>\n",
       "      <th>Unnamed: 8</th>\n",
       "      <th>Unnamed: 9</th>\n",
       "      <th>...</th>\n",
       "      <th>B</th>\n",
       "      <th>Unnamed: 22</th>\n",
       "      <th>Unnamed: 23</th>\n",
       "      <th>Unnamed: 24</th>\n",
       "      <th>Unnamed: 25</th>\n",
       "      <th>Unnamed: 26</th>\n",
       "      <th>Unnamed: 27</th>\n",
       "      <th>Unnamed: 28</th>\n",
       "      <th>Unnamed: 29</th>\n",
       "      <th>C</th>\n",
       "    </tr>\n",
       "  </thead>\n",
       "  <tbody>\n",
       "    <tr>\n",
       "      <th>0</th>\n",
       "      <td>aaa</td>\n",
       "      <td>-0.264438</td>\n",
       "      <td>-1.026059</td>\n",
       "      <td>-0.619500</td>\n",
       "      <td>NaN</td>\n",
       "      <td>NaN</td>\n",
       "      <td>NaN</td>\n",
       "      <td>NaN</td>\n",
       "      <td>NaN</td>\n",
       "      <td>NaN</td>\n",
       "      <td>...</td>\n",
       "      <td>NaN</td>\n",
       "      <td>NaN</td>\n",
       "      <td>NaN</td>\n",
       "      <td>NaN</td>\n",
       "      <td>NaN</td>\n",
       "      <td>NaN</td>\n",
       "      <td>NaN</td>\n",
       "      <td>NaN</td>\n",
       "      <td>NaN</td>\n",
       "      <td>NaN</td>\n",
       "    </tr>\n",
       "    <tr>\n",
       "      <th>1</th>\n",
       "      <td>bbb</td>\n",
       "      <td>NaN</td>\n",
       "      <td>0.927272</td>\n",
       "      <td>NaN</td>\n",
       "      <td>0.302904</td>\n",
       "      <td>-0.032399</td>\n",
       "      <td>NaN</td>\n",
       "      <td>NaN</td>\n",
       "      <td>NaN</td>\n",
       "      <td>NaN</td>\n",
       "      <td>...</td>\n",
       "      <td>NaN</td>\n",
       "      <td>NaN</td>\n",
       "      <td>NaN</td>\n",
       "      <td>NaN</td>\n",
       "      <td>NaN</td>\n",
       "      <td>NaN</td>\n",
       "      <td>NaN</td>\n",
       "      <td>NaN</td>\n",
       "      <td>NaN</td>\n",
       "      <td>NaN</td>\n",
       "    </tr>\n",
       "    <tr>\n",
       "      <th>2</th>\n",
       "      <td>ccc</td>\n",
       "      <td>-0.264273</td>\n",
       "      <td>-0.386314</td>\n",
       "      <td>-0.217601</td>\n",
       "      <td>NaN</td>\n",
       "      <td>NaN</td>\n",
       "      <td>NaN</td>\n",
       "      <td>NaN</td>\n",
       "      <td>NaN</td>\n",
       "      <td>NaN</td>\n",
       "      <td>...</td>\n",
       "      <td>NaN</td>\n",
       "      <td>NaN</td>\n",
       "      <td>NaN</td>\n",
       "      <td>NaN</td>\n",
       "      <td>NaN</td>\n",
       "      <td>NaN</td>\n",
       "      <td>NaN</td>\n",
       "      <td>NaN</td>\n",
       "      <td>NaN</td>\n",
       "      <td>NaN</td>\n",
       "    </tr>\n",
       "    <tr>\n",
       "      <th>3</th>\n",
       "      <td>ddd</td>\n",
       "      <td>-0.871858</td>\n",
       "      <td>-0.348382</td>\n",
       "      <td>NaN</td>\n",
       "      <td>1.100491</td>\n",
       "      <td>NaN</td>\n",
       "      <td>NaN</td>\n",
       "      <td>NaN</td>\n",
       "      <td>NaN</td>\n",
       "      <td>NaN</td>\n",
       "      <td>...</td>\n",
       "      <td>NaN</td>\n",
       "      <td>NaN</td>\n",
       "      <td>NaN</td>\n",
       "      <td>NaN</td>\n",
       "      <td>NaN</td>\n",
       "      <td>NaN</td>\n",
       "      <td>NaN</td>\n",
       "      <td>NaN</td>\n",
       "      <td>NaN</td>\n",
       "      <td>NaN</td>\n",
       "    </tr>\n",
       "  </tbody>\n",
       "</table>\n",
       "<p>4 rows × 31 columns</p>\n",
       "</div>"
      ],
      "text/plain": [
       "  Unnamed: 0  Unnamed: 1  Unnamed: 2  Unnamed: 3  Unnamed: 4  Unnamed: 5  \\\n",
       "0        aaa   -0.264438   -1.026059   -0.619500         NaN         NaN   \n",
       "1        bbb         NaN    0.927272         NaN    0.302904   -0.032399   \n",
       "2        ccc   -0.264273   -0.386314   -0.217601         NaN         NaN   \n",
       "3        ddd   -0.871858   -0.348382         NaN    1.100491         NaN   \n",
       "\n",
       "   Unnamed: 6  Unnamed: 7  Unnamed: 8  Unnamed: 9 ...   B  Unnamed: 22  \\\n",
       "0         NaN         NaN         NaN         NaN ... NaN          NaN   \n",
       "1         NaN         NaN         NaN         NaN ... NaN          NaN   \n",
       "2         NaN         NaN         NaN         NaN ... NaN          NaN   \n",
       "3         NaN         NaN         NaN         NaN ... NaN          NaN   \n",
       "\n",
       "   Unnamed: 23  Unnamed: 24  Unnamed: 25  Unnamed: 26  Unnamed: 27  \\\n",
       "0          NaN          NaN          NaN          NaN          NaN   \n",
       "1          NaN          NaN          NaN          NaN          NaN   \n",
       "2          NaN          NaN          NaN          NaN          NaN   \n",
       "3          NaN          NaN          NaN          NaN          NaN   \n",
       "\n",
       "   Unnamed: 28  Unnamed: 29   C  \n",
       "0          NaN          NaN NaN  \n",
       "1          NaN          NaN NaN  \n",
       "2          NaN          NaN NaN  \n",
       "3          NaN          NaN NaN  \n",
       "\n",
       "[4 rows x 31 columns]"
      ]
     },
     "execution_count": 29,
     "metadata": {},
     "output_type": "execute_result"
    }
   ],
   "source": [
    "result = pd.read_table('https://raw.githubusercontent.com/pydata/pydata-book/master/ch06/ex3.txt', sep=' ')\n",
    "result"
   ]
  },
  {
   "cell_type": "markdown",
   "metadata": {},
   "source": [
    "-------------\n",
    "- skiprows를 사용해서 필요없는 열 처리하기\n"
   ]
  },
  {
   "cell_type": "code",
   "execution_count": 30,
   "metadata": {
    "collapsed": false
   },
   "outputs": [
    {
     "data": {
      "text/plain": [
       "['# hey!\\n',\n",
       " 'a,b,c,d,message\\n',\n",
       " '# just wanted to make things more difficult for you\\n',\n",
       " '# who reads CSV files with computers, anyway?\\n',\n",
       " '1,2,3,4,hello\\n',\n",
       " '5,6,7,8,world\\n',\n",
       " '9,10,11,12,foo']"
      ]
     },
     "execution_count": 30,
     "metadata": {},
     "output_type": "execute_result"
    }
   ],
   "source": [
    "list(urllib.urlopen('https://raw.githubusercontent.com/pydata/pydata-book/master/ch06/ex4.csv'))"
   ]
  },
  {
   "cell_type": "code",
   "execution_count": 31,
   "metadata": {
    "collapsed": false
   },
   "outputs": [
    {
     "data": {
      "text/html": [
       "<div style=\"max-height:1000px;max-width:1500px;overflow:auto;\">\n",
       "<table border=\"1\" class=\"dataframe\">\n",
       "  <thead>\n",
       "    <tr style=\"text-align: right;\">\n",
       "      <th></th>\n",
       "      <th>a</th>\n",
       "      <th>b</th>\n",
       "      <th>c</th>\n",
       "      <th>d</th>\n",
       "      <th>message</th>\n",
       "    </tr>\n",
       "  </thead>\n",
       "  <tbody>\n",
       "    <tr>\n",
       "      <th>0</th>\n",
       "      <td>1</td>\n",
       "      <td>2</td>\n",
       "      <td>3</td>\n",
       "      <td>4</td>\n",
       "      <td>hello</td>\n",
       "    </tr>\n",
       "    <tr>\n",
       "      <th>1</th>\n",
       "      <td>5</td>\n",
       "      <td>6</td>\n",
       "      <td>7</td>\n",
       "      <td>8</td>\n",
       "      <td>world</td>\n",
       "    </tr>\n",
       "    <tr>\n",
       "      <th>2</th>\n",
       "      <td>9</td>\n",
       "      <td>10</td>\n",
       "      <td>11</td>\n",
       "      <td>12</td>\n",
       "      <td>foo</td>\n",
       "    </tr>\n",
       "  </tbody>\n",
       "</table>\n",
       "</div>"
      ],
      "text/plain": [
       "   a   b   c   d message\n",
       "0  1   2   3   4   hello\n",
       "1  5   6   7   8   world\n",
       "2  9  10  11  12     foo"
      ]
     },
     "execution_count": 31,
     "metadata": {},
     "output_type": "execute_result"
    }
   ],
   "source": [
    "pd.read_csv('https://raw.githubusercontent.com/pydata/pydata-book/master/ch06/ex4.csv', skiprows=[0,2,3])"
   ]
  },
  {
   "cell_type": "code",
   "execution_count": 32,
   "metadata": {
    "collapsed": false
   },
   "outputs": [
    {
     "data": {
      "text/plain": [
       "['something,a,b,c,d,message\\n',\n",
       " 'one,1,2,3,4,NA\\n',\n",
       " 'two,5,6,,8,world\\n',\n",
       " 'three,9,10,11,12,foo']"
      ]
     },
     "execution_count": 32,
     "metadata": {},
     "output_type": "execute_result"
    }
   ],
   "source": [
    "list(urllib.urlopen('https://raw.githubusercontent.com/pydata/pydata-book/master/ch06/ex5.csv'))"
   ]
  },
  {
   "cell_type": "markdown",
   "metadata": {},
   "source": [
    "- ex5.csv 파일에 보면 NA나 '' 과 같은 null값이 포함되어 있다."
   ]
  },
  {
   "cell_type": "code",
   "execution_count": 33,
   "metadata": {
    "collapsed": false
   },
   "outputs": [
    {
     "data": {
      "text/html": [
       "<div style=\"max-height:1000px;max-width:1500px;overflow:auto;\">\n",
       "<table border=\"1\" class=\"dataframe\">\n",
       "  <thead>\n",
       "    <tr style=\"text-align: right;\">\n",
       "      <th></th>\n",
       "      <th>something</th>\n",
       "      <th>a</th>\n",
       "      <th>b</th>\n",
       "      <th>c</th>\n",
       "      <th>d</th>\n",
       "      <th>message</th>\n",
       "    </tr>\n",
       "  </thead>\n",
       "  <tbody>\n",
       "    <tr>\n",
       "      <th>0</th>\n",
       "      <td>one</td>\n",
       "      <td>1</td>\n",
       "      <td>2</td>\n",
       "      <td>3</td>\n",
       "      <td>4</td>\n",
       "      <td>NaN</td>\n",
       "    </tr>\n",
       "    <tr>\n",
       "      <th>1</th>\n",
       "      <td>two</td>\n",
       "      <td>5</td>\n",
       "      <td>6</td>\n",
       "      <td>NaN</td>\n",
       "      <td>8</td>\n",
       "      <td>world</td>\n",
       "    </tr>\n",
       "    <tr>\n",
       "      <th>2</th>\n",
       "      <td>three</td>\n",
       "      <td>9</td>\n",
       "      <td>10</td>\n",
       "      <td>11</td>\n",
       "      <td>12</td>\n",
       "      <td>foo</td>\n",
       "    </tr>\n",
       "  </tbody>\n",
       "</table>\n",
       "</div>"
      ],
      "text/plain": [
       "  something  a   b   c   d message\n",
       "0       one  1   2   3   4     NaN\n",
       "1       two  5   6 NaN   8   world\n",
       "2     three  9  10  11  12     foo"
      ]
     },
     "execution_count": 33,
     "metadata": {},
     "output_type": "execute_result"
    }
   ],
   "source": [
    "result = pd.read_csv('https://raw.githubusercontent.com/pydata/pydata-book/master/ch06/ex5.csv')\n",
    "result   #해당 파일을 read_csv 함수를 이용하여 DataFrame으로 출력"
   ]
  },
  {
   "cell_type": "code",
   "execution_count": 34,
   "metadata": {
    "collapsed": false
   },
   "outputs": [
    {
     "data": {
      "text/html": [
       "<div style=\"max-height:1000px;max-width:1500px;overflow:auto;\">\n",
       "<table border=\"1\" class=\"dataframe\">\n",
       "  <thead>\n",
       "    <tr style=\"text-align: right;\">\n",
       "      <th></th>\n",
       "      <th>something</th>\n",
       "      <th>a</th>\n",
       "      <th>b</th>\n",
       "      <th>c</th>\n",
       "      <th>d</th>\n",
       "      <th>message</th>\n",
       "    </tr>\n",
       "  </thead>\n",
       "  <tbody>\n",
       "    <tr>\n",
       "      <th>0</th>\n",
       "      <td>False</td>\n",
       "      <td>False</td>\n",
       "      <td>False</td>\n",
       "      <td>False</td>\n",
       "      <td>False</td>\n",
       "      <td>True</td>\n",
       "    </tr>\n",
       "    <tr>\n",
       "      <th>1</th>\n",
       "      <td>False</td>\n",
       "      <td>False</td>\n",
       "      <td>False</td>\n",
       "      <td>True</td>\n",
       "      <td>False</td>\n",
       "      <td>False</td>\n",
       "    </tr>\n",
       "    <tr>\n",
       "      <th>2</th>\n",
       "      <td>False</td>\n",
       "      <td>False</td>\n",
       "      <td>False</td>\n",
       "      <td>False</td>\n",
       "      <td>False</td>\n",
       "      <td>False</td>\n",
       "    </tr>\n",
       "  </tbody>\n",
       "</table>\n",
       "</div>"
      ],
      "text/plain": [
       "  something      a      b      c      d message\n",
       "0     False  False  False  False  False    True\n",
       "1     False  False  False   True  False   False\n",
       "2     False  False  False  False  False   False"
      ]
     },
     "execution_count": 34,
     "metadata": {},
     "output_type": "execute_result"
    }
   ],
   "source": [
    "pd.isnull(result)   #null값이 들어간 값에 대해서만 True가 출력"
   ]
  },
  {
   "cell_type": "markdown",
   "metadata": {},
   "source": [
    "- na_values 는 문자열이나 리스트를 받아서 누락된 값 처리"
   ]
  },
  {
   "cell_type": "code",
   "execution_count": 43,
   "metadata": {
    "collapsed": false
   },
   "outputs": [
    {
     "data": {
      "text/html": [
       "<div style=\"max-height:1000px;max-width:1500px;overflow:auto;\">\n",
       "<table border=\"1\" class=\"dataframe\">\n",
       "  <thead>\n",
       "    <tr style=\"text-align: right;\">\n",
       "      <th></th>\n",
       "      <th>something</th>\n",
       "      <th>a</th>\n",
       "      <th>b</th>\n",
       "      <th>c</th>\n",
       "      <th>d</th>\n",
       "      <th>message</th>\n",
       "    </tr>\n",
       "  </thead>\n",
       "  <tbody>\n",
       "    <tr>\n",
       "      <th>0</th>\n",
       "      <td>one</td>\n",
       "      <td>1</td>\n",
       "      <td>2</td>\n",
       "      <td>3</td>\n",
       "      <td>4</td>\n",
       "      <td>NaN</td>\n",
       "    </tr>\n",
       "    <tr>\n",
       "      <th>1</th>\n",
       "      <td>two</td>\n",
       "      <td>5</td>\n",
       "      <td>6</td>\n",
       "      <td>NaN</td>\n",
       "      <td>8</td>\n",
       "      <td>world</td>\n",
       "    </tr>\n",
       "    <tr>\n",
       "      <th>2</th>\n",
       "      <td>three</td>\n",
       "      <td>9</td>\n",
       "      <td>10</td>\n",
       "      <td>11</td>\n",
       "      <td>12</td>\n",
       "      <td>foo</td>\n",
       "    </tr>\n",
       "  </tbody>\n",
       "</table>\n",
       "</div>"
      ],
      "text/plain": [
       "  something  a   b   c   d message\n",
       "0       one  1   2   3   4     NaN\n",
       "1       two  5   6 NaN   8   world\n",
       "2     three  9  10  11  12     foo"
      ]
     },
     "execution_count": 43,
     "metadata": {},
     "output_type": "execute_result"
    }
   ],
   "source": [
    "result = pd.read_csv('https://raw.githubusercontent.com/pydata/pydata-book/master/ch06/ex5.csv', na_values=['null'])\n",
    "result"
   ]
  },
  {
   "cell_type": "markdown",
   "metadata": {},
   "source": [
    "- na_values['4'] 하면 4값이 null로 인식된다."
   ]
  },
  {
   "cell_type": "code",
   "execution_count": 45,
   "metadata": {
    "collapsed": false
   },
   "outputs": [
    {
     "data": {
      "text/html": [
       "<div style=\"max-height:1000px;max-width:1500px;overflow:auto;\">\n",
       "<table border=\"1\" class=\"dataframe\">\n",
       "  <thead>\n",
       "    <tr style=\"text-align: right;\">\n",
       "      <th></th>\n",
       "      <th>something</th>\n",
       "      <th>a</th>\n",
       "      <th>b</th>\n",
       "      <th>c</th>\n",
       "      <th>d</th>\n",
       "      <th>message</th>\n",
       "    </tr>\n",
       "  </thead>\n",
       "  <tbody>\n",
       "    <tr>\n",
       "      <th>0</th>\n",
       "      <td>one</td>\n",
       "      <td>1</td>\n",
       "      <td>2</td>\n",
       "      <td>3</td>\n",
       "      <td>NaN</td>\n",
       "      <td>NaN</td>\n",
       "    </tr>\n",
       "    <tr>\n",
       "      <th>1</th>\n",
       "      <td>two</td>\n",
       "      <td>5</td>\n",
       "      <td>6</td>\n",
       "      <td>NaN</td>\n",
       "      <td>8</td>\n",
       "      <td>world</td>\n",
       "    </tr>\n",
       "    <tr>\n",
       "      <th>2</th>\n",
       "      <td>three</td>\n",
       "      <td>9</td>\n",
       "      <td>10</td>\n",
       "      <td>11</td>\n",
       "      <td>12</td>\n",
       "      <td>foo</td>\n",
       "    </tr>\n",
       "  </tbody>\n",
       "</table>\n",
       "</div>"
      ],
      "text/plain": [
       "  something  a   b   c   d message\n",
       "0       one  1   2   3 NaN     NaN\n",
       "1       two  5   6 NaN   8   world\n",
       "2     three  9  10  11  12     foo"
      ]
     },
     "execution_count": 45,
     "metadata": {},
     "output_type": "execute_result"
    }
   ],
   "source": [
    "result = pd.read_csv('https://raw.githubusercontent.com/pydata/pydata-book/master/ch06/ex5.csv', na_values=['4'])\n",
    "result"
   ]
  },
  {
   "cell_type": "code",
   "execution_count": 46,
   "metadata": {
    "collapsed": false
   },
   "outputs": [
    {
     "data": {
      "text/html": [
       "<div style=\"max-height:1000px;max-width:1500px;overflow:auto;\">\n",
       "<table border=\"1\" class=\"dataframe\">\n",
       "  <thead>\n",
       "    <tr style=\"text-align: right;\">\n",
       "      <th></th>\n",
       "      <th>something</th>\n",
       "      <th>a</th>\n",
       "      <th>b</th>\n",
       "      <th>c</th>\n",
       "      <th>d</th>\n",
       "      <th>message</th>\n",
       "    </tr>\n",
       "  </thead>\n",
       "  <tbody>\n",
       "    <tr>\n",
       "      <th>0</th>\n",
       "      <td>False</td>\n",
       "      <td>False</td>\n",
       "      <td>False</td>\n",
       "      <td>False</td>\n",
       "      <td>True</td>\n",
       "      <td>True</td>\n",
       "    </tr>\n",
       "    <tr>\n",
       "      <th>1</th>\n",
       "      <td>False</td>\n",
       "      <td>False</td>\n",
       "      <td>False</td>\n",
       "      <td>True</td>\n",
       "      <td>False</td>\n",
       "      <td>False</td>\n",
       "    </tr>\n",
       "    <tr>\n",
       "      <th>2</th>\n",
       "      <td>False</td>\n",
       "      <td>False</td>\n",
       "      <td>False</td>\n",
       "      <td>False</td>\n",
       "      <td>False</td>\n",
       "      <td>False</td>\n",
       "    </tr>\n",
       "  </tbody>\n",
       "</table>\n",
       "</div>"
      ],
      "text/plain": [
       "  something      a      b      c      d message\n",
       "0     False  False  False  False   True    True\n",
       "1     False  False  False   True  False   False\n",
       "2     False  False  False  False  False   False"
      ]
     },
     "execution_count": 46,
     "metadata": {},
     "output_type": "execute_result"
    }
   ],
   "source": [
    "pd.isnull(result)"
   ]
  },
  {
   "cell_type": "code",
   "execution_count": 48,
   "metadata": {
    "collapsed": true
   },
   "outputs": [],
   "source": [
    "sentinels = {'message': ['foo', 'NA'], 'something': ['two']}   #각 칼럼의 다른 문자를 사전값으로 처리"
   ]
  },
  {
   "cell_type": "code",
   "execution_count": 49,
   "metadata": {
    "collapsed": false
   },
   "outputs": [
    {
     "data": {
      "text/html": [
       "<div style=\"max-height:1000px;max-width:1500px;overflow:auto;\">\n",
       "<table border=\"1\" class=\"dataframe\">\n",
       "  <thead>\n",
       "    <tr style=\"text-align: right;\">\n",
       "      <th></th>\n",
       "      <th>something</th>\n",
       "      <th>a</th>\n",
       "      <th>b</th>\n",
       "      <th>c</th>\n",
       "      <th>d</th>\n",
       "      <th>message</th>\n",
       "    </tr>\n",
       "  </thead>\n",
       "  <tbody>\n",
       "    <tr>\n",
       "      <th>0</th>\n",
       "      <td>one</td>\n",
       "      <td>1</td>\n",
       "      <td>2</td>\n",
       "      <td>3</td>\n",
       "      <td>4</td>\n",
       "      <td>NaN</td>\n",
       "    </tr>\n",
       "    <tr>\n",
       "      <th>1</th>\n",
       "      <td>NaN</td>\n",
       "      <td>5</td>\n",
       "      <td>6</td>\n",
       "      <td>NaN</td>\n",
       "      <td>8</td>\n",
       "      <td>world</td>\n",
       "    </tr>\n",
       "    <tr>\n",
       "      <th>2</th>\n",
       "      <td>three</td>\n",
       "      <td>9</td>\n",
       "      <td>10</td>\n",
       "      <td>11</td>\n",
       "      <td>12</td>\n",
       "      <td>NaN</td>\n",
       "    </tr>\n",
       "  </tbody>\n",
       "</table>\n",
       "</div>"
      ],
      "text/plain": [
       "  something  a   b   c   d message\n",
       "0       one  1   2   3   4     NaN\n",
       "1       NaN  5   6 NaN   8   world\n",
       "2     three  9  10  11  12     NaN"
      ]
     },
     "execution_count": 49,
     "metadata": {},
     "output_type": "execute_result"
    }
   ],
   "source": [
    "pd.read_csv('https://raw.githubusercontent.com/pydata/pydata-book/master/ch06/ex5.csv', na_values=sentinels)\n",
    "#message에서 foo와 NA를 something에서 two를 null로 인식 하도록"
   ]
  },
  {
   "cell_type": "code",
   "execution_count": 50,
   "metadata": {
    "collapsed": false
   },
   "outputs": [
    {
     "data": {
      "text/html": [
       "<div style=\"max-height:1000px;max-width:1500px;overflow:auto;\">\n",
       "<table border=\"1\" class=\"dataframe\">\n",
       "  <thead>\n",
       "    <tr style=\"text-align: right;\">\n",
       "      <th></th>\n",
       "      <th>one</th>\n",
       "      <th>two</th>\n",
       "      <th>three</th>\n",
       "      <th>four</th>\n",
       "      <th>key</th>\n",
       "    </tr>\n",
       "  </thead>\n",
       "  <tbody>\n",
       "    <tr>\n",
       "      <th>0</th>\n",
       "      <td>0.467976</td>\n",
       "      <td>-0.038649</td>\n",
       "      <td>-0.295344</td>\n",
       "      <td>-1.824726</td>\n",
       "      <td>L</td>\n",
       "    </tr>\n",
       "    <tr>\n",
       "      <th>1</th>\n",
       "      <td>-0.358893</td>\n",
       "      <td>1.404453</td>\n",
       "      <td>0.704965</td>\n",
       "      <td>-0.200638</td>\n",
       "      <td>B</td>\n",
       "    </tr>\n",
       "    <tr>\n",
       "      <th>2</th>\n",
       "      <td>-0.501840</td>\n",
       "      <td>0.659254</td>\n",
       "      <td>-0.421691</td>\n",
       "      <td>-0.057688</td>\n",
       "      <td>G</td>\n",
       "    </tr>\n",
       "    <tr>\n",
       "      <th>3</th>\n",
       "      <td>0.204886</td>\n",
       "      <td>1.074134</td>\n",
       "      <td>1.388361</td>\n",
       "      <td>-0.982404</td>\n",
       "      <td>R</td>\n",
       "    </tr>\n",
       "    <tr>\n",
       "      <th>4</th>\n",
       "      <td>0.354628</td>\n",
       "      <td>-0.133116</td>\n",
       "      <td>0.283763</td>\n",
       "      <td>-0.837063</td>\n",
       "      <td>Q</td>\n",
       "    </tr>\n",
       "    <tr>\n",
       "      <th>5</th>\n",
       "      <td>1.817480</td>\n",
       "      <td>0.742273</td>\n",
       "      <td>0.419395</td>\n",
       "      <td>-2.251035</td>\n",
       "      <td>Q</td>\n",
       "    </tr>\n",
       "    <tr>\n",
       "      <th>6</th>\n",
       "      <td>-0.776764</td>\n",
       "      <td>0.935518</td>\n",
       "      <td>-0.332872</td>\n",
       "      <td>-1.875641</td>\n",
       "      <td>U</td>\n",
       "    </tr>\n",
       "    <tr>\n",
       "      <th>7</th>\n",
       "      <td>-0.913135</td>\n",
       "      <td>1.530624</td>\n",
       "      <td>-0.572657</td>\n",
       "      <td>0.477252</td>\n",
       "      <td>K</td>\n",
       "    </tr>\n",
       "    <tr>\n",
       "      <th>8</th>\n",
       "      <td>0.358480</td>\n",
       "      <td>-0.497572</td>\n",
       "      <td>-0.367016</td>\n",
       "      <td>0.507702</td>\n",
       "      <td>S</td>\n",
       "    </tr>\n",
       "    <tr>\n",
       "      <th>9</th>\n",
       "      <td>-1.740877</td>\n",
       "      <td>-1.160417</td>\n",
       "      <td>-1.637830</td>\n",
       "      <td>2.172201</td>\n",
       "      <td>G</td>\n",
       "    </tr>\n",
       "    <tr>\n",
       "      <th>10</th>\n",
       "      <td>0.240564</td>\n",
       "      <td>-0.328249</td>\n",
       "      <td>1.252155</td>\n",
       "      <td>1.072796</td>\n",
       "      <td>8</td>\n",
       "    </tr>\n",
       "    <tr>\n",
       "      <th>11</th>\n",
       "      <td>0.764018</td>\n",
       "      <td>1.165476</td>\n",
       "      <td>-0.639544</td>\n",
       "      <td>1.495258</td>\n",
       "      <td>R</td>\n",
       "    </tr>\n",
       "    <tr>\n",
       "      <th>12</th>\n",
       "      <td>0.571035</td>\n",
       "      <td>-0.310537</td>\n",
       "      <td>0.582437</td>\n",
       "      <td>-0.298765</td>\n",
       "      <td>1</td>\n",
       "    </tr>\n",
       "    <tr>\n",
       "      <th>13</th>\n",
       "      <td>2.317658</td>\n",
       "      <td>0.430710</td>\n",
       "      <td>-1.334216</td>\n",
       "      <td>0.199679</td>\n",
       "      <td>P</td>\n",
       "    </tr>\n",
       "    <tr>\n",
       "      <th>14</th>\n",
       "      <td>1.547771</td>\n",
       "      <td>-1.119753</td>\n",
       "      <td>-2.277634</td>\n",
       "      <td>0.329586</td>\n",
       "      <td>J</td>\n",
       "    </tr>\n",
       "    <tr>\n",
       "      <th>15</th>\n",
       "      <td>-1.310608</td>\n",
       "      <td>0.401719</td>\n",
       "      <td>-1.000987</td>\n",
       "      <td>1.156708</td>\n",
       "      <td>E</td>\n",
       "    </tr>\n",
       "    <tr>\n",
       "      <th>16</th>\n",
       "      <td>-0.088496</td>\n",
       "      <td>0.634712</td>\n",
       "      <td>0.153324</td>\n",
       "      <td>0.415335</td>\n",
       "      <td>B</td>\n",
       "    </tr>\n",
       "    <tr>\n",
       "      <th>17</th>\n",
       "      <td>-0.018663</td>\n",
       "      <td>-0.247487</td>\n",
       "      <td>-1.446522</td>\n",
       "      <td>0.750938</td>\n",
       "      <td>A</td>\n",
       "    </tr>\n",
       "    <tr>\n",
       "      <th>18</th>\n",
       "      <td>-0.070127</td>\n",
       "      <td>-1.579097</td>\n",
       "      <td>0.120892</td>\n",
       "      <td>0.671432</td>\n",
       "      <td>F</td>\n",
       "    </tr>\n",
       "    <tr>\n",
       "      <th>19</th>\n",
       "      <td>-0.194678</td>\n",
       "      <td>-0.492039</td>\n",
       "      <td>2.359605</td>\n",
       "      <td>0.319810</td>\n",
       "      <td>H</td>\n",
       "    </tr>\n",
       "    <tr>\n",
       "      <th>20</th>\n",
       "      <td>-0.248618</td>\n",
       "      <td>0.868707</td>\n",
       "      <td>-0.492226</td>\n",
       "      <td>-0.717959</td>\n",
       "      <td>W</td>\n",
       "    </tr>\n",
       "    <tr>\n",
       "      <th>21</th>\n",
       "      <td>-1.091549</td>\n",
       "      <td>-0.867110</td>\n",
       "      <td>-0.647760</td>\n",
       "      <td>-0.832562</td>\n",
       "      <td>C</td>\n",
       "    </tr>\n",
       "    <tr>\n",
       "      <th>22</th>\n",
       "      <td>0.641404</td>\n",
       "      <td>-0.138822</td>\n",
       "      <td>-0.621963</td>\n",
       "      <td>-0.284839</td>\n",
       "      <td>C</td>\n",
       "    </tr>\n",
       "    <tr>\n",
       "      <th>23</th>\n",
       "      <td>1.216408</td>\n",
       "      <td>0.992687</td>\n",
       "      <td>0.165162</td>\n",
       "      <td>-0.069619</td>\n",
       "      <td>V</td>\n",
       "    </tr>\n",
       "    <tr>\n",
       "      <th>24</th>\n",
       "      <td>-0.564474</td>\n",
       "      <td>0.792832</td>\n",
       "      <td>0.747053</td>\n",
       "      <td>0.571675</td>\n",
       "      <td>I</td>\n",
       "    </tr>\n",
       "    <tr>\n",
       "      <th>25</th>\n",
       "      <td>1.759879</td>\n",
       "      <td>-0.515666</td>\n",
       "      <td>-0.230481</td>\n",
       "      <td>1.362317</td>\n",
       "      <td>S</td>\n",
       "    </tr>\n",
       "    <tr>\n",
       "      <th>26</th>\n",
       "      <td>0.126266</td>\n",
       "      <td>0.309281</td>\n",
       "      <td>0.382820</td>\n",
       "      <td>-0.239199</td>\n",
       "      <td>L</td>\n",
       "    </tr>\n",
       "    <tr>\n",
       "      <th>27</th>\n",
       "      <td>1.334360</td>\n",
       "      <td>-0.100152</td>\n",
       "      <td>-0.840731</td>\n",
       "      <td>-0.643967</td>\n",
       "      <td>6</td>\n",
       "    </tr>\n",
       "    <tr>\n",
       "      <th>28</th>\n",
       "      <td>-0.737620</td>\n",
       "      <td>0.278087</td>\n",
       "      <td>-0.053235</td>\n",
       "      <td>-0.950972</td>\n",
       "      <td>J</td>\n",
       "    </tr>\n",
       "    <tr>\n",
       "      <th>29</th>\n",
       "      <td>-1.148486</td>\n",
       "      <td>-0.986292</td>\n",
       "      <td>-0.144963</td>\n",
       "      <td>0.124362</td>\n",
       "      <td>Y</td>\n",
       "    </tr>\n",
       "    <tr>\n",
       "      <th>...</th>\n",
       "      <td>...</td>\n",
       "      <td>...</td>\n",
       "      <td>...</td>\n",
       "      <td>...</td>\n",
       "      <td>...</td>\n",
       "    </tr>\n",
       "    <tr>\n",
       "      <th>9970</th>\n",
       "      <td>0.633495</td>\n",
       "      <td>-0.186524</td>\n",
       "      <td>0.927627</td>\n",
       "      <td>0.143164</td>\n",
       "      <td>4</td>\n",
       "    </tr>\n",
       "    <tr>\n",
       "      <th>9971</th>\n",
       "      <td>0.308636</td>\n",
       "      <td>-0.112857</td>\n",
       "      <td>0.762842</td>\n",
       "      <td>-1.072977</td>\n",
       "      <td>1</td>\n",
       "    </tr>\n",
       "    <tr>\n",
       "      <th>9972</th>\n",
       "      <td>-1.627051</td>\n",
       "      <td>-0.978151</td>\n",
       "      <td>0.154745</td>\n",
       "      <td>-1.229037</td>\n",
       "      <td>Z</td>\n",
       "    </tr>\n",
       "    <tr>\n",
       "      <th>9973</th>\n",
       "      <td>0.314847</td>\n",
       "      <td>0.097989</td>\n",
       "      <td>0.199608</td>\n",
       "      <td>0.955193</td>\n",
       "      <td>P</td>\n",
       "    </tr>\n",
       "    <tr>\n",
       "      <th>9974</th>\n",
       "      <td>1.666907</td>\n",
       "      <td>0.992005</td>\n",
       "      <td>0.496128</td>\n",
       "      <td>-0.686391</td>\n",
       "      <td>S</td>\n",
       "    </tr>\n",
       "    <tr>\n",
       "      <th>9975</th>\n",
       "      <td>0.010603</td>\n",
       "      <td>0.708540</td>\n",
       "      <td>-1.258711</td>\n",
       "      <td>0.226541</td>\n",
       "      <td>K</td>\n",
       "    </tr>\n",
       "    <tr>\n",
       "      <th>9976</th>\n",
       "      <td>0.118693</td>\n",
       "      <td>-0.714455</td>\n",
       "      <td>-0.501342</td>\n",
       "      <td>-0.254764</td>\n",
       "      <td>K</td>\n",
       "    </tr>\n",
       "    <tr>\n",
       "      <th>9977</th>\n",
       "      <td>0.302616</td>\n",
       "      <td>-2.011527</td>\n",
       "      <td>-0.628085</td>\n",
       "      <td>0.768827</td>\n",
       "      <td>H</td>\n",
       "    </tr>\n",
       "    <tr>\n",
       "      <th>9978</th>\n",
       "      <td>-0.098572</td>\n",
       "      <td>1.769086</td>\n",
       "      <td>-0.215027</td>\n",
       "      <td>-0.053076</td>\n",
       "      <td>A</td>\n",
       "    </tr>\n",
       "    <tr>\n",
       "      <th>9979</th>\n",
       "      <td>-0.019058</td>\n",
       "      <td>1.964994</td>\n",
       "      <td>0.738538</td>\n",
       "      <td>-0.883776</td>\n",
       "      <td>F</td>\n",
       "    </tr>\n",
       "    <tr>\n",
       "      <th>9980</th>\n",
       "      <td>-0.595349</td>\n",
       "      <td>0.001781</td>\n",
       "      <td>-1.423355</td>\n",
       "      <td>-1.458477</td>\n",
       "      <td>M</td>\n",
       "    </tr>\n",
       "    <tr>\n",
       "      <th>9981</th>\n",
       "      <td>1.392170</td>\n",
       "      <td>-1.396560</td>\n",
       "      <td>-1.425306</td>\n",
       "      <td>-0.847535</td>\n",
       "      <td>H</td>\n",
       "    </tr>\n",
       "    <tr>\n",
       "      <th>9982</th>\n",
       "      <td>-0.896029</td>\n",
       "      <td>-0.152287</td>\n",
       "      <td>1.924483</td>\n",
       "      <td>0.365184</td>\n",
       "      <td>6</td>\n",
       "    </tr>\n",
       "    <tr>\n",
       "      <th>9983</th>\n",
       "      <td>-2.274642</td>\n",
       "      <td>-0.901874</td>\n",
       "      <td>1.500352</td>\n",
       "      <td>0.996541</td>\n",
       "      <td>N</td>\n",
       "    </tr>\n",
       "    <tr>\n",
       "      <th>9984</th>\n",
       "      <td>-0.301898</td>\n",
       "      <td>1.019906</td>\n",
       "      <td>1.102160</td>\n",
       "      <td>2.624526</td>\n",
       "      <td>I</td>\n",
       "    </tr>\n",
       "    <tr>\n",
       "      <th>9985</th>\n",
       "      <td>-2.548389</td>\n",
       "      <td>-0.585374</td>\n",
       "      <td>1.496201</td>\n",
       "      <td>-0.718815</td>\n",
       "      <td>D</td>\n",
       "    </tr>\n",
       "    <tr>\n",
       "      <th>9986</th>\n",
       "      <td>-0.064588</td>\n",
       "      <td>0.759292</td>\n",
       "      <td>-1.568415</td>\n",
       "      <td>-0.420933</td>\n",
       "      <td>E</td>\n",
       "    </tr>\n",
       "    <tr>\n",
       "      <th>9987</th>\n",
       "      <td>-0.143365</td>\n",
       "      <td>-1.111760</td>\n",
       "      <td>-1.815581</td>\n",
       "      <td>0.435274</td>\n",
       "      <td>2</td>\n",
       "    </tr>\n",
       "    <tr>\n",
       "      <th>9988</th>\n",
       "      <td>-0.070412</td>\n",
       "      <td>-1.055921</td>\n",
       "      <td>0.338017</td>\n",
       "      <td>-0.440763</td>\n",
       "      <td>X</td>\n",
       "    </tr>\n",
       "    <tr>\n",
       "      <th>9989</th>\n",
       "      <td>0.649148</td>\n",
       "      <td>0.994273</td>\n",
       "      <td>-1.384227</td>\n",
       "      <td>0.485120</td>\n",
       "      <td>Q</td>\n",
       "    </tr>\n",
       "    <tr>\n",
       "      <th>9990</th>\n",
       "      <td>-0.370769</td>\n",
       "      <td>0.404356</td>\n",
       "      <td>-1.051628</td>\n",
       "      <td>-1.050899</td>\n",
       "      <td>8</td>\n",
       "    </tr>\n",
       "    <tr>\n",
       "      <th>9991</th>\n",
       "      <td>-0.409980</td>\n",
       "      <td>0.155627</td>\n",
       "      <td>-0.818990</td>\n",
       "      <td>1.277350</td>\n",
       "      <td>W</td>\n",
       "    </tr>\n",
       "    <tr>\n",
       "      <th>9992</th>\n",
       "      <td>0.301214</td>\n",
       "      <td>-1.111203</td>\n",
       "      <td>0.668258</td>\n",
       "      <td>0.671922</td>\n",
       "      <td>A</td>\n",
       "    </tr>\n",
       "    <tr>\n",
       "      <th>9993</th>\n",
       "      <td>1.821117</td>\n",
       "      <td>0.416445</td>\n",
       "      <td>0.173874</td>\n",
       "      <td>0.505118</td>\n",
       "      <td>X</td>\n",
       "    </tr>\n",
       "    <tr>\n",
       "      <th>9994</th>\n",
       "      <td>0.068804</td>\n",
       "      <td>1.322759</td>\n",
       "      <td>0.802346</td>\n",
       "      <td>0.223618</td>\n",
       "      <td>H</td>\n",
       "    </tr>\n",
       "    <tr>\n",
       "      <th>9995</th>\n",
       "      <td>2.311896</td>\n",
       "      <td>-0.417070</td>\n",
       "      <td>-1.409599</td>\n",
       "      <td>-0.515821</td>\n",
       "      <td>L</td>\n",
       "    </tr>\n",
       "    <tr>\n",
       "      <th>9996</th>\n",
       "      <td>-0.479893</td>\n",
       "      <td>-0.650419</td>\n",
       "      <td>0.745152</td>\n",
       "      <td>-0.646038</td>\n",
       "      <td>E</td>\n",
       "    </tr>\n",
       "    <tr>\n",
       "      <th>9997</th>\n",
       "      <td>0.523331</td>\n",
       "      <td>0.787112</td>\n",
       "      <td>0.486066</td>\n",
       "      <td>1.093156</td>\n",
       "      <td>K</td>\n",
       "    </tr>\n",
       "    <tr>\n",
       "      <th>9998</th>\n",
       "      <td>-0.362559</td>\n",
       "      <td>0.598894</td>\n",
       "      <td>-1.843201</td>\n",
       "      <td>0.887292</td>\n",
       "      <td>G</td>\n",
       "    </tr>\n",
       "    <tr>\n",
       "      <th>9999</th>\n",
       "      <td>-0.096376</td>\n",
       "      <td>-1.012999</td>\n",
       "      <td>-0.657431</td>\n",
       "      <td>-0.573315</td>\n",
       "      <td>0</td>\n",
       "    </tr>\n",
       "  </tbody>\n",
       "</table>\n",
       "<p>10000 rows × 5 columns</p>\n",
       "</div>"
      ],
      "text/plain": [
       "           one       two     three      four key\n",
       "0     0.467976 -0.038649 -0.295344 -1.824726   L\n",
       "1    -0.358893  1.404453  0.704965 -0.200638   B\n",
       "2    -0.501840  0.659254 -0.421691 -0.057688   G\n",
       "3     0.204886  1.074134  1.388361 -0.982404   R\n",
       "4     0.354628 -0.133116  0.283763 -0.837063   Q\n",
       "5     1.817480  0.742273  0.419395 -2.251035   Q\n",
       "6    -0.776764  0.935518 -0.332872 -1.875641   U\n",
       "7    -0.913135  1.530624 -0.572657  0.477252   K\n",
       "8     0.358480 -0.497572 -0.367016  0.507702   S\n",
       "9    -1.740877 -1.160417 -1.637830  2.172201   G\n",
       "10    0.240564 -0.328249  1.252155  1.072796   8\n",
       "11    0.764018  1.165476 -0.639544  1.495258   R\n",
       "12    0.571035 -0.310537  0.582437 -0.298765   1\n",
       "13    2.317658  0.430710 -1.334216  0.199679   P\n",
       "14    1.547771 -1.119753 -2.277634  0.329586   J\n",
       "15   -1.310608  0.401719 -1.000987  1.156708   E\n",
       "16   -0.088496  0.634712  0.153324  0.415335   B\n",
       "17   -0.018663 -0.247487 -1.446522  0.750938   A\n",
       "18   -0.070127 -1.579097  0.120892  0.671432   F\n",
       "19   -0.194678 -0.492039  2.359605  0.319810   H\n",
       "20   -0.248618  0.868707 -0.492226 -0.717959   W\n",
       "21   -1.091549 -0.867110 -0.647760 -0.832562   C\n",
       "22    0.641404 -0.138822 -0.621963 -0.284839   C\n",
       "23    1.216408  0.992687  0.165162 -0.069619   V\n",
       "24   -0.564474  0.792832  0.747053  0.571675   I\n",
       "25    1.759879 -0.515666 -0.230481  1.362317   S\n",
       "26    0.126266  0.309281  0.382820 -0.239199   L\n",
       "27    1.334360 -0.100152 -0.840731 -0.643967   6\n",
       "28   -0.737620  0.278087 -0.053235 -0.950972   J\n",
       "29   -1.148486 -0.986292 -0.144963  0.124362   Y\n",
       "...        ...       ...       ...       ...  ..\n",
       "9970  0.633495 -0.186524  0.927627  0.143164   4\n",
       "9971  0.308636 -0.112857  0.762842 -1.072977   1\n",
       "9972 -1.627051 -0.978151  0.154745 -1.229037   Z\n",
       "9973  0.314847  0.097989  0.199608  0.955193   P\n",
       "9974  1.666907  0.992005  0.496128 -0.686391   S\n",
       "9975  0.010603  0.708540 -1.258711  0.226541   K\n",
       "9976  0.118693 -0.714455 -0.501342 -0.254764   K\n",
       "9977  0.302616 -2.011527 -0.628085  0.768827   H\n",
       "9978 -0.098572  1.769086 -0.215027 -0.053076   A\n",
       "9979 -0.019058  1.964994  0.738538 -0.883776   F\n",
       "9980 -0.595349  0.001781 -1.423355 -1.458477   M\n",
       "9981  1.392170 -1.396560 -1.425306 -0.847535   H\n",
       "9982 -0.896029 -0.152287  1.924483  0.365184   6\n",
       "9983 -2.274642 -0.901874  1.500352  0.996541   N\n",
       "9984 -0.301898  1.019906  1.102160  2.624526   I\n",
       "9985 -2.548389 -0.585374  1.496201 -0.718815   D\n",
       "9986 -0.064588  0.759292 -1.568415 -0.420933   E\n",
       "9987 -0.143365 -1.111760 -1.815581  0.435274   2\n",
       "9988 -0.070412 -1.055921  0.338017 -0.440763   X\n",
       "9989  0.649148  0.994273 -1.384227  0.485120   Q\n",
       "9990 -0.370769  0.404356 -1.051628 -1.050899   8\n",
       "9991 -0.409980  0.155627 -0.818990  1.277350   W\n",
       "9992  0.301214 -1.111203  0.668258  0.671922   A\n",
       "9993  1.821117  0.416445  0.173874  0.505118   X\n",
       "9994  0.068804  1.322759  0.802346  0.223618   H\n",
       "9995  2.311896 -0.417070 -1.409599 -0.515821   L\n",
       "9996 -0.479893 -0.650419  0.745152 -0.646038   E\n",
       "9997  0.523331  0.787112  0.486066  1.093156   K\n",
       "9998 -0.362559  0.598894 -1.843201  0.887292   G\n",
       "9999 -0.096376 -1.012999 -0.657431 -0.573315   0\n",
       "\n",
       "[10000 rows x 5 columns]"
      ]
     },
     "execution_count": 50,
     "metadata": {},
     "output_type": "execute_result"
    }
   ],
   "source": [
    "result = pd.read_csv('https://raw.githubusercontent.com/pydata/pydata-book/master/ch06/ex6.csv')\n",
    "result"
   ]
  },
  {
   "cell_type": "code",
   "execution_count": 51,
   "metadata": {
    "collapsed": false,
    "scrolled": true
   },
   "outputs": [
    {
     "data": {
      "text/html": [
       "<div style=\"max-height:1000px;max-width:1500px;overflow:auto;\">\n",
       "<table border=\"1\" class=\"dataframe\">\n",
       "  <thead>\n",
       "    <tr style=\"text-align: right;\">\n",
       "      <th></th>\n",
       "      <th>one</th>\n",
       "      <th>two</th>\n",
       "      <th>three</th>\n",
       "      <th>four</th>\n",
       "      <th>key</th>\n",
       "    </tr>\n",
       "  </thead>\n",
       "  <tbody>\n",
       "    <tr>\n",
       "      <th>0</th>\n",
       "      <td>0.467976</td>\n",
       "      <td>-0.038649</td>\n",
       "      <td>-0.295344</td>\n",
       "      <td>-1.824726</td>\n",
       "      <td>L</td>\n",
       "    </tr>\n",
       "    <tr>\n",
       "      <th>1</th>\n",
       "      <td>-0.358893</td>\n",
       "      <td>1.404453</td>\n",
       "      <td>0.704965</td>\n",
       "      <td>-0.200638</td>\n",
       "      <td>B</td>\n",
       "    </tr>\n",
       "    <tr>\n",
       "      <th>2</th>\n",
       "      <td>-0.501840</td>\n",
       "      <td>0.659254</td>\n",
       "      <td>-0.421691</td>\n",
       "      <td>-0.057688</td>\n",
       "      <td>G</td>\n",
       "    </tr>\n",
       "    <tr>\n",
       "      <th>3</th>\n",
       "      <td>0.204886</td>\n",
       "      <td>1.074134</td>\n",
       "      <td>1.388361</td>\n",
       "      <td>-0.982404</td>\n",
       "      <td>R</td>\n",
       "    </tr>\n",
       "    <tr>\n",
       "      <th>4</th>\n",
       "      <td>0.354628</td>\n",
       "      <td>-0.133116</td>\n",
       "      <td>0.283763</td>\n",
       "      <td>-0.837063</td>\n",
       "      <td>Q</td>\n",
       "    </tr>\n",
       "  </tbody>\n",
       "</table>\n",
       "</div>"
      ],
      "text/plain": [
       "        one       two     three      four key\n",
       "0  0.467976 -0.038649 -0.295344 -1.824726   L\n",
       "1 -0.358893  1.404453  0.704965 -0.200638   B\n",
       "2 -0.501840  0.659254 -0.421691 -0.057688   G\n",
       "3  0.204886  1.074134  1.388361 -0.982404   R\n",
       "4  0.354628 -0.133116  0.283763 -0.837063   Q"
      ]
     },
     "execution_count": 51,
     "metadata": {},
     "output_type": "execute_result"
    }
   ],
   "source": [
    "pd.read_csv('https://raw.githubusercontent.com/pydata/pydata-book/master/ch06/ex6.csv', nrows=5)\n",
    "#nrows 옵션을 주어 첫 몇줄만 읽어오도록"
   ]
  },
  {
   "cell_type": "code",
   "execution_count": 52,
   "metadata": {
    "collapsed": true
   },
   "outputs": [],
   "source": [
    "from pandas import Series, DataFrame"
   ]
  },
  {
   "cell_type": "code",
   "execution_count": 54,
   "metadata": {
    "collapsed": false
   },
   "outputs": [
    {
     "data": {
      "text/plain": [
       "<pandas.io.parsers.TextFileReader at 0x3d24be0>"
      ]
     },
     "execution_count": 54,
     "metadata": {},
     "output_type": "execute_result"
    }
   ],
   "source": [
    "chunker = pd.read_csv('https://raw.githubusercontent.com/pydata/pydata-book/master/ch06/ex6.csv', \n",
    "                      chunksize=1000)\n",
    "chunker"
   ]
  },
  {
   "cell_type": "markdown",
   "metadata": {},
   "source": [
    "-  chunksize 에 row 수를 주면 된다."
   ]
  },
  {
   "cell_type": "code",
   "execution_count": 55,
   "metadata": {
    "collapsed": false
   },
   "outputs": [
    {
     "data": {
      "text/plain": [
       "(10000, 5)"
      ]
     },
     "execution_count": 55,
     "metadata": {},
     "output_type": "execute_result"
    }
   ],
   "source": [
    "result.shape"
   ]
  },
  {
   "cell_type": "code",
   "execution_count": 56,
   "metadata": {
    "collapsed": false
   },
   "outputs": [
    {
     "data": {
      "text/plain": [
       "10000"
      ]
     },
     "execution_count": 56,
     "metadata": {},
     "output_type": "execute_result"
    }
   ],
   "source": [
    "result.index.size"
   ]
  },
  {
   "cell_type": "code",
   "execution_count": 57,
   "metadata": {
    "collapsed": false
   },
   "outputs": [
    {
     "name": "stdout",
     "output_type": "stream",
     "text": [
      "10000\n"
     ]
    }
   ],
   "source": [
    "print len(result)"
   ]
  },
  {
   "cell_type": "code",
   "execution_count": 62,
   "metadata": {
    "collapsed": true
   },
   "outputs": [],
   "source": [
    "chunker = pd.read_csv('https://raw.githubusercontent.com/pydata/pydata-book/master/ch06/ex6.csv', chunksize=1000)"
   ]
  },
  {
   "cell_type": "code",
   "execution_count": 63,
   "metadata": {
    "collapsed": false
   },
   "outputs": [
    {
     "data": {
      "text/plain": [
       "<pandas.io.parsers.TextFileReader at 0xa769be0>"
      ]
     },
     "execution_count": 63,
     "metadata": {},
     "output_type": "execute_result"
    }
   ],
   "source": [
    "chunker"
   ]
  },
  {
   "cell_type": "code",
   "execution_count": 65,
   "metadata": {
    "collapsed": false
   },
   "outputs": [
    {
     "name": "stdout",
     "output_type": "stream",
     "text": [
      "          one       two     three      four key\n",
      "0    0.467976 -0.038649 -0.295344 -1.824726   L\n",
      "1   -0.358893  1.404453  0.704965 -0.200638   B\n",
      "2   -0.501840  0.659254 -0.421691 -0.057688   G\n",
      "3    0.204886  1.074134  1.388361 -0.982404   R\n",
      "4    0.354628 -0.133116  0.283763 -0.837063   Q\n",
      "5    1.817480  0.742273  0.419395 -2.251035   Q\n",
      "6   -0.776764  0.935518 -0.332872 -1.875641   U\n",
      "7   -0.913135  1.530624 -0.572657  0.477252   K\n",
      "8    0.358480 -0.497572 -0.367016  0.507702   S\n",
      "9   -1.740877 -1.160417 -1.637830  2.172201   G\n",
      "10   0.240564 -0.328249  1.252155  1.072796   8\n",
      "11   0.764018  1.165476 -0.639544  1.495258   R\n",
      "12   0.571035 -0.310537  0.582437 -0.298765   1\n",
      "13   2.317658  0.430710 -1.334216  0.199679   P\n",
      "14   1.547771 -1.119753 -2.277634  0.329586   J\n",
      "15  -1.310608  0.401719 -1.000987  1.156708   E\n",
      "16  -0.088496  0.634712  0.153324  0.415335   B\n",
      "17  -0.018663 -0.247487 -1.446522  0.750938   A\n",
      "18  -0.070127 -1.579097  0.120892  0.671432   F\n",
      "19  -0.194678 -0.492039  2.359605  0.319810   H\n",
      "20  -0.248618  0.868707 -0.492226 -0.717959   W\n",
      "21  -1.091549 -0.867110 -0.647760 -0.832562   C\n",
      "22   0.641404 -0.138822 -0.621963 -0.284839   C\n",
      "23   1.216408  0.992687  0.165162 -0.069619   V\n",
      "24  -0.564474  0.792832  0.747053  0.571675   I\n",
      "25   1.759879 -0.515666 -0.230481  1.362317   S\n",
      "26   0.126266  0.309281  0.382820 -0.239199   L\n",
      "27   1.334360 -0.100152 -0.840731 -0.643967   6\n",
      "28  -0.737620  0.278087 -0.053235 -0.950972   J\n",
      "29  -1.148486 -0.986292 -0.144963  0.124362   Y\n",
      "..        ...       ...       ...       ...  ..\n",
      "970  0.633495 -0.186524  0.927627  0.143164   P\n",
      "971  0.308636 -0.112857  0.762842 -1.072977   X\n",
      "972 -1.627051 -0.978151  0.154745 -1.229037   O\n",
      "973  0.314847  0.097989  0.199608  0.955193   R\n",
      "974  1.666907  0.992005  0.496128 -0.686391   W\n",
      "975  0.010603  0.708540 -1.258711  0.226541   O\n",
      "976  0.118693 -0.714455 -0.501342 -0.254764   S\n",
      "977  0.302616 -2.011527 -0.628085  0.768827   R\n",
      "978 -0.098572  1.769086 -0.215027 -0.053076   G\n",
      "979 -0.019058  1.964994  0.738538 -0.883776   X\n",
      "980 -0.595349  0.001781 -1.423355 -1.458477   O\n",
      "981  1.392170 -1.396560 -1.425306 -0.847535   K\n",
      "982 -0.896029 -0.152287  1.924483  0.365184   M\n",
      "983 -2.274642 -0.901874  1.500352  0.996541   Q\n",
      "984 -0.301898  1.019906  1.102160  2.624526   Q\n",
      "985 -2.548389 -0.585374  1.496201 -0.718815   R\n",
      "986 -0.064588  0.759292 -1.568415 -0.420933   N\n",
      "987 -0.143365 -1.111760 -1.815581  0.435274   C\n",
      "988 -0.070412 -1.055921  0.338017 -0.440763   X\n",
      "989  0.649148  0.994273 -1.384227  0.485120   I\n",
      "990 -0.370769  0.404356 -1.051628 -1.050899   V\n",
      "991 -0.409980  0.155627 -0.818990  1.277350   4\n",
      "992  0.301214 -1.111203  0.668258  0.671922   Q\n",
      "993  1.821117  0.416445  0.173874  0.505118   O\n",
      "994  0.068804  1.322759  0.802346  0.223618   W\n",
      "995  2.311896 -0.417070 -1.409599 -0.515821   M\n",
      "996 -0.479893 -0.650419  0.745152 -0.646038   H\n",
      "997  0.523331  0.787112  0.486066  1.093156   D\n",
      "998 -0.362559  0.598894 -1.843201  0.887292   W\n",
      "999 -0.096376 -1.012999 -0.657431 -0.573315   K\n",
      "\n",
      "[1000 rows x 5 columns]\n",
      "          one       two     three      four key\n",
      "0    0.467976 -0.038649 -0.295344 -1.824726   T\n",
      "1   -0.358893  1.404453  0.704965 -0.200638   J\n",
      "2   -0.501840  0.659254 -0.421691 -0.057688   R\n",
      "3    0.204886  1.074134  1.388361 -0.982404   S\n",
      "4    0.354628 -0.133116  0.283763 -0.837063   B\n",
      "5    1.817480  0.742273  0.419395 -2.251035   Q\n",
      "6   -0.776764  0.935518 -0.332872 -1.875641   Z\n",
      "7   -0.913135  1.530624 -0.572657  0.477252   X\n",
      "8    0.358480 -0.497572 -0.367016  0.507702   R\n",
      "9   -1.740877 -1.160417 -1.637830  2.172201   4\n",
      "10   0.240564 -0.328249  1.252155  1.072796   5\n",
      "11   0.764018  1.165476 -0.639544  1.495258   A\n",
      "12   0.571035 -0.310537  0.582437 -0.298765   J\n",
      "13   2.317658  0.430710 -1.334216  0.199679   L\n",
      "14   1.547771 -1.119753 -2.277634  0.329586   N\n",
      "15  -1.310608  0.401719 -1.000987  1.156708   I\n",
      "16  -0.088496  0.634712  0.153324  0.415335   6\n",
      "17  -0.018663 -0.247487 -1.446522  0.750938   T\n",
      "18  -0.070127 -1.579097  0.120892  0.671432   R\n",
      "19  -0.194678 -0.492039  2.359605  0.319810   4\n",
      "20  -0.248618  0.868707 -0.492226 -0.717959   Z\n",
      "21  -1.091549 -0.867110 -0.647760 -0.832562   K\n",
      "22   0.641404 -0.138822 -0.621963 -0.284839   B\n",
      "23   1.216408  0.992687  0.165162 -0.069619   O\n",
      "24  -0.564474  0.792832  0.747053  0.571675   G\n",
      "25   1.759879 -0.515666 -0.230481  1.362317   F\n",
      "26   0.126266  0.309281  0.382820 -0.239199   I\n",
      "27   1.334360 -0.100152 -0.840731 -0.643967   K\n",
      "28  -0.737620  0.278087 -0.053235 -0.950972   L\n",
      "29  -1.148486 -0.986292 -0.144963  0.124362   O\n",
      "..        ...       ...       ...       ...  ..\n",
      "970  0.633495 -0.186524  0.927627  0.143164   V\n",
      "971  0.308636 -0.112857  0.762842 -1.072977   J\n",
      "972 -1.627051 -0.978151  0.154745 -1.229037   Q\n",
      "973  0.314847  0.097989  0.199608  0.955193   R\n",
      "974  1.666907  0.992005  0.496128 -0.686391   T\n",
      "975  0.010603  0.708540 -1.258711  0.226541   R\n",
      "976  0.118693 -0.714455 -0.501342 -0.254764   3\n",
      "977  0.302616 -2.011527 -0.628085  0.768827   O\n",
      "978 -0.098572  1.769086 -0.215027 -0.053076   O\n",
      "979 -0.019058  1.964994  0.738538 -0.883776   8\n",
      "980 -0.595349  0.001781 -1.423355 -1.458477   A\n",
      "981  1.392170 -1.396560 -1.425306 -0.847535   7\n",
      "982 -0.896029 -0.152287  1.924483  0.365184   V\n",
      "983 -2.274642 -0.901874  1.500352  0.996541   S\n",
      "984 -0.301898  1.019906  1.102160  2.624526   W\n",
      "985 -2.548389 -0.585374  1.496201 -0.718815   O\n",
      "986 -0.064588  0.759292 -1.568415 -0.420933   M\n",
      "987 -0.143365 -1.111760 -1.815581  0.435274   S\n",
      "988 -0.070412 -1.055921  0.338017 -0.440763   D\n",
      "989  0.649148  0.994273 -1.384227  0.485120   P\n",
      "990 -0.370769  0.404356 -1.051628 -1.050899   B\n",
      "991 -0.409980  0.155627 -0.818990  1.277350   D\n",
      "992  0.301214 -1.111203  0.668258  0.671922   F\n",
      "993  1.821117  0.416445  0.173874  0.505118   O\n",
      "994  0.068804  1.322759  0.802346  0.223618   Q\n",
      "995  2.311896 -0.417070 -1.409599 -0.515821   L\n",
      "996 -0.479893 -0.650419  0.745152 -0.646038   J\n",
      "997  0.523331  0.787112  0.486066  1.093156   V\n",
      "998 -0.362559  0.598894 -1.843201  0.887292   W\n",
      "999 -0.096376 -1.012999 -0.657431 -0.573315   D\n",
      "\n",
      "[1000 rows x 5 columns]\n",
      "          one       two     three      four key\n",
      "0    0.467976 -0.038649 -0.295344 -1.824726   1\n",
      "1   -0.358893  1.404453  0.704965 -0.200638   H\n",
      "2   -0.501840  0.659254 -0.421691 -0.057688   F\n",
      "3    0.204886  1.074134  1.388361 -0.982404   L\n",
      "4    0.354628 -0.133116  0.283763 -0.837063   E\n",
      "5    1.817480  0.742273  0.419395 -2.251035   3\n",
      "6   -0.776764  0.935518 -0.332872 -1.875641   G\n",
      "7   -0.913135  1.530624 -0.572657  0.477252   X\n",
      "8    0.358480 -0.497572 -0.367016  0.507702   D\n",
      "9   -1.740877 -1.160417 -1.637830  2.172201   Q\n",
      "10   0.240564 -0.328249  1.252155  1.072796   N\n",
      "11   0.764018  1.165476 -0.639544  1.495258   W\n",
      "12   0.571035 -0.310537  0.582437 -0.298765   T\n",
      "13   2.317658  0.430710 -1.334216  0.199679   M\n",
      "14   1.547771 -1.119753 -2.277634  0.329586   M\n",
      "15  -1.310608  0.401719 -1.000987  1.156708   X\n",
      "16  -0.088496  0.634712  0.153324  0.415335   Z\n",
      "17  -0.018663 -0.247487 -1.446522  0.750938   T\n",
      "18  -0.070127 -1.579097  0.120892  0.671432   E\n",
      "19  -0.194678 -0.492039  2.359605  0.319810   H\n",
      "20  -0.248618  0.868707 -0.492226 -0.717959   U\n",
      "21  -1.091549 -0.867110 -0.647760 -0.832562   Q\n",
      "22   0.641404 -0.138822 -0.621963 -0.284839   I\n",
      "23   1.216408  0.992687  0.165162 -0.069619   1\n",
      "24  -0.564474  0.792832  0.747053  0.571675   Y\n",
      "25   1.759879 -0.515666 -0.230481  1.362317   9\n",
      "26   0.126266  0.309281  0.382820 -0.239199   E\n",
      "27   1.334360 -0.100152 -0.840731 -0.643967   C\n",
      "28  -0.737620  0.278087 -0.053235 -0.950972   6\n",
      "29  -1.148486 -0.986292 -0.144963  0.124362   K\n",
      "..        ...       ...       ...       ...  ..\n",
      "970  0.633495 -0.186524  0.927627  0.143164   4\n",
      "971  0.308636 -0.112857  0.762842 -1.072977   L\n",
      "972 -1.627051 -0.978151  0.154745 -1.229037   M\n",
      "973  0.314847  0.097989  0.199608  0.955193   X\n",
      "974  1.666907  0.992005  0.496128 -0.686391   9\n",
      "975  0.010603  0.708540 -1.258711  0.226541   F\n",
      "976  0.118693 -0.714455 -0.501342 -0.254764   C\n",
      "977  0.302616 -2.011527 -0.628085  0.768827   K\n",
      "978 -0.098572  1.769086 -0.215027 -0.053076   S\n",
      "979 -0.019058  1.964994  0.738538 -0.883776   X\n",
      "980 -0.595349  0.001781 -1.423355 -1.458477   H\n",
      "981  1.392170 -1.396560 -1.425306 -0.847535   K\n",
      "982 -0.896029 -0.152287  1.924483  0.365184   8\n",
      "983 -2.274642 -0.901874  1.500352  0.996541   G\n",
      "984 -0.301898  1.019906  1.102160  2.624526   3\n",
      "985 -2.548389 -0.585374  1.496201 -0.718815   Y\n",
      "986 -0.064588  0.759292 -1.568415 -0.420933   K\n",
      "987 -0.143365 -1.111760 -1.815581  0.435274   P\n",
      "988 -0.070412 -1.055921  0.338017 -0.440763   U\n",
      "989  0.649148  0.994273 -1.384227  0.485120   Y\n",
      "990 -0.370769  0.404356 -1.051628 -1.050899   U\n",
      "991 -0.409980  0.155627 -0.818990  1.277350   V\n",
      "992  0.301214 -1.111203  0.668258  0.671922   H\n",
      "993  1.821117  0.416445  0.173874  0.505118   A\n",
      "994  0.068804  1.322759  0.802346  0.223618   0\n",
      "995  2.311896 -0.417070 -1.409599 -0.515821   H\n",
      "996 -0.479893 -0.650419  0.745152 -0.646038   U\n",
      "997  0.523331  0.787112  0.486066  1.093156   A\n",
      "998 -0.362559  0.598894 -1.843201  0.887292   Y\n",
      "999 -0.096376 -1.012999 -0.657431 -0.573315   F\n",
      "\n",
      "[1000 rows x 5 columns]\n",
      "          one       two     three      four key\n",
      "0    0.467976 -0.038649 -0.295344 -1.824726   H\n",
      "1   -0.358893  1.404453  0.704965 -0.200638   Y\n",
      "2   -0.501840  0.659254 -0.421691 -0.057688   0\n",
      "3    0.204886  1.074134  1.388361 -0.982404   Z\n",
      "4    0.354628 -0.133116  0.283763 -0.837063   U\n",
      "5    1.817480  0.742273  0.419395 -2.251035   B\n",
      "6   -0.776764  0.935518 -0.332872 -1.875641   D\n",
      "7   -0.913135  1.530624 -0.572657  0.477252   J\n",
      "8    0.358480 -0.497572 -0.367016  0.507702   7\n",
      "9   -1.740877 -1.160417 -1.637830  2.172201   2\n",
      "10   0.240564 -0.328249  1.252155  1.072796   R\n",
      "11   0.764018  1.165476 -0.639544  1.495258   X\n",
      "12   0.571035 -0.310537  0.582437 -0.298765   A\n",
      "13   2.317658  0.430710 -1.334216  0.199679   0\n",
      "14   1.547771 -1.119753 -2.277634  0.329586   U\n",
      "15  -1.310608  0.401719 -1.000987  1.156708   B\n",
      "16  -0.088496  0.634712  0.153324  0.415335   E\n",
      "17  -0.018663 -0.247487 -1.446522  0.750938   W\n",
      "18  -0.070127 -1.579097  0.120892  0.671432   T\n",
      "19  -0.194678 -0.492039  2.359605  0.319810   U\n",
      "20  -0.248618  0.868707 -0.492226 -0.717959   P\n",
      "21  -1.091549 -0.867110 -0.647760 -0.832562   P\n",
      "22   0.641404 -0.138822 -0.621963 -0.284839   D\n",
      "23   1.216408  0.992687  0.165162 -0.069619   T\n",
      "24  -0.564474  0.792832  0.747053  0.571675   1\n",
      "25   1.759879 -0.515666 -0.230481  1.362317   N\n",
      "26   0.126266  0.309281  0.382820 -0.239199   A\n",
      "27   1.334360 -0.100152 -0.840731 -0.643967   J\n",
      "28  -0.737620  0.278087 -0.053235 -0.950972   A\n",
      "29  -1.148486 -0.986292 -0.144963  0.124362   E\n",
      "..        ...       ...       ...       ...  ..\n",
      "970  0.633495 -0.186524  0.927627  0.143164   H\n",
      "971  0.308636 -0.112857  0.762842 -1.072977   O\n",
      "972 -1.627051 -0.978151  0.154745 -1.229037   A\n",
      "973  0.314847  0.097989  0.199608  0.955193   X\n",
      "974  1.666907  0.992005  0.496128 -0.686391   Y\n",
      "975  0.010603  0.708540 -1.258711  0.226541   F\n",
      "976  0.118693 -0.714455 -0.501342 -0.254764   E\n",
      "977  0.302616 -2.011527 -0.628085  0.768827   D\n",
      "978 -0.098572  1.769086 -0.215027 -0.053076   S\n",
      "979 -0.019058  1.964994  0.738538 -0.883776   U\n",
      "980 -0.595349  0.001781 -1.423355 -1.458477   5\n",
      "981  1.392170 -1.396560 -1.425306 -0.847535   B\n",
      "982 -0.896029 -0.152287  1.924483  0.365184   T\n",
      "983 -2.274642 -0.901874  1.500352  0.996541   C\n",
      "984 -0.301898  1.019906  1.102160  2.624526   H\n",
      "985 -2.548389 -0.585374  1.496201 -0.718815   7\n",
      "986 -0.064588  0.759292 -1.568415 -0.420933   J\n",
      "987 -0.143365 -1.111760 -1.815581  0.435274   N\n",
      "988 -0.070412 -1.055921  0.338017 -0.440763   U\n",
      "989  0.649148  0.994273 -1.384227  0.485120   2\n",
      "990 -0.370769  0.404356 -1.051628 -1.050899   5\n",
      "991 -0.409980  0.155627 -0.818990  1.277350   I\n",
      "992  0.301214 -1.111203  0.668258  0.671922   6\n",
      "993  1.821117  0.416445  0.173874  0.505118   S\n",
      "994  0.068804  1.322759  0.802346  0.223618   V\n",
      "995  2.311896 -0.417070 -1.409599 -0.515821   W\n",
      "996 -0.479893 -0.650419  0.745152 -0.646038   E\n",
      "997  0.523331  0.787112  0.486066  1.093156   Q\n",
      "998 -0.362559  0.598894 -1.843201  0.887292   A\n",
      "999 -0.096376 -1.012999 -0.657431 -0.573315   M\n",
      "\n",
      "[1000 rows x 5 columns]\n",
      "          one       two     three      four key\n",
      "0    0.467976 -0.038649 -0.295344 -1.824726   H\n",
      "1   -0.358893  1.404453  0.704965 -0.200638   Z\n",
      "2   -0.501840  0.659254 -0.421691 -0.057688   2\n",
      "3    0.204886  1.074134  1.388361 -0.982404   B\n",
      "4    0.354628 -0.133116  0.283763 -0.837063   1\n",
      "5    1.817480  0.742273  0.419395 -2.251035   R\n",
      "6   -0.776764  0.935518 -0.332872 -1.875641   R\n",
      "7   -0.913135  1.530624 -0.572657  0.477252   L\n",
      "8    0.358480 -0.497572 -0.367016  0.507702   8\n",
      "9   -1.740877 -1.160417 -1.637830  2.172201   M\n",
      "10   0.240564 -0.328249  1.252155  1.072796   K\n",
      "11   0.764018  1.165476 -0.639544  1.495258   8\n",
      "12   0.571035 -0.310537  0.582437 -0.298765   U\n",
      "13   2.317658  0.430710 -1.334216  0.199679   5\n",
      "14   1.547771 -1.119753 -2.277634  0.329586   M\n",
      "15  -1.310608  0.401719 -1.000987  1.156708   0\n",
      "16  -0.088496  0.634712  0.153324  0.415335   B\n",
      "17  -0.018663 -0.247487 -1.446522  0.750938   K\n",
      "18  -0.070127 -1.579097  0.120892  0.671432   Y\n",
      "19  -0.194678 -0.492039  2.359605  0.319810   N\n",
      "20  -0.248618  0.868707 -0.492226 -0.717959   K\n",
      "21  -1.091549 -0.867110 -0.647760 -0.832562   E\n",
      "22   0.641404 -0.138822 -0.621963 -0.284839   A\n",
      "23   1.216408  0.992687  0.165162 -0.069619   A\n",
      "24  -0.564474  0.792832  0.747053  0.571675   8\n",
      "25   1.759879 -0.515666 -0.230481  1.362317   I\n",
      "26   0.126266  0.309281  0.382820 -0.239199   I\n",
      "27   1.334360 -0.100152 -0.840731 -0.643967   L\n",
      "28  -0.737620  0.278087 -0.053235 -0.950972   U\n",
      "29  -1.148486 -0.986292 -0.144963  0.124362   L\n",
      "..        ...       ...       ...       ...  ..\n",
      "970  0.633495 -0.186524  0.927627  0.143164   K\n",
      "971  0.308636 -0.112857  0.762842 -1.072977   N\n",
      "972 -1.627051 -0.978151  0.154745 -1.229037   F\n",
      "973  0.314847  0.097989  0.199608  0.955193   H\n",
      "974  1.666907  0.992005  0.496128 -0.686391   G\n",
      "975  0.010603  0.708540 -1.258711  0.226541   3\n",
      "976  0.118693 -0.714455 -0.501342 -0.254764   5\n",
      "977  0.302616 -2.011527 -0.628085  0.768827   K\n",
      "978 -0.098572  1.769086 -0.215027 -0.053076   Z\n",
      "979 -0.019058  1.964994  0.738538 -0.883776   4\n",
      "980 -0.595349  0.001781 -1.423355 -1.458477   L\n",
      "981  1.392170 -1.396560 -1.425306 -0.847535   C\n",
      "982 -0.896029 -0.152287  1.924483  0.365184   M\n",
      "983 -2.274642 -0.901874  1.500352  0.996541   P\n",
      "984 -0.301898  1.019906  1.102160  2.624526   K\n",
      "985 -2.548389 -0.585374  1.496201 -0.718815   7\n",
      "986 -0.064588  0.759292 -1.568415 -0.420933   I\n",
      "987 -0.143365 -1.111760 -1.815581  0.435274   U\n",
      "988 -0.070412 -1.055921  0.338017 -0.440763   K\n",
      "989  0.649148  0.994273 -1.384227  0.485120   O\n",
      "990 -0.370769  0.404356 -1.051628 -1.050899   4\n",
      "991 -0.409980  0.155627 -0.818990  1.277350   O\n",
      "992  0.301214 -1.111203  0.668258  0.671922   0\n",
      "993  1.821117  0.416445  0.173874  0.505118   S\n",
      "994  0.068804  1.322759  0.802346  0.223618   H\n",
      "995  2.311896 -0.417070 -1.409599 -0.515821   X\n",
      "996 -0.479893 -0.650419  0.745152 -0.646038   M\n",
      "997  0.523331  0.787112  0.486066  1.093156   5\n",
      "998 -0.362559  0.598894 -1.843201  0.887292   T\n",
      "999 -0.096376 -1.012999 -0.657431 -0.573315   U\n",
      "\n",
      "[1000 rows x 5 columns]\n",
      "          one       two     three      four key\n",
      "0    0.467976 -0.038649 -0.295344 -1.824726   1\n",
      "1   -0.358893  1.404453  0.704965 -0.200638   Z\n",
      "2   -0.501840  0.659254 -0.421691 -0.057688   3\n",
      "3    0.204886  1.074134  1.388361 -0.982404   H\n",
      "4    0.354628 -0.133116  0.283763 -0.837063   B\n",
      "5    1.817480  0.742273  0.419395 -2.251035   L\n",
      "6   -0.776764  0.935518 -0.332872 -1.875641   O\n",
      "7   -0.913135  1.530624 -0.572657  0.477252   8\n",
      "8    0.358480 -0.497572 -0.367016  0.507702   W\n",
      "9   -1.740877 -1.160417 -1.637830  2.172201   G\n",
      "10   0.240564 -0.328249  1.252155  1.072796   Y\n",
      "11   0.764018  1.165476 -0.639544  1.495258   S\n",
      "12   0.571035 -0.310537  0.582437 -0.298765   E\n",
      "13   2.317658  0.430710 -1.334216  0.199679   R\n",
      "14   1.547771 -1.119753 -2.277634  0.329586   B\n",
      "15  -1.310608  0.401719 -1.000987  1.156708   L\n",
      "16  -0.088496  0.634712  0.153324  0.415335   Z\n",
      "17  -0.018663 -0.247487 -1.446522  0.750938   L\n",
      "18  -0.070127 -1.579097  0.120892  0.671432   F\n",
      "19  -0.194678 -0.492039  2.359605  0.319810   8\n",
      "20  -0.248618  0.868707 -0.492226 -0.717959   4\n",
      "21  -1.091549 -0.867110 -0.647760 -0.832562   K\n",
      "22   0.641404 -0.138822 -0.621963 -0.284839   Y\n",
      "23   1.216408  0.992687  0.165162 -0.069619   R\n",
      "24  -0.564474  0.792832  0.747053  0.571675   T\n",
      "25   1.759879 -0.515666 -0.230481  1.362317   S\n",
      "26   0.126266  0.309281  0.382820 -0.239199   O\n",
      "27   1.334360 -0.100152 -0.840731 -0.643967   V\n",
      "28  -0.737620  0.278087 -0.053235 -0.950972   P\n",
      "29  -1.148486 -0.986292 -0.144963  0.124362   B\n",
      "..        ...       ...       ...       ...  ..\n",
      "970  0.633495 -0.186524  0.927627  0.143164   Y\n",
      "971  0.308636 -0.112857  0.762842 -1.072977   E\n",
      "972 -1.627051 -0.978151  0.154745 -1.229037   Q\n",
      "973  0.314847  0.097989  0.199608  0.955193   P\n",
      "974  1.666907  0.992005  0.496128 -0.686391   X\n",
      "975  0.010603  0.708540 -1.258711  0.226541   M\n",
      "976  0.118693 -0.714455 -0.501342 -0.254764   W\n",
      "977  0.302616 -2.011527 -0.628085  0.768827   O\n",
      "978 -0.098572  1.769086 -0.215027 -0.053076   T\n",
      "979 -0.019058  1.964994  0.738538 -0.883776   L\n",
      "980 -0.595349  0.001781 -1.423355 -1.458477   A\n",
      "981  1.392170 -1.396560 -1.425306 -0.847535   O\n",
      "982 -0.896029 -0.152287  1.924483  0.365184   P\n",
      "983 -2.274642 -0.901874  1.500352  0.996541   E\n",
      "984 -0.301898  1.019906  1.102160  2.624526   N\n",
      "985 -2.548389 -0.585374  1.496201 -0.718815   O\n",
      "986 -0.064588  0.759292 -1.568415 -0.420933   G\n",
      "987 -0.143365 -1.111760 -1.815581  0.435274   I\n",
      "988 -0.070412 -1.055921  0.338017 -0.440763   4\n",
      "989  0.649148  0.994273 -1.384227  0.485120   I\n",
      "990 -0.370769  0.404356 -1.051628 -1.050899   L\n",
      "991 -0.409980  0.155627 -0.818990  1.277350   H\n",
      "992  0.301214 -1.111203  0.668258  0.671922   X\n",
      "993  1.821117  0.416445  0.173874  0.505118   G\n",
      "994  0.068804  1.322759  0.802346  0.223618   R\n",
      "995  2.311896 -0.417070 -1.409599 -0.515821   1\n",
      "996 -0.479893 -0.650419  0.745152 -0.646038   Y\n",
      "997  0.523331  0.787112  0.486066  1.093156   F\n",
      "998 -0.362559  0.598894 -1.843201  0.887292   0\n",
      "999 -0.096376 -1.012999 -0.657431 -0.573315   3\n",
      "\n",
      "[1000 rows x 5 columns]\n",
      "          one       two     three      four key\n",
      "0    0.467976 -0.038649 -0.295344 -1.824726   I\n",
      "1   -0.358893  1.404453  0.704965 -0.200638   X\n",
      "2   -0.501840  0.659254 -0.421691 -0.057688   A\n",
      "3    0.204886  1.074134  1.388361 -0.982404   C\n",
      "4    0.354628 -0.133116  0.283763 -0.837063   S\n",
      "5    1.817480  0.742273  0.419395 -2.251035   T\n",
      "6   -0.776764  0.935518 -0.332872 -1.875641   M\n",
      "7   -0.913135  1.530624 -0.572657  0.477252   4\n",
      "8    0.358480 -0.497572 -0.367016  0.507702   N\n",
      "9   -1.740877 -1.160417 -1.637830  2.172201   H\n",
      "10   0.240564 -0.328249  1.252155  1.072796   V\n",
      "11   0.764018  1.165476 -0.639544  1.495258   I\n",
      "12   0.571035 -0.310537  0.582437 -0.298765   7\n",
      "13   2.317658  0.430710 -1.334216  0.199679   X\n",
      "14   1.547771 -1.119753 -2.277634  0.329586   K\n",
      "15  -1.310608  0.401719 -1.000987  1.156708   8\n",
      "16  -0.088496  0.634712  0.153324  0.415335   Z\n",
      "17  -0.018663 -0.247487 -1.446522  0.750938   F\n",
      "18  -0.070127 -1.579097  0.120892  0.671432   N\n",
      "19  -0.194678 -0.492039  2.359605  0.319810   V\n",
      "20  -0.248618  0.868707 -0.492226 -0.717959   J\n",
      "21  -1.091549 -0.867110 -0.647760 -0.832562   I\n",
      "22   0.641404 -0.138822 -0.621963 -0.284839   U\n",
      "23   1.216408  0.992687  0.165162 -0.069619   R\n",
      "24  -0.564474  0.792832  0.747053  0.571675   D\n",
      "25   1.759879 -0.515666 -0.230481  1.362317   F\n",
      "26   0.126266  0.309281  0.382820 -0.239199   F\n",
      "27   1.334360 -0.100152 -0.840731 -0.643967   2\n",
      "28  -0.737620  0.278087 -0.053235 -0.950972   B\n",
      "29  -1.148486 -0.986292 -0.144963  0.124362   Z\n",
      "..        ...       ...       ...       ...  ..\n",
      "970  0.633495 -0.186524  0.927627  0.143164   G\n",
      "971  0.308636 -0.112857  0.762842 -1.072977   M\n",
      "972 -1.627051 -0.978151  0.154745 -1.229037   Y\n",
      "973  0.314847  0.097989  0.199608  0.955193   E\n",
      "974  1.666907  0.992005  0.496128 -0.686391   U\n",
      "975  0.010603  0.708540 -1.258711  0.226541   L\n",
      "976  0.118693 -0.714455 -0.501342 -0.254764   N\n",
      "977  0.302616 -2.011527 -0.628085  0.768827   J\n",
      "978 -0.098572  1.769086 -0.215027 -0.053076   P\n",
      "979 -0.019058  1.964994  0.738538 -0.883776   S\n",
      "980 -0.595349  0.001781 -1.423355 -1.458477   O\n",
      "981  1.392170 -1.396560 -1.425306 -0.847535   Z\n",
      "982 -0.896029 -0.152287  1.924483  0.365184   V\n",
      "983 -2.274642 -0.901874  1.500352  0.996541   O\n",
      "984 -0.301898  1.019906  1.102160  2.624526   G\n",
      "985 -2.548389 -0.585374  1.496201 -0.718815   N\n",
      "986 -0.064588  0.759292 -1.568415 -0.420933   E\n",
      "987 -0.143365 -1.111760 -1.815581  0.435274   I\n",
      "988 -0.070412 -1.055921  0.338017 -0.440763   4\n",
      "989  0.649148  0.994273 -1.384227  0.485120   I\n",
      "990 -0.370769  0.404356 -1.051628 -1.050899   T\n",
      "991 -0.409980  0.155627 -0.818990  1.277350   7\n",
      "992  0.301214 -1.111203  0.668258  0.671922   2\n",
      "993  1.821117  0.416445  0.173874  0.505118   Z\n",
      "994  0.068804  1.322759  0.802346  0.223618   F\n",
      "995  2.311896 -0.417070 -1.409599 -0.515821   P\n",
      "996 -0.479893 -0.650419  0.745152 -0.646038   9\n",
      "997  0.523331  0.787112  0.486066  1.093156   L\n",
      "998 -0.362559  0.598894 -1.843201  0.887292   5\n",
      "999 -0.096376 -1.012999 -0.657431 -0.573315   O\n",
      "\n",
      "[1000 rows x 5 columns]\n",
      "          one       two     three      four key\n",
      "0    0.467976 -0.038649 -0.295344 -1.824726   1\n",
      "1   -0.358893  1.404453  0.704965 -0.200638   I\n",
      "2   -0.501840  0.659254 -0.421691 -0.057688   H\n",
      "3    0.204886  1.074134  1.388361 -0.982404   P\n",
      "4    0.354628 -0.133116  0.283763 -0.837063   D\n",
      "5    1.817480  0.742273  0.419395 -2.251035   J\n",
      "6   -0.776764  0.935518 -0.332872 -1.875641   D\n",
      "7   -0.913135  1.530624 -0.572657  0.477252   0\n",
      "8    0.358480 -0.497572 -0.367016  0.507702   A\n",
      "9   -1.740877 -1.160417 -1.637830  2.172201   A\n",
      "10   0.240564 -0.328249  1.252155  1.072796   I\n",
      "11   0.764018  1.165476 -0.639544  1.495258   L\n",
      "12   0.571035 -0.310537  0.582437 -0.298765   C\n",
      "13   2.317658  0.430710 -1.334216  0.199679   7\n",
      "14   1.547771 -1.119753 -2.277634  0.329586   V\n",
      "15  -1.310608  0.401719 -1.000987  1.156708   E\n",
      "16  -0.088496  0.634712  0.153324  0.415335   P\n",
      "17  -0.018663 -0.247487 -1.446522  0.750938   G\n",
      "18  -0.070127 -1.579097  0.120892  0.671432   E\n",
      "19  -0.194678 -0.492039  2.359605  0.319810   W\n",
      "20  -0.248618  0.868707 -0.492226 -0.717959   A\n",
      "21  -1.091549 -0.867110 -0.647760 -0.832562   6\n",
      "22   0.641404 -0.138822 -0.621963 -0.284839   5\n",
      "23   1.216408  0.992687  0.165162 -0.069619   T\n",
      "24  -0.564474  0.792832  0.747053  0.571675   J\n",
      "25   1.759879 -0.515666 -0.230481  1.362317   K\n",
      "26   0.126266  0.309281  0.382820 -0.239199   8\n",
      "27   1.334360 -0.100152 -0.840731 -0.643967   E\n",
      "28  -0.737620  0.278087 -0.053235 -0.950972   J\n",
      "29  -1.148486 -0.986292 -0.144963  0.124362   D\n",
      "..        ...       ...       ...       ...  ..\n",
      "970  0.633495 -0.186524  0.927627  0.143164   E\n",
      "971  0.308636 -0.112857  0.762842 -1.072977   D\n",
      "972 -1.627051 -0.978151  0.154745 -1.229037   L\n",
      "973  0.314847  0.097989  0.199608  0.955193   A\n",
      "974  1.666907  0.992005  0.496128 -0.686391   G\n",
      "975  0.010603  0.708540 -1.258711  0.226541   X\n",
      "976  0.118693 -0.714455 -0.501342 -0.254764   Q\n",
      "977  0.302616 -2.011527 -0.628085  0.768827   W\n",
      "978 -0.098572  1.769086 -0.215027 -0.053076   C\n",
      "979 -0.019058  1.964994  0.738538 -0.883776   G\n",
      "980 -0.595349  0.001781 -1.423355 -1.458477   T\n",
      "981  1.392170 -1.396560 -1.425306 -0.847535   7\n",
      "982 -0.896029 -0.152287  1.924483  0.365184   R\n",
      "983 -2.274642 -0.901874  1.500352  0.996541   K\n",
      "984 -0.301898  1.019906  1.102160  2.624526   R\n",
      "985 -2.548389 -0.585374  1.496201 -0.718815   D\n",
      "986 -0.064588  0.759292 -1.568415 -0.420933   R\n",
      "987 -0.143365 -1.111760 -1.815581  0.435274   R\n",
      "988 -0.070412 -1.055921  0.338017 -0.440763   8\n",
      "989  0.649148  0.994273 -1.384227  0.485120   T\n",
      "990 -0.370769  0.404356 -1.051628 -1.050899   U\n",
      "991 -0.409980  0.155627 -0.818990  1.277350   7\n",
      "992  0.301214 -1.111203  0.668258  0.671922   W\n",
      "993  1.821117  0.416445  0.173874  0.505118   8\n",
      "994  0.068804  1.322759  0.802346  0.223618   A\n",
      "995  2.311896 -0.417070 -1.409599 -0.515821   A\n",
      "996 -0.479893 -0.650419  0.745152 -0.646038   6\n",
      "997  0.523331  0.787112  0.486066  1.093156   R\n",
      "998 -0.362559  0.598894 -1.843201  0.887292   R\n",
      "999 -0.096376 -1.012999 -0.657431 -0.573315   2\n",
      "\n",
      "[1000 rows x 5 columns]\n",
      "          one       two     three      four key\n",
      "0    0.467976 -0.038649 -0.295344 -1.824726   7\n",
      "1   -0.358893  1.404453  0.704965 -0.200638   W\n",
      "2   -0.501840  0.659254 -0.421691 -0.057688   C\n",
      "3    0.204886  1.074134  1.388361 -0.982404   S\n",
      "4    0.354628 -0.133116  0.283763 -0.837063   H\n",
      "5    1.817480  0.742273  0.419395 -2.251035   C\n",
      "6   -0.776764  0.935518 -0.332872 -1.875641   V\n",
      "7   -0.913135  1.530624 -0.572657  0.477252   G\n",
      "8    0.358480 -0.497572 -0.367016  0.507702   L\n",
      "9   -1.740877 -1.160417 -1.637830  2.172201   Q\n",
      "10   0.240564 -0.328249  1.252155  1.072796   Y\n",
      "11   0.764018  1.165476 -0.639544  1.495258   Y\n",
      "12   0.571035 -0.310537  0.582437 -0.298765   9\n",
      "13   2.317658  0.430710 -1.334216  0.199679   K\n",
      "14   1.547771 -1.119753 -2.277634  0.329586   N\n",
      "15  -1.310608  0.401719 -1.000987  1.156708   4\n",
      "16  -0.088496  0.634712  0.153324  0.415335   P\n",
      "17  -0.018663 -0.247487 -1.446522  0.750938   Y\n",
      "18  -0.070127 -1.579097  0.120892  0.671432   O\n",
      "19  -0.194678 -0.492039  2.359605  0.319810   T\n",
      "20  -0.248618  0.868707 -0.492226 -0.717959   Y\n",
      "21  -1.091549 -0.867110 -0.647760 -0.832562   E\n",
      "22   0.641404 -0.138822 -0.621963 -0.284839   4\n",
      "23   1.216408  0.992687  0.165162 -0.069619   9\n",
      "24  -0.564474  0.792832  0.747053  0.571675   U\n",
      "25   1.759879 -0.515666 -0.230481  1.362317   H\n",
      "26   0.126266  0.309281  0.382820 -0.239199   C\n",
      "27   1.334360 -0.100152 -0.840731 -0.643967   E\n",
      "28  -0.737620  0.278087 -0.053235 -0.950972   7\n",
      "29  -1.148486 -0.986292 -0.144963  0.124362   9\n",
      "..        ...       ...       ...       ...  ..\n",
      "970  0.633495 -0.186524  0.927627  0.143164   A\n",
      "971  0.308636 -0.112857  0.762842 -1.072977   T\n",
      "972 -1.627051 -0.978151  0.154745 -1.229037   5\n",
      "973  0.314847  0.097989  0.199608  0.955193   A\n",
      "974  1.666907  0.992005  0.496128 -0.686391   D\n",
      "975  0.010603  0.708540 -1.258711  0.226541   J\n",
      "976  0.118693 -0.714455 -0.501342 -0.254764   6\n",
      "977  0.302616 -2.011527 -0.628085  0.768827   R\n",
      "978 -0.098572  1.769086 -0.215027 -0.053076   O\n",
      "979 -0.019058  1.964994  0.738538 -0.883776   S\n",
      "980 -0.595349  0.001781 -1.423355 -1.458477   P\n",
      "981  1.392170 -1.396560 -1.425306 -0.847535   V\n",
      "982 -0.896029 -0.152287  1.924483  0.365184   Z\n",
      "983 -2.274642 -0.901874  1.500352  0.996541   O\n",
      "984 -0.301898  1.019906  1.102160  2.624526   3\n",
      "985 -2.548389 -0.585374  1.496201 -0.718815   F\n",
      "986 -0.064588  0.759292 -1.568415 -0.420933   R\n",
      "987 -0.143365 -1.111760 -1.815581  0.435274   Q\n",
      "988 -0.070412 -1.055921  0.338017 -0.440763   P\n",
      "989  0.649148  0.994273 -1.384227  0.485120   T\n",
      "990 -0.370769  0.404356 -1.051628 -1.050899   A\n",
      "991 -0.409980  0.155627 -0.818990  1.277350   Q\n",
      "992  0.301214 -1.111203  0.668258  0.671922   1\n",
      "993  1.821117  0.416445  0.173874  0.505118   W\n",
      "994  0.068804  1.322759  0.802346  0.223618   S\n",
      "995  2.311896 -0.417070 -1.409599 -0.515821   W\n",
      "996 -0.479893 -0.650419  0.745152 -0.646038   N\n",
      "997  0.523331  0.787112  0.486066  1.093156   Q\n",
      "998 -0.362559  0.598894 -1.843201  0.887292   R\n",
      "999 -0.096376 -1.012999 -0.657431 -0.573315   M\n",
      "\n",
      "[1000 rows x 5 columns]\n",
      "          one       two     three      four key\n",
      "0    0.467976 -0.038649 -0.295344 -1.824726   B\n",
      "1   -0.358893  1.404453  0.704965 -0.200638   M\n",
      "2   -0.501840  0.659254 -0.421691 -0.057688   N\n",
      "3    0.204886  1.074134  1.388361 -0.982404   N\n",
      "4    0.354628 -0.133116  0.283763 -0.837063   Y\n",
      "5    1.817480  0.742273  0.419395 -2.251035   0\n",
      "6   -0.776764  0.935518 -0.332872 -1.875641   R\n",
      "7   -0.913135  1.530624 -0.572657  0.477252   3\n",
      "8    0.358480 -0.497572 -0.367016  0.507702   C\n",
      "9   -1.740877 -1.160417 -1.637830  2.172201   D\n",
      "10   0.240564 -0.328249  1.252155  1.072796   U\n",
      "11   0.764018  1.165476 -0.639544  1.495258   3\n",
      "12   0.571035 -0.310537  0.582437 -0.298765   M\n",
      "13   2.317658  0.430710 -1.334216  0.199679   6\n",
      "14   1.547771 -1.119753 -2.277634  0.329586   N\n",
      "15  -1.310608  0.401719 -1.000987  1.156708   L\n",
      "16  -0.088496  0.634712  0.153324  0.415335   I\n",
      "17  -0.018663 -0.247487 -1.446522  0.750938   E\n",
      "18  -0.070127 -1.579097  0.120892  0.671432   C\n",
      "19  -0.194678 -0.492039  2.359605  0.319810   X\n",
      "20  -0.248618  0.868707 -0.492226 -0.717959   B\n",
      "21  -1.091549 -0.867110 -0.647760 -0.832562   D\n",
      "22   0.641404 -0.138822 -0.621963 -0.284839   K\n",
      "23   1.216408  0.992687  0.165162 -0.069619   L\n",
      "24  -0.564474  0.792832  0.747053  0.571675   Q\n",
      "25   1.759879 -0.515666 -0.230481  1.362317   L\n",
      "26   0.126266  0.309281  0.382820 -0.239199   C\n",
      "27   1.334360 -0.100152 -0.840731 -0.643967   M\n",
      "28  -0.737620  0.278087 -0.053235 -0.950972   5\n",
      "29  -1.148486 -0.986292 -0.144963  0.124362   9\n",
      "..        ...       ...       ...       ...  ..\n",
      "970  0.633495 -0.186524  0.927627  0.143164   4\n",
      "971  0.308636 -0.112857  0.762842 -1.072977   1\n",
      "972 -1.627051 -0.978151  0.154745 -1.229037   Z\n",
      "973  0.314847  0.097989  0.199608  0.955193   P\n",
      "974  1.666907  0.992005  0.496128 -0.686391   S\n",
      "975  0.010603  0.708540 -1.258711  0.226541   K\n",
      "976  0.118693 -0.714455 -0.501342 -0.254764   K\n",
      "977  0.302616 -2.011527 -0.628085  0.768827   H\n",
      "978 -0.098572  1.769086 -0.215027 -0.053076   A\n",
      "979 -0.019058  1.964994  0.738538 -0.883776   F\n",
      "980 -0.595349  0.001781 -1.423355 -1.458477   M\n",
      "981  1.392170 -1.396560 -1.425306 -0.847535   H\n",
      "982 -0.896029 -0.152287  1.924483  0.365184   6\n",
      "983 -2.274642 -0.901874  1.500352  0.996541   N\n",
      "984 -0.301898  1.019906  1.102160  2.624526   I\n",
      "985 -2.548389 -0.585374  1.496201 -0.718815   D\n",
      "986 -0.064588  0.759292 -1.568415 -0.420933   E\n",
      "987 -0.143365 -1.111760 -1.815581  0.435274   2\n",
      "988 -0.070412 -1.055921  0.338017 -0.440763   X\n",
      "989  0.649148  0.994273 -1.384227  0.485120   Q\n",
      "990 -0.370769  0.404356 -1.051628 -1.050899   8\n",
      "991 -0.409980  0.155627 -0.818990  1.277350   W\n",
      "992  0.301214 -1.111203  0.668258  0.671922   A\n",
      "993  1.821117  0.416445  0.173874  0.505118   X\n",
      "994  0.068804  1.322759  0.802346  0.223618   H\n",
      "995  2.311896 -0.417070 -1.409599 -0.515821   L\n",
      "996 -0.479893 -0.650419  0.745152 -0.646038   E\n",
      "997  0.523331  0.787112  0.486066  1.093156   K\n",
      "998 -0.362559  0.598894 -1.843201  0.887292   G\n",
      "999 -0.096376 -1.012999 -0.657431 -0.573315   0\n",
      "\n",
      "[1000 rows x 5 columns]\n"
     ]
    }
   ],
   "source": [
    "for a in chunker:\n",
    "    print a"
   ]
  },
  {
   "cell_type": "code",
   "execution_count": 59,
   "metadata": {
    "collapsed": true
   },
   "outputs": [],
   "source": [
    "#chunker의 DataFrame에서 key칼람의 값들을 count하여 tot 시리즈에 저장하도록, 비어있는 경우 0으로 값을 채운다.\n",
    "tot = Series([])\n",
    "for piece in chunker:\n",
    "    tot = tot.add(piece['key'].value_counts(), fill_value=0)\n",
    "    \n",
    "tot = tot.order(ascending=False)"
   ]
  },
  {
   "cell_type": "code",
   "execution_count": 66,
   "metadata": {
    "collapsed": false
   },
   "outputs": [
    {
     "data": {
      "text/plain": [
       "E    368\n",
       "X    364\n",
       "L    346\n",
       "O    343\n",
       "Q    340\n",
       "M    338\n",
       "J    337\n",
       "F    335\n",
       "K    334\n",
       "H    330\n",
       "dtype: float64"
      ]
     },
     "execution_count": 66,
     "metadata": {},
     "output_type": "execute_result"
    }
   ],
   "source": [
    "tot[:10]   #처음부터 10개까지만"
   ]
  },
  {
   "cell_type": "markdown",
   "metadata": {},
   "source": [
    "### 2) data를 텍스트형식으로 기록하기"
   ]
  },
  {
   "cell_type": "code",
   "execution_count": 67,
   "metadata": {
    "collapsed": false,
    "scrolled": true
   },
   "outputs": [
    {
     "data": {
      "text/html": [
       "<div style=\"max-height:1000px;max-width:1500px;overflow:auto;\">\n",
       "<table border=\"1\" class=\"dataframe\">\n",
       "  <thead>\n",
       "    <tr style=\"text-align: right;\">\n",
       "      <th></th>\n",
       "      <th>something</th>\n",
       "      <th>a</th>\n",
       "      <th>b</th>\n",
       "      <th>c</th>\n",
       "      <th>d</th>\n",
       "      <th>message</th>\n",
       "    </tr>\n",
       "  </thead>\n",
       "  <tbody>\n",
       "    <tr>\n",
       "      <th>0</th>\n",
       "      <td>one</td>\n",
       "      <td>1</td>\n",
       "      <td>2</td>\n",
       "      <td>3</td>\n",
       "      <td>4</td>\n",
       "      <td>NaN</td>\n",
       "    </tr>\n",
       "    <tr>\n",
       "      <th>1</th>\n",
       "      <td>two</td>\n",
       "      <td>5</td>\n",
       "      <td>6</td>\n",
       "      <td>NaN</td>\n",
       "      <td>8</td>\n",
       "      <td>world</td>\n",
       "    </tr>\n",
       "    <tr>\n",
       "      <th>2</th>\n",
       "      <td>three</td>\n",
       "      <td>9</td>\n",
       "      <td>10</td>\n",
       "      <td>11</td>\n",
       "      <td>12</td>\n",
       "      <td>foo</td>\n",
       "    </tr>\n",
       "  </tbody>\n",
       "</table>\n",
       "</div>"
      ],
      "text/plain": [
       "  something  a   b   c   d message\n",
       "0       one  1   2   3   4     NaN\n",
       "1       two  5   6 NaN   8   world\n",
       "2     three  9  10  11  12     foo"
      ]
     },
     "execution_count": 67,
     "metadata": {},
     "output_type": "execute_result"
    }
   ],
   "source": [
    "data = pd.read_csv('https://raw.githubusercontent.com/pydata/pydata-book/master/ch06/ex5.csv')\n",
    "data"
   ]
  },
  {
   "cell_type": "code",
   "execution_count": 68,
   "metadata": {
    "collapsed": true
   },
   "outputs": [],
   "source": [
    "data.to_csv('ch06/out.csv')"
   ]
  },
  {
   "cell_type": "code",
   "execution_count": 70,
   "metadata": {
    "collapsed": false
   },
   "outputs": [
    {
     "name": "stderr",
     "output_type": "stream",
     "text": [
      "'cat'은(는) 내부 또는 외부 명령, 실행할 수 있는 프로그램, 또는\n",
      "배치 파일이 아닙니다.\n"
     ]
    }
   ],
   "source": [
    "!cat ch06/out.csv"
   ]
  },
  {
   "cell_type": "markdown",
   "metadata": {},
   "source": [
    "- 다른 문자로도 구분이 가능"
   ]
  },
  {
   "cell_type": "code",
   "execution_count": 71,
   "metadata": {
    "collapsed": true
   },
   "outputs": [],
   "source": [
    "import sys"
   ]
  },
  {
   "cell_type": "code",
   "execution_count": 73,
   "metadata": {
    "collapsed": false
   },
   "outputs": [
    {
     "name": "stdout",
     "output_type": "stream",
     "text": [
      "|something|a|b|c|d|message\n",
      "0|one|1|2|3.0|4|\n",
      "1|two|5|6||8|world\n",
      "2|three|9|10|11.0|12|foo\n"
     ]
    }
   ],
   "source": [
    "data.to_csv(sys.stdout, sep='|')   \n",
    "#콘솔에서 확인할 수 있도록 실제 파일로 기록하지 않고 sys.stdout에 결과를 기록하도록 했다."
   ]
  },
  {
   "cell_type": "code",
   "execution_count": 74,
   "metadata": {
    "collapsed": false
   },
   "outputs": [
    {
     "name": "stdout",
     "output_type": "stream",
     "text": [
      ",something,a,b,c,d,message\n",
      "0,one,1,2,3.0,4,NULL\n",
      "1,two,5,6,NULL,8,world\n",
      "2,three,9,10,11.0,12,foo\n"
     ]
    }
   ],
   "source": [
    "data.to_csv(sys.stdout, na_rep='NULL')   \n",
    "#누락된 값은 비어있는 문자열로 나타내도록 한다."
   ]
  },
  {
   "cell_type": "code",
   "execution_count": 76,
   "metadata": {
    "collapsed": false
   },
   "outputs": [
    {
     "name": "stdout",
     "output_type": "stream",
     "text": [
      "one,1,2,3.0,4,\n",
      "two,5,6,,8,world\n",
      "three,9,10,11.0,12,foo\n"
     ]
    }
   ],
   "source": [
    "data.to_csv(sys.stdout, index=False, header=False)    \n",
    "#칼럼과 로우가 안보이는것을 볼 수 있다."
   ]
  },
  {
   "cell_type": "code",
   "execution_count": 78,
   "metadata": {
    "collapsed": false
   },
   "outputs": [
    {
     "name": "stdout",
     "output_type": "stream",
     "text": [
      "a,b,c\n",
      "1,2,3.0\n",
      "5,6,\n",
      "9,10,11.0\n"
     ]
    }
   ],
   "source": [
    "data.to_csv(sys.stdout, index=False, columns=['a', 'b', 'c'])   \n",
    "#칼럼의 일부분만 기록할 수도 있고, 순서를 직접 지정할 수도 있다."
   ]
  },
  {
   "cell_type": "markdown",
   "metadata": {},
   "source": [
    "- series에도 to_csv 메소드가 있다."
   ]
  },
  {
   "cell_type": "code",
   "execution_count": 79,
   "metadata": {
    "collapsed": true
   },
   "outputs": [],
   "source": [
    "dates = pd.date_range('1/1/2000', periods=7)   #date_range메서드를 이용하여 시간을 기록하는 tseries를 생성\n",
    "ts = Series(np.arange(7), index=dates)         #인덱스를 날짜로 하고 0~6까지의 수가 들어간 ts시리즈를 생성   \n",
    "ts.to_csv('ch06/tseries.csv')"
   ]
  },
  {
   "cell_type": "code",
   "execution_count": 81,
   "metadata": {
    "collapsed": false
   },
   "outputs": [
    {
     "data": {
      "text/plain": [
       "2000-01-01    0\n",
       "2000-01-02    1\n",
       "2000-01-03    2\n",
       "2000-01-04    3\n",
       "2000-01-05    4\n",
       "2000-01-06    5\n",
       "2000-01-07    6\n",
       "dtype: int64"
      ]
     },
     "execution_count": 81,
     "metadata": {},
     "output_type": "execute_result"
    }
   ],
   "source": [
    "Series.from_csv('ch06/tseries.csv', parse_dates=True)   #parse_dates?\n",
    "# parse_dates=False면 YYYY-MM-DD 형식을 안지키고 그냥 출력된다."
   ]
  },
  {
   "cell_type": "markdown",
   "metadata": {},
   "source": [
    "- 헤더를 없애고 첫번째 칼럼을 색인으로 하면 read_csv메서드로 series 객체를 얻을수있다.\n",
    "- from_csv 메서드가 더 편리하고 간단하게 문제해결 해준다.\n",
    "\n",
    "----------------"
   ]
  },
  {
   "cell_type": "code",
   "execution_count": 85,
   "metadata": {
    "collapsed": false
   },
   "outputs": [
    {
     "data": {
      "text/plain": [
       "'2000-01-01'"
      ]
     },
     "execution_count": 85,
     "metadata": {},
     "output_type": "execute_result"
    }
   ],
   "source": [
    "a = Series.from_csv('ch06/tseries.csv', parse_dates=False)\n",
    "a.index[0]"
   ]
  },
  {
   "cell_type": "markdown",
   "metadata": {},
   "source": [
    "### 3) 수동으로 구분 형식 처리하기"
   ]
  },
  {
   "cell_type": "code",
   "execution_count": 87,
   "metadata": {
    "collapsed": false
   },
   "outputs": [
    {
     "data": {
      "text/plain": [
       "['\"a\",\"b\",\"c\"\\n', '\"1\",\"2\",\"3\"\\n', '\"1\",\"2\",\"3\",\"4\"\\n']"
      ]
     },
     "execution_count": 87,
     "metadata": {},
     "output_type": "execute_result"
    }
   ],
   "source": [
    "list(urllib.urlopen('https://raw.githubusercontent.com/pydata/pydata-book/master/ch06/ex7.csv'))"
   ]
  },
  {
   "cell_type": "code",
   "execution_count": 93,
   "metadata": {
    "collapsed": false
   },
   "outputs": [
    {
     "data": {
      "text/plain": [
       "instance"
      ]
     },
     "execution_count": 93,
     "metadata": {},
     "output_type": "execute_result"
    }
   ],
   "source": [
    "import csv\n",
    "f = urllib.urlopen('https://raw.githubusercontent.com/pydata/pydata-book/master/ch06/ex7.csv')\n",
    "\n",
    "reader = csv.reader(f)\n",
    "type(f)"
   ]
  },
  {
   "cell_type": "code",
   "execution_count": 89,
   "metadata": {
    "collapsed": false
   },
   "outputs": [
    {
     "data": {
      "text/plain": [
       "<_csv.reader at 0xa710b28>"
      ]
     },
     "execution_count": 89,
     "metadata": {},
     "output_type": "execute_result"
    }
   ],
   "source": [
    "reader"
   ]
  },
  {
   "cell_type": "code",
   "execution_count": 90,
   "metadata": {
    "collapsed": false
   },
   "outputs": [
    {
     "data": {
      "text/plain": [
       "_csv.reader"
      ]
     },
     "execution_count": 90,
     "metadata": {},
     "output_type": "execute_result"
    }
   ],
   "source": [
    "type(reader)"
   ]
  },
  {
   "cell_type": "code",
   "execution_count": 91,
   "metadata": {
    "collapsed": false
   },
   "outputs": [
    {
     "name": "stdout",
     "output_type": "stream",
     "text": [
      "['a', 'b', 'c']\n",
      "['1', '2', '3']\n",
      "['1', '2', '3', '4']\n"
     ]
    }
   ],
   "source": [
    "for line in reader:\n",
    "    print line        \n",
    "#reader의 각 라인별로 읽어오기"
   ]
  },
  {
   "cell_type": "markdown",
   "metadata": {},
   "source": [
    "- 굳이 reader를 쓰는 이유는 file"
   ]
  },
  {
   "cell_type": "code",
   "execution_count": 92,
   "metadata": {
    "collapsed": true
   },
   "outputs": [],
   "source": [
    "lines = list(csv.reader(urllib.urlopen('https://raw.githubusercontent.com/pydata/pydata-book/master/ch06/ex7.csv')))"
   ]
  },
  {
   "cell_type": "code",
   "execution_count": 96,
   "metadata": {
    "collapsed": true
   },
   "outputs": [],
   "source": [
    "header, values = lines[0], lines[1:]   \n",
    "#해당 파일을 reader 메서드로 읽어오고, \n",
    "#lines 리스트에 각 줄을 저장, 첫번째는 header 나머지 줄은 값"
   ]
  },
  {
   "cell_type": "code",
   "execution_count": 110,
   "metadata": {
    "collapsed": false
   },
   "outputs": [
    {
     "data": {
      "text/plain": [
       "[(1, 4), (2, 5), (3, 6)]"
      ]
     },
     "execution_count": 110,
     "metadata": {},
     "output_type": "execute_result"
    }
   ],
   "source": [
    "a = [1,2,3]\n",
    "b = [4,5,6,7]\n",
    "zip(a,b)"
   ]
  },
  {
   "cell_type": "code",
   "execution_count": 111,
   "metadata": {
    "collapsed": false
   },
   "outputs": [
    {
     "data": {
      "text/plain": [
       "[(1, 4, 8), (2, 5, 9)]"
      ]
     },
     "execution_count": 111,
     "metadata": {},
     "output_type": "execute_result"
    }
   ],
   "source": [
    "a = [1,2,3]\n",
    "b = [4,5,6,7]\n",
    "c = [8,9]\n",
    "zip(a,b,c)"
   ]
  },
  {
   "cell_type": "code",
   "execution_count": 108,
   "metadata": {
    "collapsed": false,
    "scrolled": false
   },
   "outputs": [
    {
     "name": "stdout",
     "output_type": "stream",
     "text": [
      "[['1', '2', '3'], ['1', '2', '3', '4']]\n",
      "[('1', '1'), ('2', '2'), ('3', '3')]\n"
     ]
    }
   ],
   "source": [
    "print values\n",
    "print zip(*values)"
   ]
  },
  {
   "cell_type": "code",
   "execution_count": 97,
   "metadata": {
    "collapsed": false
   },
   "outputs": [
    {
     "data": {
      "text/plain": [
       "{'a': ('1', '1'), 'b': ('2', '2'), 'c': ('3', '3')}"
      ]
     },
     "execution_count": 97,
     "metadata": {},
     "output_type": "execute_result"
    }
   ],
   "source": [
    "data_dict = {h: v for h, v in zip(header, zip(*values))}\n",
    "data_dict"
   ]
  },
  {
   "cell_type": "markdown",
   "metadata": {},
   "source": [
    "--------\n",
    "- CSV파일은 다양한 형태로 존재할 수 있다.\n",
    "- 다양한 구분자, 개행문자 같은 것을 csc.dialect로 상속받아 새로운 클래스 정의해서 사용 가능\n",
    "- 클래스 정의 안하고 csv.reader에 키워드 인자로 각 csv파일의 특징을 지정해서 전달해도 된다."
   ]
  },
  {
   "cell_type": "code",
   "execution_count": 117,
   "metadata": {
    "collapsed": true
   },
   "outputs": [],
   "source": [
    "class my_dialect(csv.Dialect):  #csv.Dialect를 상속받음\n",
    "    lineterminator = '\\n'\n",
    "    delimiter = ';'\n",
    "    quotechar = '\"'\n",
    "    quoting = csv.QUOTE_MINIMAL\n",
    "    #attribute overloading"
   ]
  },
  {
   "cell_type": "code",
   "execution_count": 116,
   "metadata": {
    "collapsed": false
   },
   "outputs": [],
   "source": [
    "csv.Dialect?"
   ]
  },
  {
   "cell_type": "code",
   "execution_count": 99,
   "metadata": {
    "collapsed": true
   },
   "outputs": [],
   "source": [
    "with open('ch06/mydata.csv', 'w') as f:\n",
    "    writer = csv.writer(f, dialect=my_dialect)\n",
    "    writer.writerow(('one', 'two', 'three'))\n",
    "    writer.writerow(('1', '2', '3'))\n",
    "    writer.writerow(('4', '5', '6'))\n",
    "    writer.writerow(('7', '8', '9'))"
   ]
  },
  {
   "cell_type": "code",
   "execution_count": 113,
   "metadata": {
    "collapsed": false,
    "scrolled": true
   },
   "outputs": [
    {
     "name": "stderr",
     "output_type": "stream",
     "text": [
      "'cat'은(는) 내부 또는 외부 명령, 실행할 수 있는 프로그램, 또는\n",
      "배치 파일이 아닙니다.\n"
     ]
    }
   ],
   "source": [
    "!cat ch06/mydata.csv"
   ]
  },
  {
   "cell_type": "markdown",
   "metadata": {},
   "source": [
    "\n",
    "one;two;three\n",
    "\n",
    "1;2;3\n",
    "\n",
    "4;5;6\n",
    "\n",
    "7;8;9\n"
   ]
  },
  {
   "cell_type": "markdown",
   "metadata": {},
   "source": [
    "### 4) JSON 데이터"
   ]
  },
  {
   "cell_type": "code",
   "execution_count": 101,
   "metadata": {
    "collapsed": true
   },
   "outputs": [],
   "source": [
    "obj = \"\"\"\n",
    "{\"name\": \"Wes\",\n",
    " \"places_lived\": [\"United States\", \"Spain\", \"Germany\"],\n",
    " \"pet\": null,\n",
    " \"siblings\": [{\"name\": \"Scott\", \"age\": 25, \"pet\": \"Zuko\"},\n",
    "              {\"name\": \"Katie\", \"age\": 33, \"pet\": \"Cisco\"}]\n",
    "}\n",
    "\"\"\""
   ]
  },
  {
   "cell_type": "code",
   "execution_count": 102,
   "metadata": {
    "collapsed": true
   },
   "outputs": [],
   "source": [
    "import json"
   ]
  },
  {
   "cell_type": "code",
   "execution_count": 103,
   "metadata": {
    "collapsed": false,
    "scrolled": true
   },
   "outputs": [
    {
     "data": {
      "text/plain": [
       "{u'name': u'Wes',\n",
       " u'pet': None,\n",
       " u'places_lived': [u'United States', u'Spain', u'Germany'],\n",
       " u'siblings': [{u'age': 25, u'name': u'Scott', u'pet': u'Zuko'},\n",
       "  {u'age': 33, u'name': u'Katie', u'pet': u'Cisco'}]}"
      ]
     },
     "execution_count": 103,
     "metadata": {},
     "output_type": "execute_result"
    }
   ],
   "source": [
    "result = json.loads(obj)   #json.loads를 사용하여 obj의 json형태의 파일을 파이썬 형태로 변환하는 함수\n",
    "result"
   ]
  },
  {
   "cell_type": "code",
   "execution_count": 120,
   "metadata": {
    "collapsed": false
   },
   "outputs": [
    {
     "data": {
      "text/plain": [
       "dict"
      ]
     },
     "execution_count": 120,
     "metadata": {},
     "output_type": "execute_result"
    }
   ],
   "source": [
    "type(result)"
   ]
  },
  {
   "cell_type": "markdown",
   "metadata": {},
   "source": [
    "- json과 dict 문법이 거의 유사하다."
   ]
  },
  {
   "cell_type": "code",
   "execution_count": 131,
   "metadata": {
    "collapsed": false
   },
   "outputs": [
    {
     "data": {
      "text/plain": [
       "'{\"pet\": null, \"siblings\": [{\"pet\": \"Zuko\", \"age\": 25, \"name\": \"Scott\"}, {\"pet\": \"Cisco\", \"age\": 33, \"name\": \"Katie\"}], \"name\": \"Wes\", \"places_lived\": [\"United States\", \"Spain\", \"Germany\"]}'"
      ]
     },
     "execution_count": 131,
     "metadata": {},
     "output_type": "execute_result"
    }
   ],
   "source": [
    "asjson = json.dumps(result)  #json으로\n",
    "asjson"
   ]
  },
  {
   "cell_type": "code",
   "execution_count": 121,
   "metadata": {
    "collapsed": false
   },
   "outputs": [
    {
     "data": {
      "text/plain": [
       "str"
      ]
     },
     "execution_count": 121,
     "metadata": {},
     "output_type": "execute_result"
    }
   ],
   "source": [
    "type(asjson)"
   ]
  },
  {
   "cell_type": "code",
   "execution_count": 132,
   "metadata": {
    "collapsed": false
   },
   "outputs": [
    {
     "data": {
      "text/html": [
       "<div style=\"max-height:1000px;max-width:1500px;overflow:auto;\">\n",
       "<table border=\"1\" class=\"dataframe\">\n",
       "  <thead>\n",
       "    <tr style=\"text-align: right;\">\n",
       "      <th></th>\n",
       "      <th>name</th>\n",
       "      <th>age</th>\n",
       "    </tr>\n",
       "  </thead>\n",
       "  <tbody>\n",
       "    <tr>\n",
       "      <th>0</th>\n",
       "      <td>Scott</td>\n",
       "      <td>25</td>\n",
       "    </tr>\n",
       "    <tr>\n",
       "      <th>1</th>\n",
       "      <td>Katie</td>\n",
       "      <td>33</td>\n",
       "    </tr>\n",
       "  </tbody>\n",
       "</table>\n",
       "</div>"
      ],
      "text/plain": [
       "    name  age\n",
       "0  Scott   25\n",
       "1  Katie   33"
      ]
     },
     "execution_count": 132,
     "metadata": {},
     "output_type": "execute_result"
    }
   ],
   "source": [
    "#파이썬 형태로 변환한 result에서 siblings 부분의 내용을 DataFrame으로 생성하고\n",
    "#필드를 선택할 수 있다.\n",
    "siblings = DataFrame(result['siblings'], columns=['name', 'age'])\n",
    "siblings"
   ]
  },
  {
   "cell_type": "code",
   "execution_count": 133,
   "metadata": {
    "collapsed": false
   },
   "outputs": [
    {
     "data": {
      "text/plain": [
       "pandas.core.frame.DataFrame"
      ]
     },
     "execution_count": 133,
     "metadata": {},
     "output_type": "execute_result"
    }
   ],
   "source": [
    "type(siblings)"
   ]
  },
  {
   "cell_type": "code",
   "execution_count": 134,
   "metadata": {
    "collapsed": false
   },
   "outputs": [
    {
     "data": {
      "text/plain": [
       "25"
      ]
     },
     "execution_count": 134,
     "metadata": {},
     "output_type": "execute_result"
    }
   ],
   "source": [
    "result['siblings'][0]['age']"
   ]
  },
  {
   "cell_type": "markdown",
   "metadata": {},
   "source": [
    "-------------"
   ]
  },
  {
   "cell_type": "markdown",
   "metadata": {},
   "source": [
    "### 5) XML과 HTML : 웹 내용 긁어오기"
   ]
  },
  {
   "cell_type": "markdown",
   "metadata": {},
   "source": [
    "- 먼저 html을 위한 lxml.html의 사용법을 살펴보고 그 다음 lxml.objectity를 이용해서 xml을 처리하는 방법을 알아본다.\n",
    "- canopy - package management - lxml 검색 - lxml 3.4.4-1 설치 (free)"
   ]
  },
  {
   "cell_type": "code",
   "execution_count": 135,
   "metadata": {
    "collapsed": false,
    "scrolled": true
   },
   "outputs": [],
   "source": [
    "from lxml.html import parse\n",
    "from urllib2 import urlopen\n"
   ]
  },
  {
   "cell_type": "code",
   "execution_count": 146,
   "metadata": {
    "collapsed": false
   },
   "outputs": [
    {
     "name": "stdout",
     "output_type": "stream",
     "text": [
      "<lxml.etree._ElementTree object at 0x000000000BE87F48>\n",
      "<Element html at 0xbb6df98>\n",
      "[<Element head at 0xbb6da98>, <Element body at 0xbb7f318>]\n"
     ]
    }
   ],
   "source": [
    "parsed = parse(urlopen('http://finance.yahoo.com/q/op?s=AAPL+Options'))   \n",
    "#APPLE Inc.의 주식 정보를  parsing하여 가져온다.\n",
    "\n",
    "doc = parsed.getroot()\n",
    "print parsed  #트리형태\n",
    "print doc     #html\n",
    "print doc.getchildren()"
   ]
  },
  {
   "cell_type": "markdown",
   "metadata": {},
   "source": [
    "- html문서에서 외부 연결 url을 모두 찾아보자\n",
    "- findall 메서드에 XPath(문서 질의 언어)를 넘겨 해당 엘리먼트를 가져온다."
   ]
  },
  {
   "cell_type": "code",
   "execution_count": 138,
   "metadata": {
    "collapsed": false,
    "scrolled": false
   },
   "outputs": [
    {
     "data": {
      "text/plain": [
       "[<Element a at 0xbb66598>,\n",
       " <Element a at 0xbb665e8>,\n",
       " <Element a at 0xbb66638>,\n",
       " <Element a at 0xbb66688>,\n",
       " <Element a at 0xbb666d8>]"
      ]
     },
     "execution_count": 138,
     "metadata": {},
     "output_type": "execute_result"
    }
   ],
   "source": [
    "links = doc.findall('.//a')\n",
    "links[15:20]"
   ]
  },
  {
   "cell_type": "code",
   "execution_count": 153,
   "metadata": {
    "collapsed": false
   },
   "outputs": [
    {
     "data": {
      "text/plain": [
       "[]"
      ]
     },
     "execution_count": 153,
     "metadata": {},
     "output_type": "execute_result"
    }
   ],
   "source": [
    "links = doc.findall('./head/a')   #head 안에 있는 a를 찾아라\n",
    "links[:]"
   ]
  },
  {
   "cell_type": "code",
   "execution_count": 140,
   "metadata": {
    "collapsed": false
   },
   "outputs": [
    {
     "data": {
      "text/plain": [
       "<Element a at 0xbb669a8>"
      ]
     },
     "execution_count": 140,
     "metadata": {},
     "output_type": "execute_result"
    }
   ],
   "source": [
    "lnk = links[28]\n",
    "lnk"
   ]
  },
  {
   "cell_type": "code",
   "execution_count": 141,
   "metadata": {
    "collapsed": false
   },
   "outputs": [
    {
     "data": {
      "text/plain": [
       "'https://autos.yahoo.com/'"
      ]
     },
     "execution_count": 141,
     "metadata": {},
     "output_type": "execute_result"
    }
   ],
   "source": [
    "lnk.get('href')"
   ]
  },
  {
   "cell_type": "code",
   "execution_count": 142,
   "metadata": {
    "collapsed": false
   },
   "outputs": [
    {
     "data": {
      "text/plain": [
       "'Autos'"
      ]
     },
     "execution_count": 142,
     "metadata": {},
     "output_type": "execute_result"
    }
   ],
   "source": [
    "lnk.text_content()"
   ]
  },
  {
   "cell_type": "code",
   "execution_count": 144,
   "metadata": {
    "collapsed": false,
    "scrolled": true
   },
   "outputs": [
    {
     "data": {
      "text/plain": [
       "['/q/op?s=AAPL&strike=142.00',\n",
       " '/q?s=AAPL150807P00142000',\n",
       " '/q/op?s=AAPL&strike=143.00',\n",
       " '/q?s=AAPL150807P00143000',\n",
       " '/q/op?s=AAPL&strike=145.00',\n",
       " '/q?s=AAPL150807P00145000',\n",
       " '/q/op?s=AAPL&strike=150.00',\n",
       " '/q?s=AAPL150807P00150000',\n",
       " '/q/op?s=AAPL&strike=155.00',\n",
       " '/q?s=AAPL150807P00155000']"
      ]
     },
     "execution_count": 144,
     "metadata": {},
     "output_type": "execute_result"
    }
   ],
   "source": [
    "urls = [lnk.get('href') for lnk in doc.findall('.//a')]    \n",
    "#외부 URL이 담겨져 있는 a 태그에서의 href에 해당하는 url 값들을 urls 저장\n",
    "\n",
    "urls[-10:]"
   ]
  },
  {
   "cell_type": "markdown",
   "metadata": {},
   "source": [
    "- 이제 찾고자 하는 table은 하나씩 확인할 수 밖에 없다.\n",
    "- table마다 id속성을 줘서 이 작업을 쉽게 할 수 있는데, 콜 데이터와 풋데이터가 각각 table에 들어가있는것을 찾아낸다."
   ]
  },
  {
   "cell_type": "code",
   "execution_count": 145,
   "metadata": {
    "collapsed": true
   },
   "outputs": [],
   "source": [
    "tables = doc.findall('.//table')   #table 태그가 있는 값들을 tables에 저장,\n",
    "calls = tables[1]\n",
    "puts = tables[2]"
   ]
  },
  {
   "cell_type": "code",
   "execution_count": 147,
   "metadata": {
    "collapsed": true
   },
   "outputs": [],
   "source": [
    "rows = calls.findall('.//tr')   #calls에서 tr태그가 가지고 있는 값들을 저장"
   ]
  },
  {
   "cell_type": "code",
   "execution_count": 157,
   "metadata": {
    "collapsed": true
   },
   "outputs": [],
   "source": [
    "def _unpack(row, kind='td'):\n",
    "    elts = row.findall('.//%s' % kind)\n",
    "    return [val.text_content() for val in elts]"
   ]
  },
  {
   "cell_type": "code",
   "execution_count": 158,
   "metadata": {
    "collapsed": false
   },
   "outputs": [
    {
     "data": {
      "text/plain": [
       "[u'\\n                \\n                     Strike\\n                    \\n                        \\ue004\\n                        \\ue002\\n                    \\n                \\n                \\u2235 Filter\\n            ',\n",
       " 'Contract Name',\n",
       " u'\\n                \\n                    Last\\n                    \\n                        \\ue004\\n                        \\ue002\\n                    \\n                \\n            ',\n",
       " u'\\n                \\n                    Bid\\n                    \\n                        \\ue004\\n                        \\ue002\\n                    \\n                \\n            ',\n",
       " u'\\n                \\n                    Ask\\n                    \\n                        \\ue004\\n                        \\ue002\\n                    \\n                \\n            ',\n",
       " u'\\n                \\n                    Change\\n                    \\n                        \\ue004\\n                        \\ue002\\n                    \\n                \\n            ',\n",
       " u'\\n                \\n                    %Change\\n                    \\n                        \\ue004\\n                        \\ue002\\n                    \\n                \\n            ',\n",
       " u'\\n                \\n                    Volume\\n                    \\n                        \\ue004\\n                        \\ue002\\n                    \\n                \\n            ',\n",
       " u'\\n                \\n                    Open Interest\\n                    \\n                        \\ue004\\n                        \\ue002\\n                    \\n                \\n            ',\n",
       " u'\\n                \\n                    Implied Volatility\\n                    \\n                        \\ue004\\n                        \\ue002\\n                    \\n                \\n            ']"
      ]
     },
     "execution_count": 158,
     "metadata": {},
     "output_type": "execute_result"
    }
   ],
   "source": [
    "_unpack(rows[0], kind='th')"
   ]
  },
  {
   "cell_type": "code",
   "execution_count": 159,
   "metadata": {
    "collapsed": false
   },
   "outputs": [
    {
     "data": {
      "text/plain": [
       "[]"
      ]
     },
     "execution_count": 159,
     "metadata": {},
     "output_type": "execute_result"
    }
   ],
   "source": [
    "_unpack(rows[1], kind='th')"
   ]
  },
  {
   "cell_type": "markdown",
   "metadata": {},
   "source": [
    "- 지금까지 살펴본 데이터를 모두 합쳐 dataFrame으롤 변환"
   ]
  },
  {
   "cell_type": "code",
   "execution_count": 164,
   "metadata": {
    "collapsed": true
   },
   "outputs": [],
   "source": [
    "from pandas.io.parsers import TextParser   #숫자데이터를 문자형식으로 변환\n",
    "\n",
    "def parse_options_data(table):\n",
    "    rows = table.findall('.//tr')\n",
    "    header = _unpack(rows[0], kind='th')\n",
    "    data = [_unpack(r) for r in rows[1:]]\n",
    "    return TextParser(data, names=header).get_chunk()"
   ]
  },
  {
   "cell_type": "code",
   "execution_count": 168,
   "metadata": {
    "collapsed": false
   },
   "outputs": [
    {
     "name": "stdout",
     "output_type": "stream",
     "text": [
      "<Element table at 0xbb6dbd8>\n",
      "<Element caption at 0xc3fbe08>\n",
      "<Element thead at 0xc3fbea8>\n",
      "<Element tbody at 0xc3fbef8>\n"
     ]
    }
   ],
   "source": [
    "print calls\n",
    "for a in calls:\n",
    "    print a"
   ]
  },
  {
   "cell_type": "code",
   "execution_count": 167,
   "metadata": {
    "collapsed": false
   },
   "outputs": [
    {
     "data": {
      "text/plain": [
       "<Element table at 0xbb6dd68>"
      ]
     },
     "execution_count": 167,
     "metadata": {},
     "output_type": "execute_result"
    }
   ],
   "source": [
    "puts"
   ]
  },
  {
   "cell_type": "code",
   "execution_count": 161,
   "metadata": {
    "collapsed": true
   },
   "outputs": [],
   "source": [
    "call_data = parse_options_data(calls)"
   ]
  },
  {
   "cell_type": "code",
   "execution_count": 162,
   "metadata": {
    "collapsed": true
   },
   "outputs": [],
   "source": [
    "put_data = parse_options_data(puts)"
   ]
  },
  {
   "cell_type": "code",
   "execution_count": 163,
   "metadata": {
    "collapsed": false
   },
   "outputs": [
    {
     "data": {
      "text/html": [
       "<div style=\"max-height:1000px;max-width:1500px;overflow:auto;\">\n",
       "<table border=\"1\" class=\"dataframe\">\n",
       "  <thead>\n",
       "    <tr style=\"text-align: right;\">\n",
       "      <th></th>\n",
       "      <th>Strike\n",
       "                    \n",
       "                        \n",
       "                        \n",
       "                    \n",
       "                \n",
       "                ∵ Filter</th>\n",
       "      <th>Contract Name</th>\n",
       "      <th>Last\n",
       "                    \n",
       "                        \n",
       "                        </th>\n",
       "      <th>Bid\n",
       "                    \n",
       "                        \n",
       "                        </th>\n",
       "      <th>Ask\n",
       "                    \n",
       "                        \n",
       "                        </th>\n",
       "      <th>Change\n",
       "                    \n",
       "                        \n",
       "                        </th>\n",
       "      <th>%Change\n",
       "                    \n",
       "                        \n",
       "                        </th>\n",
       "      <th>Volume\n",
       "                    \n",
       "                        \n",
       "                        </th>\n",
       "      <th>Open Interest\n",
       "                    \n",
       "                        \n",
       "                        </th>\n",
       "      <th>Implied Volatility\n",
       "                    \n",
       "                        \n",
       "                        </th>\n",
       "    </tr>\n",
       "  </thead>\n",
       "  <tbody>\n",
       "    <tr>\n",
       "      <th>0</th>\n",
       "      <td>\\n                        \\n                  ...</td>\n",
       "      <td>None</td>\n",
       "      <td>NaN</td>\n",
       "      <td>NaN</td>\n",
       "      <td>NaN</td>\n",
       "      <td>NaN</td>\n",
       "      <td>None</td>\n",
       "      <td>NaN</td>\n",
       "      <td>NaN</td>\n",
       "      <td>None</td>\n",
       "    </tr>\n",
       "    <tr>\n",
       "      <th>1</th>\n",
       "      <td>\\n            80.00\\n</td>\n",
       "      <td>\\n            AAPL150807C00080000\\n</td>\n",
       "      <td>35.75</td>\n",
       "      <td>0</td>\n",
       "      <td>0</td>\n",
       "      <td>0</td>\n",
       "      <td>\\n            \\n                0.00%\\n       ...</td>\n",
       "      <td>12</td>\n",
       "      <td>0</td>\n",
       "      <td>\\n            0.00%\\n</td>\n",
       "    </tr>\n",
       "    <tr>\n",
       "      <th>2</th>\n",
       "      <td>\\n            90.00\\n</td>\n",
       "      <td>\\n            AAPL150807C00090000\\n</td>\n",
       "      <td>25.30</td>\n",
       "      <td>0</td>\n",
       "      <td>0</td>\n",
       "      <td>0</td>\n",
       "      <td>\\n            \\n                0.00%\\n       ...</td>\n",
       "      <td>82</td>\n",
       "      <td>0</td>\n",
       "      <td>\\n            0.00%\\n</td>\n",
       "    </tr>\n",
       "    <tr>\n",
       "      <th>3</th>\n",
       "      <td>\\n            95.00\\n</td>\n",
       "      <td>\\n            AAPL150807C00095000\\n</td>\n",
       "      <td>20.70</td>\n",
       "      <td>0</td>\n",
       "      <td>0</td>\n",
       "      <td>0</td>\n",
       "      <td>\\n            \\n                0.00%\\n       ...</td>\n",
       "      <td>319</td>\n",
       "      <td>0</td>\n",
       "      <td>\\n            0.00%\\n</td>\n",
       "    </tr>\n",
       "    <tr>\n",
       "      <th>4</th>\n",
       "      <td>\\n            100.00\\n</td>\n",
       "      <td>\\n            AAPL150807C00100000\\n</td>\n",
       "      <td>15.05</td>\n",
       "      <td>0</td>\n",
       "      <td>0</td>\n",
       "      <td>0</td>\n",
       "      <td>\\n            \\n                0.00%\\n       ...</td>\n",
       "      <td>54</td>\n",
       "      <td>0</td>\n",
       "      <td>\\n            0.00%\\n</td>\n",
       "    </tr>\n",
       "    <tr>\n",
       "      <th>5</th>\n",
       "      <td>\\n            105.00\\n</td>\n",
       "      <td>\\n            AAPL150807C00105000\\n</td>\n",
       "      <td>10.20</td>\n",
       "      <td>0</td>\n",
       "      <td>0</td>\n",
       "      <td>0</td>\n",
       "      <td>\\n            \\n                0.00%\\n       ...</td>\n",
       "      <td>115</td>\n",
       "      <td>0</td>\n",
       "      <td>\\n            0.00%\\n</td>\n",
       "    </tr>\n",
       "    <tr>\n",
       "      <th>6</th>\n",
       "      <td>\\n            107.00\\n</td>\n",
       "      <td>\\n            AAPL150807C00107000\\n</td>\n",
       "      <td>8.25</td>\n",
       "      <td>0</td>\n",
       "      <td>0</td>\n",
       "      <td>0</td>\n",
       "      <td>\\n            \\n                0.00%\\n       ...</td>\n",
       "      <td>116</td>\n",
       "      <td>0</td>\n",
       "      <td>\\n            0.00%\\n</td>\n",
       "    </tr>\n",
       "    <tr>\n",
       "      <th>7</th>\n",
       "      <td>\\n            108.00\\n</td>\n",
       "      <td>\\n            AAPL150807C00108000\\n</td>\n",
       "      <td>6.75</td>\n",
       "      <td>0</td>\n",
       "      <td>0</td>\n",
       "      <td>0</td>\n",
       "      <td>\\n            \\n                0.00%\\n       ...</td>\n",
       "      <td>38</td>\n",
       "      <td>0</td>\n",
       "      <td>\\n            0.00%\\n</td>\n",
       "    </tr>\n",
       "    <tr>\n",
       "      <th>8</th>\n",
       "      <td>\\n            109.00\\n</td>\n",
       "      <td>\\n            AAPL150807C00109000\\n</td>\n",
       "      <td>6.10</td>\n",
       "      <td>0</td>\n",
       "      <td>0</td>\n",
       "      <td>0</td>\n",
       "      <td>\\n            \\n                0.00%\\n       ...</td>\n",
       "      <td>95</td>\n",
       "      <td>0</td>\n",
       "      <td>\\n            0.00%\\n</td>\n",
       "    </tr>\n",
       "    <tr>\n",
       "      <th>9</th>\n",
       "      <td>\\n            110.00\\n</td>\n",
       "      <td>\\n            AAPL150807C00110000\\n</td>\n",
       "      <td>5.32</td>\n",
       "      <td>0</td>\n",
       "      <td>0</td>\n",
       "      <td>0</td>\n",
       "      <td>\\n            \\n                0.00%\\n       ...</td>\n",
       "      <td>693</td>\n",
       "      <td>0</td>\n",
       "      <td>\\n            0.00%\\n</td>\n",
       "    </tr>\n",
       "  </tbody>\n",
       "</table>\n",
       "</div>"
      ],
      "text/plain": [
       "  \\n                \\n                     Strike\\n                    \\n                        ��n                        ��n                    \\n                \\n                ��Filter\\n              \\\n",
       "0  \\n                        \\n                  ...                                                                                                                                                            \n",
       "1                      \\n            80.00\\n                                                                                                                                                                    \n",
       "2                      \\n            90.00\\n                                                                                                                                                                    \n",
       "3                      \\n            95.00\\n                                                                                                                                                                    \n",
       "4                     \\n            100.00\\n                                                                                                                                                                    \n",
       "5                     \\n            105.00\\n                                                                                                                                                                    \n",
       "6                     \\n            107.00\\n                                                                                                                                                                    \n",
       "7                     \\n            108.00\\n                                                                                                                                                                    \n",
       "8                     \\n            109.00\\n                                                                                                                                                                    \n",
       "9                     \\n            110.00\\n                                                                                                                                                                    \n",
       "\n",
       "                                 Contract Name  \\\n",
       "0                                         None   \n",
       "1  \\n            AAPL150807C00080000\\n           \n",
       "2  \\n            AAPL150807C00090000\\n           \n",
       "3  \\n            AAPL150807C00095000\\n           \n",
       "4  \\n            AAPL150807C00100000\\n           \n",
       "5  \\n            AAPL150807C00105000\\n           \n",
       "6  \\n            AAPL150807C00107000\\n           \n",
       "7  \\n            AAPL150807C00108000\\n           \n",
       "8  \\n            AAPL150807C00109000\\n           \n",
       "9  \\n            AAPL150807C00110000\\n           \n",
       "\n",
       "   \\n                \\n                    Last\\n                    \\n                        ��n                        ��n                    \\n                \\n              \\\n",
       "0                                                NaN                                                                                                                                \n",
       "1                                              35.75                                                                                                                                \n",
       "2                                              25.30                                                                                                                                \n",
       "3                                              20.70                                                                                                                                \n",
       "4                                              15.05                                                                                                                                \n",
       "5                                              10.20                                                                                                                                \n",
       "6                                               8.25                                                                                                                                \n",
       "7                                               6.75                                                                                                                                \n",
       "8                                               6.10                                                                                                                                \n",
       "9                                               5.32                                                                                                                                \n",
       "\n",
       "   \\n                \\n                    Bid\\n                    \\n                        ��n                        ��n                    \\n                \\n              \\\n",
       "0                                                NaN                                                                                                                               \n",
       "1                                                  0                                                                                                                               \n",
       "2                                                  0                                                                                                                               \n",
       "3                                                  0                                                                                                                               \n",
       "4                                                  0                                                                                                                               \n",
       "5                                                  0                                                                                                                               \n",
       "6                                                  0                                                                                                                               \n",
       "7                                                  0                                                                                                                               \n",
       "8                                                  0                                                                                                                               \n",
       "9                                                  0                                                                                                                               \n",
       "\n",
       "   \\n                \\n                    Ask\\n                    \\n                        ��n                        ��n                    \\n                \\n              \\\n",
       "0                                                NaN                                                                                                                               \n",
       "1                                                  0                                                                                                                               \n",
       "2                                                  0                                                                                                                               \n",
       "3                                                  0                                                                                                                               \n",
       "4                                                  0                                                                                                                               \n",
       "5                                                  0                                                                                                                               \n",
       "6                                                  0                                                                                                                               \n",
       "7                                                  0                                                                                                                               \n",
       "8                                                  0                                                                                                                               \n",
       "9                                                  0                                                                                                                               \n",
       "\n",
       "   \\n                \\n                    Change\\n                    \\n                        ��n                        ��n                    \\n                \\n              \\\n",
       "0                                                NaN                                                                                                                                  \n",
       "1                                                  0                                                                                                                                  \n",
       "2                                                  0                                                                                                                                  \n",
       "3                                                  0                                                                                                                                  \n",
       "4                                                  0                                                                                                                                  \n",
       "5                                                  0                                                                                                                                  \n",
       "6                                                  0                                                                                                                                  \n",
       "7                                                  0                                                                                                                                  \n",
       "8                                                  0                                                                                                                                  \n",
       "9                                                  0                                                                                                                                  \n",
       "\n",
       "  \\n                \\n                    %Change\\n                    \\n                        ��n                        ��n                    \\n                \\n              \\\n",
       "0                                               None                                                                                                                                  \n",
       "1  \\n            \\n                0.00%\\n       ...                                                                                                                                  \n",
       "2  \\n            \\n                0.00%\\n       ...                                                                                                                                  \n",
       "3  \\n            \\n                0.00%\\n       ...                                                                                                                                  \n",
       "4  \\n            \\n                0.00%\\n       ...                                                                                                                                  \n",
       "5  \\n            \\n                0.00%\\n       ...                                                                                                                                  \n",
       "6  \\n            \\n                0.00%\\n       ...                                                                                                                                  \n",
       "7  \\n            \\n                0.00%\\n       ...                                                                                                                                  \n",
       "8  \\n            \\n                0.00%\\n       ...                                                                                                                                  \n",
       "9  \\n            \\n                0.00%\\n       ...                                                                                                                                  \n",
       "\n",
       "   \\n                \\n                    Volume\\n                    \\n                        ��n                        ��n                    \\n                \\n              \\\n",
       "0                                                NaN                                                                                                                                  \n",
       "1                                                 12                                                                                                                                  \n",
       "2                                                 82                                                                                                                                  \n",
       "3                                                319                                                                                                                                  \n",
       "4                                                 54                                                                                                                                  \n",
       "5                                                115                                                                                                                                  \n",
       "6                                                116                                                                                                                                  \n",
       "7                                                 38                                                                                                                                  \n",
       "8                                                 95                                                                                                                                  \n",
       "9                                                693                                                                                                                                  \n",
       "\n",
       "   \\n                \\n                    Open Interest\\n                    \\n                        ��n                        ��n                    \\n                \\n              \\\n",
       "0                                                NaN                                                                                                                                         \n",
       "1                                                  0                                                                                                                                         \n",
       "2                                                  0                                                                                                                                         \n",
       "3                                                  0                                                                                                                                         \n",
       "4                                                  0                                                                                                                                         \n",
       "5                                                  0                                                                                                                                         \n",
       "6                                                  0                                                                                                                                         \n",
       "7                                                  0                                                                                                                                         \n",
       "8                                                  0                                                                                                                                         \n",
       "9                                                  0                                                                                                                                         \n",
       "\n",
       "  \\n                \\n                    Implied Volatility\\n                    \\n                        ��n                        ��n                    \\n                \\n              \n",
       "0                                               None                                                                                                                                            \n",
       "1                      \\n            0.00%\\n                                                                                                                                                    \n",
       "2                      \\n            0.00%\\n                                                                                                                                                    \n",
       "3                      \\n            0.00%\\n                                                                                                                                                    \n",
       "4                      \\n            0.00%\\n                                                                                                                                                    \n",
       "5                      \\n            0.00%\\n                                                                                                                                                    \n",
       "6                      \\n            0.00%\\n                                                                                                                                                    \n",
       "7                      \\n            0.00%\\n                                                                                                                                                    \n",
       "8                      \\n            0.00%\\n                                                                                                                                                    \n",
       "9                      \\n            0.00%\\n                                                                                                                                                    "
      ]
     },
     "execution_count": 163,
     "metadata": {},
     "output_type": "execute_result"
    }
   ],
   "source": [
    "call_data[:10]"
   ]
  },
  {
   "cell_type": "markdown",
   "metadata": {},
   "source": [
    "--------------------\n",
    "\n",
    "\n",
    "## <여기부터 안됨>"
   ]
  },
  {
   "cell_type": "markdown",
   "metadata": {},
   "source": [
    "### lxml.objectify 이용"
   ]
  },
  {
   "cell_type": "code",
   "execution_count": 173,
   "metadata": {
    "collapsed": false
   },
   "outputs": [
    {
     "data": {
      "text/plain": [
       "u'C:\\\\Users\\\\S525'"
      ]
     },
     "execution_count": 173,
     "metadata": {},
     "output_type": "execute_result"
    }
   ],
   "source": [
    "%pwd"
   ]
  },
  {
   "cell_type": "code",
   "execution_count": 174,
   "metadata": {
    "collapsed": false,
    "scrolled": true
   },
   "outputs": [
    {
     "name": "stdout",
     "output_type": "stream",
     "text": [
      "[Error 2] : u'MTA_Performance_Datall'\n",
      "C:\\Users\\S525\n"
     ]
    },
    {
     "ename": "UnicodeEncodeError",
     "evalue": "'ascii' codec can't encode characters in position 33-34: ordinal not in range(128)",
     "output_type": "error",
     "traceback": [
      "\u001b[1;31m---------------------------------------------------------------------------\u001b[0m",
      "\u001b[1;31mUnicodeEncodeError\u001b[0m                        Traceback (most recent call last)",
      "\u001b[1;32m<ipython-input-174-34d4ec9026f7>\u001b[0m in \u001b[0;36m<module>\u001b[1;34m()\u001b[0m\n\u001b[0;32m      1\u001b[0m \u001b[0mget_ipython\u001b[0m\u001b[1;33m(\u001b[0m\u001b[1;33m)\u001b[0m\u001b[1;33m.\u001b[0m\u001b[0mmagic\u001b[0m\u001b[1;33m(\u001b[0m\u001b[1;34mu'cd MTA_Performance_Datall'\u001b[0m\u001b[1;33m)\u001b[0m\u001b[1;33m\u001b[0m\u001b[0m\n\u001b[1;32m----> 2\u001b[1;33m \u001b[0mget_ipython\u001b[0m\u001b[1;33m(\u001b[0m\u001b[1;33m)\u001b[0m\u001b[1;33m.\u001b[0m\u001b[0msystem\u001b[0m\u001b[1;33m(\u001b[0m\u001b[1;34mu'head -21 Performance_MNRR.xml   #\\ud574\\ub2f9 \\ud3f4\\ub354\\ub85c \\uc774\\ub3d9\\ud6c4, head\\uc5d0 \\uad00\\ud55c 21\\uc904\\uc744 \\ucd9c\\ub825'\u001b[0m\u001b[1;33m)\u001b[0m\u001b[1;33m\u001b[0m\u001b[0m\n\u001b[0m",
      "\u001b[1;32mC:\\Users\\S525\\AppData\\Local\\Enthought\\Canopy\\User\\lib\\site-packages\\IPython\\core\\interactiveshell.pyc\u001b[0m in \u001b[0;36msystem_piped\u001b[1;34m(self, cmd)\u001b[0m\n\u001b[0;32m   2356\u001b[0m         \u001b[1;31m# a non-None value would trigger :func:`sys.displayhook` calls.\u001b[0m\u001b[1;33m\u001b[0m\u001b[1;33m\u001b[0m\u001b[0m\n\u001b[0;32m   2357\u001b[0m         \u001b[1;31m# Instead, we store the exit_code in user_ns.\u001b[0m\u001b[1;33m\u001b[0m\u001b[1;33m\u001b[0m\u001b[0m\n\u001b[1;32m-> 2358\u001b[1;33m         \u001b[0mself\u001b[0m\u001b[1;33m.\u001b[0m\u001b[0muser_ns\u001b[0m\u001b[1;33m[\u001b[0m\u001b[1;34m'_exit_code'\u001b[0m\u001b[1;33m]\u001b[0m \u001b[1;33m=\u001b[0m \u001b[0msystem\u001b[0m\u001b[1;33m(\u001b[0m\u001b[0mself\u001b[0m\u001b[1;33m.\u001b[0m\u001b[0mvar_expand\u001b[0m\u001b[1;33m(\u001b[0m\u001b[0mcmd\u001b[0m\u001b[1;33m,\u001b[0m \u001b[0mdepth\u001b[0m\u001b[1;33m=\u001b[0m\u001b[1;36m1\u001b[0m\u001b[1;33m)\u001b[0m\u001b[1;33m)\u001b[0m\u001b[1;33m\u001b[0m\u001b[0m\n\u001b[0m\u001b[0;32m   2359\u001b[0m \u001b[1;33m\u001b[0m\u001b[0m\n\u001b[0;32m   2360\u001b[0m     \u001b[1;32mdef\u001b[0m \u001b[0msystem_raw\u001b[0m\u001b[1;33m(\u001b[0m\u001b[0mself\u001b[0m\u001b[1;33m,\u001b[0m \u001b[0mcmd\u001b[0m\u001b[1;33m)\u001b[0m\u001b[1;33m:\u001b[0m\u001b[1;33m\u001b[0m\u001b[0m\n",
      "\u001b[1;32mC:\\Users\\S525\\AppData\\Local\\Enthought\\Canopy\\User\\lib\\site-packages\\IPython\\utils\\_process_win32.pyc\u001b[0m in \u001b[0;36msystem\u001b[1;34m(cmd)\u001b[0m\n\u001b[0;32m    130\u001b[0m         \u001b[1;32mif\u001b[0m \u001b[0mpath\u001b[0m \u001b[1;32mis\u001b[0m \u001b[1;32mnot\u001b[0m \u001b[0mNone\u001b[0m\u001b[1;33m:\u001b[0m\u001b[1;33m\u001b[0m\u001b[0m\n\u001b[0;32m    131\u001b[0m             \u001b[0mcmd\u001b[0m \u001b[1;33m=\u001b[0m \u001b[1;34m'\"pushd %s &&\"%s'\u001b[0m \u001b[1;33m%\u001b[0m \u001b[1;33m(\u001b[0m\u001b[0mpath\u001b[0m\u001b[1;33m,\u001b[0m \u001b[0mcmd\u001b[0m\u001b[1;33m)\u001b[0m\u001b[1;33m\u001b[0m\u001b[0m\n\u001b[1;32m--> 132\u001b[1;33m         \u001b[1;32mreturn\u001b[0m \u001b[0mprocess_handler\u001b[0m\u001b[1;33m(\u001b[0m\u001b[0mcmd\u001b[0m\u001b[1;33m,\u001b[0m \u001b[0m_system_body\u001b[0m\u001b[1;33m)\u001b[0m\u001b[1;33m\u001b[0m\u001b[0m\n\u001b[0m\u001b[0;32m    133\u001b[0m \u001b[1;33m\u001b[0m\u001b[0m\n\u001b[0;32m    134\u001b[0m \u001b[1;32mdef\u001b[0m \u001b[0mgetoutput\u001b[0m\u001b[1;33m(\u001b[0m\u001b[0mcmd\u001b[0m\u001b[1;33m)\u001b[0m\u001b[1;33m:\u001b[0m\u001b[1;33m\u001b[0m\u001b[0m\n",
      "\u001b[1;32mC:\\Users\\S525\\AppData\\Local\\Enthought\\Canopy\\User\\lib\\site-packages\\IPython\\utils\\_process_common.pyc\u001b[0m in \u001b[0;36mprocess_handler\u001b[1;34m(cmd, callback, stderr)\u001b[0m\n\u001b[0;32m     74\u001b[0m                          \u001b[0mstdout\u001b[0m\u001b[1;33m=\u001b[0m\u001b[0msubprocess\u001b[0m\u001b[1;33m.\u001b[0m\u001b[0mPIPE\u001b[0m\u001b[1;33m,\u001b[0m\u001b[1;33m\u001b[0m\u001b[0m\n\u001b[0;32m     75\u001b[0m                          \u001b[0mstderr\u001b[0m\u001b[1;33m=\u001b[0m\u001b[0mstderr\u001b[0m\u001b[1;33m,\u001b[0m\u001b[1;33m\u001b[0m\u001b[0m\n\u001b[1;32m---> 76\u001b[1;33m                          close_fds=close_fds)\n\u001b[0m\u001b[0;32m     77\u001b[0m \u001b[1;33m\u001b[0m\u001b[0m\n\u001b[0;32m     78\u001b[0m     \u001b[1;32mtry\u001b[0m\u001b[1;33m:\u001b[0m\u001b[1;33m\u001b[0m\u001b[0m\n",
      "\u001b[1;32mC:\\Users\\S525\\AppData\\Local\\Enthought\\Canopy\\App\\appdata\\canopy-1.5.4.3105.win-x86_64\\lib\\subprocess.pyc\u001b[0m in \u001b[0;36m__init__\u001b[1;34m(self, args, bufsize, executable, stdin, stdout, stderr, preexec_fn, close_fds, shell, cwd, env, universal_newlines, startupinfo, creationflags)\u001b[0m\n\u001b[0;32m    708\u001b[0m                                 \u001b[0mp2cread\u001b[0m\u001b[1;33m,\u001b[0m \u001b[0mp2cwrite\u001b[0m\u001b[1;33m,\u001b[0m\u001b[1;33m\u001b[0m\u001b[0m\n\u001b[0;32m    709\u001b[0m                                 \u001b[0mc2pread\u001b[0m\u001b[1;33m,\u001b[0m \u001b[0mc2pwrite\u001b[0m\u001b[1;33m,\u001b[0m\u001b[1;33m\u001b[0m\u001b[0m\n\u001b[1;32m--> 710\u001b[1;33m                                 errread, errwrite)\n\u001b[0m\u001b[0;32m    711\u001b[0m         \u001b[1;32mexcept\u001b[0m \u001b[0mException\u001b[0m\u001b[1;33m:\u001b[0m\u001b[1;33m\u001b[0m\u001b[0m\n\u001b[0;32m    712\u001b[0m             \u001b[1;31m# Preserve original exception in case os.close raises.\u001b[0m\u001b[1;33m\u001b[0m\u001b[1;33m\u001b[0m\u001b[0m\n",
      "\u001b[1;32mC:\\Users\\S525\\AppData\\Local\\Enthought\\Canopy\\App\\appdata\\canopy-1.5.4.3105.win-x86_64\\lib\\subprocess.pyc\u001b[0m in \u001b[0;36m_execute_child\u001b[1;34m(self, args, executable, preexec_fn, close_fds, cwd, env, universal_newlines, startupinfo, creationflags, shell, to_close, p2cread, p2cwrite, c2pread, c2pwrite, errread, errwrite)\u001b[0m\n\u001b[0;32m    926\u001b[0m                 \u001b[0mstartupinfo\u001b[0m\u001b[1;33m.\u001b[0m\u001b[0mwShowWindow\u001b[0m \u001b[1;33m=\u001b[0m \u001b[0m_subprocess\u001b[0m\u001b[1;33m.\u001b[0m\u001b[0mSW_HIDE\u001b[0m\u001b[1;33m\u001b[0m\u001b[0m\n\u001b[0;32m    927\u001b[0m                 \u001b[0mcomspec\u001b[0m \u001b[1;33m=\u001b[0m \u001b[0mos\u001b[0m\u001b[1;33m.\u001b[0m\u001b[0menviron\u001b[0m\u001b[1;33m.\u001b[0m\u001b[0mget\u001b[0m\u001b[1;33m(\u001b[0m\u001b[1;34m\"COMSPEC\"\u001b[0m\u001b[1;33m,\u001b[0m \u001b[1;34m\"cmd.exe\"\u001b[0m\u001b[1;33m)\u001b[0m\u001b[1;33m\u001b[0m\u001b[0m\n\u001b[1;32m--> 928\u001b[1;33m                 \u001b[0margs\u001b[0m \u001b[1;33m=\u001b[0m \u001b[1;34m'{} /c \"{}\"'\u001b[0m\u001b[1;33m.\u001b[0m\u001b[0mformat\u001b[0m \u001b[1;33m(\u001b[0m\u001b[0mcomspec\u001b[0m\u001b[1;33m,\u001b[0m \u001b[0margs\u001b[0m\u001b[1;33m)\u001b[0m\u001b[1;33m\u001b[0m\u001b[0m\n\u001b[0m\u001b[0;32m    929\u001b[0m                 if (_subprocess.GetVersion() >= 0x80000000 or\n\u001b[0;32m    930\u001b[0m                         os.path.basename(comspec).lower() == \"command.com\"):\n",
      "\u001b[1;31mUnicodeEncodeError\u001b[0m: 'ascii' codec can't encode characters in position 33-34: ordinal not in range(128)"
     ]
    }
   ],
   "source": [
    "%cd MTA_Performance_Datall\n",
    "!head -21 Performance_MNRR.xml   #해당 폴더로 이동후, head에 관한 21줄을 출력"
   ]
  },
  {
   "cell_type": "markdown",
   "metadata": {},
   "source": [
    "- 뉴욕 MTA는 버스와 전철운영에 관한 여러가지 데이터를 공개\n",
    "- 해당 데이터를 받아 html.objectify를 이용"
   ]
  },
  {
   "cell_type": "code",
   "execution_count": 169,
   "metadata": {
    "collapsed": false
   },
   "outputs": [
    {
     "ename": "IOError",
     "evalue": "[Errno 2] No such file or directory: 'Performance_MNRR.xml'",
     "output_type": "error",
     "traceback": [
      "\u001b[1;31m---------------------------------------------------------------------------\u001b[0m",
      "\u001b[1;31mIOError\u001b[0m                                   Traceback (most recent call last)",
      "\u001b[1;32m<ipython-input-169-b9206825d9ee>\u001b[0m in \u001b[0;36m<module>\u001b[1;34m()\u001b[0m\n\u001b[0;32m      3\u001b[0m \u001b[1;33m\u001b[0m\u001b[0m\n\u001b[0;32m      4\u001b[0m \u001b[0mpath\u001b[0m \u001b[1;33m=\u001b[0m \u001b[1;34m'Performance_MNRR.xml'\u001b[0m\u001b[1;33m\u001b[0m\u001b[0m\n\u001b[1;32m----> 5\u001b[1;33m \u001b[0mparsed\u001b[0m \u001b[1;33m=\u001b[0m \u001b[0mobjectify\u001b[0m\u001b[1;33m.\u001b[0m\u001b[0mparse\u001b[0m\u001b[1;33m(\u001b[0m\u001b[0mopen\u001b[0m\u001b[1;33m(\u001b[0m\u001b[0mpath\u001b[0m\u001b[1;33m)\u001b[0m\u001b[1;33m)\u001b[0m\u001b[1;33m\u001b[0m\u001b[0m\n\u001b[0m\u001b[0;32m      6\u001b[0m \u001b[0mroot\u001b[0m \u001b[1;33m=\u001b[0m \u001b[0mparsed\u001b[0m\u001b[1;33m.\u001b[0m\u001b[0mgetroot\u001b[0m\u001b[1;33m(\u001b[0m\u001b[1;33m)\u001b[0m   \u001b[1;31m#현재 객체의 root를 얻어 root에 저장\u001b[0m\u001b[1;33m\u001b[0m\u001b[0m\n",
      "\u001b[1;31mIOError\u001b[0m: [Errno 2] No such file or directory: 'Performance_MNRR.xml'"
     ]
    }
   ],
   "source": [
    "#해당 데이터를 lxml.objectify를 이용하여 파싱\n",
    "from lxml import objectify\n",
    "\n",
    "path = 'Performance_MNRR.xml'\n",
    "parsed = objectify.parse(open(path))\n",
    "root = parsed.getroot()   #현재 객체의 root를 얻어 root에 저장"
   ]
  },
  {
   "cell_type": "code",
   "execution_count": 172,
   "metadata": {
    "collapsed": false,
    "scrolled": true
   },
   "outputs": [
    {
     "data": {
      "text/html": [
       "<div style=\"max-height:1000px;max-width:1500px;overflow:auto;\">\n",
       "<table border=\"1\" class=\"dataframe\">\n",
       "  <thead>\n",
       "    <tr style=\"text-align: right;\">\n",
       "      <th></th>\n",
       "      <th>something</th>\n",
       "      <th>a</th>\n",
       "      <th>b</th>\n",
       "      <th>c</th>\n",
       "      <th>d</th>\n",
       "      <th>message</th>\n",
       "    </tr>\n",
       "  </thead>\n",
       "  <tbody>\n",
       "    <tr>\n",
       "      <th>0</th>\n",
       "      <td>one</td>\n",
       "      <td>1</td>\n",
       "      <td>2</td>\n",
       "      <td>3</td>\n",
       "      <td>4</td>\n",
       "      <td>NaN</td>\n",
       "    </tr>\n",
       "    <tr>\n",
       "      <th>1</th>\n",
       "      <td>two</td>\n",
       "      <td>5</td>\n",
       "      <td>6</td>\n",
       "      <td>NaN</td>\n",
       "      <td>8</td>\n",
       "      <td>world</td>\n",
       "    </tr>\n",
       "    <tr>\n",
       "      <th>2</th>\n",
       "      <td>three</td>\n",
       "      <td>9</td>\n",
       "      <td>10</td>\n",
       "      <td>11</td>\n",
       "      <td>12</td>\n",
       "      <td>foo</td>\n",
       "    </tr>\n",
       "  </tbody>\n",
       "</table>\n",
       "</div>"
      ],
      "text/plain": [
       "  something  a   b   c   d message\n",
       "0       one  1   2   3   4     NaN\n",
       "1       two  5   6 NaN   8   world\n",
       "2     three  9  10  11  12     foo"
      ]
     },
     "execution_count": 172,
     "metadata": {},
     "output_type": "execute_result"
    }
   ],
   "source": [
    "perf = DataFrame(data)\n",
    "perf"
   ]
  },
  {
   "cell_type": "code",
   "execution_count": 177,
   "metadata": {
    "collapsed": false
   },
   "outputs": [
    {
     "ename": "NameError",
     "evalue": "name 'root' is not defined",
     "output_type": "error",
     "traceback": [
      "\u001b[1;31m---------------------------------------------------------------------------\u001b[0m",
      "\u001b[1;31mNameError\u001b[0m                                 Traceback (most recent call last)",
      "\u001b[1;32m<ipython-input-177-74cc1c60799e>\u001b[0m in \u001b[0;36m<module>\u001b[1;34m()\u001b[0m\n\u001b[1;32m----> 1\u001b[1;33m \u001b[0mroot\u001b[0m\u001b[1;33m\u001b[0m\u001b[0m\n\u001b[0m",
      "\u001b[1;31mNameError\u001b[0m: name 'root' is not defined"
     ]
    }
   ],
   "source": [
    "root"
   ]
  },
  {
   "cell_type": "code",
   "execution_count": 178,
   "metadata": {
    "collapsed": false
   },
   "outputs": [
    {
     "ename": "NameError",
     "evalue": "name 'root' is not defined",
     "output_type": "error",
     "traceback": [
      "\u001b[1;31m---------------------------------------------------------------------------\u001b[0m",
      "\u001b[1;31mNameError\u001b[0m                                 Traceback (most recent call last)",
      "\u001b[1;32m<ipython-input-178-8472bba063d1>\u001b[0m in \u001b[0;36m<module>\u001b[1;34m()\u001b[0m\n\u001b[1;32m----> 1\u001b[1;33m \u001b[0mroot\u001b[0m\u001b[1;33m.\u001b[0m\u001b[0mget\u001b[0m\u001b[1;33m(\u001b[0m\u001b[1;34m'href'\u001b[0m\u001b[1;33m)\u001b[0m\u001b[1;33m\u001b[0m\u001b[0m\n\u001b[0m",
      "\u001b[1;31mNameError\u001b[0m: name 'root' is not defined"
     ]
    }
   ],
   "source": [
    "root.get('href')"
   ]
  },
  {
   "cell_type": "code",
   "execution_count": 179,
   "metadata": {
    "collapsed": false
   },
   "outputs": [
    {
     "ename": "NameError",
     "evalue": "name 'root' is not defined",
     "output_type": "error",
     "traceback": [
      "\u001b[1;31m---------------------------------------------------------------------------\u001b[0m",
      "\u001b[1;31mNameError\u001b[0m                                 Traceback (most recent call last)",
      "\u001b[1;32m<ipython-input-179-e231e6730769>\u001b[0m in \u001b[0;36m<module>\u001b[1;34m()\u001b[0m\n\u001b[1;32m----> 1\u001b[1;33m \u001b[0mroot\u001b[0m\u001b[1;33m.\u001b[0m\u001b[0mtext\u001b[0m\u001b[1;33m\u001b[0m\u001b[0m\n\u001b[0m",
      "\u001b[1;31mNameError\u001b[0m: name 'root' is not defined"
     ]
    }
   ],
   "source": [
    "root.text"
   ]
  },
  {
   "cell_type": "code",
   "execution_count": 180,
   "metadata": {
    "collapsed": true
   },
   "outputs": [],
   "source": [
    "from StringIO import StringIO\n",
    "tag = '<a href=\"http://www.google.com\">Google</a>'\n",
    "\n",
    "root = objectify.parse(StringIO(tag)).getroot()   \n",
    "#root권한으로 해당 태그를 root에 추가"
   ]
  },
  {
   "cell_type": "code",
   "execution_count": 181,
   "metadata": {
    "collapsed": false
   },
   "outputs": [
    {
     "data": {
      "text/plain": [
       "<Element a at 0xc40a748>"
      ]
     },
     "execution_count": 181,
     "metadata": {},
     "output_type": "execute_result"
    }
   ],
   "source": [
    "root"
   ]
  },
  {
   "cell_type": "code",
   "execution_count": 182,
   "metadata": {
    "collapsed": false
   },
   "outputs": [
    {
     "data": {
      "text/plain": [
       "'http://www.google.com'"
      ]
     },
     "execution_count": 182,
     "metadata": {},
     "output_type": "execute_result"
    }
   ],
   "source": [
    "root.get('href')"
   ]
  },
  {
   "cell_type": "code",
   "execution_count": 183,
   "metadata": {
    "collapsed": false
   },
   "outputs": [
    {
     "data": {
      "text/plain": [
       "'Google'"
      ]
     },
     "execution_count": 183,
     "metadata": {},
     "output_type": "execute_result"
    }
   ],
   "source": [
    "root.text"
   ]
  },
  {
   "cell_type": "markdown",
   "metadata": {},
   "source": [
    "## 2. 이진 데이터"
   ]
  },
  {
   "cell_type": "code",
   "execution_count": 184,
   "metadata": {
    "collapsed": false
   },
   "outputs": [
    {
     "data": {
      "text/html": [
       "<div style=\"max-height:1000px;max-width:1500px;overflow:auto;\">\n",
       "<table border=\"1\" class=\"dataframe\">\n",
       "  <thead>\n",
       "    <tr style=\"text-align: right;\">\n",
       "      <th></th>\n",
       "      <th>a</th>\n",
       "      <th>b</th>\n",
       "      <th>c</th>\n",
       "      <th>d</th>\n",
       "      <th>message</th>\n",
       "    </tr>\n",
       "  </thead>\n",
       "  <tbody>\n",
       "    <tr>\n",
       "      <th>0</th>\n",
       "      <td>1</td>\n",
       "      <td>2</td>\n",
       "      <td>3</td>\n",
       "      <td>4</td>\n",
       "      <td>hello</td>\n",
       "    </tr>\n",
       "    <tr>\n",
       "      <th>1</th>\n",
       "      <td>5</td>\n",
       "      <td>6</td>\n",
       "      <td>7</td>\n",
       "      <td>8</td>\n",
       "      <td>world</td>\n",
       "    </tr>\n",
       "    <tr>\n",
       "      <th>2</th>\n",
       "      <td>9</td>\n",
       "      <td>10</td>\n",
       "      <td>11</td>\n",
       "      <td>12</td>\n",
       "      <td>foo</td>\n",
       "    </tr>\n",
       "  </tbody>\n",
       "</table>\n",
       "</div>"
      ],
      "text/plain": [
       "   a   b   c   d message\n",
       "0  1   2   3   4   hello\n",
       "1  5   6   7   8   world\n",
       "2  9  10  11  12     foo"
      ]
     },
     "execution_count": 184,
     "metadata": {},
     "output_type": "execute_result"
    }
   ],
   "source": [
    "frame = pd.read_csv('https://raw.githubusercontent.com/pydata/pydata-book/master/ch06/ex1.csv')\n",
    "frame"
   ]
  },
  {
   "cell_type": "code",
   "execution_count": 185,
   "metadata": {
    "collapsed": false
   },
   "outputs": [
    {
     "data": {
      "text/plain": [
       "u'C:\\\\Users\\\\S525'"
      ]
     },
     "execution_count": 185,
     "metadata": {},
     "output_type": "execute_result"
    }
   ],
   "source": [
    "%pwd"
   ]
  },
  {
   "cell_type": "code",
   "execution_count": 210,
   "metadata": {
    "collapsed": false
   },
   "outputs": [
    {
     "name": "stdout",
     "output_type": "stream",
     "text": [
      "C:\\Users\\S525\\ch06\n"
     ]
    }
   ],
   "source": [
    "%cd  C:\\Users\\S525\\ch06\n",
    "frame.to_pickle('frame_pickle.csv')"
   ]
  },
  {
   "cell_type": "code",
   "execution_count": 215,
   "metadata": {
    "collapsed": false,
    "scrolled": true
   },
   "outputs": [],
   "source": [
    "a = csv.reader('frame_pickle.csv')"
   ]
  },
  {
   "cell_type": "code",
   "execution_count": 216,
   "metadata": {
    "collapsed": false
   },
   "outputs": [
    {
     "name": "stdout",
     "output_type": "stream",
     "text": [
      "<_csv.reader object at 0x000000000C7773A8>\n",
      "<type '_csv.reader'>\n"
     ]
    }
   ],
   "source": [
    "print a\n",
    "print type(a)"
   ]
  },
  {
   "cell_type": "code",
   "execution_count": 187,
   "metadata": {
    "collapsed": false,
    "scrolled": true
   },
   "outputs": [
    {
     "ename": "ImportError",
     "evalue": "HDFStore requires PyTables, \"No module named tables\" problem importing",
     "output_type": "error",
     "traceback": [
      "\u001b[1;31m---------------------------------------------------------------------------\u001b[0m",
      "\u001b[1;31mImportError\u001b[0m                               Traceback (most recent call last)",
      "\u001b[1;32m<ipython-input-187-b976268a8118>\u001b[0m in \u001b[0;36m<module>\u001b[1;34m()\u001b[0m\n\u001b[0;32m      1\u001b[0m \u001b[1;31m#pandas는 PyTables를 이용한 HDFStore라는 가벼운 사전 클래스를 통해 pandas 객체를 저장한다.\u001b[0m\u001b[1;33m\u001b[0m\u001b[1;33m\u001b[0m\u001b[0m\n\u001b[1;32m----> 2\u001b[1;33m \u001b[0mstore\u001b[0m \u001b[1;33m=\u001b[0m \u001b[0mpd\u001b[0m\u001b[1;33m.\u001b[0m\u001b[0mHDFStore\u001b[0m\u001b[1;33m(\u001b[0m\u001b[1;34m'mydata.h5'\u001b[0m\u001b[1;33m)\u001b[0m\u001b[1;33m\u001b[0m\u001b[0m\n\u001b[0m\u001b[0;32m      3\u001b[0m \u001b[0mstore\u001b[0m\u001b[1;33m[\u001b[0m\u001b[1;34m'obj1'\u001b[0m\u001b[1;33m]\u001b[0m \u001b[1;33m=\u001b[0m \u001b[0mframe\u001b[0m\u001b[1;33m\u001b[0m\u001b[0m\n\u001b[0;32m      4\u001b[0m \u001b[0mstore\u001b[0m\u001b[1;33m[\u001b[0m\u001b[1;34m'obj1_col'\u001b[0m\u001b[1;33m]\u001b[0m \u001b[1;33m=\u001b[0m \u001b[0mframe\u001b[0m\u001b[1;33m[\u001b[0m\u001b[1;34m'a'\u001b[0m\u001b[1;33m]\u001b[0m\u001b[1;33m\u001b[0m\u001b[0m\n\u001b[0;32m      5\u001b[0m \u001b[0mstore\u001b[0m\u001b[1;33m\u001b[0m\u001b[0m\n",
      "\u001b[1;32mC:\\Users\\S525\\AppData\\Local\\Enthought\\Canopy\\User\\lib\\site-packages\\pandas\\io\\pytables.pyc\u001b[0m in \u001b[0;36m__init__\u001b[1;34m(self, path, mode, complevel, complib, fletcher32, **kwargs)\u001b[0m\n\u001b[0;32m    384\u001b[0m             \u001b[1;32mimport\u001b[0m \u001b[0mtables\u001b[0m\u001b[1;33m\u001b[0m\u001b[0m\n\u001b[0;32m    385\u001b[0m         \u001b[1;32mexcept\u001b[0m \u001b[0mImportError\u001b[0m \u001b[1;32mas\u001b[0m \u001b[0mex\u001b[0m\u001b[1;33m:\u001b[0m  \u001b[1;31m# pragma: no cover\u001b[0m\u001b[1;33m\u001b[0m\u001b[0m\n\u001b[1;32m--> 386\u001b[1;33m             \u001b[1;32mraise\u001b[0m \u001b[0mImportError\u001b[0m\u001b[1;33m(\u001b[0m\u001b[1;34m'HDFStore requires PyTables, \"{ex}\" problem importing'\u001b[0m\u001b[1;33m.\u001b[0m\u001b[0mformat\u001b[0m\u001b[1;33m(\u001b[0m\u001b[0mex\u001b[0m\u001b[1;33m=\u001b[0m\u001b[0mstr\u001b[0m\u001b[1;33m(\u001b[0m\u001b[0mex\u001b[0m\u001b[1;33m)\u001b[0m\u001b[1;33m)\u001b[0m\u001b[1;33m)\u001b[0m\u001b[1;33m\u001b[0m\u001b[0m\n\u001b[0m\u001b[0;32m    387\u001b[0m \u001b[1;33m\u001b[0m\u001b[0m\n\u001b[0;32m    388\u001b[0m         \u001b[0mself\u001b[0m\u001b[1;33m.\u001b[0m\u001b[0m_path\u001b[0m \u001b[1;33m=\u001b[0m \u001b[0mpath\u001b[0m\u001b[1;33m\u001b[0m\u001b[0m\n",
      "\u001b[1;31mImportError\u001b[0m: HDFStore requires PyTables, \"No module named tables\" problem importing"
     ]
    }
   ],
   "source": [
    "#pandas는 PyTables를 이용한 HDFStore라는 가벼운 사전 클래스를 통해 pandas 객체를 저장한다.\n",
    "store = pd.HDFStore('mydata.h5')\n",
    "store['obj1'] = frame\n",
    "store['obj1_col'] = frame['a']\n",
    "store"
   ]
  },
  {
   "cell_type": "code",
   "execution_count": 188,
   "metadata": {
    "collapsed": false
   },
   "outputs": [
    {
     "name": "stderr",
     "output_type": "stream",
     "text": [
      "UsageError: Unknown variable '['obj1']'"
     ]
    }
   ],
   "source": [
    "store['obj1']"
   ]
  },
  {
   "cell_type": "code",
   "execution_count": 189,
   "metadata": {
    "collapsed": false,
    "scrolled": true
   },
   "outputs": [
    {
     "ename": "ImportError",
     "evalue": "No module named xlrd",
     "output_type": "error",
     "traceback": [
      "\u001b[1;31m---------------------------------------------------------------------------\u001b[0m",
      "\u001b[1;31mImportError\u001b[0m                               Traceback (most recent call last)",
      "\u001b[1;32m<ipython-input-189-ffbee72067b9>\u001b[0m in \u001b[0;36m<module>\u001b[1;34m()\u001b[0m\n\u001b[1;32m----> 1\u001b[1;33m \u001b[0mxls_file\u001b[0m \u001b[1;33m=\u001b[0m \u001b[0mpd\u001b[0m\u001b[1;33m.\u001b[0m\u001b[0mExcelFile\u001b[0m\u001b[1;33m(\u001b[0m\u001b[1;34m'ch06/data.xlsx'\u001b[0m\u001b[1;33m)\u001b[0m\u001b[1;33m\u001b[0m\u001b[0m\n\u001b[0m\u001b[0;32m      2\u001b[0m \u001b[0mxls_file\u001b[0m\u001b[1;33m\u001b[0m\u001b[0m\n",
      "\u001b[1;32mC:\\Users\\S525\\AppData\\Local\\Enthought\\Canopy\\User\\lib\\site-packages\\pandas\\io\\excel.pyc\u001b[0m in \u001b[0;36m__init__\u001b[1;34m(self, io, **kwds)\u001b[0m\n\u001b[0;32m    167\u001b[0m     \u001b[1;32mdef\u001b[0m \u001b[0m__init__\u001b[0m\u001b[1;33m(\u001b[0m\u001b[0mself\u001b[0m\u001b[1;33m,\u001b[0m \u001b[0mio\u001b[0m\u001b[1;33m,\u001b[0m \u001b[1;33m**\u001b[0m\u001b[0mkwds\u001b[0m\u001b[1;33m)\u001b[0m\u001b[1;33m:\u001b[0m\u001b[1;33m\u001b[0m\u001b[0m\n\u001b[0;32m    168\u001b[0m \u001b[1;33m\u001b[0m\u001b[0m\n\u001b[1;32m--> 169\u001b[1;33m         \u001b[1;32mimport\u001b[0m \u001b[0mxlrd\u001b[0m  \u001b[1;31m# throw an ImportError if we need to\u001b[0m\u001b[1;33m\u001b[0m\u001b[0m\n\u001b[0m\u001b[0;32m    170\u001b[0m \u001b[1;33m\u001b[0m\u001b[0m\n\u001b[0;32m    171\u001b[0m         \u001b[0mver\u001b[0m \u001b[1;33m=\u001b[0m \u001b[0mtuple\u001b[0m\u001b[1;33m(\u001b[0m\u001b[0mmap\u001b[0m\u001b[1;33m(\u001b[0m\u001b[0mint\u001b[0m\u001b[1;33m,\u001b[0m \u001b[0mxlrd\u001b[0m\u001b[1;33m.\u001b[0m\u001b[0m__VERSION__\u001b[0m\u001b[1;33m.\u001b[0m\u001b[0msplit\u001b[0m\u001b[1;33m(\u001b[0m\u001b[1;34m\".\"\u001b[0m\u001b[1;33m)\u001b[0m\u001b[1;33m[\u001b[0m\u001b[1;33m:\u001b[0m\u001b[1;36m2\u001b[0m\u001b[1;33m]\u001b[0m\u001b[1;33m)\u001b[0m\u001b[1;33m)\u001b[0m\u001b[1;33m\u001b[0m\u001b[0m\n",
      "\u001b[1;31mImportError\u001b[0m: No module named xlrd"
     ]
    }
   ],
   "source": [
    "xls_file = pd.ExcelFile('ch06/data.xlsx')\n",
    "xls_file"
   ]
  },
  {
   "cell_type": "code",
   "execution_count": 190,
   "metadata": {
    "collapsed": false
   },
   "outputs": [
    {
     "ename": "NameError",
     "evalue": "name 'xls_file' is not defined",
     "output_type": "error",
     "traceback": [
      "\u001b[1;31m---------------------------------------------------------------------------\u001b[0m",
      "\u001b[1;31mNameError\u001b[0m                                 Traceback (most recent call last)",
      "\u001b[1;32m<ipython-input-190-a9b883b54800>\u001b[0m in \u001b[0;36m<module>\u001b[1;34m()\u001b[0m\n\u001b[1;32m----> 1\u001b[1;33m \u001b[0mtable\u001b[0m \u001b[1;33m=\u001b[0m \u001b[0mxls_file\u001b[0m\u001b[1;33m.\u001b[0m\u001b[0mparse\u001b[0m\u001b[1;33m(\u001b[0m\u001b[1;34m'Sheet1'\u001b[0m\u001b[1;33m)\u001b[0m   \u001b[1;31m#pandas를 통해 읽어온 파일을 DataFrame으로 읽어 올 수 있다.\u001b[0m\u001b[1;33m\u001b[0m\u001b[0m\n\u001b[0m\u001b[0;32m      2\u001b[0m \u001b[0mtable\u001b[0m\u001b[1;33m\u001b[0m\u001b[0m\n",
      "\u001b[1;31mNameError\u001b[0m: name 'xls_file' is not defined"
     ]
    }
   ],
   "source": [
    "table = xls_file.parse('Sheet1')   #pandas를 통해 읽어온 파일을 DataFrame으로 읽어 올 수 있다.\n",
    "table"
   ]
  },
  {
   "cell_type": "markdown",
   "metadata": {},
   "source": [
    "## 3. HTML, 웹 API와 함께 사용하기"
   ]
  },
  {
   "cell_type": "markdown",
   "metadata": {},
   "source": [
    "- 파이썬으로 API를 사용하는 방법 중 가장 쉬운 방법이 requests 패키지 이용"
   ]
  },
  {
   "cell_type": "code",
   "execution_count": 191,
   "metadata": {
    "collapsed": false
   },
   "outputs": [
    {
     "data": {
      "text/plain": [
       "<Response [200]>"
      ]
     },
     "execution_count": 191,
     "metadata": {},
     "output_type": "execute_result"
    }
   ],
   "source": [
    "import requests\n",
    "url = 'https://api.github.com/repos/pydata/pandas/milestones/28/labels'\n",
    "resp = requests.get(url)\n",
    "resp"
   ]
  },
  {
   "cell_type": "markdown",
   "metadata": {},
   "source": [
    "- Response 객체의 text 속성은 get 질의에 대한 내용을 담고있다.\n",
    "- 많은 API JSON 문자열을 반환하는데, 이 문자열은 파이썬 객체로 담아야한다."
   ]
  },
  {
   "cell_type": "code",
   "execution_count": 192,
   "metadata": {
    "collapsed": false
   },
   "outputs": [
    {
     "data": {
      "text/plain": [
       "[{u'color': u'e10c02',\n",
       "  u'name': u'Bug',\n",
       "  u'url': u'https://api.github.com/repos/pydata/pandas/labels/Bug'},\n",
       " {u'color': u'4E9A06',\n",
       "  u'name': u'Enhancement',\n",
       "  u'url': u'https://api.github.com/repos/pydata/pandas/labels/Enhancement'},\n",
       " {u'color': u'FCE94F',\n",
       "  u'name': u'Refactor',\n",
       "  u'url': u'https://api.github.com/repos/pydata/pandas/labels/Refactor'},\n",
       " {u'color': u'75507B',\n",
       "  u'name': u'Build',\n",
       "  u'url': u'https://api.github.com/repos/pydata/pandas/labels/Build'},\n",
       " {u'color': u'3465A4',\n",
       "  u'name': u'Docs',\n",
       "  u'url': u'https://api.github.com/repos/pydata/pandas/labels/Docs'},\n",
       " {u'color': u'729FCF',\n",
       "  u'name': u'Groupby',\n",
       "  u'url': u'https://api.github.com/repos/pydata/pandas/labels/Groupby'},\n",
       " {u'color': u'06909A',\n",
       "  u'name': u'Data IO',\n",
       "  u'url': u'https://api.github.com/repos/pydata/pandas/labels/Data%20IO'},\n",
       " {u'color': u'8AE234',\n",
       "  u'name': u'Visualization',\n",
       "  u'url': u'https://api.github.com/repos/pydata/pandas/labels/Visualization'},\n",
       " {u'color': u'0b02e1',\n",
       "  u'name': u'Indexing',\n",
       "  u'url': u'https://api.github.com/repos/pydata/pandas/labels/Indexing'},\n",
       " {u'color': u'd7e102',\n",
       "  u'name': u'Missing-data',\n",
       "  u'url': u'https://api.github.com/repos/pydata/pandas/labels/Missing-data'},\n",
       " {u'color': u'a10c02',\n",
       "  u'name': u'Performance',\n",
       "  u'url': u'https://api.github.com/repos/pydata/pandas/labels/Performance'},\n",
       " {u'color': u'02d7e1',\n",
       "  u'name': u'Reshaping',\n",
       "  u'url': u'https://api.github.com/repos/pydata/pandas/labels/Reshaping'},\n",
       " {u'color': u'fbca04',\n",
       "  u'name': u'Difficulty Novice',\n",
       "  u'url': u'https://api.github.com/repos/pydata/pandas/labels/Difficulty%20Novice'},\n",
       " {u'color': u'e102d8',\n",
       "  u'name': u'Dtypes',\n",
       "  u'url': u'https://api.github.com/repos/pydata/pandas/labels/Dtypes'},\n",
       " {u'color': u'DDDDDD',\n",
       "  u'name': u'Note To Selves',\n",
       "  u'url': u'https://api.github.com/repos/pydata/pandas/labels/Note%20To%20Selves'},\n",
       " {u'color': u'AD7FA8',\n",
       "  u'name': u'API Design',\n",
       "  u'url': u'https://api.github.com/repos/pydata/pandas/labels/API%20Design'},\n",
       " {u'color': u'ffa0ff',\n",
       "  u'name': u'Error Reporting',\n",
       "  u'url': u'https://api.github.com/repos/pydata/pandas/labels/Error%20Reporting'},\n",
       " {u'color': u'006b75',\n",
       "  u'name': u'Numeric',\n",
       "  u'url': u'https://api.github.com/repos/pydata/pandas/labels/Numeric'},\n",
       " {u'color': u'5319e7',\n",
       "  u'name': u'CSV',\n",
       "  u'url': u'https://api.github.com/repos/pydata/pandas/labels/CSV'},\n",
       " {u'color': u'5319e7',\n",
       "  u'name': u'SQL',\n",
       "  u'url': u'https://api.github.com/repos/pydata/pandas/labels/SQL'},\n",
       " {u'color': u'a2bca7',\n",
       "  u'name': u'CI',\n",
       "  u'url': u'https://api.github.com/repos/pydata/pandas/labels/CI'},\n",
       " {u'color': u'fbca04',\n",
       "  u'name': u'Internals',\n",
       "  u'url': u'https://api.github.com/repos/pydata/pandas/labels/Internals'},\n",
       " {u'color': u'5319e7',\n",
       "  u'name': u'Timedelta',\n",
       "  u'url': u'https://api.github.com/repos/pydata/pandas/labels/Timedelta'},\n",
       " {u'color': u'0052cc',\n",
       "  u'name': u'Frequency',\n",
       "  u'url': u'https://api.github.com/repos/pydata/pandas/labels/Frequency'},\n",
       " {u'color': u'fbca04',\n",
       "  u'name': u'Windows',\n",
       "  u'url': u'https://api.github.com/repos/pydata/pandas/labels/Windows'},\n",
       " {u'color': u'eb6420',\n",
       "  u'name': u'Algos',\n",
       "  u'url': u'https://api.github.com/repos/pydata/pandas/labels/Algos'},\n",
       " {u'color': u'5319e7',\n",
       "  u'name': u'Timezones',\n",
       "  u'url': u'https://api.github.com/repos/pydata/pandas/labels/Timezones'},\n",
       " {u'color': u'eb6420',\n",
       "  u'name': u'Period',\n",
       "  u'url': u'https://api.github.com/repos/pydata/pandas/labels/Period'},\n",
       " {u'color': u'207de5',\n",
       "  u'name': u'MultiIndex',\n",
       "  u'url': u'https://api.github.com/repos/pydata/pandas/labels/MultiIndex'},\n",
       " {u'color': u'e11d21',\n",
       "  u'name': u'Categorical',\n",
       "  u'url': u'https://api.github.com/repos/pydata/pandas/labels/Categorical'}]"
      ]
     },
     "execution_count": 192,
     "metadata": {},
     "output_type": "execute_result"
    }
   ],
   "source": [
    "data = json.loads(resp.text)\n",
    "data"
   ]
  },
  {
   "cell_type": "code",
   "execution_count": 193,
   "metadata": {
    "collapsed": false,
    "scrolled": true
   },
   "outputs": [
    {
     "data": {
      "text/html": [
       "<div style=\"max-height:1000px;max-width:1500px;overflow:auto;\">\n",
       "<table border=\"1\" class=\"dataframe\">\n",
       "  <thead>\n",
       "    <tr style=\"text-align: right;\">\n",
       "      <th></th>\n",
       "      <th>color</th>\n",
       "      <th>name</th>\n",
       "      <th>url</th>\n",
       "    </tr>\n",
       "  </thead>\n",
       "  <tbody>\n",
       "    <tr>\n",
       "      <th>0</th>\n",
       "      <td>e10c02</td>\n",
       "      <td>Bug</td>\n",
       "      <td>https://api.github.com/repos/pydata/pandas/lab...</td>\n",
       "    </tr>\n",
       "    <tr>\n",
       "      <th>1</th>\n",
       "      <td>4E9A06</td>\n",
       "      <td>Enhancement</td>\n",
       "      <td>https://api.github.com/repos/pydata/pandas/lab...</td>\n",
       "    </tr>\n",
       "    <tr>\n",
       "      <th>2</th>\n",
       "      <td>FCE94F</td>\n",
       "      <td>Refactor</td>\n",
       "      <td>https://api.github.com/repos/pydata/pandas/lab...</td>\n",
       "    </tr>\n",
       "    <tr>\n",
       "      <th>3</th>\n",
       "      <td>75507B</td>\n",
       "      <td>Build</td>\n",
       "      <td>https://api.github.com/repos/pydata/pandas/lab...</td>\n",
       "    </tr>\n",
       "    <tr>\n",
       "      <th>4</th>\n",
       "      <td>3465A4</td>\n",
       "      <td>Docs</td>\n",
       "      <td>https://api.github.com/repos/pydata/pandas/lab...</td>\n",
       "    </tr>\n",
       "    <tr>\n",
       "      <th>5</th>\n",
       "      <td>729FCF</td>\n",
       "      <td>Groupby</td>\n",
       "      <td>https://api.github.com/repos/pydata/pandas/lab...</td>\n",
       "    </tr>\n",
       "    <tr>\n",
       "      <th>6</th>\n",
       "      <td>06909A</td>\n",
       "      <td>Data IO</td>\n",
       "      <td>https://api.github.com/repos/pydata/pandas/lab...</td>\n",
       "    </tr>\n",
       "    <tr>\n",
       "      <th>7</th>\n",
       "      <td>8AE234</td>\n",
       "      <td>Visualization</td>\n",
       "      <td>https://api.github.com/repos/pydata/pandas/lab...</td>\n",
       "    </tr>\n",
       "    <tr>\n",
       "      <th>8</th>\n",
       "      <td>0b02e1</td>\n",
       "      <td>Indexing</td>\n",
       "      <td>https://api.github.com/repos/pydata/pandas/lab...</td>\n",
       "    </tr>\n",
       "    <tr>\n",
       "      <th>9</th>\n",
       "      <td>d7e102</td>\n",
       "      <td>Missing-data</td>\n",
       "      <td>https://api.github.com/repos/pydata/pandas/lab...</td>\n",
       "    </tr>\n",
       "    <tr>\n",
       "      <th>10</th>\n",
       "      <td>a10c02</td>\n",
       "      <td>Performance</td>\n",
       "      <td>https://api.github.com/repos/pydata/pandas/lab...</td>\n",
       "    </tr>\n",
       "    <tr>\n",
       "      <th>11</th>\n",
       "      <td>02d7e1</td>\n",
       "      <td>Reshaping</td>\n",
       "      <td>https://api.github.com/repos/pydata/pandas/lab...</td>\n",
       "    </tr>\n",
       "    <tr>\n",
       "      <th>12</th>\n",
       "      <td>fbca04</td>\n",
       "      <td>Difficulty Novice</td>\n",
       "      <td>https://api.github.com/repos/pydata/pandas/lab...</td>\n",
       "    </tr>\n",
       "    <tr>\n",
       "      <th>13</th>\n",
       "      <td>e102d8</td>\n",
       "      <td>Dtypes</td>\n",
       "      <td>https://api.github.com/repos/pydata/pandas/lab...</td>\n",
       "    </tr>\n",
       "    <tr>\n",
       "      <th>14</th>\n",
       "      <td>DDDDDD</td>\n",
       "      <td>Note To Selves</td>\n",
       "      <td>https://api.github.com/repos/pydata/pandas/lab...</td>\n",
       "    </tr>\n",
       "    <tr>\n",
       "      <th>15</th>\n",
       "      <td>AD7FA8</td>\n",
       "      <td>API Design</td>\n",
       "      <td>https://api.github.com/repos/pydata/pandas/lab...</td>\n",
       "    </tr>\n",
       "    <tr>\n",
       "      <th>16</th>\n",
       "      <td>ffa0ff</td>\n",
       "      <td>Error Reporting</td>\n",
       "      <td>https://api.github.com/repos/pydata/pandas/lab...</td>\n",
       "    </tr>\n",
       "    <tr>\n",
       "      <th>17</th>\n",
       "      <td>006b75</td>\n",
       "      <td>Numeric</td>\n",
       "      <td>https://api.github.com/repos/pydata/pandas/lab...</td>\n",
       "    </tr>\n",
       "    <tr>\n",
       "      <th>18</th>\n",
       "      <td>5319e7</td>\n",
       "      <td>CSV</td>\n",
       "      <td>https://api.github.com/repos/pydata/pandas/lab...</td>\n",
       "    </tr>\n",
       "    <tr>\n",
       "      <th>19</th>\n",
       "      <td>5319e7</td>\n",
       "      <td>SQL</td>\n",
       "      <td>https://api.github.com/repos/pydata/pandas/lab...</td>\n",
       "    </tr>\n",
       "    <tr>\n",
       "      <th>20</th>\n",
       "      <td>a2bca7</td>\n",
       "      <td>CI</td>\n",
       "      <td>https://api.github.com/repos/pydata/pandas/lab...</td>\n",
       "    </tr>\n",
       "    <tr>\n",
       "      <th>21</th>\n",
       "      <td>fbca04</td>\n",
       "      <td>Internals</td>\n",
       "      <td>https://api.github.com/repos/pydata/pandas/lab...</td>\n",
       "    </tr>\n",
       "    <tr>\n",
       "      <th>22</th>\n",
       "      <td>5319e7</td>\n",
       "      <td>Timedelta</td>\n",
       "      <td>https://api.github.com/repos/pydata/pandas/lab...</td>\n",
       "    </tr>\n",
       "    <tr>\n",
       "      <th>23</th>\n",
       "      <td>0052cc</td>\n",
       "      <td>Frequency</td>\n",
       "      <td>https://api.github.com/repos/pydata/pandas/lab...</td>\n",
       "    </tr>\n",
       "    <tr>\n",
       "      <th>24</th>\n",
       "      <td>fbca04</td>\n",
       "      <td>Windows</td>\n",
       "      <td>https://api.github.com/repos/pydata/pandas/lab...</td>\n",
       "    </tr>\n",
       "    <tr>\n",
       "      <th>25</th>\n",
       "      <td>eb6420</td>\n",
       "      <td>Algos</td>\n",
       "      <td>https://api.github.com/repos/pydata/pandas/lab...</td>\n",
       "    </tr>\n",
       "    <tr>\n",
       "      <th>26</th>\n",
       "      <td>5319e7</td>\n",
       "      <td>Timezones</td>\n",
       "      <td>https://api.github.com/repos/pydata/pandas/lab...</td>\n",
       "    </tr>\n",
       "    <tr>\n",
       "      <th>27</th>\n",
       "      <td>eb6420</td>\n",
       "      <td>Period</td>\n",
       "      <td>https://api.github.com/repos/pydata/pandas/lab...</td>\n",
       "    </tr>\n",
       "    <tr>\n",
       "      <th>28</th>\n",
       "      <td>207de5</td>\n",
       "      <td>MultiIndex</td>\n",
       "      <td>https://api.github.com/repos/pydata/pandas/lab...</td>\n",
       "    </tr>\n",
       "    <tr>\n",
       "      <th>29</th>\n",
       "      <td>e11d21</td>\n",
       "      <td>Categorical</td>\n",
       "      <td>https://api.github.com/repos/pydata/pandas/lab...</td>\n",
       "    </tr>\n",
       "  </tbody>\n",
       "</table>\n",
       "</div>"
      ],
      "text/plain": [
       "     color               name  \\\n",
       "0   e10c02                Bug   \n",
       "1   4E9A06        Enhancement   \n",
       "2   FCE94F           Refactor   \n",
       "3   75507B              Build   \n",
       "4   3465A4               Docs   \n",
       "5   729FCF            Groupby   \n",
       "6   06909A            Data IO   \n",
       "7   8AE234      Visualization   \n",
       "8   0b02e1           Indexing   \n",
       "9   d7e102       Missing-data   \n",
       "10  a10c02        Performance   \n",
       "11  02d7e1          Reshaping   \n",
       "12  fbca04  Difficulty Novice   \n",
       "13  e102d8             Dtypes   \n",
       "14  DDDDDD     Note To Selves   \n",
       "15  AD7FA8         API Design   \n",
       "16  ffa0ff    Error Reporting   \n",
       "17  006b75            Numeric   \n",
       "18  5319e7                CSV   \n",
       "19  5319e7                SQL   \n",
       "20  a2bca7                 CI   \n",
       "21  fbca04          Internals   \n",
       "22  5319e7          Timedelta   \n",
       "23  0052cc          Frequency   \n",
       "24  fbca04            Windows   \n",
       "25  eb6420              Algos   \n",
       "26  5319e7          Timezones   \n",
       "27  eb6420             Period   \n",
       "28  207de5         MultiIndex   \n",
       "29  e11d21        Categorical   \n",
       "\n",
       "                                                  url  \n",
       "0   https://api.github.com/repos/pydata/pandas/lab...  \n",
       "1   https://api.github.com/repos/pydata/pandas/lab...  \n",
       "2   https://api.github.com/repos/pydata/pandas/lab...  \n",
       "3   https://api.github.com/repos/pydata/pandas/lab...  \n",
       "4   https://api.github.com/repos/pydata/pandas/lab...  \n",
       "5   https://api.github.com/repos/pydata/pandas/lab...  \n",
       "6   https://api.github.com/repos/pydata/pandas/lab...  \n",
       "7   https://api.github.com/repos/pydata/pandas/lab...  \n",
       "8   https://api.github.com/repos/pydata/pandas/lab...  \n",
       "9   https://api.github.com/repos/pydata/pandas/lab...  \n",
       "10  https://api.github.com/repos/pydata/pandas/lab...  \n",
       "11  https://api.github.com/repos/pydata/pandas/lab...  \n",
       "12  https://api.github.com/repos/pydata/pandas/lab...  \n",
       "13  https://api.github.com/repos/pydata/pandas/lab...  \n",
       "14  https://api.github.com/repos/pydata/pandas/lab...  \n",
       "15  https://api.github.com/repos/pydata/pandas/lab...  \n",
       "16  https://api.github.com/repos/pydata/pandas/lab...  \n",
       "17  https://api.github.com/repos/pydata/pandas/lab...  \n",
       "18  https://api.github.com/repos/pydata/pandas/lab...  \n",
       "19  https://api.github.com/repos/pydata/pandas/lab...  \n",
       "20  https://api.github.com/repos/pydata/pandas/lab...  \n",
       "21  https://api.github.com/repos/pydata/pandas/lab...  \n",
       "22  https://api.github.com/repos/pydata/pandas/lab...  \n",
       "23  https://api.github.com/repos/pydata/pandas/lab...  \n",
       "24  https://api.github.com/repos/pydata/pandas/lab...  \n",
       "25  https://api.github.com/repos/pydata/pandas/lab...  \n",
       "26  https://api.github.com/repos/pydata/pandas/lab...  \n",
       "27  https://api.github.com/repos/pydata/pandas/lab...  \n",
       "28  https://api.github.com/repos/pydata/pandas/lab...  \n",
       "29  https://api.github.com/repos/pydata/pandas/lab...  "
      ]
     },
     "execution_count": 193,
     "metadata": {},
     "output_type": "execute_result"
    }
   ],
   "source": [
    "issue_labels = DataFrame(data)   #해당 데이터를 다음과 같이 DataFrame으로 생성\n",
    "issue_labels"
   ]
  },
  {
   "cell_type": "code",
   "execution_count": 217,
   "metadata": {
    "collapsed": false
   },
   "outputs": [
    {
     "data": {
      "text/html": [
       "<div style=\"max-height:1000px;max-width:1500px;overflow:auto;\">\n",
       "<table border=\"1\" class=\"dataframe\">\n",
       "  <thead>\n",
       "    <tr style=\"text-align: right;\">\n",
       "      <th></th>\n",
       "      <th>7</th>\n",
       "    </tr>\n",
       "  </thead>\n",
       "  <tbody>\n",
       "    <tr>\n",
       "      <th>color</th>\n",
       "      <td>8AE234</td>\n",
       "    </tr>\n",
       "    <tr>\n",
       "      <th>name</th>\n",
       "      <td>Visualization</td>\n",
       "    </tr>\n",
       "    <tr>\n",
       "      <th>url</th>\n",
       "      <td>https://api.github.com/repos/pydata/pandas/lab...</td>\n",
       "    </tr>\n",
       "  </tbody>\n",
       "</table>\n",
       "</div>"
      ],
      "text/plain": [
       "                                                       7\n",
       "color                                             8AE234\n",
       "name                                       Visualization\n",
       "url    https://api.github.com/repos/pydata/pandas/lab..."
      ]
     },
     "execution_count": 217,
     "metadata": {},
     "output_type": "execute_result"
    }
   ],
   "source": [
    "lala = DataFrame(issue_labels.ix[7])   #인덱스 8번째의 정보\n",
    "lala"
   ]
  },
  {
   "cell_type": "markdown",
   "metadata": {},
   "source": [
    "## 4. 데이터베이스와 함께 사용하기"
   ]
  },
  {
   "cell_type": "markdown",
   "metadata": {},
   "source": [
    "- SQL에서 데이터를 읽어.."
   ]
  },
  {
   "cell_type": "code",
   "execution_count": 195,
   "metadata": {
    "collapsed": true
   },
   "outputs": [],
   "source": [
    "import sqlite3   #sqlite3데이터 베이스에 다음의 test라는 테이블을 생성\n",
    "\n",
    "query = \"\"\"\n",
    "CREATE TABLE test\n",
    "(a VARCHAR(20), b VARCHAR(20),\n",
    " c REAL,        d INTEGER\n",
    ");\"\"\"\n",
    "\n",
    "con = sqlite3.connect(':memory:')   #데이터베이스 연결 객체 생성\n",
    "con.execute(query)\n",
    "con.commit()"
   ]
  },
  {
   "cell_type": "code",
   "execution_count": 196,
   "metadata": {
    "collapsed": true
   },
   "outputs": [],
   "source": [
    "data = [('Atlanta', 'Georgia', 1.25, 6),       #해당 테이블에 넣을 자료를 리스트로 생성\n",
    "        ('Tallahassee', 'Florida', 2.6, 3),\n",
    "        ('Sacramento', 'California', 1.7, 5)]\n",
    "stmt = \"INSERT INTO test VALUES(?, ?, ?, ?)\"   #해당 자료가 들어갈 insert할 구문\n",
    "\n",
    "con.executemany(stmt, data)\n",
    "con.commit()"
   ]
  },
  {
   "cell_type": "code",
   "execution_count": 197,
   "metadata": {
    "collapsed": false
   },
   "outputs": [
    {
     "data": {
      "text/plain": [
       "[(u'Atlanta', u'Georgia', 1.25, 6),\n",
       " (u'Tallahassee', u'Florida', 2.6, 3),\n",
       " (u'Sacramento', u'California', 1.7, 5)]"
      ]
     },
     "execution_count": 197,
     "metadata": {},
     "output_type": "execute_result"
    }
   ],
   "source": [
    "cursor = con.execute('select * from test')   #해당 테이블의 자료를 볼 수 있도록 rows리스트에 저장하여 출력\n",
    "rows = cursor.fetchall()\n",
    "rows"
   ]
  },
  {
   "cell_type": "code",
   "execution_count": 198,
   "metadata": {
    "collapsed": false
   },
   "outputs": [
    {
     "data": {
      "text/plain": [
       "(('a', None, None, None, None, None, None),\n",
       " ('b', None, None, None, None, None, None),\n",
       " ('c', None, None, None, None, None, None),\n",
       " ('d', None, None, None, None, None, None))"
      ]
     },
     "execution_count": 198,
     "metadata": {},
     "output_type": "execute_result"
    }
   ],
   "source": [
    "cursor.description   #description 속성을 이용하여 칼럼의 이름을 지정"
   ]
  },
  {
   "cell_type": "code",
   "execution_count": 200,
   "metadata": {
    "collapsed": false,
    "scrolled": true
   },
   "outputs": [
    {
     "data": {
      "text/html": [
       "<div style=\"max-height:1000px;max-width:1500px;overflow:auto;\">\n",
       "<table border=\"1\" class=\"dataframe\">\n",
       "  <thead>\n",
       "    <tr style=\"text-align: right;\">\n",
       "      <th></th>\n",
       "      <th>a</th>\n",
       "      <th>b</th>\n",
       "      <th>c</th>\n",
       "      <th>d</th>\n",
       "    </tr>\n",
       "  </thead>\n",
       "  <tbody>\n",
       "    <tr>\n",
       "      <th>0</th>\n",
       "      <td>Atlanta</td>\n",
       "      <td>Georgia</td>\n",
       "      <td>1.25</td>\n",
       "      <td>6</td>\n",
       "    </tr>\n",
       "    <tr>\n",
       "      <th>1</th>\n",
       "      <td>Tallahassee</td>\n",
       "      <td>Florida</td>\n",
       "      <td>2.60</td>\n",
       "      <td>3</td>\n",
       "    </tr>\n",
       "    <tr>\n",
       "      <th>2</th>\n",
       "      <td>Sacramento</td>\n",
       "      <td>California</td>\n",
       "      <td>1.70</td>\n",
       "      <td>5</td>\n",
       "    </tr>\n",
       "  </tbody>\n",
       "</table>\n",
       "</div>"
      ],
      "text/plain": [
       "             a           b     c  d\n",
       "0      Atlanta     Georgia  1.25  6\n",
       "1  Tallahassee     Florida  2.60  3\n",
       "2   Sacramento  California  1.70  5"
      ]
     },
     "execution_count": 200,
     "metadata": {},
     "output_type": "execute_result"
    }
   ],
   "source": [
    "DataFrame(rows, columns=zip(*cursor.description)[0])   \n",
    "#rows와 각 해당 칼럼의 이름을 지정하여 DataFrame에 저장하여 출력"
   ]
  },
  {
   "cell_type": "markdown",
   "metadata": {},
   "source": [
    "- 데이터프레임으로 불러들이는"
   ]
  },
  {
   "cell_type": "code",
   "execution_count": 202,
   "metadata": {
    "collapsed": false
   },
   "outputs": [
    {
     "data": {
      "text/html": [
       "<div style=\"max-height:1000px;max-width:1500px;overflow:auto;\">\n",
       "<table border=\"1\" class=\"dataframe\">\n",
       "  <thead>\n",
       "    <tr style=\"text-align: right;\">\n",
       "      <th></th>\n",
       "      <th>a</th>\n",
       "      <th>b</th>\n",
       "      <th>c</th>\n",
       "      <th>d</th>\n",
       "    </tr>\n",
       "  </thead>\n",
       "  <tbody>\n",
       "    <tr>\n",
       "      <th>0</th>\n",
       "      <td>Atlanta</td>\n",
       "      <td>Georgia</td>\n",
       "      <td>1.25</td>\n",
       "      <td>6</td>\n",
       "    </tr>\n",
       "    <tr>\n",
       "      <th>1</th>\n",
       "      <td>Tallahassee</td>\n",
       "      <td>Florida</td>\n",
       "      <td>2.60</td>\n",
       "      <td>3</td>\n",
       "    </tr>\n",
       "    <tr>\n",
       "      <th>2</th>\n",
       "      <td>Sacramento</td>\n",
       "      <td>California</td>\n",
       "      <td>1.70</td>\n",
       "      <td>5</td>\n",
       "    </tr>\n",
       "  </tbody>\n",
       "</table>\n",
       "</div>"
      ],
      "text/plain": [
       "             a           b     c  d\n",
       "0      Atlanta     Georgia  1.25  6\n",
       "1  Tallahassee     Florida  2.60  3\n",
       "2   Sacramento  California  1.70  5"
      ]
     },
     "execution_count": 202,
     "metadata": {},
     "output_type": "execute_result"
    }
   ],
   "source": [
    "import pandas.io.sql as sql\n",
    "sql.read_sql('select * from test', con)   \n",
    "#select쿼리문과 데이터베이스 연결 객체(con)만 넘기면 된다."
   ]
  },
  {
   "cell_type": "markdown",
   "metadata": {},
   "source": [
    "### 1) MongoDB에 데이터 저장하고 불러오기"
   ]
  },
  {
   "cell_type": "markdown",
   "metadata": {},
   "source": [
    "- MongoDB 서버를 로컬에 설치하고 공식 드라이버인 pymongo를 이용해서 기본 포트 번호로 연결\n",
    "- mongoDB 설치해야한다."
   ]
  },
  {
   "cell_type": "code",
   "execution_count": 203,
   "metadata": {
    "collapsed": false
   },
   "outputs": [
    {
     "ename": "ImportError",
     "evalue": "No module named pymongo",
     "output_type": "error",
     "traceback": [
      "\u001b[1;31m---------------------------------------------------------------------------\u001b[0m",
      "\u001b[1;31mImportError\u001b[0m                               Traceback (most recent call last)",
      "\u001b[1;32m<ipython-input-203-ec8fdd1cd630>\u001b[0m in \u001b[0;36m<module>\u001b[1;34m()\u001b[0m\n\u001b[1;32m----> 1\u001b[1;33m \u001b[1;32mimport\u001b[0m \u001b[0mpymongo\u001b[0m\u001b[1;33m\u001b[0m\u001b[0m\n\u001b[0m",
      "\u001b[1;31mImportError\u001b[0m: No module named pymongo"
     ]
    }
   ],
   "source": [
    "import pymongo"
   ]
  },
  {
   "cell_type": "code",
   "execution_count": 204,
   "metadata": {
    "collapsed": false
   },
   "outputs": [
    {
     "ename": "NameError",
     "evalue": "name 'pymongo' is not defined",
     "output_type": "error",
     "traceback": [
      "\u001b[1;31m---------------------------------------------------------------------------\u001b[0m",
      "\u001b[1;31mNameError\u001b[0m                                 Traceback (most recent call last)",
      "\u001b[1;32m<ipython-input-204-7d1e66a44fef>\u001b[0m in \u001b[0;36m<module>\u001b[1;34m()\u001b[0m\n\u001b[1;32m----> 1\u001b[1;33m \u001b[0mcon\u001b[0m \u001b[1;33m=\u001b[0m \u001b[0mpymongo\u001b[0m\u001b[1;33m.\u001b[0m\u001b[0mConnection\u001b[0m\u001b[1;33m(\u001b[0m\u001b[1;34m'localhost'\u001b[0m\u001b[1;33m,\u001b[0m \u001b[0mport\u001b[0m\u001b[1;33m=\u001b[0m\u001b[1;36m27017\u001b[0m\u001b[1;33m)\u001b[0m\u001b[1;33m\u001b[0m\u001b[0m\n\u001b[0m",
      "\u001b[1;31mNameError\u001b[0m: name 'pymongo' is not defined"
     ]
    }
   ],
   "source": [
    "con = pymongo.Connection('localhost', port=27017)"
   ]
  },
  {
   "cell_type": "code",
   "execution_count": null,
   "metadata": {
    "collapsed": true
   },
   "outputs": [],
   "source": []
  }
 ],
 "metadata": {
  "kernelspec": {
   "display_name": "Python 2",
   "language": "python",
   "name": "python2"
  },
  "language_info": {
   "codemirror_mode": {
    "name": "ipython",
    "version": 2
   },
   "file_extension": ".py",
   "mimetype": "text/x-python",
   "name": "python",
   "nbconvert_exporter": "python",
   "pygments_lexer": "ipython2",
   "version": "2.7.9"
  }
 },
 "nbformat": 4,
 "nbformat_minor": 0
}
